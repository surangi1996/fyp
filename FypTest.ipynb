{
 "cells": [
  {
   "cell_type": "code",
   "execution_count": 1,
   "id": "6f0af14a",
   "metadata": {},
   "outputs": [
    {
     "name": "stdout",
     "output_type": "stream",
     "text": [
      "Requirement already satisfied: pandas in c:\\users\\acer\\.conda\\envs\\fyp\\lib\\site-packages (2.0.1)\n",
      "Requirement already satisfied: numpy in c:\\users\\acer\\appdata\\roaming\\python\\python310\\site-packages (1.23.4)\n",
      "Requirement already satisfied: scipy in c:\\users\\acer\\.conda\\envs\\fyp\\lib\\site-packages (1.10.1)\n",
      "Requirement already satisfied: scikit-learn in c:\\users\\acer\\.conda\\envs\\fyp\\lib\\site-packages (1.2.2)\n",
      "Requirement already satisfied: nltk in c:\\users\\acer\\appdata\\roaming\\python\\python310\\site-packages (3.3)\n",
      "Requirement already satisfied: python-dateutil>=2.8.2 in c:\\users\\acer\\appdata\\roaming\\python\\python310\\site-packages (from pandas) (2.8.2)\n",
      "Requirement already satisfied: pytz>=2020.1 in c:\\users\\acer\\.conda\\envs\\fyp\\lib\\site-packages (from pandas) (2023.3)\n",
      "Requirement already satisfied: tzdata>=2022.1 in c:\\users\\acer\\.conda\\envs\\fyp\\lib\\site-packages (from pandas) (2023.3)\n",
      "Requirement already satisfied: joblib>=1.1.1 in c:\\users\\acer\\.conda\\envs\\fyp\\lib\\site-packages (from scikit-learn) (1.2.0)\n",
      "Requirement already satisfied: threadpoolctl>=2.0.0 in c:\\users\\acer\\.conda\\envs\\fyp\\lib\\site-packages (from scikit-learn) (3.1.0)\n",
      "Requirement already satisfied: six in c:\\users\\acer\\appdata\\roaming\\python\\python310\\site-packages (from nltk) (1.16.0)\n",
      "Note: you may need to restart the kernel to use updated packages.\n"
     ]
    }
   ],
   "source": [
    "%pip install pandas numpy scipy scikit-learn nltk"
   ]
  },
  {
   "cell_type": "code",
   "execution_count": 2,
   "id": "e81c477b",
   "metadata": {
    "executionInfo": {
     "elapsed": 6,
     "status": "ok",
     "timestamp": 1681743540792,
     "user": {
      "displayName": "Pathum Mihiranga",
      "userId": "16999484675349585718"
     },
     "user_tz": -330
    },
    "id": "e81c477b"
   },
   "outputs": [],
   "source": [
    "import pandas as pd\n",
    "import string"
   ]
  },
  {
   "cell_type": "markdown",
   "id": "9b145ee1",
   "metadata": {
    "id": "9b145ee1"
   },
   "source": [
    "Loading dataset"
   ]
  },
  {
   "cell_type": "code",
   "execution_count": 3,
   "id": "0e2c6908",
   "metadata": {
    "colab": {
     "base_uri": "https://localhost:8080/",
     "height": 363
    },
    "executionInfo": {
     "elapsed": 555,
     "status": "ok",
     "timestamp": 1681743587612,
     "user": {
      "displayName": "Pathum Mihiranga",
      "userId": "16999484675349585718"
     },
     "user_tz": -330
    },
    "id": "0e2c6908",
    "outputId": "0bdf1168-119b-4290-b8e3-56040f2fd3ea"
   },
   "outputs": [
    {
     "data": {
      "text/html": [
       "<div>\n",
       "<style scoped>\n",
       "    .dataframe tbody tr th:only-of-type {\n",
       "        vertical-align: middle;\n",
       "    }\n",
       "\n",
       "    .dataframe tbody tr th {\n",
       "        vertical-align: top;\n",
       "    }\n",
       "\n",
       "    .dataframe thead th {\n",
       "        text-align: right;\n",
       "    }\n",
       "</style>\n",
       "<table border=\"1\" class=\"dataframe\">\n",
       "  <thead>\n",
       "    <tr style=\"text-align: right;\">\n",
       "      <th></th>\n",
       "      <th>index</th>\n",
       "      <th>file</th>\n",
       "      <th>text</th>\n",
       "      <th>sport</th>\n",
       "    </tr>\n",
       "  </thead>\n",
       "  <tbody>\n",
       "    <tr>\n",
       "      <th>0</th>\n",
       "      <td>2</td>\n",
       "      <td>1</td>\n",
       "      <td>THE FIRST KNOWN USE OF AN ARROW L 10,000 BC AN...</td>\n",
       "      <td>archery</td>\n",
       "    </tr>\n",
       "    <tr>\n",
       "      <th>1</th>\n",
       "      <td>3</td>\n",
       "      <td>10</td>\n",
       "      <td>Archery Nock Fletching Po eather Shaft: Max Sa...</td>\n",
       "      <td>archery</td>\n",
       "    </tr>\n",
       "    <tr>\n",
       "      <th>2</th>\n",
       "      <td>4</td>\n",
       "      <td>101</td>\n",
       "      <td>Tim Gillingham Shooting Clinic UWTEC TENEME HI...</td>\n",
       "      <td>archery</td>\n",
       "    </tr>\n",
       "    <tr>\n",
       "      <th>3</th>\n",
       "      <td>5</td>\n",
       "      <td>102</td>\n",
       "      <td>Winter Warm-Up NASP Archery Tournament ped by ...</td>\n",
       "      <td>archery</td>\n",
       "    </tr>\n",
       "    <tr>\n",
       "      <th>4</th>\n",
       "      <td>6</td>\n",
       "      <td>103</td>\n",
       "      <td>ALL ARE WELCOME! COME SHOOT FOR FUN OR COMPETI...</td>\n",
       "      <td>archery</td>\n",
       "    </tr>\n",
       "    <tr>\n",
       "      <th>5</th>\n",
       "      <td>7</td>\n",
       "      <td>104</td>\n",
       "      <td>Follow Us on Facebook www.hbgarcheryclub.com H...</td>\n",
       "      <td>archery</td>\n",
       "    </tr>\n",
       "    <tr>\n",
       "      <th>6</th>\n",
       "      <td>8</td>\n",
       "      <td>105</td>\n",
       "      <td>ft GRUNWALD MUZEUM 1001 AMM Archery 12TH INTER...</td>\n",
       "      <td>archery</td>\n",
       "    </tr>\n",
       "    <tr>\n",
       "      <th>7</th>\n",
       "      <td>9</td>\n",
       "      <td>106</td>\n",
       "      <td>3. JACKSON PARISH BOWHUNTERS TOURNAMENT MARCH ...</td>\n",
       "      <td>archery</td>\n",
       "    </tr>\n",
       "    <tr>\n",
       "      <th>8</th>\n",
       "      <td>10</td>\n",
       "      <td>107</td>\n",
       "      <td>Kilari NOHDET Exce Ecc Archery KARACHI OPEN AR...</td>\n",
       "      <td>archery</td>\n",
       "    </tr>\n",
       "    <tr>\n",
       "      <th>9</th>\n",
       "      <td>11</td>\n",
       "      <td>108</td>\n",
       "      <td>AMITE BIVER TRADITIONAL ARCHERY CLUB Louisiana...</td>\n",
       "      <td>archery</td>\n",
       "    </tr>\n",
       "  </tbody>\n",
       "</table>\n",
       "</div>"
      ],
      "text/plain": [
       "   index  file                                               text    sport\n",
       "0      2     1  THE FIRST KNOWN USE OF AN ARROW L 10,000 BC AN...  archery\n",
       "1      3    10  Archery Nock Fletching Po eather Shaft: Max Sa...  archery\n",
       "2      4   101  Tim Gillingham Shooting Clinic UWTEC TENEME HI...  archery\n",
       "3      5   102  Winter Warm-Up NASP Archery Tournament ped by ...  archery\n",
       "4      6   103  ALL ARE WELCOME! COME SHOOT FOR FUN OR COMPETI...  archery\n",
       "5      7   104  Follow Us on Facebook www.hbgarcheryclub.com H...  archery\n",
       "6      8   105  ft GRUNWALD MUZEUM 1001 AMM Archery 12TH INTER...  archery\n",
       "7      9   106  3. JACKSON PARISH BOWHUNTERS TOURNAMENT MARCH ...  archery\n",
       "8     10   107  Kilari NOHDET Exce Ecc Archery KARACHI OPEN AR...  archery\n",
       "9     11   108  AMITE BIVER TRADITIONAL ARCHERY CLUB Louisiana...  archery"
      ]
     },
     "execution_count": 3,
     "metadata": {},
     "output_type": "execute_result"
    }
   ],
   "source": [
    "df = pd.read_csv('labeled.csv')\n",
    "df.head(10)"
   ]
  },
  {
   "cell_type": "code",
   "execution_count": 4,
   "id": "8e488e38",
   "metadata": {
    "colab": {
     "base_uri": "https://localhost:8080/"
    },
    "executionInfo": {
     "elapsed": 4,
     "status": "ok",
     "timestamp": 1681743592912,
     "user": {
      "displayName": "Pathum Mihiranga",
      "userId": "16999484675349585718"
     },
     "user_tz": -330
    },
    "id": "8e488e38",
    "outputId": "961e72fb-cb42-4333-b1f8-267152523b78"
   },
   "outputs": [
    {
     "data": {
      "text/plain": [
       "(1978, 4)"
      ]
     },
     "execution_count": 4,
     "metadata": {},
     "output_type": "execute_result"
    }
   ],
   "source": [
    "df.shape"
   ]
  },
  {
   "cell_type": "code",
   "execution_count": 5,
   "id": "9f78e6a9",
   "metadata": {
    "colab": {
     "base_uri": "https://localhost:8080/"
    },
    "executionInfo": {
     "elapsed": 5,
     "status": "ok",
     "timestamp": 1681743626180,
     "user": {
      "displayName": "Pathum Mihiranga",
      "userId": "16999484675349585718"
     },
     "user_tz": -330
    },
    "id": "9f78e6a9",
    "outputId": "4d86c725-bfcd-407c-e006-45d3a6663ca1"
   },
   "outputs": [
    {
     "data": {
      "text/plain": [
       "sport\n",
       "golf          247\n",
       "cricket       229\n",
       "rugby         228\n",
       "basketball    224\n",
       "chess         213\n",
       "baseball      197\n",
       "archery       172\n",
       "carrom        159\n",
       "tennis        159\n",
       "billiard      150\n",
       "Name: count, dtype: int64"
      ]
     },
     "execution_count": 5,
     "metadata": {},
     "output_type": "execute_result"
    }
   ],
   "source": [
    "df['sport'].value_counts()"
   ]
  },
  {
   "cell_type": "markdown",
   "id": "3a98c8a6",
   "metadata": {
    "id": "3a98c8a6"
   },
   "source": [
    "Take 90% sport data from the dataset"
   ]
  },
  {
   "cell_type": "code",
   "execution_count": 6,
   "id": "NuKkl8RVu1tA",
   "metadata": {
    "executionInfo": {
     "elapsed": 1217,
     "status": "ok",
     "timestamp": 1681746724829,
     "user": {
      "displayName": "Pathum Mihiranga",
      "userId": "16999484675349585718"
     },
     "user_tz": -330
    },
    "id": "NuKkl8RVu1tA"
   },
   "outputs": [],
   "source": [
    "df_train = df.copy()"
   ]
  },
  {
   "cell_type": "code",
   "execution_count": 7,
   "id": "1fe9a406",
   "metadata": {
    "colab": {
     "base_uri": "https://localhost:8080/"
    },
    "executionInfo": {
     "elapsed": 944,
     "status": "ok",
     "timestamp": 1681746729015,
     "user": {
      "displayName": "Pathum Mihiranga",
      "userId": "16999484675349585718"
     },
     "user_tz": -330
    },
    "id": "1fe9a406",
    "outputId": "b021a4ba-c658-4fc1-c562-23f217bb388c"
   },
   "outputs": [
    {
     "data": {
      "text/plain": [
       "(1978, 4)"
      ]
     },
     "execution_count": 7,
     "metadata": {},
     "output_type": "execute_result"
    }
   ],
   "source": [
    "df_train.shape"
   ]
  },
  {
   "cell_type": "markdown",
   "id": "f438691d",
   "metadata": {
    "id": "f438691d"
   },
   "source": [
    "# Text Pre Processing"
   ]
  },
  {
   "cell_type": "code",
   "execution_count": 8,
   "id": "2218baac",
   "metadata": {
    "colab": {
     "base_uri": "https://localhost:8080/",
     "height": 423
    },
    "executionInfo": {
     "elapsed": 360,
     "status": "ok",
     "timestamp": 1681746734454,
     "user": {
      "displayName": "Pathum Mihiranga",
      "userId": "16999484675349585718"
     },
     "user_tz": -330
    },
    "id": "2218baac",
    "outputId": "491589f8-3e0b-468a-ebd4-a30a4bafd72a",
    "scrolled": true
   },
   "outputs": [
    {
     "data": {
      "text/html": [
       "<div>\n",
       "<style scoped>\n",
       "    .dataframe tbody tr th:only-of-type {\n",
       "        vertical-align: middle;\n",
       "    }\n",
       "\n",
       "    .dataframe tbody tr th {\n",
       "        vertical-align: top;\n",
       "    }\n",
       "\n",
       "    .dataframe thead th {\n",
       "        text-align: right;\n",
       "    }\n",
       "</style>\n",
       "<table border=\"1\" class=\"dataframe\">\n",
       "  <thead>\n",
       "    <tr style=\"text-align: right;\">\n",
       "      <th></th>\n",
       "      <th>index</th>\n",
       "      <th>file</th>\n",
       "      <th>text</th>\n",
       "      <th>sport</th>\n",
       "    </tr>\n",
       "  </thead>\n",
       "  <tbody>\n",
       "    <tr>\n",
       "      <th>0</th>\n",
       "      <td>2</td>\n",
       "      <td>1</td>\n",
       "      <td>THE FIRST KNOWN USE OF AN ARROW L 10,000 BC AN...</td>\n",
       "      <td>archery</td>\n",
       "    </tr>\n",
       "    <tr>\n",
       "      <th>1</th>\n",
       "      <td>3</td>\n",
       "      <td>10</td>\n",
       "      <td>Archery Nock Fletching Po eather Shaft: Max Sa...</td>\n",
       "      <td>archery</td>\n",
       "    </tr>\n",
       "    <tr>\n",
       "      <th>2</th>\n",
       "      <td>4</td>\n",
       "      <td>101</td>\n",
       "      <td>Tim Gillingham Shooting Clinic UWTEC TENEME HI...</td>\n",
       "      <td>archery</td>\n",
       "    </tr>\n",
       "    <tr>\n",
       "      <th>3</th>\n",
       "      <td>5</td>\n",
       "      <td>102</td>\n",
       "      <td>Winter Warm-Up NASP Archery Tournament ped by ...</td>\n",
       "      <td>archery</td>\n",
       "    </tr>\n",
       "    <tr>\n",
       "      <th>4</th>\n",
       "      <td>6</td>\n",
       "      <td>103</td>\n",
       "      <td>ALL ARE WELCOME! COME SHOOT FOR FUN OR COMPETI...</td>\n",
       "      <td>archery</td>\n",
       "    </tr>\n",
       "    <tr>\n",
       "      <th>...</th>\n",
       "      <td>...</td>\n",
       "      <td>...</td>\n",
       "      <td>...</td>\n",
       "      <td>...</td>\n",
       "    </tr>\n",
       "    <tr>\n",
       "      <th>1973</th>\n",
       "      <td>2286</td>\n",
       "      <td>94</td>\n",
       "      <td>TENNIS TOURNAMENT</td>\n",
       "      <td>tennis</td>\n",
       "    </tr>\n",
       "    <tr>\n",
       "      <th>1974</th>\n",
       "      <td>2287</td>\n",
       "      <td>95</td>\n",
       "      <td>TENNIS CHAMPIONSHIP</td>\n",
       "      <td>tennis</td>\n",
       "    </tr>\n",
       "    <tr>\n",
       "      <th>1975</th>\n",
       "      <td>2288</td>\n",
       "      <td>96</td>\n",
       "      <td>PRESENTS BY TENNIS CLUB SUMMER TENNIS TOURNAME...</td>\n",
       "      <td>tennis</td>\n",
       "    </tr>\n",
       "    <tr>\n",
       "      <th>1976</th>\n",
       "      <td>2289</td>\n",
       "      <td>97</td>\n",
       "      <td>a ALL INDIA TENNIS ASSOCIATION AITA AITA TENNI...</td>\n",
       "      <td>tennis</td>\n",
       "    </tr>\n",
       "    <tr>\n",
       "      <th>1977</th>\n",
       "      <td>2291</td>\n",
       "      <td>99</td>\n",
       "      <td>ARE YOU READY FOR TENNIS TOURNAMENT 05.02.20XX...</td>\n",
       "      <td>tennis</td>\n",
       "    </tr>\n",
       "  </tbody>\n",
       "</table>\n",
       "<p>1978 rows × 4 columns</p>\n",
       "</div>"
      ],
      "text/plain": [
       "      index  file                                               text    sport\n",
       "0         2     1  THE FIRST KNOWN USE OF AN ARROW L 10,000 BC AN...  archery\n",
       "1         3    10  Archery Nock Fletching Po eather Shaft: Max Sa...  archery\n",
       "2         4   101  Tim Gillingham Shooting Clinic UWTEC TENEME HI...  archery\n",
       "3         5   102  Winter Warm-Up NASP Archery Tournament ped by ...  archery\n",
       "4         6   103  ALL ARE WELCOME! COME SHOOT FOR FUN OR COMPETI...  archery\n",
       "...     ...   ...                                                ...      ...\n",
       "1973   2286    94                                  TENNIS TOURNAMENT   tennis\n",
       "1974   2287    95                                TENNIS CHAMPIONSHIP   tennis\n",
       "1975   2288    96  PRESENTS BY TENNIS CLUB SUMMER TENNIS TOURNAME...   tennis\n",
       "1976   2289    97  a ALL INDIA TENNIS ASSOCIATION AITA AITA TENNI...   tennis\n",
       "1977   2291    99  ARE YOU READY FOR TENNIS TOURNAMENT 05.02.20XX...   tennis\n",
       "\n",
       "[1978 rows x 4 columns]"
      ]
     },
     "execution_count": 8,
     "metadata": {},
     "output_type": "execute_result"
    }
   ],
   "source": [
    "df_train"
   ]
  },
  {
   "cell_type": "markdown",
   "id": "ac041226",
   "metadata": {
    "id": "ac041226"
   },
   "source": [
    "# Lower Casing English Words "
   ]
  },
  {
   "cell_type": "markdown",
   "id": "f04756f0",
   "metadata": {
    "id": "f04756f0"
   },
   "source": [
    "Lower casing is only apply for the English words. Having same word in upper case and lower case can reduce the accuracy. So as a first step convert all the english words to lower case."
   ]
  },
  {
   "cell_type": "code",
   "execution_count": 9,
   "id": "8b4f9f94",
   "metadata": {
    "colab": {
     "base_uri": "https://localhost:8080/",
     "height": 423
    },
    "executionInfo": {
     "elapsed": 635,
     "status": "ok",
     "timestamp": 1681746792775,
     "user": {
      "displayName": "Pathum Mihiranga",
      "userId": "16999484675349585718"
     },
     "user_tz": -330
    },
    "id": "8b4f9f94",
    "outputId": "32b5e279-7592-4216-9d18-9665133dbccf"
   },
   "outputs": [
    {
     "data": {
      "text/html": [
       "<div>\n",
       "<style scoped>\n",
       "    .dataframe tbody tr th:only-of-type {\n",
       "        vertical-align: middle;\n",
       "    }\n",
       "\n",
       "    .dataframe tbody tr th {\n",
       "        vertical-align: top;\n",
       "    }\n",
       "\n",
       "    .dataframe thead th {\n",
       "        text-align: right;\n",
       "    }\n",
       "</style>\n",
       "<table border=\"1\" class=\"dataframe\">\n",
       "  <thead>\n",
       "    <tr style=\"text-align: right;\">\n",
       "      <th></th>\n",
       "      <th>index</th>\n",
       "      <th>file</th>\n",
       "      <th>text</th>\n",
       "      <th>sport</th>\n",
       "    </tr>\n",
       "  </thead>\n",
       "  <tbody>\n",
       "    <tr>\n",
       "      <th>0</th>\n",
       "      <td>2</td>\n",
       "      <td>1</td>\n",
       "      <td>the first known use of an arrow l 10,000 bc an...</td>\n",
       "      <td>archery</td>\n",
       "    </tr>\n",
       "    <tr>\n",
       "      <th>1</th>\n",
       "      <td>3</td>\n",
       "      <td>10</td>\n",
       "      <td>archery nock fletching po eather shaft: max sa...</td>\n",
       "      <td>archery</td>\n",
       "    </tr>\n",
       "    <tr>\n",
       "      <th>2</th>\n",
       "      <td>4</td>\n",
       "      <td>101</td>\n",
       "      <td>tim gillingham shooting clinic uwtec teneme hi...</td>\n",
       "      <td>archery</td>\n",
       "    </tr>\n",
       "    <tr>\n",
       "      <th>3</th>\n",
       "      <td>5</td>\n",
       "      <td>102</td>\n",
       "      <td>winter warm-up nasp archery tournament ped by ...</td>\n",
       "      <td>archery</td>\n",
       "    </tr>\n",
       "    <tr>\n",
       "      <th>4</th>\n",
       "      <td>6</td>\n",
       "      <td>103</td>\n",
       "      <td>all are welcome! come shoot for fun or competi...</td>\n",
       "      <td>archery</td>\n",
       "    </tr>\n",
       "    <tr>\n",
       "      <th>...</th>\n",
       "      <td>...</td>\n",
       "      <td>...</td>\n",
       "      <td>...</td>\n",
       "      <td>...</td>\n",
       "    </tr>\n",
       "    <tr>\n",
       "      <th>1973</th>\n",
       "      <td>2286</td>\n",
       "      <td>94</td>\n",
       "      <td>tennis tournament</td>\n",
       "      <td>tennis</td>\n",
       "    </tr>\n",
       "    <tr>\n",
       "      <th>1974</th>\n",
       "      <td>2287</td>\n",
       "      <td>95</td>\n",
       "      <td>tennis championship</td>\n",
       "      <td>tennis</td>\n",
       "    </tr>\n",
       "    <tr>\n",
       "      <th>1975</th>\n",
       "      <td>2288</td>\n",
       "      <td>96</td>\n",
       "      <td>presents by tennis club summer tennis tourname...</td>\n",
       "      <td>tennis</td>\n",
       "    </tr>\n",
       "    <tr>\n",
       "      <th>1976</th>\n",
       "      <td>2289</td>\n",
       "      <td>97</td>\n",
       "      <td>a all india tennis association aita aita tenni...</td>\n",
       "      <td>tennis</td>\n",
       "    </tr>\n",
       "    <tr>\n",
       "      <th>1977</th>\n",
       "      <td>2291</td>\n",
       "      <td>99</td>\n",
       "      <td>are you ready for tennis tournament 05.02.20xx...</td>\n",
       "      <td>tennis</td>\n",
       "    </tr>\n",
       "  </tbody>\n",
       "</table>\n",
       "<p>1978 rows × 4 columns</p>\n",
       "</div>"
      ],
      "text/plain": [
       "      index  file                                               text    sport\n",
       "0         2     1  the first known use of an arrow l 10,000 bc an...  archery\n",
       "1         3    10  archery nock fletching po eather shaft: max sa...  archery\n",
       "2         4   101  tim gillingham shooting clinic uwtec teneme hi...  archery\n",
       "3         5   102  winter warm-up nasp archery tournament ped by ...  archery\n",
       "4         6   103  all are welcome! come shoot for fun or competi...  archery\n",
       "...     ...   ...                                                ...      ...\n",
       "1973   2286    94                                  tennis tournament   tennis\n",
       "1974   2287    95                                tennis championship   tennis\n",
       "1975   2288    96  presents by tennis club summer tennis tourname...   tennis\n",
       "1976   2289    97  a all india tennis association aita aita tenni...   tennis\n",
       "1977   2291    99  are you ready for tennis tournament 05.02.20xx...   tennis\n",
       "\n",
       "[1978 rows x 4 columns]"
      ]
     },
     "execution_count": 9,
     "metadata": {},
     "output_type": "execute_result"
    }
   ],
   "source": [
    "df_train['text']= df_train['text'].apply(lambda x: x.lower())\n",
    "df_train"
   ]
  },
  {
   "cell_type": "markdown",
   "id": "e29b3847",
   "metadata": {
    "id": "e29b3847"
   },
   "source": [
    "# Removel Of Punctuation"
   ]
  },
  {
   "cell_type": "markdown",
   "id": "5ad46e3f",
   "metadata": {
    "id": "5ad46e3f"
   },
   "source": [
    "Punctuations are removing, So words can be use to train the model. string.punctuation used to identify the punctuations."
   ]
  },
  {
   "cell_type": "code",
   "execution_count": 10,
   "id": "9dc0a0fb",
   "metadata": {
    "colab": {
     "base_uri": "https://localhost:8080/",
     "height": 423
    },
    "executionInfo": {
     "elapsed": 7,
     "status": "ok",
     "timestamp": 1681746804421,
     "user": {
      "displayName": "Pathum Mihiranga",
      "userId": "16999484675349585718"
     },
     "user_tz": -330
    },
    "id": "9dc0a0fb",
    "outputId": "9e3b1ac5-57cc-4b71-fde6-3b3708327503"
   },
   "outputs": [
    {
     "data": {
      "text/html": [
       "<div>\n",
       "<style scoped>\n",
       "    .dataframe tbody tr th:only-of-type {\n",
       "        vertical-align: middle;\n",
       "    }\n",
       "\n",
       "    .dataframe tbody tr th {\n",
       "        vertical-align: top;\n",
       "    }\n",
       "\n",
       "    .dataframe thead th {\n",
       "        text-align: right;\n",
       "    }\n",
       "</style>\n",
       "<table border=\"1\" class=\"dataframe\">\n",
       "  <thead>\n",
       "    <tr style=\"text-align: right;\">\n",
       "      <th></th>\n",
       "      <th>index</th>\n",
       "      <th>file</th>\n",
       "      <th>text</th>\n",
       "      <th>sport</th>\n",
       "    </tr>\n",
       "  </thead>\n",
       "  <tbody>\n",
       "    <tr>\n",
       "      <th>0</th>\n",
       "      <td>2</td>\n",
       "      <td>1</td>\n",
       "      <td>the first known use of an arrow l 10000 bc an ...</td>\n",
       "      <td>archery</td>\n",
       "    </tr>\n",
       "    <tr>\n",
       "      <th>1</th>\n",
       "      <td>3</td>\n",
       "      <td>10</td>\n",
       "      <td>archery nock fletching po eather shaft max sam...</td>\n",
       "      <td>archery</td>\n",
       "    </tr>\n",
       "    <tr>\n",
       "      <th>2</th>\n",
       "      <td>4</td>\n",
       "      <td>101</td>\n",
       "      <td>tim gillingham shooting clinic uwtec teneme hi...</td>\n",
       "      <td>archery</td>\n",
       "    </tr>\n",
       "    <tr>\n",
       "      <th>3</th>\n",
       "      <td>5</td>\n",
       "      <td>102</td>\n",
       "      <td>winter warmup nasp archery tournament ped by t...</td>\n",
       "      <td>archery</td>\n",
       "    </tr>\n",
       "    <tr>\n",
       "      <th>4</th>\n",
       "      <td>6</td>\n",
       "      <td>103</td>\n",
       "      <td>all are welcome come shoot for fun or competit...</td>\n",
       "      <td>archery</td>\n",
       "    </tr>\n",
       "    <tr>\n",
       "      <th>...</th>\n",
       "      <td>...</td>\n",
       "      <td>...</td>\n",
       "      <td>...</td>\n",
       "      <td>...</td>\n",
       "    </tr>\n",
       "    <tr>\n",
       "      <th>1973</th>\n",
       "      <td>2286</td>\n",
       "      <td>94</td>\n",
       "      <td>tennis tournament</td>\n",
       "      <td>tennis</td>\n",
       "    </tr>\n",
       "    <tr>\n",
       "      <th>1974</th>\n",
       "      <td>2287</td>\n",
       "      <td>95</td>\n",
       "      <td>tennis championship</td>\n",
       "      <td>tennis</td>\n",
       "    </tr>\n",
       "    <tr>\n",
       "      <th>1975</th>\n",
       "      <td>2288</td>\n",
       "      <td>96</td>\n",
       "      <td>presents by tennis club summer tennis tourname...</td>\n",
       "      <td>tennis</td>\n",
       "    </tr>\n",
       "    <tr>\n",
       "      <th>1976</th>\n",
       "      <td>2289</td>\n",
       "      <td>97</td>\n",
       "      <td>a all india tennis association aita aita tenni...</td>\n",
       "      <td>tennis</td>\n",
       "    </tr>\n",
       "    <tr>\n",
       "      <th>1977</th>\n",
       "      <td>2291</td>\n",
       "      <td>99</td>\n",
       "      <td>are you ready for tennis tournament 050220xx 9...</td>\n",
       "      <td>tennis</td>\n",
       "    </tr>\n",
       "  </tbody>\n",
       "</table>\n",
       "<p>1978 rows × 4 columns</p>\n",
       "</div>"
      ],
      "text/plain": [
       "      index  file                                               text    sport\n",
       "0         2     1  the first known use of an arrow l 10000 bc an ...  archery\n",
       "1         3    10  archery nock fletching po eather shaft max sam...  archery\n",
       "2         4   101  tim gillingham shooting clinic uwtec teneme hi...  archery\n",
       "3         5   102  winter warmup nasp archery tournament ped by t...  archery\n",
       "4         6   103  all are welcome come shoot for fun or competit...  archery\n",
       "...     ...   ...                                                ...      ...\n",
       "1973   2286    94                                  tennis tournament   tennis\n",
       "1974   2287    95                                tennis championship   tennis\n",
       "1975   2288    96  presents by tennis club summer tennis tourname...   tennis\n",
       "1976   2289    97  a all india tennis association aita aita tenni...   tennis\n",
       "1977   2291    99  are you ready for tennis tournament 050220xx 9...   tennis\n",
       "\n",
       "[1978 rows x 4 columns]"
      ]
     },
     "execution_count": 10,
     "metadata": {},
     "output_type": "execute_result"
    }
   ],
   "source": [
    "df_train['text']= df_train['text'].apply(lambda x: x.translate(str.maketrans('', '', string.punctuation)))\n",
    "df_train"
   ]
  },
  {
   "attachments": {},
   "cell_type": "markdown",
   "id": "5df2b40a",
   "metadata": {},
   "source": [
    "# Removing Accented Characters"
   ]
  },
  {
   "cell_type": "code",
   "execution_count": 11,
   "id": "bbaa945a",
   "metadata": {},
   "outputs": [
    {
     "data": {
      "text/html": [
       "<div>\n",
       "<style scoped>\n",
       "    .dataframe tbody tr th:only-of-type {\n",
       "        vertical-align: middle;\n",
       "    }\n",
       "\n",
       "    .dataframe tbody tr th {\n",
       "        vertical-align: top;\n",
       "    }\n",
       "\n",
       "    .dataframe thead th {\n",
       "        text-align: right;\n",
       "    }\n",
       "</style>\n",
       "<table border=\"1\" class=\"dataframe\">\n",
       "  <thead>\n",
       "    <tr style=\"text-align: right;\">\n",
       "      <th></th>\n",
       "      <th>index</th>\n",
       "      <th>file</th>\n",
       "      <th>text</th>\n",
       "      <th>sport</th>\n",
       "    </tr>\n",
       "  </thead>\n",
       "  <tbody>\n",
       "    <tr>\n",
       "      <th>0</th>\n",
       "      <td>2</td>\n",
       "      <td>1</td>\n",
       "      <td>the first known use of an arrow l 10000 bc an ...</td>\n",
       "      <td>archery</td>\n",
       "    </tr>\n",
       "    <tr>\n",
       "      <th>1</th>\n",
       "      <td>3</td>\n",
       "      <td>10</td>\n",
       "      <td>archery nock fletching po eather shaft max sam...</td>\n",
       "      <td>archery</td>\n",
       "    </tr>\n",
       "    <tr>\n",
       "      <th>2</th>\n",
       "      <td>4</td>\n",
       "      <td>101</td>\n",
       "      <td>tim gillingham shooting clinic uwtec teneme hi...</td>\n",
       "      <td>archery</td>\n",
       "    </tr>\n",
       "    <tr>\n",
       "      <th>3</th>\n",
       "      <td>5</td>\n",
       "      <td>102</td>\n",
       "      <td>winter warmup nasp archery tournament ped by t...</td>\n",
       "      <td>archery</td>\n",
       "    </tr>\n",
       "    <tr>\n",
       "      <th>4</th>\n",
       "      <td>6</td>\n",
       "      <td>103</td>\n",
       "      <td>all are welcome come shoot for fun or competit...</td>\n",
       "      <td>archery</td>\n",
       "    </tr>\n",
       "    <tr>\n",
       "      <th>...</th>\n",
       "      <td>...</td>\n",
       "      <td>...</td>\n",
       "      <td>...</td>\n",
       "      <td>...</td>\n",
       "    </tr>\n",
       "    <tr>\n",
       "      <th>1973</th>\n",
       "      <td>2286</td>\n",
       "      <td>94</td>\n",
       "      <td>tennis tournament</td>\n",
       "      <td>tennis</td>\n",
       "    </tr>\n",
       "    <tr>\n",
       "      <th>1974</th>\n",
       "      <td>2287</td>\n",
       "      <td>95</td>\n",
       "      <td>tennis championship</td>\n",
       "      <td>tennis</td>\n",
       "    </tr>\n",
       "    <tr>\n",
       "      <th>1975</th>\n",
       "      <td>2288</td>\n",
       "      <td>96</td>\n",
       "      <td>presents by tennis club summer tennis tourname...</td>\n",
       "      <td>tennis</td>\n",
       "    </tr>\n",
       "    <tr>\n",
       "      <th>1976</th>\n",
       "      <td>2289</td>\n",
       "      <td>97</td>\n",
       "      <td>a all india tennis association aita aita tenni...</td>\n",
       "      <td>tennis</td>\n",
       "    </tr>\n",
       "    <tr>\n",
       "      <th>1977</th>\n",
       "      <td>2291</td>\n",
       "      <td>99</td>\n",
       "      <td>are you ready for tennis tournament 050220xx 9...</td>\n",
       "      <td>tennis</td>\n",
       "    </tr>\n",
       "  </tbody>\n",
       "</table>\n",
       "<p>1978 rows × 4 columns</p>\n",
       "</div>"
      ],
      "text/plain": [
       "      index  file                                               text    sport\n",
       "0         2     1  the first known use of an arrow l 10000 bc an ...  archery\n",
       "1         3    10  archery nock fletching po eather shaft max sam...  archery\n",
       "2         4   101  tim gillingham shooting clinic uwtec teneme hi...  archery\n",
       "3         5   102  winter warmup nasp archery tournament ped by t...  archery\n",
       "4         6   103  all are welcome come shoot for fun or competit...  archery\n",
       "...     ...   ...                                                ...      ...\n",
       "1973   2286    94                                  tennis tournament   tennis\n",
       "1974   2287    95                                tennis championship   tennis\n",
       "1975   2288    96  presents by tennis club summer tennis tourname...   tennis\n",
       "1976   2289    97  a all india tennis association aita aita tenni...   tennis\n",
       "1977   2291    99  are you ready for tennis tournament 050220xx 9...   tennis\n",
       "\n",
       "[1978 rows x 4 columns]"
      ]
     },
     "execution_count": 11,
     "metadata": {},
     "output_type": "execute_result"
    }
   ],
   "source": [
    "# imports\n",
    "import unicodedata\n",
    "# function to remove accented characters\n",
    "def remove_accented_chars(text):\n",
    "    new_text = unicodedata.normalize('NFKD', text).encode('ascii', 'ignore').decode('utf-8', 'ignore')\n",
    "    return new_text\n",
    "# call function\n",
    "df_train[\"text\"] = df_train[\"text\"].apply(lambda x: remove_accented_chars(x))\n",
    "df_train"
   ]
  },
  {
   "attachments": {},
   "cell_type": "markdown",
   "id": "d4b9e90b",
   "metadata": {},
   "source": [
    "# Removing Special Characters"
   ]
  },
  {
   "cell_type": "code",
   "execution_count": 12,
   "id": "32e83274",
   "metadata": {},
   "outputs": [
    {
     "data": {
      "text/html": [
       "<div>\n",
       "<style scoped>\n",
       "    .dataframe tbody tr th:only-of-type {\n",
       "        vertical-align: middle;\n",
       "    }\n",
       "\n",
       "    .dataframe tbody tr th {\n",
       "        vertical-align: top;\n",
       "    }\n",
       "\n",
       "    .dataframe thead th {\n",
       "        text-align: right;\n",
       "    }\n",
       "</style>\n",
       "<table border=\"1\" class=\"dataframe\">\n",
       "  <thead>\n",
       "    <tr style=\"text-align: right;\">\n",
       "      <th></th>\n",
       "      <th>index</th>\n",
       "      <th>file</th>\n",
       "      <th>text</th>\n",
       "      <th>sport</th>\n",
       "    </tr>\n",
       "  </thead>\n",
       "  <tbody>\n",
       "    <tr>\n",
       "      <th>0</th>\n",
       "      <td>2</td>\n",
       "      <td>1</td>\n",
       "      <td>the first known use of an arrow l 10000 bc an ...</td>\n",
       "      <td>archery</td>\n",
       "    </tr>\n",
       "    <tr>\n",
       "      <th>1</th>\n",
       "      <td>3</td>\n",
       "      <td>10</td>\n",
       "      <td>archery nock fletching po eather shaft max sam...</td>\n",
       "      <td>archery</td>\n",
       "    </tr>\n",
       "    <tr>\n",
       "      <th>2</th>\n",
       "      <td>4</td>\n",
       "      <td>101</td>\n",
       "      <td>tim gillingham shooting clinic uwtec teneme hi...</td>\n",
       "      <td>archery</td>\n",
       "    </tr>\n",
       "    <tr>\n",
       "      <th>3</th>\n",
       "      <td>5</td>\n",
       "      <td>102</td>\n",
       "      <td>winter warmup nasp archery tournament ped by t...</td>\n",
       "      <td>archery</td>\n",
       "    </tr>\n",
       "    <tr>\n",
       "      <th>4</th>\n",
       "      <td>6</td>\n",
       "      <td>103</td>\n",
       "      <td>all are welcome come shoot for fun or competit...</td>\n",
       "      <td>archery</td>\n",
       "    </tr>\n",
       "    <tr>\n",
       "      <th>...</th>\n",
       "      <td>...</td>\n",
       "      <td>...</td>\n",
       "      <td>...</td>\n",
       "      <td>...</td>\n",
       "    </tr>\n",
       "    <tr>\n",
       "      <th>1973</th>\n",
       "      <td>2286</td>\n",
       "      <td>94</td>\n",
       "      <td>tennis tournament</td>\n",
       "      <td>tennis</td>\n",
       "    </tr>\n",
       "    <tr>\n",
       "      <th>1974</th>\n",
       "      <td>2287</td>\n",
       "      <td>95</td>\n",
       "      <td>tennis championship</td>\n",
       "      <td>tennis</td>\n",
       "    </tr>\n",
       "    <tr>\n",
       "      <th>1975</th>\n",
       "      <td>2288</td>\n",
       "      <td>96</td>\n",
       "      <td>presents by tennis club summer tennis tourname...</td>\n",
       "      <td>tennis</td>\n",
       "    </tr>\n",
       "    <tr>\n",
       "      <th>1976</th>\n",
       "      <td>2289</td>\n",
       "      <td>97</td>\n",
       "      <td>a all india tennis association aita aita tenni...</td>\n",
       "      <td>tennis</td>\n",
       "    </tr>\n",
       "    <tr>\n",
       "      <th>1977</th>\n",
       "      <td>2291</td>\n",
       "      <td>99</td>\n",
       "      <td>are you ready for tennis tournament 050220xx 9...</td>\n",
       "      <td>tennis</td>\n",
       "    </tr>\n",
       "  </tbody>\n",
       "</table>\n",
       "<p>1978 rows × 4 columns</p>\n",
       "</div>"
      ],
      "text/plain": [
       "      index  file                                               text    sport\n",
       "0         2     1  the first known use of an arrow l 10000 bc an ...  archery\n",
       "1         3    10  archery nock fletching po eather shaft max sam...  archery\n",
       "2         4   101  tim gillingham shooting clinic uwtec teneme hi...  archery\n",
       "3         5   102  winter warmup nasp archery tournament ped by t...  archery\n",
       "4         6   103  all are welcome come shoot for fun or competit...  archery\n",
       "...     ...   ...                                                ...      ...\n",
       "1973   2286    94                                  tennis tournament   tennis\n",
       "1974   2287    95                                tennis championship   tennis\n",
       "1975   2288    96  presents by tennis club summer tennis tourname...   tennis\n",
       "1976   2289    97  a all india tennis association aita aita tenni...   tennis\n",
       "1977   2291    99  are you ready for tennis tournament 050220xx 9...   tennis\n",
       "\n",
       "[1978 rows x 4 columns]"
      ]
     },
     "execution_count": 12,
     "metadata": {},
     "output_type": "execute_result"
    }
   ],
   "source": [
    "import re\n",
    "# function to remove special characters\n",
    "def remove_special_characters(text):\n",
    "    # define the pattern to keep\n",
    "    pat = r'[^a-zA-z0-9.,!?/:;\\\"\\'\\s]' \n",
    "    return re.sub(pat, '', text)\n",
    " \n",
    "# call function\n",
    "df_train[\"text\"] = df_train[\"text\"].apply(lambda x: remove_accented_chars(x))\n",
    "df_train"
   ]
  },
  {
   "cell_type": "markdown",
   "id": "dFr6yhLI7GT1",
   "metadata": {
    "id": "dFr6yhLI7GT1"
   },
   "source": [
    "# Remove Numbers"
   ]
  },
  {
   "cell_type": "code",
   "execution_count": 13,
   "id": "1jdTB2cs8FlS",
   "metadata": {
    "executionInfo": {
     "elapsed": 4,
     "status": "ok",
     "timestamp": 1681747112987,
     "user": {
      "displayName": "Pathum Mihiranga",
      "userId": "16999484675349585718"
     },
     "user_tz": -330
    },
    "id": "1jdTB2cs8FlS"
   },
   "outputs": [],
   "source": [
    "import re"
   ]
  },
  {
   "cell_type": "code",
   "execution_count": 14,
   "id": "HyKZsZ8H78hr",
   "metadata": {
    "colab": {
     "base_uri": "https://localhost:8080/",
     "height": 423
    },
    "executionInfo": {
     "elapsed": 358,
     "status": "ok",
     "timestamp": 1681747502745,
     "user": {
      "displayName": "Pathum Mihiranga",
      "userId": "16999484675349585718"
     },
     "user_tz": -330
    },
    "id": "HyKZsZ8H78hr",
    "outputId": "1ecabcf0-9631-482f-99ff-e2d31dd29c43"
   },
   "outputs": [
    {
     "data": {
      "text/html": [
       "<div>\n",
       "<style scoped>\n",
       "    .dataframe tbody tr th:only-of-type {\n",
       "        vertical-align: middle;\n",
       "    }\n",
       "\n",
       "    .dataframe tbody tr th {\n",
       "        vertical-align: top;\n",
       "    }\n",
       "\n",
       "    .dataframe thead th {\n",
       "        text-align: right;\n",
       "    }\n",
       "</style>\n",
       "<table border=\"1\" class=\"dataframe\">\n",
       "  <thead>\n",
       "    <tr style=\"text-align: right;\">\n",
       "      <th></th>\n",
       "      <th>index</th>\n",
       "      <th>file</th>\n",
       "      <th>text</th>\n",
       "      <th>sport</th>\n",
       "    </tr>\n",
       "  </thead>\n",
       "  <tbody>\n",
       "    <tr>\n",
       "      <th>0</th>\n",
       "      <td>2</td>\n",
       "      <td>1</td>\n",
       "      <td>the first known use of an arrow l bc an archer...</td>\n",
       "      <td>archery</td>\n",
       "    </tr>\n",
       "    <tr>\n",
       "      <th>1</th>\n",
       "      <td>3</td>\n",
       "      <td>10</td>\n",
       "      <td>archery nock fletching po eather shaft max sam...</td>\n",
       "      <td>archery</td>\n",
       "    </tr>\n",
       "    <tr>\n",
       "      <th>2</th>\n",
       "      <td>4</td>\n",
       "      <td>101</td>\n",
       "      <td>tim gillingham shooting clinic uwtec teneme hi...</td>\n",
       "      <td>archery</td>\n",
       "    </tr>\n",
       "    <tr>\n",
       "      <th>3</th>\n",
       "      <td>5</td>\n",
       "      <td>102</td>\n",
       "      <td>winter warmup nasp archery tournament ped by t...</td>\n",
       "      <td>archery</td>\n",
       "    </tr>\n",
       "    <tr>\n",
       "      <th>4</th>\n",
       "      <td>6</td>\n",
       "      <td>103</td>\n",
       "      <td>all are welcome come shoot for fun or competit...</td>\n",
       "      <td>archery</td>\n",
       "    </tr>\n",
       "    <tr>\n",
       "      <th>...</th>\n",
       "      <td>...</td>\n",
       "      <td>...</td>\n",
       "      <td>...</td>\n",
       "      <td>...</td>\n",
       "    </tr>\n",
       "    <tr>\n",
       "      <th>1973</th>\n",
       "      <td>2286</td>\n",
       "      <td>94</td>\n",
       "      <td>tennis tournament</td>\n",
       "      <td>tennis</td>\n",
       "    </tr>\n",
       "    <tr>\n",
       "      <th>1974</th>\n",
       "      <td>2287</td>\n",
       "      <td>95</td>\n",
       "      <td>tennis championship</td>\n",
       "      <td>tennis</td>\n",
       "    </tr>\n",
       "    <tr>\n",
       "      <th>1975</th>\n",
       "      <td>2288</td>\n",
       "      <td>96</td>\n",
       "      <td>presents by tennis club summer tennis tourname...</td>\n",
       "      <td>tennis</td>\n",
       "    </tr>\n",
       "    <tr>\n",
       "      <th>1976</th>\n",
       "      <td>2289</td>\n",
       "      <td>97</td>\n",
       "      <td>a all india tennis association aita aita tenni...</td>\n",
       "      <td>tennis</td>\n",
       "    </tr>\n",
       "    <tr>\n",
       "      <th>1977</th>\n",
       "      <td>2291</td>\n",
       "      <td>99</td>\n",
       "      <td>are you ready for tennis tournament xx am to p...</td>\n",
       "      <td>tennis</td>\n",
       "    </tr>\n",
       "  </tbody>\n",
       "</table>\n",
       "<p>1978 rows × 4 columns</p>\n",
       "</div>"
      ],
      "text/plain": [
       "      index  file                                               text    sport\n",
       "0         2     1  the first known use of an arrow l bc an archer...  archery\n",
       "1         3    10  archery nock fletching po eather shaft max sam...  archery\n",
       "2         4   101  tim gillingham shooting clinic uwtec teneme hi...  archery\n",
       "3         5   102  winter warmup nasp archery tournament ped by t...  archery\n",
       "4         6   103  all are welcome come shoot for fun or competit...  archery\n",
       "...     ...   ...                                                ...      ...\n",
       "1973   2286    94                                  tennis tournament   tennis\n",
       "1974   2287    95                                tennis championship   tennis\n",
       "1975   2288    96  presents by tennis club summer tennis tourname...   tennis\n",
       "1976   2289    97  a all india tennis association aita aita tenni...   tennis\n",
       "1977   2291    99  are you ready for tennis tournament xx am to p...   tennis\n",
       "\n",
       "[1978 rows x 4 columns]"
      ]
     },
     "execution_count": 14,
     "metadata": {},
     "output_type": "execute_result"
    }
   ],
   "source": [
    "for i, row in df_train.iterrows():\n",
    "  tmp = re.sub(r'\\d', ' ', row['text'])\n",
    "  tmp = \" \".join(tmp.split())\n",
    "  df_train.at[i, 'text'] = tmp\n",
    "df_train"
   ]
  },
  {
   "cell_type": "markdown",
   "id": "4c81a86b",
   "metadata": {
    "id": "4c81a86b"
   },
   "source": [
    "# Removal Of Stopwords"
   ]
  },
  {
   "cell_type": "markdown",
   "id": "9717246d",
   "metadata": {
    "id": "9717246d"
   },
   "source": [
    "Remove stop words. Because stop words does not affect to give good accuratable prediction. Those are commanly using words"
   ]
  },
  {
   "cell_type": "code",
   "execution_count": 16,
   "id": "f8516f58",
   "metadata": {},
   "outputs": [],
   "source": [
    "import nltk"
   ]
  },
  {
   "cell_type": "code",
   "execution_count": 17,
   "id": "2b6a01d9",
   "metadata": {
    "colab": {
     "base_uri": "https://localhost:8080/"
    },
    "executionInfo": {
     "elapsed": 3,
     "status": "ok",
     "timestamp": 1681747543789,
     "user": {
      "displayName": "Pathum Mihiranga",
      "userId": "16999484675349585718"
     },
     "user_tz": -330
    },
    "id": "2b6a01d9",
    "outputId": "880b8504-e590-4647-d38d-a92c7f3a7e6b"
   },
   "outputs": [
    {
     "name": "stdout",
     "output_type": "stream",
     "text": [
      "[nltk_data] Downloading package stopwords to\n",
      "[nltk_data]     C:\\Users\\Acer\\AppData\\Roaming\\nltk_data...\n",
      "[nltk_data]   Package stopwords is already up-to-date!\n"
     ]
    }
   ],
   "source": [
    "nltk.download('stopwords')\n",
    "from nltk.corpus import stopwords"
   ]
  },
  {
   "cell_type": "code",
   "execution_count": 18,
   "id": "1a8c3c13",
   "metadata": {
    "colab": {
     "base_uri": "https://localhost:8080/"
    },
    "executionInfo": {
     "elapsed": 3,
     "status": "ok",
     "timestamp": 1681747546995,
     "user": {
      "displayName": "Pathum Mihiranga",
      "userId": "16999484675349585718"
     },
     "user_tz": -330
    },
    "id": "1a8c3c13",
    "outputId": "3c2d602c-697c-4a32-dd3e-78d8d553dae5"
   },
   "outputs": [
    {
     "name": "stdout",
     "output_type": "stream",
     "text": [
      "['i', 'me', 'my', 'myself', 'we', 'our', 'ours', 'ourselves', 'you', \"you're\", \"you've\", \"you'll\", \"you'd\", 'your', 'yours', 'yourself', 'yourselves', 'he', 'him', 'his', 'himself', 'she', \"she's\", 'her', 'hers', 'herself', 'it', \"it's\", 'its', 'itself', 'they', 'them', 'their', 'theirs', 'themselves', 'what', 'which', 'who', 'whom', 'this', 'that', \"that'll\", 'these', 'those', 'am', 'is', 'are', 'was', 'were', 'be', 'been', 'being', 'have', 'has', 'had', 'having', 'do', 'does', 'did', 'doing', 'a', 'an', 'the', 'and', 'but', 'if', 'or', 'because', 'as', 'until', 'while', 'of', 'at', 'by', 'for', 'with', 'about', 'against', 'between', 'into', 'through', 'during', 'before', 'after', 'above', 'below', 'to', 'from', 'up', 'down', 'in', 'out', 'on', 'off', 'over', 'under', 'again', 'further', 'then', 'once', 'here', 'there', 'when', 'where', 'why', 'how', 'all', 'any', 'both', 'each', 'few', 'more', 'most', 'other', 'some', 'such', 'no', 'nor', 'not', 'only', 'own', 'same', 'so', 'than', 'too', 'very', 's', 't', 'can', 'will', 'just', 'don', \"don't\", 'should', \"should've\", 'now', 'd', 'll', 'm', 'o', 're', 've', 'y', 'ain', 'aren', \"aren't\", 'couldn', \"couldn't\", 'didn', \"didn't\", 'doesn', \"doesn't\", 'hadn', \"hadn't\", 'hasn', \"hasn't\", 'haven', \"haven't\", 'isn', \"isn't\", 'ma', 'mightn', \"mightn't\", 'mustn', \"mustn't\", 'needn', \"needn't\", 'shan', \"shan't\", 'shouldn', \"shouldn't\", 'wasn', \"wasn't\", 'weren', \"weren't\", 'won', \"won't\", 'wouldn', \"wouldn't\"]\n"
     ]
    }
   ],
   "source": [
    "english_stop_words_list=stopwords.words('english')\n",
    "print(english_stop_words_list)"
   ]
  },
  {
   "cell_type": "markdown",
   "id": "4986ba80",
   "metadata": {
    "id": "4986ba80"
   },
   "source": [
    "Removing stopwords and dataset after removing stopwords"
   ]
  },
  {
   "cell_type": "code",
   "execution_count": 19,
   "id": "93c6d9f2",
   "metadata": {
    "executionInfo": {
     "elapsed": 1020,
     "status": "ok",
     "timestamp": 1681747551100,
     "user": {
      "displayName": "Pathum Mihiranga",
      "userId": "16999484675349585718"
     },
     "user_tz": -330
    },
    "id": "93c6d9f2"
   },
   "outputs": [],
   "source": [
    "def rem_stpwrds(text):\n",
    "    return \" \".join([word for word in str(text).split() if word not in english_stop_words_list])"
   ]
  },
  {
   "cell_type": "code",
   "execution_count": 20,
   "id": "555fdec0",
   "metadata": {
    "colab": {
     "base_uri": "https://localhost:8080/",
     "height": 423
    },
    "executionInfo": {
     "elapsed": 5,
     "status": "ok",
     "timestamp": 1681747553378,
     "user": {
      "displayName": "Pathum Mihiranga",
      "userId": "16999484675349585718"
     },
     "user_tz": -330
    },
    "id": "555fdec0",
    "outputId": "4b9ce1a2-1906-4969-817b-fc7d3cbb2256"
   },
   "outputs": [
    {
     "data": {
      "text/html": [
       "<div>\n",
       "<style scoped>\n",
       "    .dataframe tbody tr th:only-of-type {\n",
       "        vertical-align: middle;\n",
       "    }\n",
       "\n",
       "    .dataframe tbody tr th {\n",
       "        vertical-align: top;\n",
       "    }\n",
       "\n",
       "    .dataframe thead th {\n",
       "        text-align: right;\n",
       "    }\n",
       "</style>\n",
       "<table border=\"1\" class=\"dataframe\">\n",
       "  <thead>\n",
       "    <tr style=\"text-align: right;\">\n",
       "      <th></th>\n",
       "      <th>index</th>\n",
       "      <th>file</th>\n",
       "      <th>text</th>\n",
       "      <th>sport</th>\n",
       "    </tr>\n",
       "  </thead>\n",
       "  <tbody>\n",
       "    <tr>\n",
       "      <th>0</th>\n",
       "      <td>2</td>\n",
       "      <td>1</td>\n",
       "      <td>first known use arrow l bc archery lover toxop...</td>\n",
       "      <td>archery</td>\n",
       "    </tr>\n",
       "    <tr>\n",
       "      <th>1</th>\n",
       "      <td>3</td>\n",
       "      <td>10</td>\n",
       "      <td>archery nock fletching po eather shaft max sam...</td>\n",
       "      <td>archery</td>\n",
       "    </tr>\n",
       "    <tr>\n",
       "      <th>2</th>\n",
       "      <td>4</td>\n",
       "      <td>101</td>\n",
       "      <td>tim gillingham shooting clinic uwtec teneme hi...</td>\n",
       "      <td>archery</td>\n",
       "    </tr>\n",
       "    <tr>\n",
       "      <th>3</th>\n",
       "      <td>5</td>\n",
       "      <td>102</td>\n",
       "      <td>winter warmup nasp archery tournament ped texa...</td>\n",
       "      <td>archery</td>\n",
       "    </tr>\n",
       "    <tr>\n",
       "      <th>4</th>\n",
       "      <td>6</td>\n",
       "      <td>103</td>\n",
       "      <td>welcome come shoot fun competition hl scheels ...</td>\n",
       "      <td>archery</td>\n",
       "    </tr>\n",
       "    <tr>\n",
       "      <th>...</th>\n",
       "      <td>...</td>\n",
       "      <td>...</td>\n",
       "      <td>...</td>\n",
       "      <td>...</td>\n",
       "    </tr>\n",
       "    <tr>\n",
       "      <th>1973</th>\n",
       "      <td>2286</td>\n",
       "      <td>94</td>\n",
       "      <td>tennis tournament</td>\n",
       "      <td>tennis</td>\n",
       "    </tr>\n",
       "    <tr>\n",
       "      <th>1974</th>\n",
       "      <td>2287</td>\n",
       "      <td>95</td>\n",
       "      <td>tennis championship</td>\n",
       "      <td>tennis</td>\n",
       "    </tr>\n",
       "    <tr>\n",
       "      <th>1975</th>\n",
       "      <td>2288</td>\n",
       "      <td>96</td>\n",
       "      <td>presents tennis club summer tennis tournament ...</td>\n",
       "      <td>tennis</td>\n",
       "    </tr>\n",
       "    <tr>\n",
       "      <th>1976</th>\n",
       "      <td>2289</td>\n",
       "      <td>97</td>\n",
       "      <td>india tennis association aita aita tennis tour...</td>\n",
       "      <td>tennis</td>\n",
       "    </tr>\n",
       "    <tr>\n",
       "      <th>1977</th>\n",
       "      <td>2291</td>\n",
       "      <td>99</td>\n",
       "      <td>ready tennis tournament xx pm anywhere st city...</td>\n",
       "      <td>tennis</td>\n",
       "    </tr>\n",
       "  </tbody>\n",
       "</table>\n",
       "<p>1978 rows × 4 columns</p>\n",
       "</div>"
      ],
      "text/plain": [
       "      index  file                                               text    sport\n",
       "0         2     1  first known use arrow l bc archery lover toxop...  archery\n",
       "1         3    10  archery nock fletching po eather shaft max sam...  archery\n",
       "2         4   101  tim gillingham shooting clinic uwtec teneme hi...  archery\n",
       "3         5   102  winter warmup nasp archery tournament ped texa...  archery\n",
       "4         6   103  welcome come shoot fun competition hl scheels ...  archery\n",
       "...     ...   ...                                                ...      ...\n",
       "1973   2286    94                                  tennis tournament   tennis\n",
       "1974   2287    95                                tennis championship   tennis\n",
       "1975   2288    96  presents tennis club summer tennis tournament ...   tennis\n",
       "1976   2289    97  india tennis association aita aita tennis tour...   tennis\n",
       "1977   2291    99  ready tennis tournament xx pm anywhere st city...   tennis\n",
       "\n",
       "[1978 rows x 4 columns]"
      ]
     },
     "execution_count": 20,
     "metadata": {},
     "output_type": "execute_result"
    }
   ],
   "source": [
    "df_train[\"text\"] = df_train[\"text\"].apply(lambda x: rem_stpwrds(x))\n",
    "df_train"
   ]
  },
  {
   "cell_type": "markdown",
   "id": "dc46d6fe",
   "metadata": {
    "id": "dc46d6fe"
   },
   "source": [
    "# Removal of Frequent words"
   ]
  },
  {
   "cell_type": "markdown",
   "id": "48b85faa",
   "metadata": {
    "id": "48b85faa"
   },
   "source": [
    "Most of the frequently used data are have none or littel semantic meaning related to a context. Most of them are articles, pronouns, or conjuctions. So removed top 10 most frequents words."
   ]
  },
  {
   "cell_type": "code",
   "execution_count": 21,
   "id": "d7b25415",
   "metadata": {
    "id": "d7b25415"
   },
   "outputs": [],
   "source": [
    "df_train = df_train.copy()"
   ]
  },
  {
   "cell_type": "code",
   "execution_count": 22,
   "id": "3fda6e3a",
   "metadata": {
    "colab": {
     "base_uri": "https://localhost:8080/"
    },
    "executionInfo": {
     "elapsed": 7,
     "status": "ok",
     "timestamp": 1681745233785,
     "user": {
      "displayName": "Pathum Mihiranga",
      "userId": "16999484675349585718"
     },
     "user_tz": -330
    },
    "id": "3fda6e3a",
    "outputId": "35a0ab8f-ce28-4f63-8444-8b5b88fd958a"
   },
   "outputs": [
    {
     "data": {
      "text/plain": [
       "[('tournament', 841),\n",
       " ('pm', 492),\n",
       " ('golf', 467),\n",
       " ('th', 464),\n",
       " ('team', 454),\n",
       " ('rugby', 426),\n",
       " ('ball', 424),\n",
       " ('archery', 423),\n",
       " ('club', 348),\n",
       " ('carrom', 337)]"
      ]
     },
     "execution_count": 22,
     "metadata": {},
     "output_type": "execute_result"
    }
   ],
   "source": [
    "from collections import Counter\n",
    "\n",
    "cnt = Counter()\n",
    "\n",
    "def idf_frq_wrds(text):\n",
    "  for word in text.split():\n",
    "    cnt[word] += 1\n",
    "\n",
    "df_train[\"text\"].apply(lambda x: idf_frq_wrds(x))\n",
    "\n",
    "cnt.most_common(10)"
   ]
  },
  {
   "cell_type": "code",
   "execution_count": 23,
   "id": "9ad5f6e4",
   "metadata": {},
   "outputs": [
    {
     "data": {
      "text/html": [
       "<div>\n",
       "<style scoped>\n",
       "    .dataframe tbody tr th:only-of-type {\n",
       "        vertical-align: middle;\n",
       "    }\n",
       "\n",
       "    .dataframe tbody tr th {\n",
       "        vertical-align: top;\n",
       "    }\n",
       "\n",
       "    .dataframe thead th {\n",
       "        text-align: right;\n",
       "    }\n",
       "</style>\n",
       "<table border=\"1\" class=\"dataframe\">\n",
       "  <thead>\n",
       "    <tr style=\"text-align: right;\">\n",
       "      <th></th>\n",
       "      <th>index</th>\n",
       "      <th>file</th>\n",
       "      <th>text</th>\n",
       "      <th>sport</th>\n",
       "    </tr>\n",
       "  </thead>\n",
       "  <tbody>\n",
       "    <tr>\n",
       "      <th>0</th>\n",
       "      <td>2</td>\n",
       "      <td>1</td>\n",
       "      <td>first known use arrow l bc archery lover toxop...</td>\n",
       "      <td>archery</td>\n",
       "    </tr>\n",
       "    <tr>\n",
       "      <th>1</th>\n",
       "      <td>3</td>\n",
       "      <td>10</td>\n",
       "      <td>archery nock fletching po eather shaft max sam...</td>\n",
       "      <td>archery</td>\n",
       "    </tr>\n",
       "    <tr>\n",
       "      <th>2</th>\n",
       "      <td>4</td>\n",
       "      <td>101</td>\n",
       "      <td>tim gillingham shooting clinic uwtec teneme hi...</td>\n",
       "      <td>archery</td>\n",
       "    </tr>\n",
       "    <tr>\n",
       "      <th>3</th>\n",
       "      <td>5</td>\n",
       "      <td>102</td>\n",
       "      <td>winter warmup nasp archery tournament ped texa...</td>\n",
       "      <td>archery</td>\n",
       "    </tr>\n",
       "    <tr>\n",
       "      <th>4</th>\n",
       "      <td>6</td>\n",
       "      <td>103</td>\n",
       "      <td>welcome come shoot fun competition hl scheels ...</td>\n",
       "      <td>archery</td>\n",
       "    </tr>\n",
       "    <tr>\n",
       "      <th>...</th>\n",
       "      <td>...</td>\n",
       "      <td>...</td>\n",
       "      <td>...</td>\n",
       "      <td>...</td>\n",
       "    </tr>\n",
       "    <tr>\n",
       "      <th>1973</th>\n",
       "      <td>2286</td>\n",
       "      <td>94</td>\n",
       "      <td>tennis tournament</td>\n",
       "      <td>tennis</td>\n",
       "    </tr>\n",
       "    <tr>\n",
       "      <th>1974</th>\n",
       "      <td>2287</td>\n",
       "      <td>95</td>\n",
       "      <td>tennis championship</td>\n",
       "      <td>tennis</td>\n",
       "    </tr>\n",
       "    <tr>\n",
       "      <th>1975</th>\n",
       "      <td>2288</td>\n",
       "      <td>96</td>\n",
       "      <td>presents tennis club summer tennis tournament ...</td>\n",
       "      <td>tennis</td>\n",
       "    </tr>\n",
       "    <tr>\n",
       "      <th>1976</th>\n",
       "      <td>2289</td>\n",
       "      <td>97</td>\n",
       "      <td>india tennis association aita aita tennis tour...</td>\n",
       "      <td>tennis</td>\n",
       "    </tr>\n",
       "    <tr>\n",
       "      <th>1977</th>\n",
       "      <td>2291</td>\n",
       "      <td>99</td>\n",
       "      <td>ready tennis tournament xx pm anywhere st city...</td>\n",
       "      <td>tennis</td>\n",
       "    </tr>\n",
       "  </tbody>\n",
       "</table>\n",
       "<p>1978 rows × 4 columns</p>\n",
       "</div>"
      ],
      "text/plain": [
       "      index  file                                               text    sport\n",
       "0         2     1  first known use arrow l bc archery lover toxop...  archery\n",
       "1         3    10  archery nock fletching po eather shaft max sam...  archery\n",
       "2         4   101  tim gillingham shooting clinic uwtec teneme hi...  archery\n",
       "3         5   102  winter warmup nasp archery tournament ped texa...  archery\n",
       "4         6   103  welcome come shoot fun competition hl scheels ...  archery\n",
       "...     ...   ...                                                ...      ...\n",
       "1973   2286    94                                  tennis tournament   tennis\n",
       "1974   2287    95                                tennis championship   tennis\n",
       "1975   2288    96  presents tennis club summer tennis tournament ...   tennis\n",
       "1976   2289    97  india tennis association aita aita tennis tour...   tennis\n",
       "1977   2291    99  ready tennis tournament xx pm anywhere st city...   tennis\n",
       "\n",
       "[1978 rows x 4 columns]"
      ]
     },
     "execution_count": 23,
     "metadata": {},
     "output_type": "execute_result"
    }
   ],
   "source": [
    "df_train"
   ]
  },
  {
   "cell_type": "code",
   "execution_count": 24,
   "id": "a9bb44f3",
   "metadata": {},
   "outputs": [],
   "source": [
    "df_train.to_csv('cleaned.csv')"
   ]
  },
  {
   "attachments": {},
   "cell_type": "markdown",
   "id": "d08b765c",
   "metadata": {},
   "source": [
    "# Spell Correction"
   ]
  },
  {
   "cell_type": "code",
   "execution_count": 25,
   "id": "8c2e946a",
   "metadata": {},
   "outputs": [
    {
     "name": "stdout",
     "output_type": "stream",
     "text": [
      "Requirement already satisfied: cyhunspell in c:\\users\\acer\\appdata\\roaming\\python\\python310\\site-packages (2.0.3)\n",
      "Requirement already satisfied: cacheman>=2.0.6 in c:\\users\\acer\\appdata\\roaming\\python\\python310\\site-packages (from cyhunspell) (2.2.0)\n",
      "Requirement already satisfied: psutil>=2.1.0 in c:\\users\\acer\\appdata\\roaming\\python\\python310\\site-packages (from cacheman>=2.0.6->cyhunspell) (5.9.3)\n",
      "Note: you may need to restart the kernel to use updated packages.\n"
     ]
    }
   ],
   "source": [
    "%pip install cyhunspell\n"
   ]
  },
  {
   "cell_type": "code",
   "execution_count": 26,
   "id": "87af0c2b",
   "metadata": {},
   "outputs": [],
   "source": [
    "from hunspell import Hunspell\n",
    "h = Hunspell()"
   ]
  },
  {
   "cell_type": "code",
   "execution_count": 27,
   "id": "672e0bb4",
   "metadata": {},
   "outputs": [
    {
     "name": "stdout",
     "output_type": "stream",
     "text": [
      "[nltk_data] Downloading package punkt to\n",
      "[nltk_data]     C:\\Users\\Acer\\AppData\\Roaming\\nltk_data...\n",
      "[nltk_data]   Package punkt is already up-to-date!\n"
     ]
    },
    {
     "data": {
      "text/plain": [
       "True"
      ]
     },
     "execution_count": 27,
     "metadata": {},
     "output_type": "execute_result"
    }
   ],
   "source": [
    "import nltk\n",
    "nltk.download('punkt')"
   ]
  },
  {
   "cell_type": "code",
   "execution_count": 28,
   "id": "b12bd95a",
   "metadata": {},
   "outputs": [],
   "source": [
    "h = Hunspell('en_CA')"
   ]
  },
  {
   "cell_type": "code",
   "execution_count": 29,
   "id": "97338c47",
   "metadata": {},
   "outputs": [
    {
     "name": "stdout",
     "output_type": "stream",
     "text": [
      "Misspelled word: bc\n",
      "1. BC\n",
      "2. bx\n",
      "3. b\n",
      "4. c\n",
      "5. be\n",
      "6. bi\n",
      "7. ac\n",
      "8. bl\n",
      "9. cc\n",
      "10. bu\n",
      "11. by\n",
      "12. bf\n",
      "13. bk\n",
      "14. kc\n"
     ]
    },
    {
     "ename": "ValueError",
     "evalue": "invalid literal for int() with base 10: ''",
     "output_type": "error",
     "traceback": [
      "\u001b[1;31m---------------------------------------------------------------------------\u001b[0m",
      "\u001b[1;31mValueError\u001b[0m                                Traceback (most recent call last)",
      "\u001b[1;32mc:\\Users\\Acer\\Downloads\\fyp\\FypTest.ipynb Cell 44\u001b[0m in \u001b[0;36m3\n\u001b[0;32m     <a href='vscode-notebook-cell:/c%3A/Users/Acer/Downloads/fyp/FypTest.ipynb#X60sZmlsZQ%3D%3D?line=36'>37</a>\u001b[0m         \u001b[39mfor\u001b[39;00m i, suggestion \u001b[39min\u001b[39;00m \u001b[39menumerate\u001b[39m(suggestions):\n\u001b[0;32m     <a href='vscode-notebook-cell:/c%3A/Users/Acer/Downloads/fyp/FypTest.ipynb#X60sZmlsZQ%3D%3D?line=37'>38</a>\u001b[0m             \u001b[39mprint\u001b[39m(\u001b[39mf\u001b[39m\u001b[39m\"\u001b[39m\u001b[39m{\u001b[39;00mi\u001b[39m+\u001b[39m\u001b[39m1\u001b[39m\u001b[39m}\u001b[39;00m\u001b[39m. \u001b[39m\u001b[39m{\u001b[39;00msuggestion\u001b[39m}\u001b[39;00m\u001b[39m\"\u001b[39m)\n\u001b[1;32m---> <a href='vscode-notebook-cell:/c%3A/Users/Acer/Downloads/fyp/FypTest.ipynb#X60sZmlsZQ%3D%3D?line=38'>39</a>\u001b[0m         choice \u001b[39m=\u001b[39m \u001b[39mint\u001b[39;49m(\u001b[39minput\u001b[39;49m(\u001b[39m\"\u001b[39;49m\u001b[39mChoose a correction: \u001b[39;49m\u001b[39m\"\u001b[39;49m))\n\u001b[0;32m     <a href='vscode-notebook-cell:/c%3A/Users/Acer/Downloads/fyp/FypTest.ipynb#X60sZmlsZQ%3D%3D?line=39'>40</a>\u001b[0m         token \u001b[39m=\u001b[39m suggestions[choice\u001b[39m-\u001b[39m\u001b[39m1\u001b[39m]\n\u001b[0;32m     <a href='vscode-notebook-cell:/c%3A/Users/Acer/Downloads/fyp/FypTest.ipynb#X60sZmlsZQ%3D%3D?line=40'>41</a>\u001b[0m corrected_tokens\u001b[39m.\u001b[39mappend(token)\n",
      "\u001b[1;31mValueError\u001b[0m: invalid literal for int() with base 10: ''"
     ]
    }
   ],
   "source": [
    "# # Tokenize the sentence\n",
    "# sentence = \"i shold go scool\"\n",
    "# tokens = nltk.word_tokenize(sentence)\n",
    "\n",
    "# # Check spelling and correct misspellings\n",
    "# corrected_tokens = []\n",
    "# for token in tokens:\n",
    "#     if not h.spell(token):\n",
    "#         suggestions = h.suggest(token)\n",
    "#         if suggestions:\n",
    "#             # Display suggestions and let the user choose one\n",
    "#             print(f\"Misspelled word: {token}\")\n",
    "#             for i, suggestion in enumerate(suggestions):\n",
    "#                 print(f\"{i+1}. {suggestion}\")\n",
    "#             choice = int(input(\"Choose a correction: \"))\n",
    "#             token = suggestions[choice-1]\n",
    "#     corrected_tokens.append(token)\n",
    "\n",
    "# # Join the corrected tokens back into a sentence\n",
    "# corrected_sentence = ' '.join(corrected_tokens)\n",
    "# print(corrected_sentence)\n",
    "\n",
    "\n",
    "# Tokenize and correct misspellings for each row in the DataFrame\n",
    "for i, row in df_train.iterrows():\n",
    "    sentence = row['text']  # Assumes the DataFrame has a column named 'text'\n",
    "    tokens = nltk.word_tokenize(sentence)\n",
    "\n",
    "    # Check spelling and correct misspellings\n",
    "    corrected_tokens = []\n",
    "    for token in tokens:\n",
    "        if not h.spell(token):  # Check spelling with h.check instead of h.spell\n",
    "            suggestions = h.suggest(token)\n",
    "            if suggestions:\n",
    "                # Display suggestions and let the user choose one\n",
    "                print(f\"Misspelled word: {token}\")\n",
    "                for i, suggestion in enumerate(suggestions):\n",
    "                    print(f\"{i+1}. {suggestion}\")\n",
    "                choice = int(input(\"Choose a correction: \"))\n",
    "                token = suggestions[choice-1]\n",
    "        corrected_tokens.append(token)\n",
    "\n",
    "    # Join the corrected tokens back into a sentence and update the DataFrame\n",
    "    corrected_sentence = ' '.join(corrected_tokens)\n",
    "    df_train.at[i, 'text'] = corrected_sentence"
   ]
  },
  {
   "cell_type": "markdown",
   "id": "a4e4c300",
   "metadata": {
    "id": "a4e4c300"
   },
   "source": [
    "# Stemming"
   ]
  },
  {
   "cell_type": "markdown",
   "id": "1e7f9598",
   "metadata": {
    "id": "1e7f9598"
   },
   "source": [
    "Process of removing inflected or sometimes derived words from the word stem. In this process sometime orignial word meaning is also lose."
   ]
  },
  {
   "cell_type": "code",
   "execution_count": 30,
   "id": "i1rdoOnyC3cE",
   "metadata": {
    "executionInfo": {
     "elapsed": 969,
     "status": "ok",
     "timestamp": 1681749315693,
     "user": {
      "displayName": "Pathum Mihiranga",
      "userId": "16999484675349585718"
     },
     "user_tz": -330
    },
    "id": "i1rdoOnyC3cE"
   },
   "outputs": [],
   "source": [
    "from nltk.stem import LancasterStemmer\n",
    "\n",
    "lc = LancasterStemmer()\n",
    "\n",
    "def stem(text):\n",
    "    return \" \".join([lc.stem(word) for word in text.split()])\n",
    "\n",
    "df_train['text'] = df_train['text'].apply(stem)\n"
   ]
  },
  {
   "cell_type": "code",
   "execution_count": 31,
   "id": "2a8214a9",
   "metadata": {},
   "outputs": [],
   "source": [
    "df_train.to_csv('labeled_stemmed.csv')"
   ]
  },
  {
   "cell_type": "code",
   "execution_count": 32,
   "id": "X3ZmYTECEjRP",
   "metadata": {
    "colab": {
     "base_uri": "https://localhost:8080/",
     "height": 423
    },
    "executionInfo": {
     "elapsed": 6,
     "status": "ok",
     "timestamp": 1681749330200,
     "user": {
      "displayName": "Pathum Mihiranga",
      "userId": "16999484675349585718"
     },
     "user_tz": -330
    },
    "id": "X3ZmYTECEjRP",
    "outputId": "252eb620-73db-41ae-dc08-14fb3efb54ed"
   },
   "outputs": [
    {
     "data": {
      "text/html": [
       "<div>\n",
       "<style scoped>\n",
       "    .dataframe tbody tr th:only-of-type {\n",
       "        vertical-align: middle;\n",
       "    }\n",
       "\n",
       "    .dataframe tbody tr th {\n",
       "        vertical-align: top;\n",
       "    }\n",
       "\n",
       "    .dataframe thead th {\n",
       "        text-align: right;\n",
       "    }\n",
       "</style>\n",
       "<table border=\"1\" class=\"dataframe\">\n",
       "  <thead>\n",
       "    <tr style=\"text-align: right;\">\n",
       "      <th></th>\n",
       "      <th>index</th>\n",
       "      <th>file</th>\n",
       "      <th>text</th>\n",
       "      <th>sport</th>\n",
       "    </tr>\n",
       "  </thead>\n",
       "  <tbody>\n",
       "    <tr>\n",
       "      <th>0</th>\n",
       "      <td>2</td>\n",
       "      <td>1</td>\n",
       "      <td>first known us arrow l bc archery lov toxophil...</td>\n",
       "      <td>archery</td>\n",
       "    </tr>\n",
       "    <tr>\n",
       "      <th>1</th>\n",
       "      <td>3</td>\n",
       "      <td>10</td>\n",
       "      <td>archery nock fletch po eath shaft max samet mo...</td>\n",
       "      <td>archery</td>\n",
       "    </tr>\n",
       "    <tr>\n",
       "      <th>2</th>\n",
       "      <td>4</td>\n",
       "      <td>101</td>\n",
       "      <td>tim gillingham shoot clin uwtec tenem hitrmiss...</td>\n",
       "      <td>archery</td>\n",
       "    </tr>\n",
       "    <tr>\n",
       "      <th>3</th>\n",
       "      <td>5</td>\n",
       "      <td>102</td>\n",
       "      <td>wint warmup nasp archery tourna ped texa flory...</td>\n",
       "      <td>archery</td>\n",
       "    </tr>\n",
       "    <tr>\n",
       "      <th>4</th>\n",
       "      <td>6</td>\n",
       "      <td>103</td>\n",
       "      <td>welcom com shoot fun competit hl scheels twin ...</td>\n",
       "      <td>archery</td>\n",
       "    </tr>\n",
       "    <tr>\n",
       "      <th>...</th>\n",
       "      <td>...</td>\n",
       "      <td>...</td>\n",
       "      <td>...</td>\n",
       "      <td>...</td>\n",
       "    </tr>\n",
       "    <tr>\n",
       "      <th>1973</th>\n",
       "      <td>2286</td>\n",
       "      <td>94</td>\n",
       "      <td>ten tourna</td>\n",
       "      <td>tennis</td>\n",
       "    </tr>\n",
       "    <tr>\n",
       "      <th>1974</th>\n",
       "      <td>2287</td>\n",
       "      <td>95</td>\n",
       "      <td>ten champ</td>\n",
       "      <td>tennis</td>\n",
       "    </tr>\n",
       "    <tr>\n",
       "      <th>1975</th>\n",
       "      <td>2288</td>\n",
       "      <td>96</td>\n",
       "      <td>pres ten club sum ten tourna sunday april gree...</td>\n",
       "      <td>tennis</td>\n",
       "    </tr>\n",
       "    <tr>\n",
       "      <th>1976</th>\n",
       "      <td>2289</td>\n",
       "      <td>97</td>\n",
       "      <td>ind ten assocy ait ait ten tourna boy girl dec...</td>\n",
       "      <td>tennis</td>\n",
       "    </tr>\n",
       "    <tr>\n",
       "      <th>1977</th>\n",
       "      <td>2291</td>\n",
       "      <td>99</td>\n",
       "      <td>ready ten tourna xx pm anywh st city fre reg y...</td>\n",
       "      <td>tennis</td>\n",
       "    </tr>\n",
       "  </tbody>\n",
       "</table>\n",
       "<p>1978 rows × 4 columns</p>\n",
       "</div>"
      ],
      "text/plain": [
       "      index  file                                               text    sport\n",
       "0         2     1  first known us arrow l bc archery lov toxophil...  archery\n",
       "1         3    10  archery nock fletch po eath shaft max samet mo...  archery\n",
       "2         4   101  tim gillingham shoot clin uwtec tenem hitrmiss...  archery\n",
       "3         5   102  wint warmup nasp archery tourna ped texa flory...  archery\n",
       "4         6   103  welcom com shoot fun competit hl scheels twin ...  archery\n",
       "...     ...   ...                                                ...      ...\n",
       "1973   2286    94                                         ten tourna   tennis\n",
       "1974   2287    95                                          ten champ   tennis\n",
       "1975   2288    96  pres ten club sum ten tourna sunday april gree...   tennis\n",
       "1976   2289    97  ind ten assocy ait ait ten tourna boy girl dec...   tennis\n",
       "1977   2291    99  ready ten tourna xx pm anywh st city fre reg y...   tennis\n",
       "\n",
       "[1978 rows x 4 columns]"
      ]
     },
     "execution_count": 32,
     "metadata": {},
     "output_type": "execute_result"
    }
   ],
   "source": [
    "df_train"
   ]
  },
  {
   "cell_type": "markdown",
   "id": "05206451",
   "metadata": {
    "id": "05206451"
   },
   "source": [
    "# Naive Bayes Model"
   ]
  },
  {
   "cell_type": "markdown",
   "id": "5d8e5885",
   "metadata": {
    "id": "5d8e5885"
   },
   "source": [
    "Apply Naive Bayes model\n",
    "\n",
    "Create x and y data from prepreocessed data.."
   ]
  },
  {
   "cell_type": "code",
   "execution_count": 33,
   "id": "90b3b353",
   "metadata": {
    "executionInfo": {
     "elapsed": 394,
     "status": "ok",
     "timestamp": 1681749339035,
     "user": {
      "displayName": "Pathum Mihiranga",
      "userId": "16999484675349585718"
     },
     "user_tz": -330
    },
    "id": "90b3b353"
   },
   "outputs": [],
   "source": [
    "x_data = df_train['text']\n",
    "y_data = df_train['sport']"
   ]
  },
  {
   "cell_type": "markdown",
   "id": "7b23aecc",
   "metadata": {
    "id": "7b23aecc"
   },
   "source": [
    "Split text and train data. 20% text data."
   ]
  },
  {
   "cell_type": "code",
   "execution_count": 34,
   "id": "96b17ad2",
   "metadata": {
    "colab": {
     "base_uri": "https://localhost:8080/"
    },
    "executionInfo": {
     "elapsed": 6914,
     "status": "ok",
     "timestamp": 1681747580934,
     "user": {
      "displayName": "Pathum Mihiranga",
      "userId": "16999484675349585718"
     },
     "user_tz": -330
    },
    "id": "96b17ad2",
    "outputId": "17e0eadc-6c6d-4386-cb22-26e2030225d4"
   },
   "outputs": [
    {
     "name": "stdout",
     "output_type": "stream",
     "text": [
      "Requirement already satisfied: scikit-learn in c:\\users\\acer\\.conda\\envs\\fyp\\lib\\site-packages (1.2.2)\n",
      "Requirement already satisfied: scipy in c:\\users\\acer\\.conda\\envs\\fyp\\lib\\site-packages (1.10.1)\n",
      "Requirement already satisfied: matplotlib in c:\\users\\acer\\.conda\\envs\\fyp\\lib\\site-packages (3.7.1)\n",
      "Requirement already satisfied: threadpoolctl>=2.0.0 in c:\\users\\acer\\.conda\\envs\\fyp\\lib\\site-packages (from scikit-learn) (3.1.0)\n",
      "Requirement already satisfied: numpy>=1.17.3 in c:\\users\\acer\\appdata\\roaming\\python\\python310\\site-packages (from scikit-learn) (1.23.4)\n",
      "Requirement already satisfied: joblib>=1.1.1 in c:\\users\\acer\\.conda\\envs\\fyp\\lib\\site-packages (from scikit-learn) (1.2.0)\n",
      "Requirement already satisfied: cycler>=0.10 in c:\\users\\acer\\.conda\\envs\\fyp\\lib\\site-packages (from matplotlib) (0.11.0)\n",
      "Requirement already satisfied: packaging>=20.0 in c:\\users\\acer\\appdata\\roaming\\python\\python310\\site-packages (from matplotlib) (21.3)\n",
      "Requirement already satisfied: pyparsing>=2.3.1 in c:\\users\\acer\\appdata\\roaming\\python\\python310\\site-packages (from matplotlib) (3.0.9)\n",
      "Requirement already satisfied: contourpy>=1.0.1 in c:\\users\\acer\\.conda\\envs\\fyp\\lib\\site-packages (from matplotlib) (1.0.7)\n",
      "Requirement already satisfied: python-dateutil>=2.7 in c:\\users\\acer\\appdata\\roaming\\python\\python310\\site-packages (from matplotlib) (2.8.2)\n",
      "Requirement already satisfied: pillow>=6.2.0 in c:\\users\\acer\\.conda\\envs\\fyp\\lib\\site-packages (from matplotlib) (9.5.0)\n",
      "Requirement already satisfied: kiwisolver>=1.0.1 in c:\\users\\acer\\.conda\\envs\\fyp\\lib\\site-packages (from matplotlib) (1.4.4)\n",
      "Requirement already satisfied: fonttools>=4.22.0 in c:\\users\\acer\\.conda\\envs\\fyp\\lib\\site-packages (from matplotlib) (4.39.3)\n",
      "Requirement already satisfied: six>=1.5 in c:\\users\\acer\\appdata\\roaming\\python\\python310\\site-packages (from python-dateutil>=2.7->matplotlib) (1.16.0)\n",
      "Note: you may need to restart the kernel to use updated packages.\n"
     ]
    }
   ],
   "source": [
    "%pip install -U scikit-learn scipy matplotlib"
   ]
  },
  {
   "cell_type": "code",
   "execution_count": 35,
   "id": "4eb12b18",
   "metadata": {
    "executionInfo": {
     "elapsed": 2,
     "status": "ok",
     "timestamp": 1681746214931,
     "user": {
      "displayName": "Pathum Mihiranga",
      "userId": "16999484675349585718"
     },
     "user_tz": -330
    },
    "id": "4eb12b18"
   },
   "outputs": [],
   "source": [
    "from sklearn.model_selection import train_test_split"
   ]
  },
  {
   "cell_type": "code",
   "execution_count": 36,
   "id": "98a9bf2c",
   "metadata": {
    "executionInfo": {
     "elapsed": 2,
     "status": "ok",
     "timestamp": 1681749342971,
     "user": {
      "displayName": "Pathum Mihiranga",
      "userId": "16999484675349585718"
     },
     "user_tz": -330
    },
    "id": "98a9bf2c"
   },
   "outputs": [],
   "source": [
    "x_train , x_test , y_train , y_test = train_test_split(x_data , y_data , stratify=y_data, test_size=0.2 )"
   ]
  },
  {
   "cell_type": "code",
   "execution_count": 37,
   "id": "741b5771",
   "metadata": {
    "colab": {
     "base_uri": "https://localhost:8080/"
    },
    "executionInfo": {
     "elapsed": 1096,
     "status": "ok",
     "timestamp": 1681749347402,
     "user": {
      "displayName": "Pathum Mihiranga",
      "userId": "16999484675349585718"
     },
     "user_tz": -330
    },
    "id": "741b5771",
    "outputId": "35611610-0c5c-4975-af05-ead6cd8f6e0f"
   },
   "outputs": [
    {
     "data": {
      "text/plain": [
       "((1582,), (396,), (1582,), (396,))"
      ]
     },
     "execution_count": 37,
     "metadata": {},
     "output_type": "execute_result"
    }
   ],
   "source": [
    "x_train.shape , x_test.shape , y_train.shape , y_test.shape"
   ]
  },
  {
   "cell_type": "markdown",
   "id": "fdeee2ba",
   "metadata": {
    "id": "fdeee2ba"
   },
   "source": [
    "vectorize x_train and x_test data."
   ]
  },
  {
   "cell_type": "code",
   "execution_count": 38,
   "id": "fdef8e71",
   "metadata": {
    "executionInfo": {
     "elapsed": 362,
     "status": "ok",
     "timestamp": 1681746263257,
     "user": {
      "displayName": "Pathum Mihiranga",
      "userId": "16999484675349585718"
     },
     "user_tz": -330
    },
    "id": "fdef8e71"
   },
   "outputs": [],
   "source": [
    "from sklearn.feature_extraction.text import CountVectorizer"
   ]
  },
  {
   "cell_type": "code",
   "execution_count": 39,
   "id": "d0fd657c",
   "metadata": {
    "executionInfo": {
     "elapsed": 959,
     "status": "ok",
     "timestamp": 1681749352019,
     "user": {
      "displayName": "Pathum Mihiranga",
      "userId": "16999484675349585718"
     },
     "user_tz": -330
    },
    "id": "d0fd657c"
   },
   "outputs": [],
   "source": [
    "vec = CountVectorizer()\n",
    "x_train_old = x_train\n",
    "x_test_old = x_test\n",
    "x_train = vec.fit_transform(x_train).toarray()\n",
    "x_test = vec.transform(x_test).toarray()"
   ]
  },
  {
   "cell_type": "markdown",
   "id": "23a345b3",
   "metadata": {
    "id": "23a345b3"
   },
   "source": [
    "Fit the data to model and train using x_train and y_train data"
   ]
  },
  {
   "cell_type": "code",
   "execution_count": 40,
   "id": "79723bf0",
   "metadata": {
    "colab": {
     "base_uri": "https://localhost:8080/",
     "height": 74
    },
    "executionInfo": {
     "elapsed": 2226,
     "status": "ok",
     "timestamp": 1681749356446,
     "user": {
      "displayName": "Pathum Mihiranga",
      "userId": "16999484675349585718"
     },
     "user_tz": -330
    },
    "id": "79723bf0",
    "outputId": "8d88e576-cae1-4c25-87a6-a09c55aa95e1"
   },
   "outputs": [
    {
     "data": {
      "text/html": [
       "<style>#sk-container-id-1 {color: black;background-color: white;}#sk-container-id-1 pre{padding: 0;}#sk-container-id-1 div.sk-toggleable {background-color: white;}#sk-container-id-1 label.sk-toggleable__label {cursor: pointer;display: block;width: 100%;margin-bottom: 0;padding: 0.3em;box-sizing: border-box;text-align: center;}#sk-container-id-1 label.sk-toggleable__label-arrow:before {content: \"▸\";float: left;margin-right: 0.25em;color: #696969;}#sk-container-id-1 label.sk-toggleable__label-arrow:hover:before {color: black;}#sk-container-id-1 div.sk-estimator:hover label.sk-toggleable__label-arrow:before {color: black;}#sk-container-id-1 div.sk-toggleable__content {max-height: 0;max-width: 0;overflow: hidden;text-align: left;background-color: #f0f8ff;}#sk-container-id-1 div.sk-toggleable__content pre {margin: 0.2em;color: black;border-radius: 0.25em;background-color: #f0f8ff;}#sk-container-id-1 input.sk-toggleable__control:checked~div.sk-toggleable__content {max-height: 200px;max-width: 100%;overflow: auto;}#sk-container-id-1 input.sk-toggleable__control:checked~label.sk-toggleable__label-arrow:before {content: \"▾\";}#sk-container-id-1 div.sk-estimator input.sk-toggleable__control:checked~label.sk-toggleable__label {background-color: #d4ebff;}#sk-container-id-1 div.sk-label input.sk-toggleable__control:checked~label.sk-toggleable__label {background-color: #d4ebff;}#sk-container-id-1 input.sk-hidden--visually {border: 0;clip: rect(1px 1px 1px 1px);clip: rect(1px, 1px, 1px, 1px);height: 1px;margin: -1px;overflow: hidden;padding: 0;position: absolute;width: 1px;}#sk-container-id-1 div.sk-estimator {font-family: monospace;background-color: #f0f8ff;border: 1px dotted black;border-radius: 0.25em;box-sizing: border-box;margin-bottom: 0.5em;}#sk-container-id-1 div.sk-estimator:hover {background-color: #d4ebff;}#sk-container-id-1 div.sk-parallel-item::after {content: \"\";width: 100%;border-bottom: 1px solid gray;flex-grow: 1;}#sk-container-id-1 div.sk-label:hover label.sk-toggleable__label {background-color: #d4ebff;}#sk-container-id-1 div.sk-serial::before {content: \"\";position: absolute;border-left: 1px solid gray;box-sizing: border-box;top: 0;bottom: 0;left: 50%;z-index: 0;}#sk-container-id-1 div.sk-serial {display: flex;flex-direction: column;align-items: center;background-color: white;padding-right: 0.2em;padding-left: 0.2em;position: relative;}#sk-container-id-1 div.sk-item {position: relative;z-index: 1;}#sk-container-id-1 div.sk-parallel {display: flex;align-items: stretch;justify-content: center;background-color: white;position: relative;}#sk-container-id-1 div.sk-item::before, #sk-container-id-1 div.sk-parallel-item::before {content: \"\";position: absolute;border-left: 1px solid gray;box-sizing: border-box;top: 0;bottom: 0;left: 50%;z-index: -1;}#sk-container-id-1 div.sk-parallel-item {display: flex;flex-direction: column;z-index: 1;position: relative;background-color: white;}#sk-container-id-1 div.sk-parallel-item:first-child::after {align-self: flex-end;width: 50%;}#sk-container-id-1 div.sk-parallel-item:last-child::after {align-self: flex-start;width: 50%;}#sk-container-id-1 div.sk-parallel-item:only-child::after {width: 0;}#sk-container-id-1 div.sk-dashed-wrapped {border: 1px dashed gray;margin: 0 0.4em 0.5em 0.4em;box-sizing: border-box;padding-bottom: 0.4em;background-color: white;}#sk-container-id-1 div.sk-label label {font-family: monospace;font-weight: bold;display: inline-block;line-height: 1.2em;}#sk-container-id-1 div.sk-label-container {text-align: center;}#sk-container-id-1 div.sk-container {/* jupyter's `normalize.less` sets `[hidden] { display: none; }` but bootstrap.min.css set `[hidden] { display: none !important; }` so we also need the `!important` here to be able to override the default hidden behavior on the sphinx rendered scikit-learn.org. See: https://github.com/scikit-learn/scikit-learn/issues/21755 */display: inline-block !important;position: relative;}#sk-container-id-1 div.sk-text-repr-fallback {display: none;}</style><div id=\"sk-container-id-1\" class=\"sk-top-container\"><div class=\"sk-text-repr-fallback\"><pre>MultinomialNB()</pre><b>In a Jupyter environment, please rerun this cell to show the HTML representation or trust the notebook. <br />On GitHub, the HTML representation is unable to render, please try loading this page with nbviewer.org.</b></div><div class=\"sk-container\" hidden><div class=\"sk-item\"><div class=\"sk-estimator sk-toggleable\"><input class=\"sk-toggleable__control sk-hidden--visually\" id=\"sk-estimator-id-1\" type=\"checkbox\" checked><label for=\"sk-estimator-id-1\" class=\"sk-toggleable__label sk-toggleable__label-arrow\">MultinomialNB</label><div class=\"sk-toggleable__content\"><pre>MultinomialNB()</pre></div></div></div></div></div>"
      ],
      "text/plain": [
       "MultinomialNB()"
      ]
     },
     "execution_count": 40,
     "metadata": {},
     "output_type": "execute_result"
    }
   ],
   "source": [
    "from sklearn.naive_bayes import MultinomialNB\n",
    "\n",
    "model = MultinomialNB()\n",
    "model.fit(x_train, y_train)"
   ]
  },
  {
   "cell_type": "markdown",
   "id": "21d55f8e",
   "metadata": {
    "id": "21d55f8e"
   },
   "source": [
    "Evaluate model - Giving around 0.7 score"
   ]
  },
  {
   "cell_type": "code",
   "execution_count": 41,
   "id": "de4a735b",
   "metadata": {
    "colab": {
     "base_uri": "https://localhost:8080/"
    },
    "executionInfo": {
     "elapsed": 3,
     "status": "ok",
     "timestamp": 1681749358530,
     "user": {
      "displayName": "Pathum Mihiranga",
      "userId": "16999484675349585718"
     },
     "user_tz": -330
    },
    "id": "de4a735b",
    "outputId": "68159be5-e34b-4d1c-8d31-8f7c9a791f6b"
   },
   "outputs": [
    {
     "data": {
      "text/plain": [
       "0.8737373737373737"
      ]
     },
     "execution_count": 41,
     "metadata": {},
     "output_type": "execute_result"
    }
   ],
   "source": [
    "model.score(x_test, y_test)"
   ]
  },
  {
   "cell_type": "code",
   "execution_count": 42,
   "id": "7b284725",
   "metadata": {
    "executionInfo": {
     "elapsed": 392,
     "status": "ok",
     "timestamp": 1681749369246,
     "user": {
      "displayName": "Pathum Mihiranga",
      "userId": "16999484675349585718"
     },
     "user_tz": -330
    },
    "id": "7b284725"
   },
   "outputs": [],
   "source": [
    "pred = model.predict(x_test)"
   ]
  },
  {
   "cell_type": "code",
   "execution_count": 43,
   "id": "4716b592",
   "metadata": {
    "executionInfo": {
     "elapsed": 3,
     "status": "ok",
     "timestamp": 1681747797181,
     "user": {
      "displayName": "Pathum Mihiranga",
      "userId": "16999484675349585718"
     },
     "user_tz": -330
    },
    "id": "4716b592"
   },
   "outputs": [],
   "source": [
    "from sklearn.metrics import accuracy_score"
   ]
  },
  {
   "cell_type": "code",
   "execution_count": 44,
   "id": "000cc2d4",
   "metadata": {
    "colab": {
     "base_uri": "https://localhost:8080/"
    },
    "executionInfo": {
     "elapsed": 351,
     "status": "ok",
     "timestamp": 1681749371867,
     "user": {
      "displayName": "Pathum Mihiranga",
      "userId": "16999484675349585718"
     },
     "user_tz": -330
    },
    "id": "000cc2d4",
    "outputId": "640b7237-ef8a-483b-8446-a87e8ebc4054"
   },
   "outputs": [
    {
     "name": "stdout",
     "output_type": "stream",
     "text": [
      "0.8737373737373737\n"
     ]
    }
   ],
   "source": [
    "print(accuracy_score(y_test , pred))"
   ]
  },
  {
   "cell_type": "code",
   "execution_count": 45,
   "id": "bdfabbec",
   "metadata": {},
   "outputs": [
    {
     "name": "stdout",
     "output_type": "stream",
     "text": [
      "Predicted class label: ['cricket']\n"
     ]
    }
   ],
   "source": [
    "test_text = [\"strike epik freepik\"]\n",
    "test_text = list(map(stem, test_text))\n",
    "predicted_label = model.predict(vec.transform(test_text))\n",
    "print(\"Predicted class label:\", predicted_label)"
   ]
  },
  {
   "cell_type": "code",
   "execution_count": 46,
   "id": "Z00-GevB5Oyi",
   "metadata": {
    "colab": {
     "base_uri": "https://localhost:8080/"
    },
    "executionInfo": {
     "elapsed": 4,
     "status": "ok",
     "timestamp": 1681749373910,
     "user": {
      "displayName": "Pathum Mihiranga",
      "userId": "16999484675349585718"
     },
     "user_tz": -330
    },
    "id": "Z00-GevB5Oyi",
    "outputId": "6d059341-f7a2-4518-a80b-117a8277665f"
   },
   "outputs": [
    {
     "name": "stdout",
     "output_type": "stream",
     "text": [
      "archery\tbasketball\t\t\tdreamstim dreamstim dreamstim dreamstim creamstin dreamstimecom dreamstim dreamstim dreamstim dreamstim dreamstim dreamstim dreamstim id chocost\n",
      "\n",
      "archery\tbasketball\t\t\tenvato envato archery club pres archery tourna aug sunday boston sport cent cihanjuang street los angel inform pleas contact samuel rickon wwworcheryclubcomtheorcherytournament env env\n",
      "\n",
      "archery\trugby\t\t\tamg intern sport asiapac mast gam jeonbuk kore sat jeollabukdo provint enjoy sport play lif enjoy sport play lif wwwapmg kr\n",
      "\n",
      "baseball\tcricket\t\t\tfreepik sik freepr reep bat guest hom go ch epik bal strike freepik eapik freepik run hit er freepik b b freepik freep\n",
      "\n",
      "baseball\tgolf\t\t\tlif bet basebal sum shutterstockcom\n",
      "\n",
      "baseball\trugby\t\t\tadida g mustang big west conf champ nca reg topfo fin big west last season season bet sint wilson adida ang rid high team inform guid big west\n",
      "\n",
      "baseball\trugby\t\t\tam leg basebal w insix rul book seny\n",
      "\n",
      "basketball\tarchery\t\t\tturn sport pres basketbal mad march pm jacksonvil fl tuls ok columb look get involv tourna turn sport interact int\n",
      "\n",
      "basketball\tgolf\t\t\tliberty bel basketbal tourna july rd th reg methoworg reg deadlin per team divid process benefit lbhs hoop\n",
      "\n",
      "basketball\tgolf\t\t\tvs basketbal tourna roanok boy girl ag support fit program improv gam saturday may start wist commun cent roundrobin tourna styl determin random cost per team tshirts provid win receiv gift card sport auth\n",
      "\n",
      "billiard\tbasketball\t\t\tdreamstim dreamstim dreamstim dreamstim dreamstim tourna billiard dreamstimecom dreamstim dreamstim dreamstim dreamstim reamstim dreamstim dream tim dreamstim id vasilyrosc\n",
      "\n",
      "billiard\tbasketball\t\t\tg dreamstim dreamstim amstim dreamstim mstime download dreamstimecom watermark comp im preview purpos billiard tourney dreamstim dreamstim id seamartin dreamstimecom c\n",
      "\n",
      "billiard\tbasketball\t\t\tkev play pool best tourna see com join us sunday july begin entry canstockphotocom csp\n",
      "\n",
      "billiard\tbasketball\t\t\tsport fly x incymk dpi ful layerd mus dj liv show tour ram pres tourna billiard pool saturday julyst pm street avenu nr new york citywwwyourclubkamecom pm park envato big priz\n",
      "\n",
      "billiard\tchess\t\t\tbloord alamy im id waf tt wwwalamycom\n",
      "\n",
      "billiard\tchess\t\t\tod od od od od od od od ge od od od od od od od od od billiard od od od od od od od\n",
      "\n",
      "billiard\tgolf\t\t\tfre ent first priz second priz billiard sunday febru th start pm tourna reg bar end janu info wwwbilliardtournamentintonicacom\n",
      "\n",
      "billiard\tgolf\t\t\tlet talk ment heal club lamp snook pool bar gril ach pool tourna level welcom sunday th march club leicest pm pm per person pric includ pool tourna gam troph don lamp half tim lunch also look raffl priz pleas get touch don priz imp roof supply uk ltd wwwimperialroofingsuppliesuklimitedcouk spons support ment heal char let talk ment heal lamp\n",
      "\n",
      "billiard\trugby\t\t\tilliard wom min hoyr frut must flo week shootin\n",
      "\n",
      "carrom\tgolf\t\t\tcaron camb carrrom canada invit op champ kampst champ includ doubl competit nd rd th jun venu ridgev driv markham onward champ singl compet award st plac c nd plac c rd plac c th placec th th plac c entry fee per person inform wwwcarromcanadacom frant dcost doubl competit award st placec nd plac c rd plac c entry fee per pair carromcanad gmailcom\n",
      "\n",
      "carrom\tgolf\t\t\torrom\n",
      "\n",
      "chess\tarchery\t\t\tchess club sedon look new memb ag skil level meet every thursday ev pm miss hil recr cent west miss road wwwyourclubcom\n",
      "\n",
      "chess\tarchery\t\t\tmak money gam peopl dont know play\n",
      "\n",
      "chess\tbasketball\t\t\tbik freepik freepik fre freepik freepik club nam fre freepik reepik freepik chess tourna sunday july th ad detail yoreep address info infoyourmailcom wwwyourclubcom freepik freepik freepik freepik freep freepik\n",
      "\n",
      "chess\tbasketball\t\t\tclub nam chess grand mast tourna jun th sunday street city new york wwwtour sitecom\n",
      "\n",
      "chess\tcarrom\t\t\tqueen gambit cre scot frank al scot star any taylorjoy chloe pirry bil camp moth die car accid nineyearold beth harmon sent orph shy withdrawn girl find purpos school janit teach play chess demonst prodigy tal gam soon compet high level howev also develop drug addict seem help play seem set path fam selfdestruct h min dram octob\n",
      "\n",
      "chess\tgolf\t\t\t\n",
      "\n",
      "chess\ttennis\t\t\tock im ock im ock im istock getty im istock getty im intern block getty im istock getty im istock getty im istock getty im istock getty im stock boy getty im istock gery im chess day istock getty im stock getty im istock getty im isto getty isto getty isto getty\n",
      "\n",
      "chess\ttennis\t\t\tock imagestm ock im ock imagestm chess tourna istock getty imagestm istock getty imagestm stock getty imagestm istock getty im istock getty imagestm istock getty im istock getty imagestm r la\n",
      "\n",
      "cricket\tbaseball\t\t\tchas southern cross scoreboard wwwsthacrasscomau\n",
      "\n",
      "cricket\tbasketball\t\t\tchamp cricket friday mon pm city nam street nam stad nam\n",
      "\n",
      "cricket\tbasketball\t\t\tstock sag adob adob stock stock e stock tock adob stock adob cricket champ adob dob sto adob stock adob st adob adob stock ad adob stock adob sto stock\n",
      "\n",
      "cricket\tcarrom\t\t\trecr cricket girl ag c fre ten week cricket program peel oc osc energ excit empow district school board di every saturday start febru sav max sport cent sandalwood pkwy e brampton l r ok reg oscaschoolsorg ontario schools cricket assocy project mad poss thank canad wom sport govern canad canad dufferinpeel cathol district school board canad wom sport\n",
      "\n",
      "cricket\tchess\t\t\ttre tre pngtree battl start gta sud pngtree pngtreengtre pngtree pngtree pngtree prig gtree sud ongtreepngt pngtree png procr angt pngtree ud pngtree pngtree pngtree champ cricket sud tre peat et fev back pngtree ngtree pngtree\n",
      "\n",
      "cricket\tgolf\t\t\tcricket six septemb club cricket ground cricket legend din sheraton hotel resid saturday th septemb pm din ticket contact presidentyourclubcom yourclubcom\n",
      "\n",
      "cricket\trugby\t\t\tborn play\n",
      "\n",
      "golf\tarchery\t\t\thighland golf cours e mul av post fal wwwkcpfmforg mem golf reg inform bbq din priz follow complet tourna kootena mem found tourna pol sav dat august shotgun start fir quest kass al contact info eventskcpfmforg year support kootena county first respond cda fir dept cda pol dept cda trib pol dept eastsid fir dist haus lak fir dist hayd lak pol dept idaho stat pol kootena co fir rescu kootena co sheriff dept mic kid isl fir dist northern lak fir dist post fal pol dept rathdr pol dept spirit lak pol dept spirit lak fir dist timberlak fir dist worley fir dist kootena county em process benefit kootena county pol fir mem found int\n",
      "\n",
      "golf\tarchery\t\t\tsportscotland activeschool midloth golf get act stay act challeng act midloth try someth new\n",
      "\n",
      "golf\tbasketball\t\t\toctob golf tourna entry fre drink fre park fre entry girl wwwyourwebsitenamecom\n",
      "\n",
      "golf\tcarrom\t\t\tplay play play play play play play golf tourna tot\n",
      "\n",
      "golf\tcricket\t\t\tshutterstock th an golf tournamenterstock ajg shutterstock ajg shutterstock shutterstock shut septemb ajg shutterstock stock im id wwwshutterstockcom\n",
      "\n",
      "golf\ttennis\t\t\toct company nam golf tourna ad detailsheread detailsheread detailshereado det heread detail ad detailsh ad detallshy ad detailsherad detail had detailsheread detail heread heread detail fak st springfield einforwebsitecom ph wwwwebsitecom\n",
      "\n",
      "rugby\tarchery\t\t\tphas return could look lik lik trig mov stag england rugby individ train on person exerc on person fit train ar phys develop maintain soc dist equip shar return rugby road map commun gam cur stat b c f individ allow exerc someon anoth household smal group train exerc within smal group maintain soc dist fac fac fal clos contact mil equip shar kept minim expand numb allow meet togeth equip shar allow support hand hygy larg group train limit fzf clos contact exerc larg group soc dist pot requir tim limit faf clos contact expos could permit expand group staw rul relax soc dist whol team train increas f fclose contact risk rugby train fif clos contact expos deem low atgh all limit introduc tradit train act exerc larg group soc dist pot requir tim increas level f f clas contact expos could permit strong hand hygy adh stag eas af group zul sec dist e risk rugby train fif alas ntact expes deem low enough allow increas particip mar tradit train set return adapt contact train fixt increas contact train permit contact fixt law vary permit th decemb retz ust aport risk fxf shum contact wagwear lov al progreston adapt contact return match play competit rugby recom could includ form adapt act depend covid mitig soc dist remov complet rink paf clos contact expos low anough allow unrestrict par clos contact timesc allow progress stain car man determ med govern adv reb upd issu fal betail buib progress tre plan\n",
      "\n",
      "rugby\tcricket\t\t\tpool rugby sev men match schedule new zealand cxclad lang sri lank friday july australiany jrmica kentavocand new zealand vsri lank england sam kentav jamaic austral vugand england v slank new zealand vam kd sou afric v malays scotland ytong canad wil flja v zamb scotland v malays sou afric v tong wal v zamb flav canad birmingham com af darl fran pool b thafric sortland tong satu july ugandav jamaic austral v keny sam sri lank new zealand england urterfin bart fin art fin art pool c arterfin quarterfin ru tuncay malays sou afric scotland cad vzamb play wal quart fin quart fin wil zamb semifin smfinal semifin senf sunday jy playoff th playoff th playoff th poold birmingham austral kent jur smal send fin sem final semifin bronz med match semfinalun konnt z trnejonces fin win semifoliy wner ofsemifin\n",
      "\n",
      "rugby\ttennis\t\t\tim im ock imagestm getty im stock getty im istock getty im istock getty imagestm istock getty imagestm istock getty im stoc oy getty im istoc cet mac rugby ist getty imagestm getty imo\n",
      "\n",
      "tennis\tbasketball\t\t\tpixtajp badminton tourna fixt\n",
      "\n",
      "tennis\tcarrom\t\t\tasp tre mqdc yonex th fitz club ten tourna carabao energy drink tourna dat april men singl acceiv play pleas hurry spons tt alumin win receiv roy cliff seaview room vouch yonex ten racquet yonex bag troph anarchy chocol venu fitz racquet heal fit supply gallery mat styl roy cliff hotel group stat exclud fascin daikin reg quest pleas contact fitz club racquet heal fit phra tamnuk road pattay chonbur tel ext email fitzroyalcliffcom websit wwwroyalcliffcom\n",
      "\n",
      "tennis\tgolf\t\t\tsinnl\n",
      "\n",
      "tennis\tgolf\t\t\tter nowreg reg reg reg reg nov wis wom ten op tourna match day march nd plac cash priz st nd plac cash priz st rsvp reallygreatsit cal\n",
      "\n",
      "tennis\tgolf\t\t\tvervato redshinestudio pres competit vervato veryo ausernam biggest tourna year jun denvato ausernam usemam entry denvato includ lunch bev din reg dedlin may th at denvato wato vervato info infowebnamecom wwwwebnamecom rio tow mal venvato\n"
     ]
    }
   ],
   "source": [
    "print('\\n\\n'.join([f'{i[0]}\\t{i[1]}\\t\\t\\t{i[2]}' for i in sorted(zip(y_test, pred, x_test_old)) if i[0] != i[1]]))\n",
    "\n"
   ]
  },
  {
   "cell_type": "markdown",
   "id": "377101df",
   "metadata": {
    "id": "377101df"
   },
   "source": [
    "# Support Vector Machines (SVM)"
   ]
  },
  {
   "cell_type": "markdown",
   "id": "c0e05329",
   "metadata": {
    "id": "c0e05329"
   },
   "source": [
    "Support Vector Machines (SVM) are powerful supervised machine learning algorithms used for binary classification. However, they can be extended to handle multi-class classification using techniques like one-vs-one (OvO) or one-vs-rest (OvR). In this response, we'll go through the steps to train an SVM model for multi-class text classification using Python and the Scikit-learn library."
   ]
  },
  {
   "cell_type": "code",
   "execution_count": 47,
   "id": "0bca26f6",
   "metadata": {
    "executionInfo": {
     "elapsed": 528,
     "status": "ok",
     "timestamp": 1681749513261,
     "user": {
      "displayName": "Pathum Mihiranga",
      "userId": "16999484675349585718"
     },
     "user_tz": -330
    },
    "id": "0bca26f6"
   },
   "outputs": [],
   "source": [
    "import numpy as np\n",
    "import pandas as pd"
   ]
  },
  {
   "cell_type": "code",
   "execution_count": 48,
   "id": "bab67d97",
   "metadata": {
    "executionInfo": {
     "elapsed": 2,
     "status": "ok",
     "timestamp": 1681749517749,
     "user": {
      "displayName": "Pathum Mihiranga",
      "userId": "16999484675349585718"
     },
     "user_tz": -330
    },
    "id": "bab67d97"
   },
   "outputs": [],
   "source": [
    "from sklearn.model_selection import train_test_split\n",
    "from sklearn.feature_extraction.text import TfidfVectorizer\n",
    "from sklearn.svm import SVC\n",
    "from sklearn.pipeline import Pipeline\n",
    "from sklearn.multiclass import OneVsRestClassifier\n",
    "from sklearn.metrics import classification_report, accuracy_score"
   ]
  },
  {
   "cell_type": "code",
   "execution_count": 49,
   "id": "1b5eb5c2",
   "metadata": {
    "executionInfo": {
     "elapsed": 592,
     "status": "ok",
     "timestamp": 1681751391692,
     "user": {
      "displayName": "Pathum Mihiranga",
      "userId": "16999484675349585718"
     },
     "user_tz": -330
    },
    "id": "1b5eb5c2"
   },
   "outputs": [],
   "source": [
    "x_data = df_train['text']\n",
    "y_data = df_train['sport']"
   ]
  },
  {
   "cell_type": "code",
   "execution_count": 50,
   "id": "2319c54b",
   "metadata": {
    "executionInfo": {
     "elapsed": 381,
     "status": "ok",
     "timestamp": 1681751394423,
     "user": {
      "displayName": "Pathum Mihiranga",
      "userId": "16999484675349585718"
     },
     "user_tz": -330
    },
    "id": "2319c54b"
   },
   "outputs": [],
   "source": [
    "x_train , x_test , y_train , y_test = train_test_split(x_data , y_data , stratify=y_data, test_size=0.2, random_state=42 )"
   ]
  },
  {
   "cell_type": "code",
   "execution_count": 51,
   "id": "c4eb617e",
   "metadata": {
    "executionInfo": {
     "elapsed": 351,
     "status": "ok",
     "timestamp": 1681751399849,
     "user": {
      "displayName": "Pathum Mihiranga",
      "userId": "16999484675349585718"
     },
     "user_tz": -330
    },
    "id": "c4eb617e"
   },
   "outputs": [],
   "source": [
    "pipeline = Pipeline([\n",
    "    ('tfidf', TfidfVectorizer()),\n",
    "    ('clf', OneVsRestClassifier(SVC(kernel='linear', probability=True, class_weight='balanced')))\n",
    "])"
   ]
  },
  {
   "cell_type": "code",
   "execution_count": 52,
   "id": "345ca9e9",
   "metadata": {
    "colab": {
     "base_uri": "https://localhost:8080/",
     "height": 191
    },
    "executionInfo": {
     "elapsed": 14097,
     "status": "ok",
     "timestamp": 1681751418233,
     "user": {
      "displayName": "Pathum Mihiranga",
      "userId": "16999484675349585718"
     },
     "user_tz": -330
    },
    "id": "345ca9e9",
    "outputId": "2d76a5ce-5dc4-441d-fc4a-8311abeb657e"
   },
   "outputs": [
    {
     "data": {
      "text/html": [
       "<style>#sk-container-id-2 {color: black;background-color: white;}#sk-container-id-2 pre{padding: 0;}#sk-container-id-2 div.sk-toggleable {background-color: white;}#sk-container-id-2 label.sk-toggleable__label {cursor: pointer;display: block;width: 100%;margin-bottom: 0;padding: 0.3em;box-sizing: border-box;text-align: center;}#sk-container-id-2 label.sk-toggleable__label-arrow:before {content: \"▸\";float: left;margin-right: 0.25em;color: #696969;}#sk-container-id-2 label.sk-toggleable__label-arrow:hover:before {color: black;}#sk-container-id-2 div.sk-estimator:hover label.sk-toggleable__label-arrow:before {color: black;}#sk-container-id-2 div.sk-toggleable__content {max-height: 0;max-width: 0;overflow: hidden;text-align: left;background-color: #f0f8ff;}#sk-container-id-2 div.sk-toggleable__content pre {margin: 0.2em;color: black;border-radius: 0.25em;background-color: #f0f8ff;}#sk-container-id-2 input.sk-toggleable__control:checked~div.sk-toggleable__content {max-height: 200px;max-width: 100%;overflow: auto;}#sk-container-id-2 input.sk-toggleable__control:checked~label.sk-toggleable__label-arrow:before {content: \"▾\";}#sk-container-id-2 div.sk-estimator input.sk-toggleable__control:checked~label.sk-toggleable__label {background-color: #d4ebff;}#sk-container-id-2 div.sk-label input.sk-toggleable__control:checked~label.sk-toggleable__label {background-color: #d4ebff;}#sk-container-id-2 input.sk-hidden--visually {border: 0;clip: rect(1px 1px 1px 1px);clip: rect(1px, 1px, 1px, 1px);height: 1px;margin: -1px;overflow: hidden;padding: 0;position: absolute;width: 1px;}#sk-container-id-2 div.sk-estimator {font-family: monospace;background-color: #f0f8ff;border: 1px dotted black;border-radius: 0.25em;box-sizing: border-box;margin-bottom: 0.5em;}#sk-container-id-2 div.sk-estimator:hover {background-color: #d4ebff;}#sk-container-id-2 div.sk-parallel-item::after {content: \"\";width: 100%;border-bottom: 1px solid gray;flex-grow: 1;}#sk-container-id-2 div.sk-label:hover label.sk-toggleable__label {background-color: #d4ebff;}#sk-container-id-2 div.sk-serial::before {content: \"\";position: absolute;border-left: 1px solid gray;box-sizing: border-box;top: 0;bottom: 0;left: 50%;z-index: 0;}#sk-container-id-2 div.sk-serial {display: flex;flex-direction: column;align-items: center;background-color: white;padding-right: 0.2em;padding-left: 0.2em;position: relative;}#sk-container-id-2 div.sk-item {position: relative;z-index: 1;}#sk-container-id-2 div.sk-parallel {display: flex;align-items: stretch;justify-content: center;background-color: white;position: relative;}#sk-container-id-2 div.sk-item::before, #sk-container-id-2 div.sk-parallel-item::before {content: \"\";position: absolute;border-left: 1px solid gray;box-sizing: border-box;top: 0;bottom: 0;left: 50%;z-index: -1;}#sk-container-id-2 div.sk-parallel-item {display: flex;flex-direction: column;z-index: 1;position: relative;background-color: white;}#sk-container-id-2 div.sk-parallel-item:first-child::after {align-self: flex-end;width: 50%;}#sk-container-id-2 div.sk-parallel-item:last-child::after {align-self: flex-start;width: 50%;}#sk-container-id-2 div.sk-parallel-item:only-child::after {width: 0;}#sk-container-id-2 div.sk-dashed-wrapped {border: 1px dashed gray;margin: 0 0.4em 0.5em 0.4em;box-sizing: border-box;padding-bottom: 0.4em;background-color: white;}#sk-container-id-2 div.sk-label label {font-family: monospace;font-weight: bold;display: inline-block;line-height: 1.2em;}#sk-container-id-2 div.sk-label-container {text-align: center;}#sk-container-id-2 div.sk-container {/* jupyter's `normalize.less` sets `[hidden] { display: none; }` but bootstrap.min.css set `[hidden] { display: none !important; }` so we also need the `!important` here to be able to override the default hidden behavior on the sphinx rendered scikit-learn.org. See: https://github.com/scikit-learn/scikit-learn/issues/21755 */display: inline-block !important;position: relative;}#sk-container-id-2 div.sk-text-repr-fallback {display: none;}</style><div id=\"sk-container-id-2\" class=\"sk-top-container\"><div class=\"sk-text-repr-fallback\"><pre>Pipeline(steps=[(&#x27;tfidf&#x27;, TfidfVectorizer()),\n",
       "                (&#x27;clf&#x27;,\n",
       "                 OneVsRestClassifier(estimator=SVC(class_weight=&#x27;balanced&#x27;,\n",
       "                                                   kernel=&#x27;linear&#x27;,\n",
       "                                                   probability=True)))])</pre><b>In a Jupyter environment, please rerun this cell to show the HTML representation or trust the notebook. <br />On GitHub, the HTML representation is unable to render, please try loading this page with nbviewer.org.</b></div><div class=\"sk-container\" hidden><div class=\"sk-item sk-dashed-wrapped\"><div class=\"sk-label-container\"><div class=\"sk-label sk-toggleable\"><input class=\"sk-toggleable__control sk-hidden--visually\" id=\"sk-estimator-id-2\" type=\"checkbox\" ><label for=\"sk-estimator-id-2\" class=\"sk-toggleable__label sk-toggleable__label-arrow\">Pipeline</label><div class=\"sk-toggleable__content\"><pre>Pipeline(steps=[(&#x27;tfidf&#x27;, TfidfVectorizer()),\n",
       "                (&#x27;clf&#x27;,\n",
       "                 OneVsRestClassifier(estimator=SVC(class_weight=&#x27;balanced&#x27;,\n",
       "                                                   kernel=&#x27;linear&#x27;,\n",
       "                                                   probability=True)))])</pre></div></div></div><div class=\"sk-serial\"><div class=\"sk-item\"><div class=\"sk-estimator sk-toggleable\"><input class=\"sk-toggleable__control sk-hidden--visually\" id=\"sk-estimator-id-3\" type=\"checkbox\" ><label for=\"sk-estimator-id-3\" class=\"sk-toggleable__label sk-toggleable__label-arrow\">TfidfVectorizer</label><div class=\"sk-toggleable__content\"><pre>TfidfVectorizer()</pre></div></div></div><div class=\"sk-item sk-dashed-wrapped\"><div class=\"sk-label-container\"><div class=\"sk-label sk-toggleable\"><input class=\"sk-toggleable__control sk-hidden--visually\" id=\"sk-estimator-id-4\" type=\"checkbox\" ><label for=\"sk-estimator-id-4\" class=\"sk-toggleable__label sk-toggleable__label-arrow\">clf: OneVsRestClassifier</label><div class=\"sk-toggleable__content\"><pre>OneVsRestClassifier(estimator=SVC(class_weight=&#x27;balanced&#x27;, kernel=&#x27;linear&#x27;,\n",
       "                                  probability=True))</pre></div></div></div><div class=\"sk-parallel\"><div class=\"sk-parallel-item\"><div class=\"sk-item\"><div class=\"sk-label-container\"><div class=\"sk-label sk-toggleable\"><input class=\"sk-toggleable__control sk-hidden--visually\" id=\"sk-estimator-id-5\" type=\"checkbox\" ><label for=\"sk-estimator-id-5\" class=\"sk-toggleable__label sk-toggleable__label-arrow\">estimator: SVC</label><div class=\"sk-toggleable__content\"><pre>SVC(class_weight=&#x27;balanced&#x27;, kernel=&#x27;linear&#x27;, probability=True)</pre></div></div></div><div class=\"sk-serial\"><div class=\"sk-item\"><div class=\"sk-estimator sk-toggleable\"><input class=\"sk-toggleable__control sk-hidden--visually\" id=\"sk-estimator-id-6\" type=\"checkbox\" ><label for=\"sk-estimator-id-6\" class=\"sk-toggleable__label sk-toggleable__label-arrow\">SVC</label><div class=\"sk-toggleable__content\"><pre>SVC(class_weight=&#x27;balanced&#x27;, kernel=&#x27;linear&#x27;, probability=True)</pre></div></div></div></div></div></div></div></div></div></div></div></div>"
      ],
      "text/plain": [
       "Pipeline(steps=[('tfidf', TfidfVectorizer()),\n",
       "                ('clf',\n",
       "                 OneVsRestClassifier(estimator=SVC(class_weight='balanced',\n",
       "                                                   kernel='linear',\n",
       "                                                   probability=True)))])"
      ]
     },
     "execution_count": 52,
     "metadata": {},
     "output_type": "execute_result"
    }
   ],
   "source": [
    "pipeline.fit(x_train, y_train)"
   ]
  },
  {
   "cell_type": "code",
   "execution_count": 53,
   "id": "3c4178db",
   "metadata": {
    "colab": {
     "base_uri": "https://localhost:8080/"
    },
    "executionInfo": {
     "elapsed": 900,
     "status": "ok",
     "timestamp": 1681751424168,
     "user": {
      "displayName": "Pathum Mihiranga",
      "userId": "16999484675349585718"
     },
     "user_tz": -330
    },
    "id": "3c4178db",
    "outputId": "7138436d-1ee4-4f60-96af-609b56cca941"
   },
   "outputs": [
    {
     "name": "stdout",
     "output_type": "stream",
     "text": [
      "Accuracy:  0.946969696969697\n"
     ]
    }
   ],
   "source": [
    "y_pred = pipeline.predict(x_test)\n",
    "print(\"Accuracy: \", accuracy_score(y_test, y_pred))\n",
    "# print(classification_report(y_test, y_pred))"
   ]
  },
  {
   "cell_type": "code",
   "execution_count": 54,
   "id": "r5RTQ6BfM3h5",
   "metadata": {
    "colab": {
     "base_uri": "https://localhost:8080/"
    },
    "executionInfo": {
     "elapsed": 380,
     "status": "ok",
     "timestamp": 1681751543328,
     "user": {
      "displayName": "Pathum Mihiranga",
      "userId": "16999484675349585718"
     },
     "user_tz": -330
    },
    "id": "r5RTQ6BfM3h5",
    "outputId": "edfb0a5c-c7a7-4719-9181-17b0a2cd1708"
   },
   "outputs": [
    {
     "name": "stdout",
     "output_type": "stream",
     "text": [
      "archery\tbaseball\t\t\tmar may phot hightech bow arrow wy per www comp buty ab may w www www p\n",
      "\n",
      "archery\ttennis\t\t\toct company pres archery tourna cash priz spons ad detail ad detail ad detail ad detail ad detail ad detail ad detail ad detail wwwwebsitecom ph\n",
      "\n",
      "archery\ttennis\t\t\tstep circul bowty infograph templ edit text edit text edit text edit text edit text edit text edit text edit text edit text edit text edit text edit text edit text edit text edit text edit text edit text edit text edit text n c\n",
      "\n",
      "baseball\tbasketball\t\t\tjohnston basebal spent campidill cad godwin jacky smi gab weg may pleas walley may indiangl may bo vs am may vbottumw may vsdes moin lincoln may vs ankeny chart bank cha sam hen giv michael siem afiac ow dawsch j dida jayd hans jun v dalla centerbr web jun vs unband jun wow valley ab in bult mil rist styl tot truck dalda road iow city may southeast polk jun des moin east jun vs muscatin jun ii sioux city east jun vs wauk jun dowl cathol jun des moin hoov jun vs southeast polk jun urband kadin gordon dor brownwinick jar mey bb h real c commun hans est cho colox lawn landscap jack emanuel andrew bradshaw mag jun vs ballard jun vs waverlyshel rock jun vs multipl schools jun vs wom valley jun wauk july vb dowl cathol july vs marshalltown jt garc caleb christensen jak pembl woollum\n",
      "\n",
      "baseball\tbasketball\t\t\trudydesign pepepo sport bar pres henvato denvato basebal match saturday march pm giant vs herc pepep sport bar pepep street nam ca cal detail\n",
      "\n",
      "baseball\tchess\t\t\test crash saint tr triton custombaseballjerseyscom highest qual custom uniform planet\n",
      "\n",
      "baseball\tcricket\t\t\tbusch stad st lou\n",
      "\n",
      "basketball\tcarrom\t\t\tpa muthoot institut technolog sci ant muthoot fin ev rol troph men wom keral basketbal tourna octob mit koch venu tot cash priz muthoot famy year busy leg institut technolog sci year excel\n",
      "\n",
      "billiard\tcricket\t\t\ttroph st nd ck k shutterstock vect tradit sm ds tourna tersek vect tradit sm shutterstock shut squil liv streaming shutterstock vect tradit sm saturday march th entry fee play max shutterstock stock im id wwwshutterstockcom sh sh\n",
      "\n",
      "billiard\ttennis\t\t\tsnook club pres snook tourna decemb th janu th fixt team detail contact\n",
      "\n",
      "chess\tbaseball\t\t\tstrong cheg weak brav shar scar humbl vict badass everyday\n",
      "\n",
      "chess\trugby\t\t\tgam chang world already ful play\n",
      "\n",
      "cricket\tbasketball\t\t\tdepositphoto cricket leagu depositph depositphoto depositph depositphcam av team b tomorrow ist depositphoto depositphoto depositphoto im id wwwdepositphotoscom\n",
      "\n",
      "golf\tcricket\t\t\tshutterstock th an golf tournamenterstock ajg shutterstock ajg shutterstock shutterstock shut septemb ajg shutterstock stock im id wwwshutterstockcom\n",
      "\n",
      "rugby\tbaseball\t\t\taj gwirtsm corugby reg saturday pm washburn field facebookcomccrugby twittercomccrgby\n",
      "\n",
      "rugby\tbasketball\t\t\tfebru rugby tourna match day buck knick warry piston madison squ gard new york ny march littl caes aren detroit mi net wizard match day capit on aren washington dc pac king gold cent sacramento ca sun lak stapl cent los angel ca pel hornet spectr cent charlot nc match day feb blaz spur at cent san antonio tx thund piston littl caes aren detroit mi warry hawk stat farm aren atlant ga feb mar match day rapt cava quick loan aren cleveland oh bul rocket toyot cent houston tx feb celt timberwolv target cent minneapol mn match day mar jazz heat am airlin aren miam fl grizz er wel fargo cent philadelph pa clip maverick am airlin cent dalla tx cent stad us reserv ticket sel ticketssportcom wwwsportcom\n",
      "\n",
      "rugby\tbasketball\t\t\titin liv tit cre cre cre cre cont cre cre cre al rugby nat cup cre tourna cre cre cre at cre cre cre cre cre cre guat\n",
      "\n",
      "rugby\tbasketball\t\t\troy marin char gat op pm bar refresh sit rygb pm roy marin vet vs saturday august th llangol tow field nor wal barb pm roy marin corp vs rgc seny academy pm hog roast liv mus disco pavil wwwrmatrmcorg enquiry pleas contact llanrygbigmailcom tran spec guest\n",
      "\n",
      "rugby\tcricket\t\t\tg rugo orega cimy g download dreamstimecom watermark comp im preview purpos dreamstim teamstim dreamstim id renk dreamstimecom\n",
      "\n",
      "rugby\tcricket\t\t\tpool rugby sev men match schedule new zealand cxclad lang sri lank friday july australiany jrmica kentavocand new zealand vsri lank england sam kentav jamaic austral vugand england v slank new zealand vam kd sou afric v malays scotland ytong canad wil flja v zamb scotland v malays sou afric v tong wal v zamb flav canad birmingham com af darl fran pool b thafric sortland tong satu july ugandav jamaic austral v keny sam sri lank new zealand england urterfin bart fin art fin art pool c arterfin quarterfin ru tuncay malays sou afric scotland cad vzamb play wal quart fin quart fin wil zamb semifin smfinal semifin senf sunday jy playoff th playoff th playoff th poold birmingham austral kent jur smal send fin sem final semifin bronz med match semfinalun konnt z trnejonces fin win semifoliy wner ofsemifin\n",
      "\n",
      "tennis\tchess\t\t\tkomaterackorkturechorty techs coptschard hasepeg tehhhc shactbot tehnchet ccp man copernobahn\n"
     ]
    }
   ],
   "source": [
    "print('\\n\\n'.join([f'{i[0]}\\t{i[1]}\\t\\t\\t{i[2]}' for i in sorted(zip(y_test, y_pred, x_test)) if i[0] != i[1]]))"
   ]
  },
  {
   "cell_type": "markdown",
   "id": "6bd118ac",
   "metadata": {},
   "source": []
  },
  {
   "cell_type": "code",
   "execution_count": 55,
   "id": "6c731e89",
   "metadata": {
    "id": "6c731e89"
   },
   "outputs": [
    {
     "name": "stdout",
     "output_type": "stream",
     "text": [
      "Predicted class label: ['cricket']\n"
     ]
    }
   ],
   "source": [
    "test_text = [\"overs epik freepik\"]\n",
    "test_text = list(map(stem, test_text))\n",
    "predicted_label = pipeline.predict(test_text)\n",
    "print(\"Predicted class label:\", predicted_label)"
   ]
  },
  {
   "cell_type": "code",
   "execution_count": 56,
   "id": "3665ab22",
   "metadata": {
    "id": "3665ab22",
    "outputId": "ab8d0bec-b150-4afd-97f4-e34228dab1c1"
   },
   "outputs": [
    {
     "name": "stdout",
     "output_type": "stream",
     "text": [
      "Predicted class probabilities: [[0.00218992 0.0032848  0.23620195 0.12681148 0.00144335 0.02961943\n",
      "  0.59432117 0.00121632 0.00073492 0.00417665]]\n"
     ]
    }
   ],
   "source": [
    "predicted_probabilities = pipeline.predict_proba(test_text)\n",
    "print(\"Predicted class probabilities:\", predicted_probabilities)"
   ]
  },
  {
   "cell_type": "code",
   "execution_count": 57,
   "id": "Fu6JJSrtBrPL",
   "metadata": {
    "colab": {
     "base_uri": "https://localhost:8080/"
    },
    "executionInfo": {
     "elapsed": 3,
     "status": "ok",
     "timestamp": 1681749020427,
     "user": {
      "displayName": "Pathum Mihiranga",
      "userId": "16999484675349585718"
     },
     "user_tz": -330
    },
    "id": "Fu6JJSrtBrPL",
    "outputId": "41e3baba-f8db-40d8-8775-c2cf969ad857"
   },
   "outputs": [
    {
     "name": "stdout",
     "output_type": "stream",
     "text": [
      "('hello caresses are you dies', 'hello caresses are you dies')\n",
      "('caresses', 'caress')\n",
      "('flies', 'fli')\n",
      "('dies', 'die')\n",
      "('mules', 'mul')\n",
      "('denied', 'deny')\n",
      "('died', 'died')\n",
      "('agreed', 'agree')\n",
      "('owned', 'own')\n",
      "('humbled', 'humbl')\n",
      "('sized', 'siz')\n",
      "('meeting', 'meet')\n",
      "('stating', 'stat')\n",
      "('siezing', 'siez')\n",
      "('itemization', 'item')\n",
      "('sensational', 'sens')\n",
      "('traditional', 'tradit')\n",
      "('reference', 'ref')\n",
      "('colonizer', 'colon')\n",
      "('plotted', 'plot')\n"
     ]
    }
   ],
   "source": [
    "from nltk.stem import LancasterStemmer\n",
    "\n",
    "lc = LancasterStemmer()\n",
    "tokens = ['hello caresses are you dies', 'caresses', 'flies', 'dies', 'mules', 'denied', 'died', 'agreed', 'owned', 'humbled', 'sized', 'meeting', 'stating', 'siezing', 'itemization', 'sensational', 'traditional', 'reference', 'colonizer', 'plotted']\n",
    "stemmed_tokens = [lc.stem(token) for token in tokens]\n",
    "\n",
    "print('\\n'.join([str(i) for i in zip(tokens, stemmed_tokens)]))"
   ]
  },
  {
   "cell_type": "code",
   "execution_count": 58,
   "id": "RlVRAKK6IP5o",
   "metadata": {
    "colab": {
     "base_uri": "https://localhost:8080/"
    },
    "executionInfo": {
     "elapsed": 389,
     "status": "ok",
     "timestamp": 1681751286809,
     "user": {
      "displayName": "Pathum Mihiranga",
      "userId": "16999484675349585718"
     },
     "user_tz": -330
    },
    "id": "RlVRAKK6IP5o",
    "outputId": "9b5576b6-2e61-442e-ac25-e1442f1f026b"
   },
   "outputs": [
    {
     "name": "stdout",
     "output_type": "stream",
     "text": [
      "{'archery': 'archery', 'baseball': 'baseball', 'basketbal': 'basketball', 'billiard': 'billiard', 'carrom': 'carrom', 'chess': 'chess', 'cricket': 'cricket', 'golf': 'golf', 'rugby': 'rugby', 'tennis': 'tennis'}\n",
      "basketball\n",
      "basketball\n",
      "basketball\n",
      "basketball\n",
      "basketball\n",
      "basketball\n",
      "basketball\n",
      "basketball\n",
      "basketball\n",
      "basketball\n",
      "basketball\n",
      "basketball\n",
      "basketball\n",
      "basketball\n",
      "basketball\n",
      "basketball\n",
      "basketball\n",
      "basketball\n",
      "basketball\n",
      "NO\n",
      "basketball\n",
      "basketball\n",
      "basketball\n",
      "basketball\n",
      "basketball\n",
      "basketball\n",
      "basketball\n",
      "basketball\n",
      "basketball\n",
      "basketball\n",
      "basketball\n",
      "basketball\n",
      "basketball\n",
      "basketball\n",
      "basketball\n",
      "basketball\n",
      "basketball\n",
      "basketball\n",
      "basketball\n",
      "basketball\n",
      "basketball\n",
      "basketball\n",
      "basketball\n",
      "basketball\n",
      "basketball\n",
      "basketball\n",
      "basketball\n",
      "basketball\n",
      "basketball\n",
      "NO\n",
      "basketball\n",
      "basketball\n",
      "basketball\n",
      "basketball\n",
      "basketball\n",
      "basketball\n",
      "basketball\n",
      "basketball\n",
      "basketball\n",
      "NO\n",
      "basketball\n",
      "basketball\n",
      "basketball\n",
      "basketball\n",
      "basketball\n",
      "basketball\n",
      "basketball\n",
      "basketball\n",
      "basketball\n",
      "basketball\n",
      "basketball\n",
      "NO\n",
      "basketball\n",
      "basketball\n",
      "basketball\n",
      "NO\n",
      "basketball\n",
      "basketball\n",
      "basketball\n",
      "basketball\n",
      "basketball\n",
      "basketball\n",
      "NO\n",
      "basketball\n",
      "basketball\n",
      "basketball\n",
      "basketball\n",
      "basketball\n",
      "basketball\n",
      "basketball\n",
      "basketball\n",
      "basketball\n",
      "basketball\n",
      "basketball\n",
      "basketball\n",
      "NO\n",
      "basketball\n",
      "basketball\n",
      "basketball\n",
      "basketball\n",
      "basketball\n",
      "NO\n",
      "basketball\n",
      "basketball\n",
      "basketball\n",
      "basketball\n",
      "basketball\n",
      "basketball\n",
      "basketball\n",
      "basketball\n",
      "NO\n",
      "basketball\n",
      "basketball\n",
      "basketball\n",
      "basketball\n",
      "basketball\n",
      "basketball\n",
      "basketball\n",
      "basketball\n",
      "basketball\n",
      "basketball\n",
      "NO\n",
      "basketball\n",
      "NO\n",
      "basketball\n",
      "basketball\n",
      "basketball\n",
      "basketball\n",
      "basketball\n",
      "basketball\n",
      "NO\n",
      "NO\n",
      "basketball\n",
      "basketball\n",
      "basketball\n",
      "basketball\n",
      "basketball\n",
      "basketball\n",
      "basketball\n",
      "basketball\n",
      "NO\n",
      "basketball\n",
      "basketball\n",
      "basketball\n",
      "basketball\n",
      "basketball\n",
      "basketball\n",
      "basketball\n",
      "basketball\n",
      "NO\n",
      "basketball\n",
      "basketball\n",
      "basketball\n",
      "basketball\n",
      "basketball\n",
      "basketball\n",
      "basketball\n",
      "basketball\n",
      "basketball\n",
      "basketball\n",
      "basketball\n",
      "basketball\n",
      "basketball\n",
      "basketball\n",
      "basketball\n",
      "basketball\n",
      "basketball\n",
      "basketball\n",
      "basketball\n",
      "basketball\n",
      "basketball\n",
      "basketball\n",
      "basketball\n",
      "NO\n",
      "basketball\n",
      "basketball\n",
      "NO\n",
      "NO\n",
      "basketball\n",
      "basketball\n",
      "basketball\n",
      "basketball\n",
      "basketball\n",
      "NO\n",
      "basketball\n",
      "basketball\n",
      "NO\n",
      "basketball\n",
      "basketball\n",
      "basketball\n",
      "basketball\n",
      "basketball\n",
      "basketball\n",
      "basketball\n",
      "basketball\n",
      "basketball\n",
      "basketball\n",
      "basketball\n",
      "basketball\n",
      "NO\n",
      "basketball\n",
      "basketball\n",
      "basketball\n",
      "basketball\n",
      "basketball\n",
      "basketball\n",
      "basketball\n",
      "basketball\n",
      "basketball\n",
      "basketball\n",
      "basketball\n",
      "basketball\n",
      "basketball\n",
      "basketball\n",
      "basketball\n",
      "NO\n",
      "basketball\n",
      "basketball\n",
      "basketball\n",
      "basketball\n",
      "basketball\n",
      "basketball\n",
      "basketball\n",
      "basketball\n",
      "[]\n"
     ]
    }
   ],
   "source": [
    "keywords = {\n",
    "    'archery': ['archery'], \n",
    "    'baseball': ['baseball', 'basebal'], \n",
    "    'basketball': ['basketbal', 'basketbal'], \n",
    "    'billiard': ['billiard'], \n",
    "    'carrom': ['carrom'], \n",
    "    'chess': ['chess'], \n",
    "    'cricket': ['cricket'], \n",
    "    'golf': ['golf'], \n",
    "    'rugby': ['rugby'], \n",
    "    'tennis': ['tennis']\n",
    "}\n",
    "\n",
    "keyword_map = {value[0]: key for key, value in keywords.items()}\n",
    "print(keyword_map)\n",
    "\n",
    "frame = df_train.copy()\n",
    "pred = []\n",
    "for i, row in df_train[df.sport == 'basketball'].iterrows():\n",
    "  for j in keyword_map:\n",
    "    if j in row['text']:\n",
    "      print(keyword_map[j])\n",
    "      break\n",
    "  else:\n",
    "    print(\"NO\")\n",
    "  \n",
    "print(pred)"
   ]
  },
  {
   "cell_type": "code",
   "execution_count": 59,
   "id": "0U7UM7b6IQ59",
   "metadata": {
    "colab": {
     "base_uri": "https://localhost:8080/"
    },
    "executionInfo": {
     "elapsed": 3,
     "status": "ok",
     "timestamp": 1681750326326,
     "user": {
      "displayName": "Pathum Mihiranga",
      "userId": "16999484675349585718"
     },
     "user_tz": -330
    },
    "id": "0U7UM7b6IQ59",
    "outputId": "79851ba0-7a54-4b15-a1fc-c892bfdb5ae6"
   },
   "outputs": [
    {
     "name": "stdout",
     "output_type": "stream",
     "text": [
      "['archery' 'baseball' 'basketball' 'billiard' 'carrom' 'chess' 'cricket'\n",
      " 'golf' 'rugby' 'tennis']\n"
     ]
    }
   ],
   "source": [
    "print(df_train.sport.unique())"
   ]
  },
  {
   "cell_type": "markdown",
   "id": "f55f0d19",
   "metadata": {},
   "source": [
    "# Random Forests Classifier"
   ]
  },
  {
   "cell_type": "code",
   "execution_count": 68,
   "id": "044a1cbc",
   "metadata": {},
   "outputs": [
    {
     "name": "stdout",
     "output_type": "stream",
     "text": [
      "Accuracy:  0.9444444444444444\n"
     ]
    }
   ],
   "source": [
    "from sklearn.feature_extraction.text import TfidfVectorizer\n",
    "from sklearn.ensemble import RandomForestClassifier\n",
    "from sklearn.metrics import accuracy_score, classification_report\n",
    "\n",
    "# Split the dataset into training and testing sets\n",
    "X_train, X_test, y_train, y_test = train_test_split(df_train[\"text\"], df_train[\"sport\"], test_size=0.2, random_state=42)\n",
    "\n",
    "# Create an instance of TfidfVectorizer\n",
    "tfidf_vectorizer = TfidfVectorizer()\n",
    "\n",
    "# Fit and transform the preprocessed text data in the training set to create the TF-IDF features\n",
    "X_train_tfidf = tfidf_vectorizer.fit_transform(X_train)\n",
    "\n",
    "# Fit the Random Forest classifier with 100 estimators to the training set\n",
    "rf_classifier = RandomForestClassifier(n_estimators=100, random_state=42)\n",
    "rf_classifier.fit(X_train_tfidf, y_train)\n",
    "\n",
    "# Transform the preprocessed text data in the testing set to create the TF-IDF features\n",
    "X_test_tfidf = tfidf_vectorizer.transform(X_test)\n",
    "\n",
    "# Make predictions on the testing set and evaluate the performance of the classifier\n",
    "y_pred = rf_classifier.predict(X_test_tfidf)\n",
    "print(\"Accuracy: \", accuracy_score(y_test, y_pred))\n",
    "# print(classification_report(y_test, y_pred))"
   ]
  },
  {
   "cell_type": "code",
   "execution_count": 61,
   "id": "fc6f212a",
   "metadata": {},
   "outputs": [],
   "source": [
    "test_text = [\"This is an example of bow test text\"]"
   ]
  },
  {
   "cell_type": "code",
   "execution_count": 62,
   "id": "211823ae",
   "metadata": {},
   "outputs": [],
   "source": [
    "test_text_tfidf = tfidf_vectorizer.transform(test_text)"
   ]
  },
  {
   "cell_type": "code",
   "execution_count": 63,
   "id": "c431397f",
   "metadata": {},
   "outputs": [],
   "source": [
    "test_text_pred = rf_classifier.predict(test_text_tfidf)"
   ]
  },
  {
   "cell_type": "code",
   "execution_count": 64,
   "id": "bf799948",
   "metadata": {},
   "outputs": [
    {
     "name": "stdout",
     "output_type": "stream",
     "text": [
      "Predicted class: chess\n"
     ]
    }
   ],
   "source": [
    "print(\"Predicted class:\", test_text_pred[0])"
   ]
  },
  {
   "cell_type": "code",
   "execution_count": 65,
   "id": "9d3acc12",
   "metadata": {},
   "outputs": [
    {
     "name": "stdout",
     "output_type": "stream",
     "text": [
      "archery\tbasketball\t\t\tphuhet as ar rchery tourna\n",
      "\n",
      "archery\tchess\t\t\tdreamstim dreamstim dreamstim dreamstim creamstin dreamstimecom dreamstim dreamstim dreamstim dreamstim dreamstim dreamstim dreamstim id chocost\n",
      "\n",
      "archery\tchess\t\t\ttimelin process infograph text wond ser tak possess entir soul lik sweet morn spring enjoy whol heart text wond ser tak possess entir soul lik sweet morn spring enjoy whol heart text wond ser tak possess entir soul lik sweet morn spring enjoy whol heart com\n",
      "\n",
      "baseball\tchess\t\t\tadida g mustang big west conf champ nca reg topfo fin big west last season season bet sint wilson adida ang rid high team inform guid big west\n",
      "\n",
      "baseball\tgolf\t\t\tclub pres cand med award se basebal tourna sery friday may tourna thismarch tourna sunday feb sat deadlin tourna friday march u u reg deadlin reg onlin play coach childr fre adss otherspect reg deadlin fre drink per drink fre park fre milkshak semih resort powy wwwbaseballtournamentcom\n",
      "\n",
      "basketball\tchess\t\t\tbasketb champ\n",
      "\n",
      "billiard\tbasketball\t\t\ttroph st nd ck k shutterstock vect tradit sm ds tourna tersek vect tradit sm shutterstock shut squil liv streaming shutterstock vect tradit sm saturday march th entry fee play max shutterstock stock im id wwwshutterstockcom sh sh\n",
      "\n",
      "billiard\tchess\t\t\tilliard wom min feet must flo shoot\n",
      "\n",
      "billiard\tchess\t\t\tilliard wom min hoyr frut must flo week shootin\n",
      "\n",
      "billiard\tchess\t\t\tod od od od od od od od ge od od od od od od od od od billiard od od od od od od od\n",
      "\n",
      "billiard\tcricket\t\t\tpool knowledg play pool wh orac bal pov tysk lam ov stick www land wellend wo stant hit cve wom\n",
      "\n",
      "carrom\tchess\t\t\tb f n z cm b cm c cm dia cm cm cm e cm thick k f cm g cm dia h cm dia cm max cm thick l h g e ec j cm k cm dia cm l cm dia cm cm dia n cm\n",
      "\n",
      "carrom\tchess\t\t\thard wood kik bord smoo surfac u po stik mad ind supery qual wood coin mat fin brand trust\n",
      "\n",
      "carrom\ttennis\t\t\tsoc med post templ julaburuigcm pres tour carrom tabl ten tourna sum ment dat tourna august august reg deadlin rd august ulab\n",
      "\n",
      "cricket\tbaseball\t\t\tdregalem dreamstim download nam cont team nam dreamstimecom watermark comp im preview purpos tim zz jamstim team nam guest dreamstim dreamstim id aurielak dreamstimecom\n",
      "\n",
      "cricket\ttennis\t\t\trecr cricket girl ag c fre ten week cricket program peel oc osc energ excit empow district school board di every saturday start febru sav max sport cent sandalwood pkwy e brampton l r ok reg oscaschoolsorg ontario schools cricket assocy project mad poss thank canad wom sport govern canad canad dufferinpeel cathol district school board canad wom sport\n",
      "\n",
      "rugby\tarchery\t\t\tg rugo orega cimy g download dreamstimecom watermark comp im preview purpos dreamstim teamstim dreamstim id renk dreamstimecom\n",
      "\n",
      "rugby\tchess\t\t\tcondit apply play team possess bal maul delib leav maul b c e f law rel maul continu apply law gen play apply play leav maul may rejoin oppon maul play leav maul may rejoin foremost oppon maul play may rejoin oppon maul play may rejoin foremost oppon maul wrong\n",
      "\n",
      "tennis\tchess\t\t\tck ten imagestm getty im ock im ock imagestm tourna them text go istock getty imagestm istock getty imagestm istock getty imagestm istock getty im istock getty imagestm istock getty imagestm dat ist quam vol simol iberem qui tem vent lab in hit rat dit sa vend doluptiatem et vel deb ut atin istock getty imagestm istock getty imagestm c\n",
      "\n",
      "tennis\tchess\t\t\tlon ur\n",
      "\n",
      "tennis\tchess\t\t\tsinnl\n",
      "\n",
      "tennis\tgolf\t\t\tvervato redshinestudio pres competit vervato veryo ausernam biggest tourna year jun denvato ausernam usemam entry denvato includ lunch bev din reg dedlin may th at denvato wato vervato info infowebnamecom wwwwebnamecom rio tow mal venvato\n"
     ]
    }
   ],
   "source": [
    "print('\\n\\n'.join([f'{i[0]}\\t{i[1]}\\t\\t\\t{i[2]}' for i in sorted(zip(y_test, y_pred, X_test)) if i[0] != i[1]]))"
   ]
  },
  {
   "cell_type": "markdown",
   "id": "7a1cd25a",
   "metadata": {},
   "source": [
    "# Decision Tree Classifier"
   ]
  },
  {
   "cell_type": "code",
   "execution_count": 66,
   "id": "26bf497d",
   "metadata": {},
   "outputs": [
    {
     "name": "stdout",
     "output_type": "stream",
     "text": [
      "Accuracy: 0.9318181818181818\n",
      "              precision    recall  f1-score   support\n",
      "\n",
      "     archery       1.00      0.84      0.92        32\n",
      "    baseball       0.96      0.98      0.97        48\n",
      "  basketball       0.94      0.98      0.96        45\n",
      "    billiard       1.00      0.76      0.86        29\n",
      "      carrom       1.00      0.79      0.88        24\n",
      "       chess       0.79      0.95      0.86        43\n",
      "     cricket       0.95      0.93      0.94        44\n",
      "        golf       1.00      1.00      1.00        49\n",
      "       rugby       0.85      0.98      0.91        45\n",
      "      tennis       0.97      0.95      0.96        37\n",
      "\n",
      "    accuracy                           0.93       396\n",
      "   macro avg       0.95      0.92      0.93       396\n",
      "weighted avg       0.94      0.93      0.93       396\n",
      "\n"
     ]
    }
   ],
   "source": [
    "from sklearn.feature_extraction.text import TfidfVectorizer\n",
    "from sklearn.tree import DecisionTreeClassifier\n",
    "from sklearn.metrics import accuracy_score, classification_report\n",
    "from sklearn.model_selection import train_test_split\n",
    "\n",
    "# Split the dataset into training and testing sets\n",
    "X_train, X_test, y_train, y_test, file_train, file_test = train_test_split(df_train[\"text\"], df_train[\"sport\"], df_train['file'], test_size=0.2, random_state=42)\n",
    "\n",
    "# Create an instance of TfidfVectorizer\n",
    "tfidf_vectorizer = TfidfVectorizer()\n",
    "\n",
    "# Fit and transform the preprocessed text data in the training set to create the TF-IDF features\n",
    "X_train_tfidf = tfidf_vectorizer.fit_transform(X_train)\n",
    "\n",
    "# Train the Decision Tree classifier\n",
    "dt = DecisionTreeClassifier(random_state=42)\n",
    "dt.fit(X_train_tfidf, y_train)\n",
    "\n",
    "X_test_tfidf = tfidf_vectorizer.transform(X_test)\n",
    "\n",
    "# Make predictions on the testing set\n",
    "y_pred = dt.predict(X_test_tfidf)\n",
    "\n",
    "# Evaluate the performance of the classifier\n",
    "print(\"Accuracy:\", accuracy_score(y_test, y_pred))\n",
    "print(classification_report(y_test, y_pred))"
   ]
  },
  {
   "cell_type": "code",
   "execution_count": 67,
   "id": "04ba4f0c",
   "metadata": {},
   "outputs": [
    {
     "name": "stdout",
     "output_type": "stream",
     "text": [
      "29\tarchery\tbaseball\t\t\ttimelin process infograph text wond ser tak possess entir soul lik sweet morn spring enjoy whol heart text wond ser tak possess entir soul lik sweet morn spring enjoy whol heart text wond ser tak possess entir soul lik sweet morn spring enjoy whol heart com\n",
      "\n",
      "33\tarchery\tbasketball\t\t\tknow archery on safest sport world comp injury rat sport archery unit tim archery kid safest sport archery archery pprese nasp punct wound foreign body feath van embed hand archery saf sport archery vs archery vs rupt arrow shaft fal onto arrow billiard pool softbal os vi find coach club obey instruct sign vs check string cabl bow every shoot sess vs least injury rat archery wait arch don shoot clear cal tim would saf go rang retriev arrow togetkidsinvolv archery bicyc rid archery train abl teach ev saf tim footbal toteachyourkidsarchery coolorirresponsiblydang olympicarcherydevelop classesfornewjerseykid footbal common injury archery basketbal basebal fish ten basketbal year prev us nat saf council httpswwwnscorg httpswwwiiiorgfactstatisticfactsstatisticssports injury httpswwwncbinlmnihgovpubmed httpswwwwiredcom archeryinh httpswwwteamusaorgusaarcheryarchersjunior httpswwwarchery com reason httpswwwnaspschoolsorgaboutcoordinators httpolympicarcheryinschoolsorgcoaches httpswwwteamusaorgusaarcheryyouth httpwwwalarcherycomblogblogpostaspid httpwwwkidbowcomarcheryrulesforkidshtm httpmnarcheryorgstartingkidsinarcheryhtml httpbitzenburgercomarcheryforkidsgoodreasons httpsmommypoppinscomnewyorkcitykidsarchery rang saf foodbal olymp archery schools oa un archery leagu middl schools high schools start swim x nev point bow load arrow unauth target includ anim anoth person quot us nat saf council juny olymp archery develop joad program wellest program us archery seek bring young peopl sport target archery prep excel competit tim saf wear protect gear armgard glov prev bowst hit nat archery schools program nat archery schools program joint vent partn stat educ wildl man ag promot stud educ particip lifelong sport archery tim saf look arrow shaft imperfect lik dent crack f impl archery schools across kentucky emphas saf stud conduc train teach adh standard proc remark saf record vigil school district alway concern liabl issu espec sport recr act archery consist prov on safest sport taught publ schools phys educ program ref tim saf us nat saf council tim saf archery prob safest thing wev don phys class on person sent off injury act send least on stud day turn ankl jam fing elbow fac archery on ev hurt yo basketbal deal larg smal kid eighthgrad play play footbal sixthgrad kid get hurt run archery individ sport dont worry someon aggress behavy joey chilton wel instruct east hickm middl school lyl ten wait arch back behind lin load bow lac mishandl hunt anow shoot stay least feet behind arch keep voic level low oth easy monit determin effort skil techn saf conduc teach address stud provid individ feedback saf whistl cod mak sens stud good equip standard train enco saf particip jul jilek admin whit bear lak learn cent whit bear lak minnesot aboutarchery commit gen wilhoit kentucky depart educ teach receiv complet wel don confid stud much that emphas saf stud archerysaf inform pleas visit wwwarcherytopiccom httpsworldarcheryorgnews sixbiggestmyth httpswwwashfordcastlecomblog archeryfact httpswwwbowhunteredcomwisconsinstudyguide httpfamilyfunarcherycomindexphparcheryisasafe sport httparcheryforallagescomarcherysafety httpwwwdalkeith countryparkcoukoutdooract archeryarcheryfaq httpshootyssaorgfaqs httpsoliveplantscooplagrangecomoliveplantsarchery httpslegendarcherycomblogsarcherybowhunting blog whyyoushouldgetyourkidsstartedin archery httpswwwrovingarcherscomweneedyoursupport httpshighaltitudearcherycomtop itemstoconsid whenlookingforanexcellentarcherytrainingfacil httpknightsbowcomadditionalinformation httparcherymy reasonsteachkid archery\n",
      "\n",
      "25\tarchery\tchess\t\t\tdreamstim dreamstim dreamstim dreamstim creamstin dreamstimecom dreamstim dreamstim dreamstim dreamstim dreamstim dreamstim dreamstim id chocost\n",
      "\n",
      "130\tarchery\trugby\t\t\tnovemb pm th afr archery champ pretor afr archery champ tuk main rugby field lc de vil com join fun fin med match day best afric battl top spot try hand archery op rang shoot arrow food bev truck keep hung away fun ultim high see fre entry\n",
      "\n",
      "152\tarchery\ttennis\t\t\tphuhet as ar rchery tourna\n",
      "\n",
      "178\tbaseball\tchess\t\t\tadida g mustang big west conf champ nca reg topfo fin big west last season season bet sint wilson adida ang rid high team inform guid big west\n",
      "\n",
      "323\tbasketball\tchess\t\t\tbasketb champ\n",
      "\n",
      "151\tbilliard\tchess\t\t\tbilliard knowledg anatom pool tabl head pocket ther aim sink bal play posit nd import part play cush bump wel lik chess get bal pocket good result setup next mov offset striking point chang spee direct cue bal tak hit object bal allow plan next shot left engl ad clockw spin cue simil opposit effect right engush furnit tabl hit cue follow ad top spin cue caus continu rol forward hit object bal tip dont ad on cue ps leng sid pool rail cabinet sid blind apron bed clo fel foot cabinet end right engl ad count clockw spin cue us sev way draw ad back spin caus cue bal rol jor draw backward hit object bal draw espec us avoid scratching sink cue bal typ billiard ad opposit spin object bal caus throw slight chang traject chang direct cue bal bount sid rail long shot cue bal gain sught curv snook russ pool carom billiard pock head wrap grip but cap bump coin op bar box tabl cue bal return coll but forewrap coin chut cue stick wrap chalk chalk tip cur stick turn ev slip turn stick chalk ev coat tip joint return foot shaft leg level coll shaft clos bridg ferr anatom pool cue but but sleev pin bump op bridg mech bridg us reach shot shoot bal forearm tip ferr ring tip\n",
      "\n",
      "621\tbilliard\tchess\t\t\tilliard wom min feet must flo shoot\n",
      "\n",
      "645\tbilliard\tchess\t\t\tilliard wom min hoyr frut must flo week shootin\n",
      "\n",
      "156\tbilliard\tcricket\t\t\tpool knowledg play pool wh orac bal pov tysk lam ov stick www land wellend wo stant hit cve wom\n",
      "\n",
      "620\tbilliard\trugby\t\t\tbest billard play beard\n",
      "\n",
      "148\tbilliard\trugby\t\t\tsnook knowledg bas rul snook snook beauty gam util bal feb dig figz ho barret billeand cur fil sept bridg approach slig de stant la feath tig bit obit import snook tip bet snook cue grip doe inv harold g barret g cue nee straight lin intend shot look cue know bal rol hit approach stant giv good thought ev hut bal follow snook cue tip confid mean tackl shot plan import snook tip snook play am real bridg flex enough hit bal deod cent cous screw shot ev top spin right foot near shot alway straight left foot front kne bent loos enough allow hip swivel red feath rehears think id posit tak shot whit bal aim accum maxim numb point til end gam fre bal point point point point point snook break nev miss scor point init get fre bal wel mak maxim break diff col bal cours gam first shot every snook gam break shot play brown yellow saf snook situ ar oppon left cho play bol eith hit cush first play mass shot point think shot risky play saf com behind bouk colo loos red boukk snook red remain tabl start pot col increas ord valu stort yellow way block total point snook break run oppon foul bol cannot hit half bal sid direct con nomin fre bol pot colo play saf gam snook two diff typ saf shot consid let look aggress safetyon put oppon troubl neg safetyon get troubl most play look play aggress saf try op red exampl cov pot opportun stop return saf are sometim play delib leav oppon difficult pot knowledg might forc going shot saf difficult sometim play play saf stop easy return boulk pot also difficult play might opt play neg word min rehears saf simply try get cue bal saf also know let get ey bal put oppon real troubl neg saf pocket import thing achiev saf good cue bal on cue bal tight cush alway caus oppon difficul on achiev good cue bal cov op tabl us bear fruit\n",
      "\n",
      "152\tbilliard\trugby\t\t\ttroph st nd ck k shutterstock vect tradit sm ds tourna tersek vect tradit sm shutterstock shut squil liv streaming shutterstock vect tradit sm saturday march th entry fee play max shutterstock stock im id wwwshutterstockcom sh sh\n",
      "\n",
      "671\tcarrom\tbasketball\t\t\tpoins pg gymkhan gen rul reg particip prop fil capit let sep form duply ag group boy girl entry form exceiv first cum first serv bas particip bring sport gear wrong inform giv unsport behavy dam property shal respons participantsschoolorg lead disq cost dam shal recov poins gymkhan alway win born panel judg decid fin protest lodg writ within minut decl result ev protest fee rs refund protest upheld decid tournamenttechn commit fin particip particip risk person property org commit right ad delet amend gen spec rul without giv pri not participantsschoolsorg www every team shal accompany sport teach coach along particip compet team shal report org tourna on hour pri scheduled tim particip abid rul reg tournamentmeet request postpon shal entertain entry form must duly sign auth person auth dat bir xerox cop bir cert proof ag must submit entry form carry tim ev produc cas demand off fee paid cash chequ creditdebit card onlin pay favo poins gymkhan cas chequ pay particip allow subject real chequ particip collect priz day tim priz distribut els forfeit gam shal play per rul prescrib govern body respect gam priz spec rul reg gam visit wwwpoinsurgymkhanacom pleas abid rul reg spec gen en gymkhan conduc every tourna ev ord man en play play gam tru spirit sportsm dign hon team sc utt mumba rid mahotsav nat progress you perform th nov th dec poins pg gymkhan alway win born honorway poins gymkhan cricket mallakhabmh gymnast skat kar chess schedule priz distribut ceremony carrom footbal basketbal volleybal hand bal swim athlet ev march past band box wrestl archery tabl tenny cm adv saturday th nov pm onward sunday st dec pm onward sunday st dec pm onward wednesday th dec pm onward pm onward saturday th dec saturday th dec pm onward sunday th dec pm onward poins gymkhan marg poins kandival west mumba tel email poinsurgymkhanagmailcom infopoinsurgymkhanacom wwwpoinsurgymkhanacompoinsurgymkhana\n",
      "\n",
      "617\tcarrom\tchess\t\t\tb f n z cm b cm c cm dia cm cm cm e cm thick k f cm g cm dia h cm dia cm max cm thick l h g e ec j cm k cm dia cm l cm dia cm cm dia n cm\n",
      "\n",
      "669\tcarrom\tcricket\t\t\thard wood kik bord smoo surfac u po stik mad ind supery qual wood coin mat fin brand trust\n",
      "\n",
      "640\tcarrom\trugby\t\t\tcarromboard rul book min schedule gam on two play team first turn play allow three attempt break le disturb cent group count doesnt mat piec striker hit first doesnt mat stick nec striker pocket queen and on piec co pdf striker tak anoth strike play pocket piec commit foul fin rul piec return cent plac top piec within main circ piec com rest stand edg overlap anoth piec left mov norm cours play striker com rest anoth piec striker remov littl disturb cov plec poss foul play commit foul tum com end immedy penal incur penal on pocket piec return board oppon anywh within main circ piec requir return board also plac within main circ oppon norm piec posit ord conf adv oppon food record follow stat striker pocket striker piec leav board aplay pocket oppon plec queen also pocket ist cent oppon togeth penal piec piec pocket strike remain pocket play pocket fin appon plec regardless wheth queen cov oppon piec return cent addit penal piec play pocket fin piec queen cov cas pocket piec penal plec return cent\n",
      "\n",
      "636\tcarrom\trugby\t\t\tplay pocket piec black piec board win gam play pocket piec whit piec board\n",
      "\n",
      "231\tchess\trugby\t\t\tgam chang world already ful play\n",
      "\n",
      "490\tchess\trugby\t\t\tmak money gam peopl dont know play\n",
      "\n",
      "47\tcricket\tbaseball\t\t\ttot wicket st in\n",
      "\n",
      "9\tcricket\tbasketball\t\t\tdregalem dreamstim download nam cont team nam dreamstimecom watermark comp im preview purpos tim zz jamstim team nam guest dreamstim dreamstim id aurielak dreamstimecom\n",
      "\n",
      "300\tcricket\tchess\t\t\tdigit dai gil af cens mas match icc wom world cup sou afric sri lank spoil sou africa big night\n",
      "\n",
      "32\trugby\tchess\t\t\tg rugo orega cimy g download dreamstimecom watermark comp im preview purpos dreamstim teamstim dreamstim id renk dreamstimecom\n",
      "\n",
      "119\ttennis\tchess\t\t\tlon ur\n",
      "\n",
      "215\ttennis\tchess\t\t\tsinnl\n"
     ]
    }
   ],
   "source": [
    "print('\\n\\n'.join([f'{i[3]}\\t{i[0]}\\t{i[1]}\\t\\t\\t{i[2]}' for i in sorted(zip(y_test, y_pred, X_test, file_test)) if i[0] != i[1]]))"
   ]
  }
 ],
 "metadata": {
  "colab": {
   "provenance": []
  },
  "kernelspec": {
   "display_name": "Python 3 (ipykernel)",
   "language": "python",
   "name": "python3"
  },
  "language_info": {
   "codemirror_mode": {
    "name": "ipython",
    "version": 3
   },
   "file_extension": ".py",
   "mimetype": "text/x-python",
   "name": "python",
   "nbconvert_exporter": "python",
   "pygments_lexer": "ipython3",
   "version": "3.10.11"
  }
 },
 "nbformat": 4,
 "nbformat_minor": 5
}
