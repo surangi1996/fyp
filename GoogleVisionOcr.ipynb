{
 "cells": [
  {
   "cell_type": "code",
   "execution_count": 1,
   "id": "75163057",
   "metadata": {},
   "outputs": [],
   "source": [
    "import io\n",
    "import os"
   ]
  },
  {
   "cell_type": "code",
   "execution_count": 6,
   "id": "60378b1f",
   "metadata": {},
   "outputs": [
    {
     "name": "stdout",
     "output_type": "stream",
     "text": [
      "Collecting google-api-python-client\n",
      "  Downloading google_api_python_client-2.83.0-py2.py3-none-any.whl (11.2 MB)\n",
      "     ---------------------------------------- 11.2/11.2 MB 2.4 MB/s eta 0:00:00\n",
      "Requirement already satisfied: google-cloud in c:\\users\\acer\\anaconda3\\envs\\nlp\\lib\\site-packages (0.34.0)\n",
      "Requirement already satisfied: google-auth in c:\\users\\acer\\anaconda3\\envs\\nlp\\lib\\site-packages (2.17.1)\n",
      "Requirement already satisfied: google-auth-oauthlib in c:\\users\\acer\\anaconda3\\envs\\nlp\\lib\\site-packages (1.0.0)\n",
      "Requirement already satisfied: google-auth-httplib2 in c:\\users\\acer\\anaconda3\\envs\\nlp\\lib\\site-packages (0.1.0)\n",
      "Requirement already satisfied: httplib2<1dev,>=0.15.0 in c:\\users\\acer\\anaconda3\\envs\\nlp\\lib\\site-packages (from google-api-python-client) (0.22.0)\n",
      "Collecting uritemplate<5,>=3.0.1\n",
      "  Downloading uritemplate-4.1.1-py2.py3-none-any.whl (10 kB)\n",
      "Collecting google-api-core!=2.0.*,!=2.1.*,!=2.2.*,!=2.3.0,<3.0.0dev,>=1.31.5\n",
      "  Downloading google_api_core-2.11.0-py3-none-any.whl (120 kB)\n",
      "     -------------------------------------- 120.3/120.3 kB 1.0 MB/s eta 0:00:00\n",
      "Requirement already satisfied: rsa<5,>=3.1.4 in c:\\users\\acer\\anaconda3\\envs\\nlp\\lib\\site-packages (from google-auth) (4.9)\n",
      "Requirement already satisfied: cachetools<6.0,>=2.0.0 in c:\\users\\acer\\anaconda3\\envs\\nlp\\lib\\site-packages (from google-auth) (5.3.0)\n",
      "Requirement already satisfied: pyasn1-modules>=0.2.1 in c:\\users\\acer\\anaconda3\\envs\\nlp\\lib\\site-packages (from google-auth) (0.2.8)\n",
      "Requirement already satisfied: six>=1.9.0 in c:\\users\\acer\\appdata\\roaming\\python\\python310\\site-packages (from google-auth) (1.16.0)\n",
      "Requirement already satisfied: requests-oauthlib>=0.7.0 in c:\\users\\acer\\anaconda3\\envs\\nlp\\lib\\site-packages (from google-auth-oauthlib) (1.3.1)\n",
      "Collecting protobuf!=3.20.0,!=3.20.1,!=4.21.0,!=4.21.1,!=4.21.2,!=4.21.3,!=4.21.4,!=4.21.5,<5.0.0dev,>=3.19.5\n",
      "  Downloading protobuf-4.22.1-cp310-abi3-win_amd64.whl (420 kB)\n",
      "     -------------------------------------- 420.6/420.6 kB 2.6 MB/s eta 0:00:00\n",
      "Collecting googleapis-common-protos<2.0dev,>=1.56.2\n",
      "  Downloading googleapis_common_protos-1.59.0-py2.py3-none-any.whl (223 kB)\n",
      "     -------------------------------------- 223.6/223.6 kB 1.7 MB/s eta 0:00:00\n",
      "Requirement already satisfied: requests<3.0.0dev,>=2.18.0 in c:\\users\\acer\\anaconda3\\envs\\nlp\\lib\\site-packages (from google-api-core!=2.0.*,!=2.1.*,!=2.2.*,!=2.3.0,<3.0.0dev,>=1.31.5->google-api-python-client) (2.28.2)\n",
      "Requirement already satisfied: pyparsing!=3.0.0,!=3.0.1,!=3.0.2,!=3.0.3,<4,>=2.4.2 in c:\\users\\acer\\appdata\\roaming\\python\\python310\\site-packages (from httplib2<1dev,>=0.15.0->google-api-python-client) (3.0.9)\n",
      "Requirement already satisfied: pyasn1<0.5.0,>=0.4.6 in c:\\users\\acer\\anaconda3\\envs\\nlp\\lib\\site-packages (from pyasn1-modules>=0.2.1->google-auth) (0.4.8)\n",
      "Requirement already satisfied: oauthlib>=3.0.0 in c:\\users\\acer\\anaconda3\\envs\\nlp\\lib\\site-packages (from requests-oauthlib>=0.7.0->google-auth-oauthlib) (3.2.2)\n",
      "Requirement already satisfied: idna<4,>=2.5 in c:\\users\\acer\\appdata\\roaming\\python\\python310\\site-packages (from requests<3.0.0dev,>=2.18.0->google-api-core!=2.0.*,!=2.1.*,!=2.2.*,!=2.3.0,<3.0.0dev,>=1.31.5->google-api-python-client) (3.4)\n",
      "Requirement already satisfied: charset-normalizer<4,>=2 in c:\\users\\acer\\anaconda3\\envs\\nlp\\lib\\site-packages (from requests<3.0.0dev,>=2.18.0->google-api-core!=2.0.*,!=2.1.*,!=2.2.*,!=2.3.0,<3.0.0dev,>=1.31.5->google-api-python-client) (3.1.0)\n",
      "Requirement already satisfied: urllib3<1.27,>=1.21.1 in c:\\users\\acer\\anaconda3\\envs\\nlp\\lib\\site-packages (from requests<3.0.0dev,>=2.18.0->google-api-core!=2.0.*,!=2.1.*,!=2.2.*,!=2.3.0,<3.0.0dev,>=1.31.5->google-api-python-client) (1.26.15)\n",
      "Requirement already satisfied: certifi>=2017.4.17 in c:\\users\\acer\\anaconda3\\envs\\nlp\\lib\\site-packages (from requests<3.0.0dev,>=2.18.0->google-api-core!=2.0.*,!=2.1.*,!=2.2.*,!=2.3.0,<3.0.0dev,>=1.31.5->google-api-python-client) (2022.9.24)\n",
      "Installing collected packages: uritemplate, protobuf, googleapis-common-protos, google-api-core, google-api-python-client\n",
      "Successfully installed google-api-core-2.11.0 google-api-python-client-2.83.0 googleapis-common-protos-1.59.0 protobuf-4.22.1 uritemplate-4.1.1\n"
     ]
    }
   ],
   "source": [
    "#!pip install google-api-python-client google-cloud google-auth google-auth-oauthlib google-auth-httplib2\n",
    "#!pip install --upgrade google-cloud-vision"
   ]
  },
  {
   "cell_type": "code",
   "execution_count": 15,
   "id": "5dcd319e",
   "metadata": {},
   "outputs": [],
   "source": [
    "#from google.oauth2 import service_account\n",
    "\n",
    "#credentials = service_account.Credentials.from_service_account_file('E:\\\\projects\\\\apt-mark-382708-22af1afdddb6.json')"
   ]
  },
  {
   "cell_type": "code",
   "execution_count": 22,
   "id": "058ec62b",
   "metadata": {},
   "outputs": [],
   "source": [
    "os.environ[\"GOOGLE_APPLICATION_CREDENTIALS\"] =\"E:\\\\projects\\\\apt-mark-382708-22af1afdddb6.json\""
   ]
  },
  {
   "cell_type": "code",
   "execution_count": 32,
   "id": "ca6c59f0",
   "metadata": {},
   "outputs": [],
   "source": [
    "def detect_text(path):\n",
    "    \"\"\"Detects text in the file.\"\"\"\n",
    "    from google.cloud import vision\n",
    "    import io\n",
    "    client = vision.ImageAnnotatorClient()\n",
    "\n",
    "    with io.open(path, 'rb') as image_file:\n",
    "        content = image_file.read()\n",
    "\n",
    "    image = vision.Image(content=content)\n",
    "\n",
    "    response = client.text_detection(image=image)\n",
    "    texts = response.text_annotations\n",
    "    print('Texts:')\n",
    "\n",
    "    for text in texts:\n",
    "        print('\\n\"{}\"'.format(text.description))\n",
    "\n",
    "        vertices = (['({},{})'.format(vertex.x, vertex.y)\n",
    "                    for vertex in text.bounding_poly.vertices])\n",
    "\n",
    "        #print('bounds: {}'.format(','.join(vertices)))\n",
    "\n",
    "    if response.error.message:\n",
    "        raise Exception(\n",
    "            '{}\\nFor more info on error messages, check: '\n",
    "            'https://cloud.google.com/apis/design/errors'.format(\n",
    "                response.error.message))"
   ]
  },
  {
   "cell_type": "code",
   "execution_count": 33,
   "id": "d60cec0f",
   "metadata": {},
   "outputs": [
    {
     "name": "stdout",
     "output_type": "stream",
     "text": [
      "Texts:\n",
      "\n",
      "\"POSTER\n",
      "TEAM NAME\n",
      "CENTRAL UNIVERSITY\n",
      "CRICKET\n",
      "TOURNAMENT\n",
      "SEPTEMBER 23TH 2018 AT 8PM\n",
      "RECENTS\n",
      "VS\n",
      "TEAM NAME\n",
      "CENTRAL UNIVERSITY\n",
      "AT POSTERMYWALL STADIUM, 124 AVENUE STREET\n",
      "lorem ipsum dolor\"\n",
      "\n",
      "\"POSTER\"\n",
      "\n",
      "\"TEAM\"\n",
      "\n",
      "\"NAME\"\n",
      "\n",
      "\"CENTRAL\"\n",
      "\n",
      "\"UNIVERSITY\"\n",
      "\n",
      "\"CRICKET\"\n",
      "\n",
      "\"TOURNAMENT\"\n",
      "\n",
      "\"SEPTEMBER\"\n",
      "\n",
      "\"23TH\"\n",
      "\n",
      "\"2018\"\n",
      "\n",
      "\"AT\"\n",
      "\n",
      "\"8PM\"\n",
      "\n",
      "\"RECENTS\"\n",
      "\n",
      "\"VS\"\n",
      "\n",
      "\"TEAM\"\n",
      "\n",
      "\"NAME\"\n",
      "\n",
      "\"CENTRAL\"\n",
      "\n",
      "\"UNIVERSITY\"\n",
      "\n",
      "\"AT\"\n",
      "\n",
      "\"POSTERMYWALL\"\n",
      "\n",
      "\"STADIUM\"\n",
      "\n",
      "\",\"\n",
      "\n",
      "\"124\"\n",
      "\n",
      "\"AVENUE\"\n",
      "\n",
      "\"STREET\"\n",
      "\n",
      "\"lorem\"\n",
      "\n",
      "\"ipsum\"\n",
      "\n",
      "\"dolor\"\n"
     ]
    }
   ],
   "source": [
    "detect_text(r\"C:\\Users\\Acer\\Downloads\\fyp\\download.jpg\")"
   ]
  },
  {
   "cell_type": "code",
   "execution_count": null,
   "id": "c47e3143",
   "metadata": {},
   "outputs": [],
   "source": []
  }
 ],
 "metadata": {
  "kernelspec": {
   "display_name": "Python 3 (ipykernel)",
   "language": "python",
   "name": "python3"
  },
  "language_info": {
   "codemirror_mode": {
    "name": "ipython",
    "version": 3
   },
   "file_extension": ".py",
   "mimetype": "text/x-python",
   "name": "python",
   "nbconvert_exporter": "python",
   "pygments_lexer": "ipython3",
   "version": "3.10.6"
  }
 },
 "nbformat": 4,
 "nbformat_minor": 5
}
