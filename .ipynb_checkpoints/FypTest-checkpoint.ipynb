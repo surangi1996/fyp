{
 "cells": [
  {
   "cell_type": "code",
   "execution_count": 1,
   "id": "e81c477b",
   "metadata": {
    "executionInfo": {
     "elapsed": 6,
     "status": "ok",
     "timestamp": 1681743540792,
     "user": {
      "displayName": "Pathum Mihiranga",
      "userId": "16999484675349585718"
     },
     "user_tz": -330
    },
    "id": "e81c477b"
   },
   "outputs": [],
   "source": [
    "import pandas as pd\n",
    "import string"
   ]
  },
  {
   "cell_type": "markdown",
   "id": "9b145ee1",
   "metadata": {
    "id": "9b145ee1"
   },
   "source": [
    "Loading dataset"
   ]
  },
  {
   "cell_type": "code",
   "execution_count": 2,
   "id": "0e2c6908",
   "metadata": {
    "colab": {
     "base_uri": "https://localhost:8080/",
     "height": 363
    },
    "executionInfo": {
     "elapsed": 555,
     "status": "ok",
     "timestamp": 1681743587612,
     "user": {
      "displayName": "Pathum Mihiranga",
      "userId": "16999484675349585718"
     },
     "user_tz": -330
    },
    "id": "0e2c6908",
    "outputId": "0bdf1168-119b-4290-b8e3-56040f2fd3ea"
   },
   "outputs": [
    {
     "data": {
      "text/html": [
       "\n",
       "  <div id=\"df-e6d77757-e7ce-4c49-8a26-6d30b7987275\">\n",
       "    <div class=\"colab-df-container\">\n",
       "      <div>\n",
       "<style scoped>\n",
       "    .dataframe tbody tr th:only-of-type {\n",
       "        vertical-align: middle;\n",
       "    }\n",
       "\n",
       "    .dataframe tbody tr th {\n",
       "        vertical-align: top;\n",
       "    }\n",
       "\n",
       "    .dataframe thead th {\n",
       "        text-align: right;\n",
       "    }\n",
       "</style>\n",
       "<table border=\"1\" class=\"dataframe\">\n",
       "  <thead>\n",
       "    <tr style=\"text-align: right;\">\n",
       "      <th></th>\n",
       "      <th>index</th>\n",
       "      <th>file</th>\n",
       "      <th>text</th>\n",
       "      <th>sport</th>\n",
       "    </tr>\n",
       "  </thead>\n",
       "  <tbody>\n",
       "    <tr>\n",
       "      <th>0</th>\n",
       "      <td>1</td>\n",
       "      <td>0</td>\n",
       "      <td>Archery TOURNAMENT JUNE 21-24 9AM-2PM REGISTRA...</td>\n",
       "      <td>archery</td>\n",
       "    </tr>\n",
       "    <tr>\n",
       "      <th>1</th>\n",
       "      <td>2</td>\n",
       "      <td>1</td>\n",
       "      <td>ENTERTAINMENT PRESENTS ARCHERY TOURNAMENT LORE...</td>\n",
       "      <td>archery</td>\n",
       "    </tr>\n",
       "    <tr>\n",
       "      <th>2</th>\n",
       "      <td>3</td>\n",
       "      <td>10</td>\n",
       "      <td>PLEASE JOIN US FOR A ARCHERY FUNDRAISER TO RAI...</td>\n",
       "      <td>archery</td>\n",
       "    </tr>\n",
       "    <tr>\n",
       "      <th>3</th>\n",
       "      <td>4</td>\n",
       "      <td>101</td>\n",
       "      <td>Tim Gillingham Shooting Clinic UWTEC TENEME HI...</td>\n",
       "      <td>archery</td>\n",
       "    </tr>\n",
       "    <tr>\n",
       "      <th>4</th>\n",
       "      <td>5</td>\n",
       "      <td>102</td>\n",
       "      <td>Winter Warm-Up NASP Archery Tournament ped by ...</td>\n",
       "      <td>archery</td>\n",
       "    </tr>\n",
       "    <tr>\n",
       "      <th>5</th>\n",
       "      <td>6</td>\n",
       "      <td>103</td>\n",
       "      <td>ALL ARE WELCOME! COME SHOOT FOR FUN OR COMPETI...</td>\n",
       "      <td>archery</td>\n",
       "    </tr>\n",
       "    <tr>\n",
       "      <th>6</th>\n",
       "      <td>7</td>\n",
       "      <td>104</td>\n",
       "      <td>Follow Us on Facebook www.hbgarcheryclub.com H...</td>\n",
       "      <td>archery</td>\n",
       "    </tr>\n",
       "    <tr>\n",
       "      <th>7</th>\n",
       "      <td>8</td>\n",
       "      <td>105</td>\n",
       "      <td>ft GRUNWALD MUZEUM 1001 AMM Archery 12TH INTER...</td>\n",
       "      <td>archery</td>\n",
       "    </tr>\n",
       "    <tr>\n",
       "      <th>8</th>\n",
       "      <td>9</td>\n",
       "      <td>106</td>\n",
       "      <td>3. JACKSON PARISH BOWHUNTERS TOURNAMENT MARCH ...</td>\n",
       "      <td>archery</td>\n",
       "    </tr>\n",
       "    <tr>\n",
       "      <th>9</th>\n",
       "      <td>10</td>\n",
       "      <td>107</td>\n",
       "      <td>Kilari NOHDET Exce Ecc Archery KARACHI OPEN AR...</td>\n",
       "      <td>archery</td>\n",
       "    </tr>\n",
       "  </tbody>\n",
       "</table>\n",
       "</div>\n",
       "      <button class=\"colab-df-convert\" onclick=\"convertToInteractive('df-e6d77757-e7ce-4c49-8a26-6d30b7987275')\"\n",
       "              title=\"Convert this dataframe to an interactive table.\"\n",
       "              style=\"display:none;\">\n",
       "        \n",
       "  <svg xmlns=\"http://www.w3.org/2000/svg\" height=\"24px\"viewBox=\"0 0 24 24\"\n",
       "       width=\"24px\">\n",
       "    <path d=\"M0 0h24v24H0V0z\" fill=\"none\"/>\n",
       "    <path d=\"M18.56 5.44l.94 2.06.94-2.06 2.06-.94-2.06-.94-.94-2.06-.94 2.06-2.06.94zm-11 1L8.5 8.5l.94-2.06 2.06-.94-2.06-.94L8.5 2.5l-.94 2.06-2.06.94zm10 10l.94 2.06.94-2.06 2.06-.94-2.06-.94-.94-2.06-.94 2.06-2.06.94z\"/><path d=\"M17.41 7.96l-1.37-1.37c-.4-.4-.92-.59-1.43-.59-.52 0-1.04.2-1.43.59L10.3 9.45l-7.72 7.72c-.78.78-.78 2.05 0 2.83L4 21.41c.39.39.9.59 1.41.59.51 0 1.02-.2 1.41-.59l7.78-7.78 2.81-2.81c.8-.78.8-2.07 0-2.86zM5.41 20L4 18.59l7.72-7.72 1.47 1.35L5.41 20z\"/>\n",
       "  </svg>\n",
       "      </button>\n",
       "      \n",
       "  <style>\n",
       "    .colab-df-container {\n",
       "      display:flex;\n",
       "      flex-wrap:wrap;\n",
       "      gap: 12px;\n",
       "    }\n",
       "\n",
       "    .colab-df-convert {\n",
       "      background-color: #E8F0FE;\n",
       "      border: none;\n",
       "      border-radius: 50%;\n",
       "      cursor: pointer;\n",
       "      display: none;\n",
       "      fill: #1967D2;\n",
       "      height: 32px;\n",
       "      padding: 0 0 0 0;\n",
       "      width: 32px;\n",
       "    }\n",
       "\n",
       "    .colab-df-convert:hover {\n",
       "      background-color: #E2EBFA;\n",
       "      box-shadow: 0px 1px 2px rgba(60, 64, 67, 0.3), 0px 1px 3px 1px rgba(60, 64, 67, 0.15);\n",
       "      fill: #174EA6;\n",
       "    }\n",
       "\n",
       "    [theme=dark] .colab-df-convert {\n",
       "      background-color: #3B4455;\n",
       "      fill: #D2E3FC;\n",
       "    }\n",
       "\n",
       "    [theme=dark] .colab-df-convert:hover {\n",
       "      background-color: #434B5C;\n",
       "      box-shadow: 0px 1px 3px 1px rgba(0, 0, 0, 0.15);\n",
       "      filter: drop-shadow(0px 1px 2px rgba(0, 0, 0, 0.3));\n",
       "      fill: #FFFFFF;\n",
       "    }\n",
       "  </style>\n",
       "\n",
       "      <script>\n",
       "        const buttonEl =\n",
       "          document.querySelector('#df-e6d77757-e7ce-4c49-8a26-6d30b7987275 button.colab-df-convert');\n",
       "        buttonEl.style.display =\n",
       "          google.colab.kernel.accessAllowed ? 'block' : 'none';\n",
       "\n",
       "        async function convertToInteractive(key) {\n",
       "          const element = document.querySelector('#df-e6d77757-e7ce-4c49-8a26-6d30b7987275');\n",
       "          const dataTable =\n",
       "            await google.colab.kernel.invokeFunction('convertToInteractive',\n",
       "                                                     [key], {});\n",
       "          if (!dataTable) return;\n",
       "\n",
       "          const docLinkHtml = 'Like what you see? Visit the ' +\n",
       "            '<a target=\"_blank\" href=https://colab.research.google.com/notebooks/data_table.ipynb>data table notebook</a>'\n",
       "            + ' to learn more about interactive tables.';\n",
       "          element.innerHTML = '';\n",
       "          dataTable['output_type'] = 'display_data';\n",
       "          await google.colab.output.renderOutput(dataTable, element);\n",
       "          const docLink = document.createElement('div');\n",
       "          docLink.innerHTML = docLinkHtml;\n",
       "          element.appendChild(docLink);\n",
       "        }\n",
       "      </script>\n",
       "    </div>\n",
       "  </div>\n",
       "  "
      ],
      "text/plain": [
       "   index  file                                               text    sport\n",
       "0      1     0  Archery TOURNAMENT JUNE 21-24 9AM-2PM REGISTRA...  archery\n",
       "1      2     1  ENTERTAINMENT PRESENTS ARCHERY TOURNAMENT LORE...  archery\n",
       "2      3    10  PLEASE JOIN US FOR A ARCHERY FUNDRAISER TO RAI...  archery\n",
       "3      4   101  Tim Gillingham Shooting Clinic UWTEC TENEME HI...  archery\n",
       "4      5   102  Winter Warm-Up NASP Archery Tournament ped by ...  archery\n",
       "5      6   103  ALL ARE WELCOME! COME SHOOT FOR FUN OR COMPETI...  archery\n",
       "6      7   104  Follow Us on Facebook www.hbgarcheryclub.com H...  archery\n",
       "7      8   105  ft GRUNWALD MUZEUM 1001 AMM Archery 12TH INTER...  archery\n",
       "8      9   106  3. JACKSON PARISH BOWHUNTERS TOURNAMENT MARCH ...  archery\n",
       "9     10   107  Kilari NOHDET Exce Ecc Archery KARACHI OPEN AR...  archery"
      ]
     },
     "execution_count": 2,
     "metadata": {},
     "output_type": "execute_result"
    }
   ],
   "source": [
    "df = pd.read_csv('labeled.csv')\n",
    "df.head(10)"
   ]
  },
  {
   "cell_type": "code",
   "execution_count": 3,
   "id": "8e488e38",
   "metadata": {
    "colab": {
     "base_uri": "https://localhost:8080/"
    },
    "executionInfo": {
     "elapsed": 4,
     "status": "ok",
     "timestamp": 1681743592912,
     "user": {
      "displayName": "Pathum Mihiranga",
      "userId": "16999484675349585718"
     },
     "user_tz": -330
    },
    "id": "8e488e38",
    "outputId": "961e72fb-cb42-4333-b1f8-267152523b78"
   },
   "outputs": [
    {
     "data": {
      "text/plain": [
       "(2392, 4)"
      ]
     },
     "execution_count": 3,
     "metadata": {},
     "output_type": "execute_result"
    }
   ],
   "source": [
    "df.shape"
   ]
  },
  {
   "cell_type": "code",
   "execution_count": 6,
   "id": "9f78e6a9",
   "metadata": {
    "colab": {
     "base_uri": "https://localhost:8080/"
    },
    "executionInfo": {
     "elapsed": 5,
     "status": "ok",
     "timestamp": 1681743626180,
     "user": {
      "displayName": "Pathum Mihiranga",
      "userId": "16999484675349585718"
     },
     "user_tz": -330
    },
    "id": "9f78e6a9",
    "outputId": "4d86c725-bfcd-407c-e006-45d3a6663ca1"
   },
   "outputs": [
    {
     "data": {
      "text/plain": [
       "chess         447\n",
       "basketball    373\n",
       "golf          335\n",
       "cricket       272\n",
       "tennis        219\n",
       "baseball      177\n",
       "rugby         162\n",
       "archery       156\n",
       "billiard      144\n",
       "carrom        107\n",
       "Name: sport, dtype: int64"
      ]
     },
     "execution_count": 6,
     "metadata": {},
     "output_type": "execute_result"
    }
   ],
   "source": [
    "df['sport'].value_counts()"
   ]
  },
  {
   "cell_type": "markdown",
   "id": "3a98c8a6",
   "metadata": {
    "id": "3a98c8a6"
   },
   "source": [
    "Take 90% sport data from the dataset"
   ]
  },
  {
   "cell_type": "code",
   "execution_count": 57,
   "id": "NuKkl8RVu1tA",
   "metadata": {
    "executionInfo": {
     "elapsed": 1217,
     "status": "ok",
     "timestamp": 1681746724829,
     "user": {
      "displayName": "Pathum Mihiranga",
      "userId": "16999484675349585718"
     },
     "user_tz": -330
    },
    "id": "NuKkl8RVu1tA"
   },
   "outputs": [],
   "source": [
    "# df_train = pd.DataFrame()\n",
    "# for sport in df.sport.unique():\n",
    "#   df_tmp = df[df.sport == sport]\n",
    "#   df_tmp = df_tmp.sample(frac = 0.9).reset_index(drop=True)\n",
    "#   df_train = df_train.append(df_tmp, ignore_index=True)\n",
    "\n",
    "# print(df_train)\n",
    "\n",
    "df_train = df.copy()"
   ]
  },
  {
   "cell_type": "code",
   "execution_count": 58,
   "id": "1fe9a406",
   "metadata": {
    "colab": {
     "base_uri": "https://localhost:8080/"
    },
    "executionInfo": {
     "elapsed": 944,
     "status": "ok",
     "timestamp": 1681746729015,
     "user": {
      "displayName": "Pathum Mihiranga",
      "userId": "16999484675349585718"
     },
     "user_tz": -330
    },
    "id": "1fe9a406",
    "outputId": "b021a4ba-c658-4fc1-c562-23f217bb388c"
   },
   "outputs": [
    {
     "data": {
      "text/plain": [
       "(2392, 4)"
      ]
     },
     "execution_count": 58,
     "metadata": {},
     "output_type": "execute_result"
    }
   ],
   "source": [
    "df_train.shape"
   ]
  },
  {
   "cell_type": "markdown",
   "id": "f438691d",
   "metadata": {
    "id": "f438691d"
   },
   "source": [
    "# Text Pre Processing"
   ]
  },
  {
   "cell_type": "code",
   "execution_count": 59,
   "id": "2218baac",
   "metadata": {
    "colab": {
     "base_uri": "https://localhost:8080/",
     "height": 423
    },
    "executionInfo": {
     "elapsed": 360,
     "status": "ok",
     "timestamp": 1681746734454,
     "user": {
      "displayName": "Pathum Mihiranga",
      "userId": "16999484675349585718"
     },
     "user_tz": -330
    },
    "id": "2218baac",
    "outputId": "491589f8-3e0b-468a-ebd4-a30a4bafd72a",
    "scrolled": true
   },
   "outputs": [
    {
     "data": {
      "text/html": [
       "\n",
       "  <div id=\"df-81e9479a-aa4c-4e07-a413-4d77b6a13a1d\">\n",
       "    <div class=\"colab-df-container\">\n",
       "      <div>\n",
       "<style scoped>\n",
       "    .dataframe tbody tr th:only-of-type {\n",
       "        vertical-align: middle;\n",
       "    }\n",
       "\n",
       "    .dataframe tbody tr th {\n",
       "        vertical-align: top;\n",
       "    }\n",
       "\n",
       "    .dataframe thead th {\n",
       "        text-align: right;\n",
       "    }\n",
       "</style>\n",
       "<table border=\"1\" class=\"dataframe\">\n",
       "  <thead>\n",
       "    <tr style=\"text-align: right;\">\n",
       "      <th></th>\n",
       "      <th>index</th>\n",
       "      <th>file</th>\n",
       "      <th>text</th>\n",
       "      <th>sport</th>\n",
       "    </tr>\n",
       "  </thead>\n",
       "  <tbody>\n",
       "    <tr>\n",
       "      <th>0</th>\n",
       "      <td>1</td>\n",
       "      <td>0</td>\n",
       "      <td>Archery TOURNAMENT JUNE 21-24 9AM-2PM REGISTRA...</td>\n",
       "      <td>archery</td>\n",
       "    </tr>\n",
       "    <tr>\n",
       "      <th>1</th>\n",
       "      <td>2</td>\n",
       "      <td>1</td>\n",
       "      <td>ENTERTAINMENT PRESENTS ARCHERY TOURNAMENT LORE...</td>\n",
       "      <td>archery</td>\n",
       "    </tr>\n",
       "    <tr>\n",
       "      <th>2</th>\n",
       "      <td>3</td>\n",
       "      <td>10</td>\n",
       "      <td>PLEASE JOIN US FOR A ARCHERY FUNDRAISER TO RAI...</td>\n",
       "      <td>archery</td>\n",
       "    </tr>\n",
       "    <tr>\n",
       "      <th>3</th>\n",
       "      <td>4</td>\n",
       "      <td>101</td>\n",
       "      <td>Tim Gillingham Shooting Clinic UWTEC TENEME HI...</td>\n",
       "      <td>archery</td>\n",
       "    </tr>\n",
       "    <tr>\n",
       "      <th>4</th>\n",
       "      <td>5</td>\n",
       "      <td>102</td>\n",
       "      <td>Winter Warm-Up NASP Archery Tournament ped by ...</td>\n",
       "      <td>archery</td>\n",
       "    </tr>\n",
       "    <tr>\n",
       "      <th>...</th>\n",
       "      <td>...</td>\n",
       "      <td>...</td>\n",
       "      <td>...</td>\n",
       "      <td>...</td>\n",
       "    </tr>\n",
       "    <tr>\n",
       "      <th>2387</th>\n",
       "      <td>2388</td>\n",
       "      <td>95</td>\n",
       "      <td>TENNIS CHAMPIONSHIP</td>\n",
       "      <td>tennis</td>\n",
       "    </tr>\n",
       "    <tr>\n",
       "      <th>2388</th>\n",
       "      <td>2389</td>\n",
       "      <td>96</td>\n",
       "      <td>PRESENTS BY TENNIS CLUB SUMMER TENNIS TOURNAME...</td>\n",
       "      <td>tennis</td>\n",
       "    </tr>\n",
       "    <tr>\n",
       "      <th>2389</th>\n",
       "      <td>2390</td>\n",
       "      <td>97</td>\n",
       "      <td>a ALL INDIA TENNIS ASSOCIATION AITA AITA TENNI...</td>\n",
       "      <td>tennis</td>\n",
       "    </tr>\n",
       "    <tr>\n",
       "      <th>2390</th>\n",
       "      <td>2391</td>\n",
       "      <td>98</td>\n",
       "      <td>T 2022 19 SUNDAY JUNY best Pikbes Pikbet TENNI...</td>\n",
       "      <td>tennis</td>\n",
       "    </tr>\n",
       "    <tr>\n",
       "      <th>2391</th>\n",
       "      <td>2392</td>\n",
       "      <td>99</td>\n",
       "      <td>ARE YOU READY FOR TENNIS TOURNAMENT 05.02.20XX...</td>\n",
       "      <td>tennis</td>\n",
       "    </tr>\n",
       "  </tbody>\n",
       "</table>\n",
       "<p>2392 rows × 4 columns</p>\n",
       "</div>\n",
       "      <button class=\"colab-df-convert\" onclick=\"convertToInteractive('df-81e9479a-aa4c-4e07-a413-4d77b6a13a1d')\"\n",
       "              title=\"Convert this dataframe to an interactive table.\"\n",
       "              style=\"display:none;\">\n",
       "        \n",
       "  <svg xmlns=\"http://www.w3.org/2000/svg\" height=\"24px\"viewBox=\"0 0 24 24\"\n",
       "       width=\"24px\">\n",
       "    <path d=\"M0 0h24v24H0V0z\" fill=\"none\"/>\n",
       "    <path d=\"M18.56 5.44l.94 2.06.94-2.06 2.06-.94-2.06-.94-.94-2.06-.94 2.06-2.06.94zm-11 1L8.5 8.5l.94-2.06 2.06-.94-2.06-.94L8.5 2.5l-.94 2.06-2.06.94zm10 10l.94 2.06.94-2.06 2.06-.94-2.06-.94-.94-2.06-.94 2.06-2.06.94z\"/><path d=\"M17.41 7.96l-1.37-1.37c-.4-.4-.92-.59-1.43-.59-.52 0-1.04.2-1.43.59L10.3 9.45l-7.72 7.72c-.78.78-.78 2.05 0 2.83L4 21.41c.39.39.9.59 1.41.59.51 0 1.02-.2 1.41-.59l7.78-7.78 2.81-2.81c.8-.78.8-2.07 0-2.86zM5.41 20L4 18.59l7.72-7.72 1.47 1.35L5.41 20z\"/>\n",
       "  </svg>\n",
       "      </button>\n",
       "      \n",
       "  <style>\n",
       "    .colab-df-container {\n",
       "      display:flex;\n",
       "      flex-wrap:wrap;\n",
       "      gap: 12px;\n",
       "    }\n",
       "\n",
       "    .colab-df-convert {\n",
       "      background-color: #E8F0FE;\n",
       "      border: none;\n",
       "      border-radius: 50%;\n",
       "      cursor: pointer;\n",
       "      display: none;\n",
       "      fill: #1967D2;\n",
       "      height: 32px;\n",
       "      padding: 0 0 0 0;\n",
       "      width: 32px;\n",
       "    }\n",
       "\n",
       "    .colab-df-convert:hover {\n",
       "      background-color: #E2EBFA;\n",
       "      box-shadow: 0px 1px 2px rgba(60, 64, 67, 0.3), 0px 1px 3px 1px rgba(60, 64, 67, 0.15);\n",
       "      fill: #174EA6;\n",
       "    }\n",
       "\n",
       "    [theme=dark] .colab-df-convert {\n",
       "      background-color: #3B4455;\n",
       "      fill: #D2E3FC;\n",
       "    }\n",
       "\n",
       "    [theme=dark] .colab-df-convert:hover {\n",
       "      background-color: #434B5C;\n",
       "      box-shadow: 0px 1px 3px 1px rgba(0, 0, 0, 0.15);\n",
       "      filter: drop-shadow(0px 1px 2px rgba(0, 0, 0, 0.3));\n",
       "      fill: #FFFFFF;\n",
       "    }\n",
       "  </style>\n",
       "\n",
       "      <script>\n",
       "        const buttonEl =\n",
       "          document.querySelector('#df-81e9479a-aa4c-4e07-a413-4d77b6a13a1d button.colab-df-convert');\n",
       "        buttonEl.style.display =\n",
       "          google.colab.kernel.accessAllowed ? 'block' : 'none';\n",
       "\n",
       "        async function convertToInteractive(key) {\n",
       "          const element = document.querySelector('#df-81e9479a-aa4c-4e07-a413-4d77b6a13a1d');\n",
       "          const dataTable =\n",
       "            await google.colab.kernel.invokeFunction('convertToInteractive',\n",
       "                                                     [key], {});\n",
       "          if (!dataTable) return;\n",
       "\n",
       "          const docLinkHtml = 'Like what you see? Visit the ' +\n",
       "            '<a target=\"_blank\" href=https://colab.research.google.com/notebooks/data_table.ipynb>data table notebook</a>'\n",
       "            + ' to learn more about interactive tables.';\n",
       "          element.innerHTML = '';\n",
       "          dataTable['output_type'] = 'display_data';\n",
       "          await google.colab.output.renderOutput(dataTable, element);\n",
       "          const docLink = document.createElement('div');\n",
       "          docLink.innerHTML = docLinkHtml;\n",
       "          element.appendChild(docLink);\n",
       "        }\n",
       "      </script>\n",
       "    </div>\n",
       "  </div>\n",
       "  "
      ],
      "text/plain": [
       "      index  file                                               text    sport\n",
       "0         1     0  Archery TOURNAMENT JUNE 21-24 9AM-2PM REGISTRA...  archery\n",
       "1         2     1  ENTERTAINMENT PRESENTS ARCHERY TOURNAMENT LORE...  archery\n",
       "2         3    10  PLEASE JOIN US FOR A ARCHERY FUNDRAISER TO RAI...  archery\n",
       "3         4   101  Tim Gillingham Shooting Clinic UWTEC TENEME HI...  archery\n",
       "4         5   102  Winter Warm-Up NASP Archery Tournament ped by ...  archery\n",
       "...     ...   ...                                                ...      ...\n",
       "2387   2388    95                                TENNIS CHAMPIONSHIP   tennis\n",
       "2388   2389    96  PRESENTS BY TENNIS CLUB SUMMER TENNIS TOURNAME...   tennis\n",
       "2389   2390    97  a ALL INDIA TENNIS ASSOCIATION AITA AITA TENNI...   tennis\n",
       "2390   2391    98  T 2022 19 SUNDAY JUNY best Pikbes Pikbet TENNI...   tennis\n",
       "2391   2392    99  ARE YOU READY FOR TENNIS TOURNAMENT 05.02.20XX...   tennis\n",
       "\n",
       "[2392 rows x 4 columns]"
      ]
     },
     "execution_count": 59,
     "metadata": {},
     "output_type": "execute_result"
    }
   ],
   "source": [
    "df_train"
   ]
  },
  {
   "cell_type": "markdown",
   "id": "ac041226",
   "metadata": {
    "id": "ac041226"
   },
   "source": [
    "# Lower Casing English Words "
   ]
  },
  {
   "cell_type": "markdown",
   "id": "f04756f0",
   "metadata": {
    "id": "f04756f0"
   },
   "source": [
    "Lower casing is only apply for the English words. Having same word in upper case and lower case can reduce the accuracy. So as a first step convert all the english words to lower case."
   ]
  },
  {
   "cell_type": "code",
   "execution_count": 61,
   "id": "8b4f9f94",
   "metadata": {
    "colab": {
     "base_uri": "https://localhost:8080/",
     "height": 423
    },
    "executionInfo": {
     "elapsed": 635,
     "status": "ok",
     "timestamp": 1681746792775,
     "user": {
      "displayName": "Pathum Mihiranga",
      "userId": "16999484675349585718"
     },
     "user_tz": -330
    },
    "id": "8b4f9f94",
    "outputId": "32b5e279-7592-4216-9d18-9665133dbccf"
   },
   "outputs": [
    {
     "data": {
      "text/html": [
       "\n",
       "  <div id=\"df-42f793c0-632e-4ec9-bd99-01bf3c27f07a\">\n",
       "    <div class=\"colab-df-container\">\n",
       "      <div>\n",
       "<style scoped>\n",
       "    .dataframe tbody tr th:only-of-type {\n",
       "        vertical-align: middle;\n",
       "    }\n",
       "\n",
       "    .dataframe tbody tr th {\n",
       "        vertical-align: top;\n",
       "    }\n",
       "\n",
       "    .dataframe thead th {\n",
       "        text-align: right;\n",
       "    }\n",
       "</style>\n",
       "<table border=\"1\" class=\"dataframe\">\n",
       "  <thead>\n",
       "    <tr style=\"text-align: right;\">\n",
       "      <th></th>\n",
       "      <th>index</th>\n",
       "      <th>file</th>\n",
       "      <th>text</th>\n",
       "      <th>sport</th>\n",
       "    </tr>\n",
       "  </thead>\n",
       "  <tbody>\n",
       "    <tr>\n",
       "      <th>0</th>\n",
       "      <td>1</td>\n",
       "      <td>0</td>\n",
       "      <td>archery tournament june 2124 9am2pm registrati...</td>\n",
       "      <td>archery</td>\n",
       "    </tr>\n",
       "    <tr>\n",
       "      <th>1</th>\n",
       "      <td>2</td>\n",
       "      <td>1</td>\n",
       "      <td>entertainment presents archery tournament lore...</td>\n",
       "      <td>archery</td>\n",
       "    </tr>\n",
       "    <tr>\n",
       "      <th>2</th>\n",
       "      <td>3</td>\n",
       "      <td>10</td>\n",
       "      <td>please join us for a archery fundraiser to rai...</td>\n",
       "      <td>archery</td>\n",
       "    </tr>\n",
       "    <tr>\n",
       "      <th>3</th>\n",
       "      <td>4</td>\n",
       "      <td>101</td>\n",
       "      <td>tim gillingham shooting clinic uwtec teneme hi...</td>\n",
       "      <td>archery</td>\n",
       "    </tr>\n",
       "    <tr>\n",
       "      <th>4</th>\n",
       "      <td>5</td>\n",
       "      <td>102</td>\n",
       "      <td>winter warmup nasp archery tournament ped by t...</td>\n",
       "      <td>archery</td>\n",
       "    </tr>\n",
       "    <tr>\n",
       "      <th>...</th>\n",
       "      <td>...</td>\n",
       "      <td>...</td>\n",
       "      <td>...</td>\n",
       "      <td>...</td>\n",
       "    </tr>\n",
       "    <tr>\n",
       "      <th>2387</th>\n",
       "      <td>2388</td>\n",
       "      <td>95</td>\n",
       "      <td>tennis championship</td>\n",
       "      <td>tennis</td>\n",
       "    </tr>\n",
       "    <tr>\n",
       "      <th>2388</th>\n",
       "      <td>2389</td>\n",
       "      <td>96</td>\n",
       "      <td>presents by tennis club summer tennis tourname...</td>\n",
       "      <td>tennis</td>\n",
       "    </tr>\n",
       "    <tr>\n",
       "      <th>2389</th>\n",
       "      <td>2390</td>\n",
       "      <td>97</td>\n",
       "      <td>a all india tennis association aita aita tenni...</td>\n",
       "      <td>tennis</td>\n",
       "    </tr>\n",
       "    <tr>\n",
       "      <th>2390</th>\n",
       "      <td>2391</td>\n",
       "      <td>98</td>\n",
       "      <td>t 2022 19 sunday juny best pikbes pikbet tenni...</td>\n",
       "      <td>tennis</td>\n",
       "    </tr>\n",
       "    <tr>\n",
       "      <th>2391</th>\n",
       "      <td>2392</td>\n",
       "      <td>99</td>\n",
       "      <td>are you ready for tennis tournament 050220xx 9...</td>\n",
       "      <td>tennis</td>\n",
       "    </tr>\n",
       "  </tbody>\n",
       "</table>\n",
       "<p>2392 rows × 4 columns</p>\n",
       "</div>\n",
       "      <button class=\"colab-df-convert\" onclick=\"convertToInteractive('df-42f793c0-632e-4ec9-bd99-01bf3c27f07a')\"\n",
       "              title=\"Convert this dataframe to an interactive table.\"\n",
       "              style=\"display:none;\">\n",
       "        \n",
       "  <svg xmlns=\"http://www.w3.org/2000/svg\" height=\"24px\"viewBox=\"0 0 24 24\"\n",
       "       width=\"24px\">\n",
       "    <path d=\"M0 0h24v24H0V0z\" fill=\"none\"/>\n",
       "    <path d=\"M18.56 5.44l.94 2.06.94-2.06 2.06-.94-2.06-.94-.94-2.06-.94 2.06-2.06.94zm-11 1L8.5 8.5l.94-2.06 2.06-.94-2.06-.94L8.5 2.5l-.94 2.06-2.06.94zm10 10l.94 2.06.94-2.06 2.06-.94-2.06-.94-.94-2.06-.94 2.06-2.06.94z\"/><path d=\"M17.41 7.96l-1.37-1.37c-.4-.4-.92-.59-1.43-.59-.52 0-1.04.2-1.43.59L10.3 9.45l-7.72 7.72c-.78.78-.78 2.05 0 2.83L4 21.41c.39.39.9.59 1.41.59.51 0 1.02-.2 1.41-.59l7.78-7.78 2.81-2.81c.8-.78.8-2.07 0-2.86zM5.41 20L4 18.59l7.72-7.72 1.47 1.35L5.41 20z\"/>\n",
       "  </svg>\n",
       "      </button>\n",
       "      \n",
       "  <style>\n",
       "    .colab-df-container {\n",
       "      display:flex;\n",
       "      flex-wrap:wrap;\n",
       "      gap: 12px;\n",
       "    }\n",
       "\n",
       "    .colab-df-convert {\n",
       "      background-color: #E8F0FE;\n",
       "      border: none;\n",
       "      border-radius: 50%;\n",
       "      cursor: pointer;\n",
       "      display: none;\n",
       "      fill: #1967D2;\n",
       "      height: 32px;\n",
       "      padding: 0 0 0 0;\n",
       "      width: 32px;\n",
       "    }\n",
       "\n",
       "    .colab-df-convert:hover {\n",
       "      background-color: #E2EBFA;\n",
       "      box-shadow: 0px 1px 2px rgba(60, 64, 67, 0.3), 0px 1px 3px 1px rgba(60, 64, 67, 0.15);\n",
       "      fill: #174EA6;\n",
       "    }\n",
       "\n",
       "    [theme=dark] .colab-df-convert {\n",
       "      background-color: #3B4455;\n",
       "      fill: #D2E3FC;\n",
       "    }\n",
       "\n",
       "    [theme=dark] .colab-df-convert:hover {\n",
       "      background-color: #434B5C;\n",
       "      box-shadow: 0px 1px 3px 1px rgba(0, 0, 0, 0.15);\n",
       "      filter: drop-shadow(0px 1px 2px rgba(0, 0, 0, 0.3));\n",
       "      fill: #FFFFFF;\n",
       "    }\n",
       "  </style>\n",
       "\n",
       "      <script>\n",
       "        const buttonEl =\n",
       "          document.querySelector('#df-42f793c0-632e-4ec9-bd99-01bf3c27f07a button.colab-df-convert');\n",
       "        buttonEl.style.display =\n",
       "          google.colab.kernel.accessAllowed ? 'block' : 'none';\n",
       "\n",
       "        async function convertToInteractive(key) {\n",
       "          const element = document.querySelector('#df-42f793c0-632e-4ec9-bd99-01bf3c27f07a');\n",
       "          const dataTable =\n",
       "            await google.colab.kernel.invokeFunction('convertToInteractive',\n",
       "                                                     [key], {});\n",
       "          if (!dataTable) return;\n",
       "\n",
       "          const docLinkHtml = 'Like what you see? Visit the ' +\n",
       "            '<a target=\"_blank\" href=https://colab.research.google.com/notebooks/data_table.ipynb>data table notebook</a>'\n",
       "            + ' to learn more about interactive tables.';\n",
       "          element.innerHTML = '';\n",
       "          dataTable['output_type'] = 'display_data';\n",
       "          await google.colab.output.renderOutput(dataTable, element);\n",
       "          const docLink = document.createElement('div');\n",
       "          docLink.innerHTML = docLinkHtml;\n",
       "          element.appendChild(docLink);\n",
       "        }\n",
       "      </script>\n",
       "    </div>\n",
       "  </div>\n",
       "  "
      ],
      "text/plain": [
       "      index  file                                               text    sport\n",
       "0         1     0  archery tournament june 2124 9am2pm registrati...  archery\n",
       "1         2     1  entertainment presents archery tournament lore...  archery\n",
       "2         3    10  please join us for a archery fundraiser to rai...  archery\n",
       "3         4   101  tim gillingham shooting clinic uwtec teneme hi...  archery\n",
       "4         5   102  winter warmup nasp archery tournament ped by t...  archery\n",
       "...     ...   ...                                                ...      ...\n",
       "2387   2388    95                                tennis championship   tennis\n",
       "2388   2389    96  presents by tennis club summer tennis tourname...   tennis\n",
       "2389   2390    97  a all india tennis association aita aita tenni...   tennis\n",
       "2390   2391    98  t 2022 19 sunday juny best pikbes pikbet tenni...   tennis\n",
       "2391   2392    99  are you ready for tennis tournament 050220xx 9...   tennis\n",
       "\n",
       "[2392 rows x 4 columns]"
      ]
     },
     "execution_count": 61,
     "metadata": {},
     "output_type": "execute_result"
    }
   ],
   "source": [
    "df_train['text']= df_train['text'].apply(lambda x: x.lower())\n",
    "df_train"
   ]
  },
  {
   "cell_type": "markdown",
   "id": "05bd863f",
   "metadata": {
    "id": "05bd863f"
   },
   "source": [
    "# Sentence Tokenization"
   ]
  },
  {
   "cell_type": "markdown",
   "id": "3e25a579",
   "metadata": {
    "id": "3e25a579"
   },
   "source": [
    "In this step tokenized paragraph into sentences. So sentences can be use to train the model instead of using words. Can use similar sentences to do the prediction. This should be done before punctuations removal to identify the sentences correctly"
   ]
  },
  {
   "cell_type": "code",
   "execution_count": 18,
   "id": "3e400e1d",
   "metadata": {
    "colab": {
     "base_uri": "https://localhost:8080/"
    },
    "executionInfo": {
     "elapsed": 7488,
     "status": "ok",
     "timestamp": 1681744720911,
     "user": {
      "displayName": "Pathum Mihiranga",
      "userId": "16999484675349585718"
     },
     "user_tz": -330
    },
    "id": "3e400e1d",
    "outputId": "7a7d0d5d-75b5-4f6c-e4a5-f1e381d1ecdd"
   },
   "outputs": [
    {
     "name": "stdout",
     "output_type": "stream",
     "text": [
      "Looking in indexes: https://pypi.org/simple, https://us-python.pkg.dev/colab-wheels/public/simple/\n",
      "Requirement already satisfied: nltk in /usr/local/lib/python3.9/dist-packages (3.8.1)\n",
      "Requirement already satisfied: tqdm in /usr/local/lib/python3.9/dist-packages (from nltk) (4.65.0)\n",
      "Requirement already satisfied: regex>=2021.8.3 in /usr/local/lib/python3.9/dist-packages (from nltk) (2022.10.31)\n",
      "Requirement already satisfied: joblib in /usr/local/lib/python3.9/dist-packages (from nltk) (1.2.0)\n",
      "Requirement already satisfied: click in /usr/local/lib/python3.9/dist-packages (from nltk) (8.1.3)\n"
     ]
    },
    {
     "name": "stderr",
     "output_type": "stream",
     "text": [
      "[nltk_data] Downloading package punkt to /root/nltk_data...\n",
      "[nltk_data]   Unzipping tokenizers/punkt.zip.\n"
     ]
    },
    {
     "data": {
      "text/plain": [
       "True"
      ]
     },
     "execution_count": 18,
     "metadata": {},
     "output_type": "execute_result"
    }
   ],
   "source": [
    "!pip install nltk\n",
    "import nltk\n",
    "nltk.download('punkt')"
   ]
  },
  {
   "cell_type": "code",
   "execution_count": 19,
   "id": "3f80e299",
   "metadata": {
    "executionInfo": {
     "elapsed": 1138,
     "status": "ok",
     "timestamp": 1681744735109,
     "user": {
      "displayName": "Pathum Mihiranga",
      "userId": "16999484675349585718"
     },
     "user_tz": -330
    },
    "id": "3f80e299"
   },
   "outputs": [],
   "source": [
    "from nltk.tokenize import sent_tokenize"
   ]
  },
  {
   "cell_type": "markdown",
   "id": "4ae24082",
   "metadata": {
    "id": "4ae24082"
   },
   "source": [
    "After tokenizing sentences"
   ]
  },
  {
   "cell_type": "code",
   "execution_count": 20,
   "id": "94d570fc",
   "metadata": {
    "colab": {
     "base_uri": "https://localhost:8080/",
     "height": 423
    },
    "executionInfo": {
     "elapsed": 344,
     "status": "ok",
     "timestamp": 1681744778304,
     "user": {
      "displayName": "Pathum Mihiranga",
      "userId": "16999484675349585718"
     },
     "user_tz": -330
    },
    "id": "94d570fc",
    "outputId": "e3ed00c0-72c9-4518-a401-d0c4c1e353c4"
   },
   "outputs": [
    {
     "data": {
      "text/html": [
       "\n",
       "  <div id=\"df-654fd73a-e712-4c9b-ba6c-38f874f2eade\">\n",
       "    <div class=\"colab-df-container\">\n",
       "      <div>\n",
       "<style scoped>\n",
       "    .dataframe tbody tr th:only-of-type {\n",
       "        vertical-align: middle;\n",
       "    }\n",
       "\n",
       "    .dataframe tbody tr th {\n",
       "        vertical-align: top;\n",
       "    }\n",
       "\n",
       "    .dataframe thead th {\n",
       "        text-align: right;\n",
       "    }\n",
       "</style>\n",
       "<table border=\"1\" class=\"dataframe\">\n",
       "  <thead>\n",
       "    <tr style=\"text-align: right;\">\n",
       "      <th></th>\n",
       "      <th>index</th>\n",
       "      <th>file</th>\n",
       "      <th>text</th>\n",
       "      <th>sport</th>\n",
       "    </tr>\n",
       "  </thead>\n",
       "  <tbody>\n",
       "    <tr>\n",
       "      <th>0</th>\n",
       "      <td>54</td>\n",
       "      <td>151</td>\n",
       "      <td>[694505866 col 06-11 june 2017 antalya 11yunda...</td>\n",
       "      <td>archery</td>\n",
       "    </tr>\n",
       "    <tr>\n",
       "      <th>1</th>\n",
       "      <td>122</td>\n",
       "      <td>65</td>\n",
       "      <td>[3-d archery shoot puidoso online registration...</td>\n",
       "      <td>archery</td>\n",
       "    </tr>\n",
       "    <tr>\n",
       "      <th>2</th>\n",
       "      <td>57</td>\n",
       "      <td>154</td>\n",
       "      <td>[archer tournament 3 march 03:00 pm islamabad ...</td>\n",
       "      <td>archery</td>\n",
       "    </tr>\n",
       "    <tr>\n",
       "      <th>3</th>\n",
       "      <td>86</td>\n",
       "      <td>27</td>\n",
       "      <td>[envato envato archery club presents the arche...</td>\n",
       "      <td>archery</td>\n",
       "    </tr>\n",
       "    <tr>\n",
       "      <th>4</th>\n",
       "      <td>6</td>\n",
       "      <td>103</td>\n",
       "      <td>[all are welcome!, come shoot for fun or compe...</td>\n",
       "      <td>archery</td>\n",
       "    </tr>\n",
       "    <tr>\n",
       "      <th>...</th>\n",
       "      <td>...</td>\n",
       "      <td>...</td>\n",
       "      <td>...</td>\n",
       "      <td>...</td>\n",
       "    </tr>\n",
       "    <tr>\n",
       "      <th>2148</th>\n",
       "      <td>2210</td>\n",
       "      <td>130</td>\n",
       "      <td>[grand prize $2000 tennis tournament join the ...</td>\n",
       "      <td>tennis</td>\n",
       "    </tr>\n",
       "    <tr>\n",
       "      <th>2149</th>\n",
       "      <td>2257</td>\n",
       "      <td>175</td>\n",
       "      <td>[are you ready for tennis tournament 05.02.202...</td>\n",
       "      <td>tennis</td>\n",
       "    </tr>\n",
       "    <tr>\n",
       "      <th>2150</th>\n",
       "      <td>2389</td>\n",
       "      <td>96</td>\n",
       "      <td>[presents by tennis club summer tennis tournam...</td>\n",
       "      <td>tennis</td>\n",
       "    </tr>\n",
       "    <tr>\n",
       "      <th>2151</th>\n",
       "      <td>2216</td>\n",
       "      <td>137</td>\n",
       "      <td>[ready to print ., cmyk mode., 16 june 18:00 y...</td>\n",
       "      <td>tennis</td>\n",
       "    </tr>\n",
       "    <tr>\n",
       "      <th>2152</th>\n",
       "      <td>2278</td>\n",
       "      <td>194</td>\n",
       "      <td>[boris becker by ten-pro global junior tour 27...</td>\n",
       "      <td>tennis</td>\n",
       "    </tr>\n",
       "  </tbody>\n",
       "</table>\n",
       "<p>2153 rows × 4 columns</p>\n",
       "</div>\n",
       "      <button class=\"colab-df-convert\" onclick=\"convertToInteractive('df-654fd73a-e712-4c9b-ba6c-38f874f2eade')\"\n",
       "              title=\"Convert this dataframe to an interactive table.\"\n",
       "              style=\"display:none;\">\n",
       "        \n",
       "  <svg xmlns=\"http://www.w3.org/2000/svg\" height=\"24px\"viewBox=\"0 0 24 24\"\n",
       "       width=\"24px\">\n",
       "    <path d=\"M0 0h24v24H0V0z\" fill=\"none\"/>\n",
       "    <path d=\"M18.56 5.44l.94 2.06.94-2.06 2.06-.94-2.06-.94-.94-2.06-.94 2.06-2.06.94zm-11 1L8.5 8.5l.94-2.06 2.06-.94-2.06-.94L8.5 2.5l-.94 2.06-2.06.94zm10 10l.94 2.06.94-2.06 2.06-.94-2.06-.94-.94-2.06-.94 2.06-2.06.94z\"/><path d=\"M17.41 7.96l-1.37-1.37c-.4-.4-.92-.59-1.43-.59-.52 0-1.04.2-1.43.59L10.3 9.45l-7.72 7.72c-.78.78-.78 2.05 0 2.83L4 21.41c.39.39.9.59 1.41.59.51 0 1.02-.2 1.41-.59l7.78-7.78 2.81-2.81c.8-.78.8-2.07 0-2.86zM5.41 20L4 18.59l7.72-7.72 1.47 1.35L5.41 20z\"/>\n",
       "  </svg>\n",
       "      </button>\n",
       "      \n",
       "  <style>\n",
       "    .colab-df-container {\n",
       "      display:flex;\n",
       "      flex-wrap:wrap;\n",
       "      gap: 12px;\n",
       "    }\n",
       "\n",
       "    .colab-df-convert {\n",
       "      background-color: #E8F0FE;\n",
       "      border: none;\n",
       "      border-radius: 50%;\n",
       "      cursor: pointer;\n",
       "      display: none;\n",
       "      fill: #1967D2;\n",
       "      height: 32px;\n",
       "      padding: 0 0 0 0;\n",
       "      width: 32px;\n",
       "    }\n",
       "\n",
       "    .colab-df-convert:hover {\n",
       "      background-color: #E2EBFA;\n",
       "      box-shadow: 0px 1px 2px rgba(60, 64, 67, 0.3), 0px 1px 3px 1px rgba(60, 64, 67, 0.15);\n",
       "      fill: #174EA6;\n",
       "    }\n",
       "\n",
       "    [theme=dark] .colab-df-convert {\n",
       "      background-color: #3B4455;\n",
       "      fill: #D2E3FC;\n",
       "    }\n",
       "\n",
       "    [theme=dark] .colab-df-convert:hover {\n",
       "      background-color: #434B5C;\n",
       "      box-shadow: 0px 1px 3px 1px rgba(0, 0, 0, 0.15);\n",
       "      filter: drop-shadow(0px 1px 2px rgba(0, 0, 0, 0.3));\n",
       "      fill: #FFFFFF;\n",
       "    }\n",
       "  </style>\n",
       "\n",
       "      <script>\n",
       "        const buttonEl =\n",
       "          document.querySelector('#df-654fd73a-e712-4c9b-ba6c-38f874f2eade button.colab-df-convert');\n",
       "        buttonEl.style.display =\n",
       "          google.colab.kernel.accessAllowed ? 'block' : 'none';\n",
       "\n",
       "        async function convertToInteractive(key) {\n",
       "          const element = document.querySelector('#df-654fd73a-e712-4c9b-ba6c-38f874f2eade');\n",
       "          const dataTable =\n",
       "            await google.colab.kernel.invokeFunction('convertToInteractive',\n",
       "                                                     [key], {});\n",
       "          if (!dataTable) return;\n",
       "\n",
       "          const docLinkHtml = 'Like what you see? Visit the ' +\n",
       "            '<a target=\"_blank\" href=https://colab.research.google.com/notebooks/data_table.ipynb>data table notebook</a>'\n",
       "            + ' to learn more about interactive tables.';\n",
       "          element.innerHTML = '';\n",
       "          dataTable['output_type'] = 'display_data';\n",
       "          await google.colab.output.renderOutput(dataTable, element);\n",
       "          const docLink = document.createElement('div');\n",
       "          docLink.innerHTML = docLinkHtml;\n",
       "          element.appendChild(docLink);\n",
       "        }\n",
       "      </script>\n",
       "    </div>\n",
       "  </div>\n",
       "  "
      ],
      "text/plain": [
       "      index  file                                               text    sport\n",
       "0        54   151  [694505866 col 06-11 june 2017 antalya 11yunda...  archery\n",
       "1       122    65  [3-d archery shoot puidoso online registration...  archery\n",
       "2        57   154  [archer tournament 3 march 03:00 pm islamabad ...  archery\n",
       "3        86    27  [envato envato archery club presents the arche...  archery\n",
       "4         6   103  [all are welcome!, come shoot for fun or compe...  archery\n",
       "...     ...   ...                                                ...      ...\n",
       "2148   2210   130  [grand prize $2000 tennis tournament join the ...   tennis\n",
       "2149   2257   175  [are you ready for tennis tournament 05.02.202...   tennis\n",
       "2150   2389    96  [presents by tennis club summer tennis tournam...   tennis\n",
       "2151   2216   137  [ready to print ., cmyk mode., 16 june 18:00 y...   tennis\n",
       "2152   2278   194  [boris becker by ten-pro global junior tour 27...   tennis\n",
       "\n",
       "[2153 rows x 4 columns]"
      ]
     },
     "execution_count": 20,
     "metadata": {},
     "output_type": "execute_result"
    }
   ],
   "source": [
    "# df_train[\"text\"] = df_train[\"text\"].apply(lambda x: sent_tokenize(x))\n",
    "# df_train"
   ]
  },
  {
   "cell_type": "markdown",
   "id": "6533a9f9",
   "metadata": {
    "id": "6533a9f9"
   },
   "source": [
    "Create seperate dataframe rows for the newly tokenized sentences."
   ]
  },
  {
   "cell_type": "code",
   "execution_count": 62,
   "id": "dc33de65",
   "metadata": {
    "executionInfo": {
     "elapsed": 371,
     "status": "ok",
     "timestamp": 1681746800311,
     "user": {
      "displayName": "Pathum Mihiranga",
      "userId": "16999484675349585718"
     },
     "user_tz": -330
    },
    "id": "dc33de65"
   },
   "outputs": [],
   "source": [
    "# df_train = df_train.explode(\"text\", ignore_index=True)\n",
    "# df_train"
   ]
  },
  {
   "cell_type": "markdown",
   "id": "e29b3847",
   "metadata": {
    "id": "e29b3847"
   },
   "source": [
    "# Removel Of Punctuation"
   ]
  },
  {
   "cell_type": "markdown",
   "id": "5ad46e3f",
   "metadata": {
    "id": "5ad46e3f"
   },
   "source": [
    "Punctuations are removing, So words can be use to train the model. string.punctuation used to identify the punctuations."
   ]
  },
  {
   "cell_type": "code",
   "execution_count": 63,
   "id": "9dc0a0fb",
   "metadata": {
    "colab": {
     "base_uri": "https://localhost:8080/",
     "height": 423
    },
    "executionInfo": {
     "elapsed": 7,
     "status": "ok",
     "timestamp": 1681746804421,
     "user": {
      "displayName": "Pathum Mihiranga",
      "userId": "16999484675349585718"
     },
     "user_tz": -330
    },
    "id": "9dc0a0fb",
    "outputId": "9e3b1ac5-57cc-4b71-fde6-3b3708327503"
   },
   "outputs": [
    {
     "data": {
      "text/html": [
       "\n",
       "  <div id=\"df-4221d5b6-c8c9-4d75-bff6-9bad0e73f004\">\n",
       "    <div class=\"colab-df-container\">\n",
       "      <div>\n",
       "<style scoped>\n",
       "    .dataframe tbody tr th:only-of-type {\n",
       "        vertical-align: middle;\n",
       "    }\n",
       "\n",
       "    .dataframe tbody tr th {\n",
       "        vertical-align: top;\n",
       "    }\n",
       "\n",
       "    .dataframe thead th {\n",
       "        text-align: right;\n",
       "    }\n",
       "</style>\n",
       "<table border=\"1\" class=\"dataframe\">\n",
       "  <thead>\n",
       "    <tr style=\"text-align: right;\">\n",
       "      <th></th>\n",
       "      <th>index</th>\n",
       "      <th>file</th>\n",
       "      <th>text</th>\n",
       "      <th>sport</th>\n",
       "    </tr>\n",
       "  </thead>\n",
       "  <tbody>\n",
       "    <tr>\n",
       "      <th>0</th>\n",
       "      <td>1</td>\n",
       "      <td>0</td>\n",
       "      <td>archery tournament june 2124 9am2pm registrati...</td>\n",
       "      <td>archery</td>\n",
       "    </tr>\n",
       "    <tr>\n",
       "      <th>1</th>\n",
       "      <td>2</td>\n",
       "      <td>1</td>\n",
       "      <td>entertainment presents archery tournament lore...</td>\n",
       "      <td>archery</td>\n",
       "    </tr>\n",
       "    <tr>\n",
       "      <th>2</th>\n",
       "      <td>3</td>\n",
       "      <td>10</td>\n",
       "      <td>please join us for a archery fundraiser to rai...</td>\n",
       "      <td>archery</td>\n",
       "    </tr>\n",
       "    <tr>\n",
       "      <th>3</th>\n",
       "      <td>4</td>\n",
       "      <td>101</td>\n",
       "      <td>tim gillingham shooting clinic uwtec teneme hi...</td>\n",
       "      <td>archery</td>\n",
       "    </tr>\n",
       "    <tr>\n",
       "      <th>4</th>\n",
       "      <td>5</td>\n",
       "      <td>102</td>\n",
       "      <td>winter warmup nasp archery tournament ped by t...</td>\n",
       "      <td>archery</td>\n",
       "    </tr>\n",
       "    <tr>\n",
       "      <th>...</th>\n",
       "      <td>...</td>\n",
       "      <td>...</td>\n",
       "      <td>...</td>\n",
       "      <td>...</td>\n",
       "    </tr>\n",
       "    <tr>\n",
       "      <th>2387</th>\n",
       "      <td>2388</td>\n",
       "      <td>95</td>\n",
       "      <td>tennis championship</td>\n",
       "      <td>tennis</td>\n",
       "    </tr>\n",
       "    <tr>\n",
       "      <th>2388</th>\n",
       "      <td>2389</td>\n",
       "      <td>96</td>\n",
       "      <td>presents by tennis club summer tennis tourname...</td>\n",
       "      <td>tennis</td>\n",
       "    </tr>\n",
       "    <tr>\n",
       "      <th>2389</th>\n",
       "      <td>2390</td>\n",
       "      <td>97</td>\n",
       "      <td>a all india tennis association aita aita tenni...</td>\n",
       "      <td>tennis</td>\n",
       "    </tr>\n",
       "    <tr>\n",
       "      <th>2390</th>\n",
       "      <td>2391</td>\n",
       "      <td>98</td>\n",
       "      <td>t 2022 19 sunday juny best pikbes pikbet tenni...</td>\n",
       "      <td>tennis</td>\n",
       "    </tr>\n",
       "    <tr>\n",
       "      <th>2391</th>\n",
       "      <td>2392</td>\n",
       "      <td>99</td>\n",
       "      <td>are you ready for tennis tournament 050220xx 9...</td>\n",
       "      <td>tennis</td>\n",
       "    </tr>\n",
       "  </tbody>\n",
       "</table>\n",
       "<p>2392 rows × 4 columns</p>\n",
       "</div>\n",
       "      <button class=\"colab-df-convert\" onclick=\"convertToInteractive('df-4221d5b6-c8c9-4d75-bff6-9bad0e73f004')\"\n",
       "              title=\"Convert this dataframe to an interactive table.\"\n",
       "              style=\"display:none;\">\n",
       "        \n",
       "  <svg xmlns=\"http://www.w3.org/2000/svg\" height=\"24px\"viewBox=\"0 0 24 24\"\n",
       "       width=\"24px\">\n",
       "    <path d=\"M0 0h24v24H0V0z\" fill=\"none\"/>\n",
       "    <path d=\"M18.56 5.44l.94 2.06.94-2.06 2.06-.94-2.06-.94-.94-2.06-.94 2.06-2.06.94zm-11 1L8.5 8.5l.94-2.06 2.06-.94-2.06-.94L8.5 2.5l-.94 2.06-2.06.94zm10 10l.94 2.06.94-2.06 2.06-.94-2.06-.94-.94-2.06-.94 2.06-2.06.94z\"/><path d=\"M17.41 7.96l-1.37-1.37c-.4-.4-.92-.59-1.43-.59-.52 0-1.04.2-1.43.59L10.3 9.45l-7.72 7.72c-.78.78-.78 2.05 0 2.83L4 21.41c.39.39.9.59 1.41.59.51 0 1.02-.2 1.41-.59l7.78-7.78 2.81-2.81c.8-.78.8-2.07 0-2.86zM5.41 20L4 18.59l7.72-7.72 1.47 1.35L5.41 20z\"/>\n",
       "  </svg>\n",
       "      </button>\n",
       "      \n",
       "  <style>\n",
       "    .colab-df-container {\n",
       "      display:flex;\n",
       "      flex-wrap:wrap;\n",
       "      gap: 12px;\n",
       "    }\n",
       "\n",
       "    .colab-df-convert {\n",
       "      background-color: #E8F0FE;\n",
       "      border: none;\n",
       "      border-radius: 50%;\n",
       "      cursor: pointer;\n",
       "      display: none;\n",
       "      fill: #1967D2;\n",
       "      height: 32px;\n",
       "      padding: 0 0 0 0;\n",
       "      width: 32px;\n",
       "    }\n",
       "\n",
       "    .colab-df-convert:hover {\n",
       "      background-color: #E2EBFA;\n",
       "      box-shadow: 0px 1px 2px rgba(60, 64, 67, 0.3), 0px 1px 3px 1px rgba(60, 64, 67, 0.15);\n",
       "      fill: #174EA6;\n",
       "    }\n",
       "\n",
       "    [theme=dark] .colab-df-convert {\n",
       "      background-color: #3B4455;\n",
       "      fill: #D2E3FC;\n",
       "    }\n",
       "\n",
       "    [theme=dark] .colab-df-convert:hover {\n",
       "      background-color: #434B5C;\n",
       "      box-shadow: 0px 1px 3px 1px rgba(0, 0, 0, 0.15);\n",
       "      filter: drop-shadow(0px 1px 2px rgba(0, 0, 0, 0.3));\n",
       "      fill: #FFFFFF;\n",
       "    }\n",
       "  </style>\n",
       "\n",
       "      <script>\n",
       "        const buttonEl =\n",
       "          document.querySelector('#df-4221d5b6-c8c9-4d75-bff6-9bad0e73f004 button.colab-df-convert');\n",
       "        buttonEl.style.display =\n",
       "          google.colab.kernel.accessAllowed ? 'block' : 'none';\n",
       "\n",
       "        async function convertToInteractive(key) {\n",
       "          const element = document.querySelector('#df-4221d5b6-c8c9-4d75-bff6-9bad0e73f004');\n",
       "          const dataTable =\n",
       "            await google.colab.kernel.invokeFunction('convertToInteractive',\n",
       "                                                     [key], {});\n",
       "          if (!dataTable) return;\n",
       "\n",
       "          const docLinkHtml = 'Like what you see? Visit the ' +\n",
       "            '<a target=\"_blank\" href=https://colab.research.google.com/notebooks/data_table.ipynb>data table notebook</a>'\n",
       "            + ' to learn more about interactive tables.';\n",
       "          element.innerHTML = '';\n",
       "          dataTable['output_type'] = 'display_data';\n",
       "          await google.colab.output.renderOutput(dataTable, element);\n",
       "          const docLink = document.createElement('div');\n",
       "          docLink.innerHTML = docLinkHtml;\n",
       "          element.appendChild(docLink);\n",
       "        }\n",
       "      </script>\n",
       "    </div>\n",
       "  </div>\n",
       "  "
      ],
      "text/plain": [
       "      index  file                                               text    sport\n",
       "0         1     0  archery tournament june 2124 9am2pm registrati...  archery\n",
       "1         2     1  entertainment presents archery tournament lore...  archery\n",
       "2         3    10  please join us for a archery fundraiser to rai...  archery\n",
       "3         4   101  tim gillingham shooting clinic uwtec teneme hi...  archery\n",
       "4         5   102  winter warmup nasp archery tournament ped by t...  archery\n",
       "...     ...   ...                                                ...      ...\n",
       "2387   2388    95                                tennis championship   tennis\n",
       "2388   2389    96  presents by tennis club summer tennis tourname...   tennis\n",
       "2389   2390    97  a all india tennis association aita aita tenni...   tennis\n",
       "2390   2391    98  t 2022 19 sunday juny best pikbes pikbet tenni...   tennis\n",
       "2391   2392    99  are you ready for tennis tournament 050220xx 9...   tennis\n",
       "\n",
       "[2392 rows x 4 columns]"
      ]
     },
     "execution_count": 63,
     "metadata": {},
     "output_type": "execute_result"
    }
   ],
   "source": [
    "df_train['text']= df_train['text'].apply(lambda x: x.translate(str.maketrans('', '', string.punctuation)))\n",
    "df_train"
   ]
  },
  {
   "cell_type": "markdown",
   "id": "dFr6yhLI7GT1",
   "metadata": {
    "id": "dFr6yhLI7GT1"
   },
   "source": [
    "# Remove Numbers"
   ]
  },
  {
   "cell_type": "code",
   "execution_count": 64,
   "id": "1jdTB2cs8FlS",
   "metadata": {
    "executionInfo": {
     "elapsed": 4,
     "status": "ok",
     "timestamp": 1681747112987,
     "user": {
      "displayName": "Pathum Mihiranga",
      "userId": "16999484675349585718"
     },
     "user_tz": -330
    },
    "id": "1jdTB2cs8FlS"
   },
   "outputs": [],
   "source": [
    "import re"
   ]
  },
  {
   "cell_type": "code",
   "execution_count": 72,
   "id": "HyKZsZ8H78hr",
   "metadata": {
    "colab": {
     "base_uri": "https://localhost:8080/",
     "height": 423
    },
    "executionInfo": {
     "elapsed": 358,
     "status": "ok",
     "timestamp": 1681747502745,
     "user": {
      "displayName": "Pathum Mihiranga",
      "userId": "16999484675349585718"
     },
     "user_tz": -330
    },
    "id": "HyKZsZ8H78hr",
    "outputId": "1ecabcf0-9631-482f-99ff-e2d31dd29c43"
   },
   "outputs": [
    {
     "data": {
      "text/html": [
       "\n",
       "  <div id=\"df-ea64133d-e595-482b-8036-27dc7b8ce190\">\n",
       "    <div class=\"colab-df-container\">\n",
       "      <div>\n",
       "<style scoped>\n",
       "    .dataframe tbody tr th:only-of-type {\n",
       "        vertical-align: middle;\n",
       "    }\n",
       "\n",
       "    .dataframe tbody tr th {\n",
       "        vertical-align: top;\n",
       "    }\n",
       "\n",
       "    .dataframe thead th {\n",
       "        text-align: right;\n",
       "    }\n",
       "</style>\n",
       "<table border=\"1\" class=\"dataframe\">\n",
       "  <thead>\n",
       "    <tr style=\"text-align: right;\">\n",
       "      <th></th>\n",
       "      <th>index</th>\n",
       "      <th>file</th>\n",
       "      <th>text</th>\n",
       "      <th>sport</th>\n",
       "    </tr>\n",
       "  </thead>\n",
       "  <tbody>\n",
       "    <tr>\n",
       "      <th>0</th>\n",
       "      <td>1</td>\n",
       "      <td>0</td>\n",
       "      <td>archery tournament june am pm registration fee...</td>\n",
       "      <td>archery</td>\n",
       "    </tr>\n",
       "    <tr>\n",
       "      <th>1</th>\n",
       "      <td>2</td>\n",
       "      <td>1</td>\n",
       "      <td>entertainment presents archery tournament lore...</td>\n",
       "      <td>archery</td>\n",
       "    </tr>\n",
       "    <tr>\n",
       "      <th>2</th>\n",
       "      <td>3</td>\n",
       "      <td>10</td>\n",
       "      <td>please join us for a archery fundraiser to rai...</td>\n",
       "      <td>archery</td>\n",
       "    </tr>\n",
       "    <tr>\n",
       "      <th>3</th>\n",
       "      <td>4</td>\n",
       "      <td>101</td>\n",
       "      <td>tim gillingham shooting clinic uwtec teneme hi...</td>\n",
       "      <td>archery</td>\n",
       "    </tr>\n",
       "    <tr>\n",
       "      <th>4</th>\n",
       "      <td>5</td>\n",
       "      <td>102</td>\n",
       "      <td>winter warmup nasp archery tournament ped by t...</td>\n",
       "      <td>archery</td>\n",
       "    </tr>\n",
       "    <tr>\n",
       "      <th>...</th>\n",
       "      <td>...</td>\n",
       "      <td>...</td>\n",
       "      <td>...</td>\n",
       "      <td>...</td>\n",
       "    </tr>\n",
       "    <tr>\n",
       "      <th>2387</th>\n",
       "      <td>2388</td>\n",
       "      <td>95</td>\n",
       "      <td>tennis championship</td>\n",
       "      <td>tennis</td>\n",
       "    </tr>\n",
       "    <tr>\n",
       "      <th>2388</th>\n",
       "      <td>2389</td>\n",
       "      <td>96</td>\n",
       "      <td>presents by tennis club summer tennis tourname...</td>\n",
       "      <td>tennis</td>\n",
       "    </tr>\n",
       "    <tr>\n",
       "      <th>2389</th>\n",
       "      <td>2390</td>\n",
       "      <td>97</td>\n",
       "      <td>a all india tennis association aita aita tenni...</td>\n",
       "      <td>tennis</td>\n",
       "    </tr>\n",
       "    <tr>\n",
       "      <th>2390</th>\n",
       "      <td>2391</td>\n",
       "      <td>98</td>\n",
       "      <td>t sunday juny best pikbes pikbet tennis open w...</td>\n",
       "      <td>tennis</td>\n",
       "    </tr>\n",
       "    <tr>\n",
       "      <th>2391</th>\n",
       "      <td>2392</td>\n",
       "      <td>99</td>\n",
       "      <td>are you ready for tennis tournament xx am to p...</td>\n",
       "      <td>tennis</td>\n",
       "    </tr>\n",
       "  </tbody>\n",
       "</table>\n",
       "<p>2392 rows × 4 columns</p>\n",
       "</div>\n",
       "      <button class=\"colab-df-convert\" onclick=\"convertToInteractive('df-ea64133d-e595-482b-8036-27dc7b8ce190')\"\n",
       "              title=\"Convert this dataframe to an interactive table.\"\n",
       "              style=\"display:none;\">\n",
       "        \n",
       "  <svg xmlns=\"http://www.w3.org/2000/svg\" height=\"24px\"viewBox=\"0 0 24 24\"\n",
       "       width=\"24px\">\n",
       "    <path d=\"M0 0h24v24H0V0z\" fill=\"none\"/>\n",
       "    <path d=\"M18.56 5.44l.94 2.06.94-2.06 2.06-.94-2.06-.94-.94-2.06-.94 2.06-2.06.94zm-11 1L8.5 8.5l.94-2.06 2.06-.94-2.06-.94L8.5 2.5l-.94 2.06-2.06.94zm10 10l.94 2.06.94-2.06 2.06-.94-2.06-.94-.94-2.06-.94 2.06-2.06.94z\"/><path d=\"M17.41 7.96l-1.37-1.37c-.4-.4-.92-.59-1.43-.59-.52 0-1.04.2-1.43.59L10.3 9.45l-7.72 7.72c-.78.78-.78 2.05 0 2.83L4 21.41c.39.39.9.59 1.41.59.51 0 1.02-.2 1.41-.59l7.78-7.78 2.81-2.81c.8-.78.8-2.07 0-2.86zM5.41 20L4 18.59l7.72-7.72 1.47 1.35L5.41 20z\"/>\n",
       "  </svg>\n",
       "      </button>\n",
       "      \n",
       "  <style>\n",
       "    .colab-df-container {\n",
       "      display:flex;\n",
       "      flex-wrap:wrap;\n",
       "      gap: 12px;\n",
       "    }\n",
       "\n",
       "    .colab-df-convert {\n",
       "      background-color: #E8F0FE;\n",
       "      border: none;\n",
       "      border-radius: 50%;\n",
       "      cursor: pointer;\n",
       "      display: none;\n",
       "      fill: #1967D2;\n",
       "      height: 32px;\n",
       "      padding: 0 0 0 0;\n",
       "      width: 32px;\n",
       "    }\n",
       "\n",
       "    .colab-df-convert:hover {\n",
       "      background-color: #E2EBFA;\n",
       "      box-shadow: 0px 1px 2px rgba(60, 64, 67, 0.3), 0px 1px 3px 1px rgba(60, 64, 67, 0.15);\n",
       "      fill: #174EA6;\n",
       "    }\n",
       "\n",
       "    [theme=dark] .colab-df-convert {\n",
       "      background-color: #3B4455;\n",
       "      fill: #D2E3FC;\n",
       "    }\n",
       "\n",
       "    [theme=dark] .colab-df-convert:hover {\n",
       "      background-color: #434B5C;\n",
       "      box-shadow: 0px 1px 3px 1px rgba(0, 0, 0, 0.15);\n",
       "      filter: drop-shadow(0px 1px 2px rgba(0, 0, 0, 0.3));\n",
       "      fill: #FFFFFF;\n",
       "    }\n",
       "  </style>\n",
       "\n",
       "      <script>\n",
       "        const buttonEl =\n",
       "          document.querySelector('#df-ea64133d-e595-482b-8036-27dc7b8ce190 button.colab-df-convert');\n",
       "        buttonEl.style.display =\n",
       "          google.colab.kernel.accessAllowed ? 'block' : 'none';\n",
       "\n",
       "        async function convertToInteractive(key) {\n",
       "          const element = document.querySelector('#df-ea64133d-e595-482b-8036-27dc7b8ce190');\n",
       "          const dataTable =\n",
       "            await google.colab.kernel.invokeFunction('convertToInteractive',\n",
       "                                                     [key], {});\n",
       "          if (!dataTable) return;\n",
       "\n",
       "          const docLinkHtml = 'Like what you see? Visit the ' +\n",
       "            '<a target=\"_blank\" href=https://colab.research.google.com/notebooks/data_table.ipynb>data table notebook</a>'\n",
       "            + ' to learn more about interactive tables.';\n",
       "          element.innerHTML = '';\n",
       "          dataTable['output_type'] = 'display_data';\n",
       "          await google.colab.output.renderOutput(dataTable, element);\n",
       "          const docLink = document.createElement('div');\n",
       "          docLink.innerHTML = docLinkHtml;\n",
       "          element.appendChild(docLink);\n",
       "        }\n",
       "      </script>\n",
       "    </div>\n",
       "  </div>\n",
       "  "
      ],
      "text/plain": [
       "      index  file                                               text    sport\n",
       "0         1     0  archery tournament june am pm registration fee...  archery\n",
       "1         2     1  entertainment presents archery tournament lore...  archery\n",
       "2         3    10  please join us for a archery fundraiser to rai...  archery\n",
       "3         4   101  tim gillingham shooting clinic uwtec teneme hi...  archery\n",
       "4         5   102  winter warmup nasp archery tournament ped by t...  archery\n",
       "...     ...   ...                                                ...      ...\n",
       "2387   2388    95                                tennis championship   tennis\n",
       "2388   2389    96  presents by tennis club summer tennis tourname...   tennis\n",
       "2389   2390    97  a all india tennis association aita aita tenni...   tennis\n",
       "2390   2391    98  t sunday juny best pikbes pikbet tennis open w...   tennis\n",
       "2391   2392    99  are you ready for tennis tournament xx am to p...   tennis\n",
       "\n",
       "[2392 rows x 4 columns]"
      ]
     },
     "execution_count": 72,
     "metadata": {},
     "output_type": "execute_result"
    }
   ],
   "source": [
    "for i, row in df_train.iterrows():\n",
    "  tmp = re.sub(r'\\d', ' ', row['text'])\n",
    "  tmp = \" \".join(tmp.split())\n",
    "  df_train.at[i, 'text'] = tmp\n",
    "df_train"
   ]
  },
  {
   "cell_type": "markdown",
   "id": "4c81a86b",
   "metadata": {
    "id": "4c81a86b"
   },
   "source": [
    "# Removal Of Stopwords"
   ]
  },
  {
   "cell_type": "markdown",
   "id": "9717246d",
   "metadata": {
    "id": "9717246d"
   },
   "source": [
    "Remove stop words. Because stop words does not affect to give good accuratable prediction. Those are commanly using words"
   ]
  },
  {
   "cell_type": "code",
   "execution_count": 73,
   "id": "2b6a01d9",
   "metadata": {
    "colab": {
     "base_uri": "https://localhost:8080/"
    },
    "executionInfo": {
     "elapsed": 3,
     "status": "ok",
     "timestamp": 1681747543789,
     "user": {
      "displayName": "Pathum Mihiranga",
      "userId": "16999484675349585718"
     },
     "user_tz": -330
    },
    "id": "2b6a01d9",
    "outputId": "880b8504-e590-4647-d38d-a92c7f3a7e6b"
   },
   "outputs": [
    {
     "name": "stderr",
     "output_type": "stream",
     "text": [
      "[nltk_data] Downloading package stopwords to /root/nltk_data...\n",
      "[nltk_data]   Package stopwords is already up-to-date!\n"
     ]
    }
   ],
   "source": [
    "nltk.download('stopwords')\n",
    "from nltk.corpus import stopwords"
   ]
  },
  {
   "cell_type": "code",
   "execution_count": 74,
   "id": "1a8c3c13",
   "metadata": {
    "colab": {
     "base_uri": "https://localhost:8080/"
    },
    "executionInfo": {
     "elapsed": 3,
     "status": "ok",
     "timestamp": 1681747546995,
     "user": {
      "displayName": "Pathum Mihiranga",
      "userId": "16999484675349585718"
     },
     "user_tz": -330
    },
    "id": "1a8c3c13",
    "outputId": "3c2d602c-697c-4a32-dd3e-78d8d553dae5"
   },
   "outputs": [
    {
     "name": "stdout",
     "output_type": "stream",
     "text": [
      "['i', 'me', 'my', 'myself', 'we', 'our', 'ours', 'ourselves', 'you', \"you're\", \"you've\", \"you'll\", \"you'd\", 'your', 'yours', 'yourself', 'yourselves', 'he', 'him', 'his', 'himself', 'she', \"she's\", 'her', 'hers', 'herself', 'it', \"it's\", 'its', 'itself', 'they', 'them', 'their', 'theirs', 'themselves', 'what', 'which', 'who', 'whom', 'this', 'that', \"that'll\", 'these', 'those', 'am', 'is', 'are', 'was', 'were', 'be', 'been', 'being', 'have', 'has', 'had', 'having', 'do', 'does', 'did', 'doing', 'a', 'an', 'the', 'and', 'but', 'if', 'or', 'because', 'as', 'until', 'while', 'of', 'at', 'by', 'for', 'with', 'about', 'against', 'between', 'into', 'through', 'during', 'before', 'after', 'above', 'below', 'to', 'from', 'up', 'down', 'in', 'out', 'on', 'off', 'over', 'under', 'again', 'further', 'then', 'once', 'here', 'there', 'when', 'where', 'why', 'how', 'all', 'any', 'both', 'each', 'few', 'more', 'most', 'other', 'some', 'such', 'no', 'nor', 'not', 'only', 'own', 'same', 'so', 'than', 'too', 'very', 's', 't', 'can', 'will', 'just', 'don', \"don't\", 'should', \"should've\", 'now', 'd', 'll', 'm', 'o', 're', 've', 'y', 'ain', 'aren', \"aren't\", 'couldn', \"couldn't\", 'didn', \"didn't\", 'doesn', \"doesn't\", 'hadn', \"hadn't\", 'hasn', \"hasn't\", 'haven', \"haven't\", 'isn', \"isn't\", 'ma', 'mightn', \"mightn't\", 'mustn', \"mustn't\", 'needn', \"needn't\", 'shan', \"shan't\", 'shouldn', \"shouldn't\", 'wasn', \"wasn't\", 'weren', \"weren't\", 'won', \"won't\", 'wouldn', \"wouldn't\"]\n"
     ]
    }
   ],
   "source": [
    "english_stop_words_list=stopwords.words('english')\n",
    "print(english_stop_words_list)"
   ]
  },
  {
   "cell_type": "markdown",
   "id": "4986ba80",
   "metadata": {
    "id": "4986ba80"
   },
   "source": [
    "Removing stopwords and dataset after removing stopwords"
   ]
  },
  {
   "cell_type": "code",
   "execution_count": 75,
   "id": "93c6d9f2",
   "metadata": {
    "executionInfo": {
     "elapsed": 1020,
     "status": "ok",
     "timestamp": 1681747551100,
     "user": {
      "displayName": "Pathum Mihiranga",
      "userId": "16999484675349585718"
     },
     "user_tz": -330
    },
    "id": "93c6d9f2"
   },
   "outputs": [],
   "source": [
    "def rem_stpwrds(text):\n",
    "    return \" \".join([word for word in str(text).split() if word not in english_stop_words_list])"
   ]
  },
  {
   "cell_type": "code",
   "execution_count": 76,
   "id": "555fdec0",
   "metadata": {
    "colab": {
     "base_uri": "https://localhost:8080/",
     "height": 423
    },
    "executionInfo": {
     "elapsed": 5,
     "status": "ok",
     "timestamp": 1681747553378,
     "user": {
      "displayName": "Pathum Mihiranga",
      "userId": "16999484675349585718"
     },
     "user_tz": -330
    },
    "id": "555fdec0",
    "outputId": "4b9ce1a2-1906-4969-817b-fc7d3cbb2256"
   },
   "outputs": [
    {
     "data": {
      "text/html": [
       "\n",
       "  <div id=\"df-b657ac9a-9321-4a80-8feb-f2dd9b408546\">\n",
       "    <div class=\"colab-df-container\">\n",
       "      <div>\n",
       "<style scoped>\n",
       "    .dataframe tbody tr th:only-of-type {\n",
       "        vertical-align: middle;\n",
       "    }\n",
       "\n",
       "    .dataframe tbody tr th {\n",
       "        vertical-align: top;\n",
       "    }\n",
       "\n",
       "    .dataframe thead th {\n",
       "        text-align: right;\n",
       "    }\n",
       "</style>\n",
       "<table border=\"1\" class=\"dataframe\">\n",
       "  <thead>\n",
       "    <tr style=\"text-align: right;\">\n",
       "      <th></th>\n",
       "      <th>index</th>\n",
       "      <th>file</th>\n",
       "      <th>text</th>\n",
       "      <th>sport</th>\n",
       "    </tr>\n",
       "  </thead>\n",
       "  <tbody>\n",
       "    <tr>\n",
       "      <th>0</th>\n",
       "      <td>1</td>\n",
       "      <td>0</td>\n",
       "      <td>archery tournament june pm registration fee ye...</td>\n",
       "      <td>archery</td>\n",
       "    </tr>\n",
       "    <tr>\n",
       "      <th>1</th>\n",
       "      <td>2</td>\n",
       "      <td>1</td>\n",
       "      <td>entertainment presents archery tournament lore...</td>\n",
       "      <td>archery</td>\n",
       "    </tr>\n",
       "    <tr>\n",
       "      <th>2</th>\n",
       "      <td>3</td>\n",
       "      <td>10</td>\n",
       "      <td>please join us archery fundraiser raise money ...</td>\n",
       "      <td>archery</td>\n",
       "    </tr>\n",
       "    <tr>\n",
       "      <th>3</th>\n",
       "      <td>4</td>\n",
       "      <td>101</td>\n",
       "      <td>tim gillingham shooting clinic uwtec teneme hi...</td>\n",
       "      <td>archery</td>\n",
       "    </tr>\n",
       "    <tr>\n",
       "      <th>4</th>\n",
       "      <td>5</td>\n",
       "      <td>102</td>\n",
       "      <td>winter warmup nasp archery tournament ped tere...</td>\n",
       "      <td>archery</td>\n",
       "    </tr>\n",
       "    <tr>\n",
       "      <th>...</th>\n",
       "      <td>...</td>\n",
       "      <td>...</td>\n",
       "      <td>...</td>\n",
       "      <td>...</td>\n",
       "    </tr>\n",
       "    <tr>\n",
       "      <th>2387</th>\n",
       "      <td>2388</td>\n",
       "      <td>95</td>\n",
       "      <td>tennis championship</td>\n",
       "      <td>tennis</td>\n",
       "    </tr>\n",
       "    <tr>\n",
       "      <th>2388</th>\n",
       "      <td>2389</td>\n",
       "      <td>96</td>\n",
       "      <td>presents tennis club summer tennis tournament ...</td>\n",
       "      <td>tennis</td>\n",
       "    </tr>\n",
       "    <tr>\n",
       "      <th>2389</th>\n",
       "      <td>2390</td>\n",
       "      <td>97</td>\n",
       "      <td>india tennis association aita aita tennis tour...</td>\n",
       "      <td>tennis</td>\n",
       "    </tr>\n",
       "    <tr>\n",
       "      <th>2390</th>\n",
       "      <td>2391</td>\n",
       "      <td>98</td>\n",
       "      <td>sunday juny best pikbes pikbet tennis open web...</td>\n",
       "      <td>tennis</td>\n",
       "    </tr>\n",
       "    <tr>\n",
       "      <th>2391</th>\n",
       "      <td>2392</td>\n",
       "      <td>99</td>\n",
       "      <td>ready tennis tournament xx pm anywhere st city...</td>\n",
       "      <td>tennis</td>\n",
       "    </tr>\n",
       "  </tbody>\n",
       "</table>\n",
       "<p>2392 rows × 4 columns</p>\n",
       "</div>\n",
       "      <button class=\"colab-df-convert\" onclick=\"convertToInteractive('df-b657ac9a-9321-4a80-8feb-f2dd9b408546')\"\n",
       "              title=\"Convert this dataframe to an interactive table.\"\n",
       "              style=\"display:none;\">\n",
       "        \n",
       "  <svg xmlns=\"http://www.w3.org/2000/svg\" height=\"24px\"viewBox=\"0 0 24 24\"\n",
       "       width=\"24px\">\n",
       "    <path d=\"M0 0h24v24H0V0z\" fill=\"none\"/>\n",
       "    <path d=\"M18.56 5.44l.94 2.06.94-2.06 2.06-.94-2.06-.94-.94-2.06-.94 2.06-2.06.94zm-11 1L8.5 8.5l.94-2.06 2.06-.94-2.06-.94L8.5 2.5l-.94 2.06-2.06.94zm10 10l.94 2.06.94-2.06 2.06-.94-2.06-.94-.94-2.06-.94 2.06-2.06.94z\"/><path d=\"M17.41 7.96l-1.37-1.37c-.4-.4-.92-.59-1.43-.59-.52 0-1.04.2-1.43.59L10.3 9.45l-7.72 7.72c-.78.78-.78 2.05 0 2.83L4 21.41c.39.39.9.59 1.41.59.51 0 1.02-.2 1.41-.59l7.78-7.78 2.81-2.81c.8-.78.8-2.07 0-2.86zM5.41 20L4 18.59l7.72-7.72 1.47 1.35L5.41 20z\"/>\n",
       "  </svg>\n",
       "      </button>\n",
       "      \n",
       "  <style>\n",
       "    .colab-df-container {\n",
       "      display:flex;\n",
       "      flex-wrap:wrap;\n",
       "      gap: 12px;\n",
       "    }\n",
       "\n",
       "    .colab-df-convert {\n",
       "      background-color: #E8F0FE;\n",
       "      border: none;\n",
       "      border-radius: 50%;\n",
       "      cursor: pointer;\n",
       "      display: none;\n",
       "      fill: #1967D2;\n",
       "      height: 32px;\n",
       "      padding: 0 0 0 0;\n",
       "      width: 32px;\n",
       "    }\n",
       "\n",
       "    .colab-df-convert:hover {\n",
       "      background-color: #E2EBFA;\n",
       "      box-shadow: 0px 1px 2px rgba(60, 64, 67, 0.3), 0px 1px 3px 1px rgba(60, 64, 67, 0.15);\n",
       "      fill: #174EA6;\n",
       "    }\n",
       "\n",
       "    [theme=dark] .colab-df-convert {\n",
       "      background-color: #3B4455;\n",
       "      fill: #D2E3FC;\n",
       "    }\n",
       "\n",
       "    [theme=dark] .colab-df-convert:hover {\n",
       "      background-color: #434B5C;\n",
       "      box-shadow: 0px 1px 3px 1px rgba(0, 0, 0, 0.15);\n",
       "      filter: drop-shadow(0px 1px 2px rgba(0, 0, 0, 0.3));\n",
       "      fill: #FFFFFF;\n",
       "    }\n",
       "  </style>\n",
       "\n",
       "      <script>\n",
       "        const buttonEl =\n",
       "          document.querySelector('#df-b657ac9a-9321-4a80-8feb-f2dd9b408546 button.colab-df-convert');\n",
       "        buttonEl.style.display =\n",
       "          google.colab.kernel.accessAllowed ? 'block' : 'none';\n",
       "\n",
       "        async function convertToInteractive(key) {\n",
       "          const element = document.querySelector('#df-b657ac9a-9321-4a80-8feb-f2dd9b408546');\n",
       "          const dataTable =\n",
       "            await google.colab.kernel.invokeFunction('convertToInteractive',\n",
       "                                                     [key], {});\n",
       "          if (!dataTable) return;\n",
       "\n",
       "          const docLinkHtml = 'Like what you see? Visit the ' +\n",
       "            '<a target=\"_blank\" href=https://colab.research.google.com/notebooks/data_table.ipynb>data table notebook</a>'\n",
       "            + ' to learn more about interactive tables.';\n",
       "          element.innerHTML = '';\n",
       "          dataTable['output_type'] = 'display_data';\n",
       "          await google.colab.output.renderOutput(dataTable, element);\n",
       "          const docLink = document.createElement('div');\n",
       "          docLink.innerHTML = docLinkHtml;\n",
       "          element.appendChild(docLink);\n",
       "        }\n",
       "      </script>\n",
       "    </div>\n",
       "  </div>\n",
       "  "
      ],
      "text/plain": [
       "      index  file                                               text    sport\n",
       "0         1     0  archery tournament june pm registration fee ye...  archery\n",
       "1         2     1  entertainment presents archery tournament lore...  archery\n",
       "2         3    10  please join us archery fundraiser raise money ...  archery\n",
       "3         4   101  tim gillingham shooting clinic uwtec teneme hi...  archery\n",
       "4         5   102  winter warmup nasp archery tournament ped tere...  archery\n",
       "...     ...   ...                                                ...      ...\n",
       "2387   2388    95                                tennis championship   tennis\n",
       "2388   2389    96  presents tennis club summer tennis tournament ...   tennis\n",
       "2389   2390    97  india tennis association aita aita tennis tour...   tennis\n",
       "2390   2391    98  sunday juny best pikbes pikbet tennis open web...   tennis\n",
       "2391   2392    99  ready tennis tournament xx pm anywhere st city...   tennis\n",
       "\n",
       "[2392 rows x 4 columns]"
      ]
     },
     "execution_count": 76,
     "metadata": {},
     "output_type": "execute_result"
    }
   ],
   "source": [
    "df_train[\"text\"] = df_train[\"text\"].apply(lambda x: rem_stpwrds(x))\n",
    "df_train"
   ]
  },
  {
   "cell_type": "markdown",
   "id": "dc46d6fe",
   "metadata": {
    "id": "dc46d6fe"
   },
   "source": [
    "# Removal of Frequent words"
   ]
  },
  {
   "cell_type": "markdown",
   "id": "48b85faa",
   "metadata": {
    "id": "48b85faa"
   },
   "source": [
    "Most of the frequently used data are have none or littel semantic meaning related to a context. Most of them are articles, pronouns, or conjuctions. So removed top 10 most frequents words."
   ]
  },
  {
   "cell_type": "code",
   "execution_count": null,
   "id": "d7b25415",
   "metadata": {
    "id": "d7b25415"
   },
   "outputs": [],
   "source": [
    "df_train = df_train.copy()"
   ]
  },
  {
   "cell_type": "code",
   "execution_count": 28,
   "id": "3fda6e3a",
   "metadata": {
    "colab": {
     "base_uri": "https://localhost:8080/"
    },
    "executionInfo": {
     "elapsed": 7,
     "status": "ok",
     "timestamp": 1681745233785,
     "user": {
      "displayName": "Pathum Mihiranga",
      "userId": "16999484675349585718"
     },
     "user_tz": -330
    },
    "id": "3fda6e3a",
    "outputId": "35a0ab8f-ce28-4f63-8444-8b5b88fd958a"
   },
   "outputs": [
    {
     "data": {
      "text/plain": [
       "[('tournament', 1066),\n",
       " ('lorem', 574),\n",
       " ('golf', 552),\n",
       " ('ipsum', 538),\n",
       " ('dolor', 531),\n",
       " ('sit', 472),\n",
       " ('team', 468),\n",
       " ('amet', 451),\n",
       " ('basketball', 434),\n",
       " ('pm', 422)]"
      ]
     },
     "execution_count": 28,
     "metadata": {},
     "output_type": "execute_result"
    }
   ],
   "source": [
    "from collections import Counter\n",
    "\n",
    "cnt = Counter()\n",
    "\n",
    "def idf_frq_wrds(text):\n",
    "  for word in text.split():\n",
    "    cnt[word] += 1\n",
    "\n",
    "df_train[\"text\"].apply(lambda x: idf_frq_wrds(x))\n",
    "\n",
    "cnt.most_common(10)"
   ]
  },
  {
   "cell_type": "markdown",
   "id": "d2ec485d",
   "metadata": {
    "id": "d2ec485d"
   },
   "source": [
    "Removing frequent words and dataset after removing frequent words"
   ]
  },
  {
   "cell_type": "code",
   "execution_count": 29,
   "id": "39e4b7ca",
   "metadata": {
    "executionInfo": {
     "elapsed": 362,
     "status": "ok",
     "timestamp": 1681745334748,
     "user": {
      "displayName": "Pathum Mihiranga",
      "userId": "16999484675349585718"
     },
     "user_tz": -330
    },
    "id": "39e4b7ca"
   },
   "outputs": [],
   "source": [
    "# FREQWORDS = set([w for (w, wc) in cnt.most_common(10)])\n",
    "\n",
    "# def remove_f_words(text):\n",
    "#     return \" \".join([word for word in str(text).split() if word not in FREQWORDS])\n",
    "\n",
    "# df_data6[\"text_fwrds-rem\"] = df_data6[\"text\"].apply(lambda text: remove_f_words(text))\n",
    "# df_data6.head(20)"
   ]
  },
  {
   "cell_type": "code",
   "execution_count": 30,
   "id": "a5545f98",
   "metadata": {
    "executionInfo": {
     "elapsed": 3,
     "status": "ok",
     "timestamp": 1681745345465,
     "user": {
      "displayName": "Pathum Mihiranga",
      "userId": "16999484675349585718"
     },
     "user_tz": -330
    },
    "id": "a5545f98"
   },
   "outputs": [],
   "source": [
    "# df_data7[\"text\"] = df_data7[\"text\"].apply(lambda text: remove_f_words(text))"
   ]
  },
  {
   "cell_type": "markdown",
   "id": "a4e4c300",
   "metadata": {
    "id": "a4e4c300"
   },
   "source": [
    "# Stemming"
   ]
  },
  {
   "cell_type": "markdown",
   "id": "1e7f9598",
   "metadata": {
    "id": "1e7f9598"
   },
   "source": [
    "Process of removing inflected or sometimes derived words from the word stem. In this process sometime orignial word meaning is also lose."
   ]
  },
  {
   "cell_type": "code",
   "execution_count": 115,
   "id": "i1rdoOnyC3cE",
   "metadata": {
    "executionInfo": {
     "elapsed": 969,
     "status": "ok",
     "timestamp": 1681749315693,
     "user": {
      "displayName": "Pathum Mihiranga",
      "userId": "16999484675349585718"
     },
     "user_tz": -330
    },
    "id": "i1rdoOnyC3cE"
   },
   "outputs": [],
   "source": [
    "from nltk.stem import LancasterStemmer\n",
    "\n",
    "lc = LancasterStemmer()\n",
    "\n",
    "def stem(text):\n",
    "    return \" \".join([lc.stem(word) for word in text.split()])\n",
    "\n",
    "df_train['text'] = df_train['text'].apply(stem)\n"
   ]
  },
  {
   "cell_type": "code",
   "execution_count": 116,
   "id": "X3ZmYTECEjRP",
   "metadata": {
    "colab": {
     "base_uri": "https://localhost:8080/",
     "height": 423
    },
    "executionInfo": {
     "elapsed": 6,
     "status": "ok",
     "timestamp": 1681749330200,
     "user": {
      "displayName": "Pathum Mihiranga",
      "userId": "16999484675349585718"
     },
     "user_tz": -330
    },
    "id": "X3ZmYTECEjRP",
    "outputId": "252eb620-73db-41ae-dc08-14fb3efb54ed"
   },
   "outputs": [
    {
     "data": {
      "text/html": [
       "\n",
       "  <div id=\"df-cb1a7ad4-2b85-41ff-b307-79c1088f51d1\">\n",
       "    <div class=\"colab-df-container\">\n",
       "      <div>\n",
       "<style scoped>\n",
       "    .dataframe tbody tr th:only-of-type {\n",
       "        vertical-align: middle;\n",
       "    }\n",
       "\n",
       "    .dataframe tbody tr th {\n",
       "        vertical-align: top;\n",
       "    }\n",
       "\n",
       "    .dataframe thead th {\n",
       "        text-align: right;\n",
       "    }\n",
       "</style>\n",
       "<table border=\"1\" class=\"dataframe\">\n",
       "  <thead>\n",
       "    <tr style=\"text-align: right;\">\n",
       "      <th></th>\n",
       "      <th>index</th>\n",
       "      <th>file</th>\n",
       "      <th>text</th>\n",
       "      <th>sport</th>\n",
       "    </tr>\n",
       "  </thead>\n",
       "  <tbody>\n",
       "    <tr>\n",
       "      <th>0</th>\n",
       "      <td>1</td>\n",
       "      <td>0</td>\n",
       "      <td>archery tourna jun pm reg fee year old c kensh...</td>\n",
       "      <td>archery</td>\n",
       "    </tr>\n",
       "    <tr>\n",
       "      <th>1</th>\n",
       "      <td>2</td>\n",
       "      <td>1</td>\n",
       "      <td>entertain pres archery tourna lorem ips dol si...</td>\n",
       "      <td>archery</td>\n",
       "    </tr>\n",
       "    <tr>\n",
       "      <th>2</th>\n",
       "      <td>3</td>\n",
       "      <td>10</td>\n",
       "      <td>pleas join us archery fundra rais money suppor...</td>\n",
       "      <td>archery</td>\n",
       "    </tr>\n",
       "    <tr>\n",
       "      <th>3</th>\n",
       "      <td>4</td>\n",
       "      <td>101</td>\n",
       "      <td>tim gillingham shoot clin uwtec tenem hitⓡmiss...</td>\n",
       "      <td>archery</td>\n",
       "    </tr>\n",
       "    <tr>\n",
       "      <th>4</th>\n",
       "      <td>5</td>\n",
       "      <td>102</td>\n",
       "      <td>wint warmup nasp archery tourna ped ter flery ...</td>\n",
       "      <td>archery</td>\n",
       "    </tr>\n",
       "    <tr>\n",
       "      <th>...</th>\n",
       "      <td>...</td>\n",
       "      <td>...</td>\n",
       "      <td>...</td>\n",
       "      <td>...</td>\n",
       "    </tr>\n",
       "    <tr>\n",
       "      <th>2387</th>\n",
       "      <td>2388</td>\n",
       "      <td>95</td>\n",
       "      <td>ten champ</td>\n",
       "      <td>tennis</td>\n",
       "    </tr>\n",
       "    <tr>\n",
       "      <th>2388</th>\n",
       "      <td>2389</td>\n",
       "      <td>96</td>\n",
       "      <td>pres ten club sum ten tourna sunday april gree...</td>\n",
       "      <td>tennis</td>\n",
       "    </tr>\n",
       "    <tr>\n",
       "      <th>2389</th>\n",
       "      <td>2390</td>\n",
       "      <td>97</td>\n",
       "      <td>ind ten assocy ait ait ten tourna boy girl dec...</td>\n",
       "      <td>tennis</td>\n",
       "    </tr>\n",
       "    <tr>\n",
       "      <th>2390</th>\n",
       "      <td>2391</td>\n",
       "      <td>98</td>\n",
       "      <td>sunday juny best pikb pikbet ten op websitecom...</td>\n",
       "      <td>tennis</td>\n",
       "    </tr>\n",
       "    <tr>\n",
       "      <th>2391</th>\n",
       "      <td>2392</td>\n",
       "      <td>99</td>\n",
       "      <td>ready ten tourna xx pm anywh st city fre reg y...</td>\n",
       "      <td>tennis</td>\n",
       "    </tr>\n",
       "  </tbody>\n",
       "</table>\n",
       "<p>2392 rows × 4 columns</p>\n",
       "</div>\n",
       "      <button class=\"colab-df-convert\" onclick=\"convertToInteractive('df-cb1a7ad4-2b85-41ff-b307-79c1088f51d1')\"\n",
       "              title=\"Convert this dataframe to an interactive table.\"\n",
       "              style=\"display:none;\">\n",
       "        \n",
       "  <svg xmlns=\"http://www.w3.org/2000/svg\" height=\"24px\"viewBox=\"0 0 24 24\"\n",
       "       width=\"24px\">\n",
       "    <path d=\"M0 0h24v24H0V0z\" fill=\"none\"/>\n",
       "    <path d=\"M18.56 5.44l.94 2.06.94-2.06 2.06-.94-2.06-.94-.94-2.06-.94 2.06-2.06.94zm-11 1L8.5 8.5l.94-2.06 2.06-.94-2.06-.94L8.5 2.5l-.94 2.06-2.06.94zm10 10l.94 2.06.94-2.06 2.06-.94-2.06-.94-.94-2.06-.94 2.06-2.06.94z\"/><path d=\"M17.41 7.96l-1.37-1.37c-.4-.4-.92-.59-1.43-.59-.52 0-1.04.2-1.43.59L10.3 9.45l-7.72 7.72c-.78.78-.78 2.05 0 2.83L4 21.41c.39.39.9.59 1.41.59.51 0 1.02-.2 1.41-.59l7.78-7.78 2.81-2.81c.8-.78.8-2.07 0-2.86zM5.41 20L4 18.59l7.72-7.72 1.47 1.35L5.41 20z\"/>\n",
       "  </svg>\n",
       "      </button>\n",
       "      \n",
       "  <style>\n",
       "    .colab-df-container {\n",
       "      display:flex;\n",
       "      flex-wrap:wrap;\n",
       "      gap: 12px;\n",
       "    }\n",
       "\n",
       "    .colab-df-convert {\n",
       "      background-color: #E8F0FE;\n",
       "      border: none;\n",
       "      border-radius: 50%;\n",
       "      cursor: pointer;\n",
       "      display: none;\n",
       "      fill: #1967D2;\n",
       "      height: 32px;\n",
       "      padding: 0 0 0 0;\n",
       "      width: 32px;\n",
       "    }\n",
       "\n",
       "    .colab-df-convert:hover {\n",
       "      background-color: #E2EBFA;\n",
       "      box-shadow: 0px 1px 2px rgba(60, 64, 67, 0.3), 0px 1px 3px 1px rgba(60, 64, 67, 0.15);\n",
       "      fill: #174EA6;\n",
       "    }\n",
       "\n",
       "    [theme=dark] .colab-df-convert {\n",
       "      background-color: #3B4455;\n",
       "      fill: #D2E3FC;\n",
       "    }\n",
       "\n",
       "    [theme=dark] .colab-df-convert:hover {\n",
       "      background-color: #434B5C;\n",
       "      box-shadow: 0px 1px 3px 1px rgba(0, 0, 0, 0.15);\n",
       "      filter: drop-shadow(0px 1px 2px rgba(0, 0, 0, 0.3));\n",
       "      fill: #FFFFFF;\n",
       "    }\n",
       "  </style>\n",
       "\n",
       "      <script>\n",
       "        const buttonEl =\n",
       "          document.querySelector('#df-cb1a7ad4-2b85-41ff-b307-79c1088f51d1 button.colab-df-convert');\n",
       "        buttonEl.style.display =\n",
       "          google.colab.kernel.accessAllowed ? 'block' : 'none';\n",
       "\n",
       "        async function convertToInteractive(key) {\n",
       "          const element = document.querySelector('#df-cb1a7ad4-2b85-41ff-b307-79c1088f51d1');\n",
       "          const dataTable =\n",
       "            await google.colab.kernel.invokeFunction('convertToInteractive',\n",
       "                                                     [key], {});\n",
       "          if (!dataTable) return;\n",
       "\n",
       "          const docLinkHtml = 'Like what you see? Visit the ' +\n",
       "            '<a target=\"_blank\" href=https://colab.research.google.com/notebooks/data_table.ipynb>data table notebook</a>'\n",
       "            + ' to learn more about interactive tables.';\n",
       "          element.innerHTML = '';\n",
       "          dataTable['output_type'] = 'display_data';\n",
       "          await google.colab.output.renderOutput(dataTable, element);\n",
       "          const docLink = document.createElement('div');\n",
       "          docLink.innerHTML = docLinkHtml;\n",
       "          element.appendChild(docLink);\n",
       "        }\n",
       "      </script>\n",
       "    </div>\n",
       "  </div>\n",
       "  "
      ],
      "text/plain": [
       "      index  file                                               text    sport\n",
       "0         1     0  archery tourna jun pm reg fee year old c kensh...  archery\n",
       "1         2     1  entertain pres archery tourna lorem ips dol si...  archery\n",
       "2         3    10  pleas join us archery fundra rais money suppor...  archery\n",
       "3         4   101  tim gillingham shoot clin uwtec tenem hitⓡmiss...  archery\n",
       "4         5   102  wint warmup nasp archery tourna ped ter flery ...  archery\n",
       "...     ...   ...                                                ...      ...\n",
       "2387   2388    95                                          ten champ   tennis\n",
       "2388   2389    96  pres ten club sum ten tourna sunday april gree...   tennis\n",
       "2389   2390    97  ind ten assocy ait ait ten tourna boy girl dec...   tennis\n",
       "2390   2391    98  sunday juny best pikb pikbet ten op websitecom...   tennis\n",
       "2391   2392    99  ready ten tourna xx pm anywh st city fre reg y...   tennis\n",
       "\n",
       "[2392 rows x 4 columns]"
      ]
     },
     "execution_count": 116,
     "metadata": {},
     "output_type": "execute_result"
    }
   ],
   "source": [
    "df_train"
   ]
  },
  {
   "cell_type": "markdown",
   "id": "05206451",
   "metadata": {
    "id": "05206451"
   },
   "source": [
    "# Naive Bayes Model"
   ]
  },
  {
   "cell_type": "markdown",
   "id": "5d8e5885",
   "metadata": {
    "id": "5d8e5885"
   },
   "source": [
    "Apply Naive Bayes model\n",
    "\n",
    "Create x and y data from prepreocessed data.."
   ]
  },
  {
   "cell_type": "code",
   "execution_count": 117,
   "id": "90b3b353",
   "metadata": {
    "executionInfo": {
     "elapsed": 394,
     "status": "ok",
     "timestamp": 1681749339035,
     "user": {
      "displayName": "Pathum Mihiranga",
      "userId": "16999484675349585718"
     },
     "user_tz": -330
    },
    "id": "90b3b353"
   },
   "outputs": [],
   "source": [
    "x_data = df_train['text']\n",
    "y_data = df_train['sport']"
   ]
  },
  {
   "cell_type": "markdown",
   "id": "7b23aecc",
   "metadata": {
    "id": "7b23aecc"
   },
   "source": [
    "Split text and train data. 20% text data."
   ]
  },
  {
   "cell_type": "code",
   "execution_count": 78,
   "id": "96b17ad2",
   "metadata": {
    "colab": {
     "base_uri": "https://localhost:8080/"
    },
    "executionInfo": {
     "elapsed": 6914,
     "status": "ok",
     "timestamp": 1681747580934,
     "user": {
      "displayName": "Pathum Mihiranga",
      "userId": "16999484675349585718"
     },
     "user_tz": -330
    },
    "id": "96b17ad2",
    "outputId": "17e0eadc-6c6d-4386-cb22-26e2030225d4"
   },
   "outputs": [
    {
     "name": "stdout",
     "output_type": "stream",
     "text": [
      "Looking in indexes: https://pypi.org/simple, https://us-python.pkg.dev/colab-wheels/public/simple/\n",
      "Requirement already satisfied: scikit-learn in /usr/local/lib/python3.9/dist-packages (1.2.2)\n",
      "Requirement already satisfied: scipy in /usr/local/lib/python3.9/dist-packages (1.10.1)\n",
      "Requirement already satisfied: matplotlib in /usr/local/lib/python3.9/dist-packages (3.7.1)\n",
      "Requirement already satisfied: joblib>=1.1.1 in /usr/local/lib/python3.9/dist-packages (from scikit-learn) (1.2.0)\n",
      "Requirement already satisfied: numpy>=1.17.3 in /usr/local/lib/python3.9/dist-packages (from scikit-learn) (1.22.4)\n",
      "Requirement already satisfied: threadpoolctl>=2.0.0 in /usr/local/lib/python3.9/dist-packages (from scikit-learn) (3.1.0)\n",
      "Requirement already satisfied: cycler>=0.10 in /usr/local/lib/python3.9/dist-packages (from matplotlib) (0.11.0)\n",
      "Requirement already satisfied: pillow>=6.2.0 in /usr/local/lib/python3.9/dist-packages (from matplotlib) (8.4.0)\n",
      "Requirement already satisfied: contourpy>=1.0.1 in /usr/local/lib/python3.9/dist-packages (from matplotlib) (1.0.7)\n",
      "Requirement already satisfied: importlib-resources>=3.2.0 in /usr/local/lib/python3.9/dist-packages (from matplotlib) (5.12.0)\n",
      "Requirement already satisfied: pyparsing>=2.3.1 in /usr/local/lib/python3.9/dist-packages (from matplotlib) (3.0.9)\n",
      "Requirement already satisfied: kiwisolver>=1.0.1 in /usr/local/lib/python3.9/dist-packages (from matplotlib) (1.4.4)\n",
      "Requirement already satisfied: python-dateutil>=2.7 in /usr/local/lib/python3.9/dist-packages (from matplotlib) (2.8.2)\n",
      "Requirement already satisfied: packaging>=20.0 in /usr/local/lib/python3.9/dist-packages (from matplotlib) (23.0)\n",
      "Requirement already satisfied: fonttools>=4.22.0 in /usr/local/lib/python3.9/dist-packages (from matplotlib) (4.39.3)\n",
      "Requirement already satisfied: zipp>=3.1.0 in /usr/local/lib/python3.9/dist-packages (from importlib-resources>=3.2.0->matplotlib) (3.15.0)\n",
      "Requirement already satisfied: six>=1.5 in /usr/local/lib/python3.9/dist-packages (from python-dateutil>=2.7->matplotlib) (1.16.0)\n"
     ]
    }
   ],
   "source": [
    "!pip install -U scikit-learn scipy matplotlib"
   ]
  },
  {
   "cell_type": "code",
   "execution_count": 45,
   "id": "4eb12b18",
   "metadata": {
    "executionInfo": {
     "elapsed": 2,
     "status": "ok",
     "timestamp": 1681746214931,
     "user": {
      "displayName": "Pathum Mihiranga",
      "userId": "16999484675349585718"
     },
     "user_tz": -330
    },
    "id": "4eb12b18"
   },
   "outputs": [],
   "source": [
    "from sklearn.model_selection import train_test_split"
   ]
  },
  {
   "cell_type": "code",
   "execution_count": 118,
   "id": "98a9bf2c",
   "metadata": {
    "executionInfo": {
     "elapsed": 2,
     "status": "ok",
     "timestamp": 1681749342971,
     "user": {
      "displayName": "Pathum Mihiranga",
      "userId": "16999484675349585718"
     },
     "user_tz": -330
    },
    "id": "98a9bf2c"
   },
   "outputs": [],
   "source": [
    "x_train , x_test , y_train , y_test = train_test_split(x_data , y_data , stratify=y_data, test_size=0.2 )"
   ]
  },
  {
   "cell_type": "code",
   "execution_count": 119,
   "id": "741b5771",
   "metadata": {
    "colab": {
     "base_uri": "https://localhost:8080/"
    },
    "executionInfo": {
     "elapsed": 1096,
     "status": "ok",
     "timestamp": 1681749347402,
     "user": {
      "displayName": "Pathum Mihiranga",
      "userId": "16999484675349585718"
     },
     "user_tz": -330
    },
    "id": "741b5771",
    "outputId": "35611610-0c5c-4975-af05-ead6cd8f6e0f"
   },
   "outputs": [
    {
     "data": {
      "text/plain": [
       "((1913,), (479,), (1913,), (479,))"
      ]
     },
     "execution_count": 119,
     "metadata": {},
     "output_type": "execute_result"
    }
   ],
   "source": [
    "x_train.shape , x_test.shape , y_train.shape , y_test.shape"
   ]
  },
  {
   "cell_type": "markdown",
   "id": "fdeee2ba",
   "metadata": {
    "id": "fdeee2ba"
   },
   "source": [
    "vectorize x_train and x_test data."
   ]
  },
  {
   "cell_type": "code",
   "execution_count": 48,
   "id": "fdef8e71",
   "metadata": {
    "executionInfo": {
     "elapsed": 362,
     "status": "ok",
     "timestamp": 1681746263257,
     "user": {
      "displayName": "Pathum Mihiranga",
      "userId": "16999484675349585718"
     },
     "user_tz": -330
    },
    "id": "fdef8e71"
   },
   "outputs": [],
   "source": [
    "from sklearn.feature_extraction.text import CountVectorizer"
   ]
  },
  {
   "cell_type": "code",
   "execution_count": 120,
   "id": "d0fd657c",
   "metadata": {
    "executionInfo": {
     "elapsed": 959,
     "status": "ok",
     "timestamp": 1681749352019,
     "user": {
      "displayName": "Pathum Mihiranga",
      "userId": "16999484675349585718"
     },
     "user_tz": -330
    },
    "id": "d0fd657c"
   },
   "outputs": [],
   "source": [
    "vec = CountVectorizer()\n",
    "x_train_old = x_train\n",
    "x_test_old = x_test\n",
    "x_train = vec.fit_transform(x_train).toarray()\n",
    "x_test = vec.transform(x_test).toarray()"
   ]
  },
  {
   "cell_type": "markdown",
   "id": "23a345b3",
   "metadata": {
    "id": "23a345b3"
   },
   "source": [
    "Fit the data to model and train using x_train and y_train data"
   ]
  },
  {
   "cell_type": "code",
   "execution_count": 121,
   "id": "79723bf0",
   "metadata": {
    "colab": {
     "base_uri": "https://localhost:8080/",
     "height": 74
    },
    "executionInfo": {
     "elapsed": 2226,
     "status": "ok",
     "timestamp": 1681749356446,
     "user": {
      "displayName": "Pathum Mihiranga",
      "userId": "16999484675349585718"
     },
     "user_tz": -330
    },
    "id": "79723bf0",
    "outputId": "8d88e576-cae1-4c25-87a6-a09c55aa95e1"
   },
   "outputs": [
    {
     "data": {
      "text/html": [
       "<style>#sk-container-id-4 {color: black;background-color: white;}#sk-container-id-4 pre{padding: 0;}#sk-container-id-4 div.sk-toggleable {background-color: white;}#sk-container-id-4 label.sk-toggleable__label {cursor: pointer;display: block;width: 100%;margin-bottom: 0;padding: 0.3em;box-sizing: border-box;text-align: center;}#sk-container-id-4 label.sk-toggleable__label-arrow:before {content: \"▸\";float: left;margin-right: 0.25em;color: #696969;}#sk-container-id-4 label.sk-toggleable__label-arrow:hover:before {color: black;}#sk-container-id-4 div.sk-estimator:hover label.sk-toggleable__label-arrow:before {color: black;}#sk-container-id-4 div.sk-toggleable__content {max-height: 0;max-width: 0;overflow: hidden;text-align: left;background-color: #f0f8ff;}#sk-container-id-4 div.sk-toggleable__content pre {margin: 0.2em;color: black;border-radius: 0.25em;background-color: #f0f8ff;}#sk-container-id-4 input.sk-toggleable__control:checked~div.sk-toggleable__content {max-height: 200px;max-width: 100%;overflow: auto;}#sk-container-id-4 input.sk-toggleable__control:checked~label.sk-toggleable__label-arrow:before {content: \"▾\";}#sk-container-id-4 div.sk-estimator input.sk-toggleable__control:checked~label.sk-toggleable__label {background-color: #d4ebff;}#sk-container-id-4 div.sk-label input.sk-toggleable__control:checked~label.sk-toggleable__label {background-color: #d4ebff;}#sk-container-id-4 input.sk-hidden--visually {border: 0;clip: rect(1px 1px 1px 1px);clip: rect(1px, 1px, 1px, 1px);height: 1px;margin: -1px;overflow: hidden;padding: 0;position: absolute;width: 1px;}#sk-container-id-4 div.sk-estimator {font-family: monospace;background-color: #f0f8ff;border: 1px dotted black;border-radius: 0.25em;box-sizing: border-box;margin-bottom: 0.5em;}#sk-container-id-4 div.sk-estimator:hover {background-color: #d4ebff;}#sk-container-id-4 div.sk-parallel-item::after {content: \"\";width: 100%;border-bottom: 1px solid gray;flex-grow: 1;}#sk-container-id-4 div.sk-label:hover label.sk-toggleable__label {background-color: #d4ebff;}#sk-container-id-4 div.sk-serial::before {content: \"\";position: absolute;border-left: 1px solid gray;box-sizing: border-box;top: 0;bottom: 0;left: 50%;z-index: 0;}#sk-container-id-4 div.sk-serial {display: flex;flex-direction: column;align-items: center;background-color: white;padding-right: 0.2em;padding-left: 0.2em;position: relative;}#sk-container-id-4 div.sk-item {position: relative;z-index: 1;}#sk-container-id-4 div.sk-parallel {display: flex;align-items: stretch;justify-content: center;background-color: white;position: relative;}#sk-container-id-4 div.sk-item::before, #sk-container-id-4 div.sk-parallel-item::before {content: \"\";position: absolute;border-left: 1px solid gray;box-sizing: border-box;top: 0;bottom: 0;left: 50%;z-index: -1;}#sk-container-id-4 div.sk-parallel-item {display: flex;flex-direction: column;z-index: 1;position: relative;background-color: white;}#sk-container-id-4 div.sk-parallel-item:first-child::after {align-self: flex-end;width: 50%;}#sk-container-id-4 div.sk-parallel-item:last-child::after {align-self: flex-start;width: 50%;}#sk-container-id-4 div.sk-parallel-item:only-child::after {width: 0;}#sk-container-id-4 div.sk-dashed-wrapped {border: 1px dashed gray;margin: 0 0.4em 0.5em 0.4em;box-sizing: border-box;padding-bottom: 0.4em;background-color: white;}#sk-container-id-4 div.sk-label label {font-family: monospace;font-weight: bold;display: inline-block;line-height: 1.2em;}#sk-container-id-4 div.sk-label-container {text-align: center;}#sk-container-id-4 div.sk-container {/* jupyter's `normalize.less` sets `[hidden] { display: none; }` but bootstrap.min.css set `[hidden] { display: none !important; }` so we also need the `!important` here to be able to override the default hidden behavior on the sphinx rendered scikit-learn.org. See: https://github.com/scikit-learn/scikit-learn/issues/21755 */display: inline-block !important;position: relative;}#sk-container-id-4 div.sk-text-repr-fallback {display: none;}</style><div id=\"sk-container-id-4\" class=\"sk-top-container\"><div class=\"sk-text-repr-fallback\"><pre>MultinomialNB()</pre><b>In a Jupyter environment, please rerun this cell to show the HTML representation or trust the notebook. <br />On GitHub, the HTML representation is unable to render, please try loading this page with nbviewer.org.</b></div><div class=\"sk-container\" hidden><div class=\"sk-item\"><div class=\"sk-estimator sk-toggleable\"><input class=\"sk-toggleable__control sk-hidden--visually\" id=\"sk-estimator-id-4\" type=\"checkbox\" checked><label for=\"sk-estimator-id-4\" class=\"sk-toggleable__label sk-toggleable__label-arrow\">MultinomialNB</label><div class=\"sk-toggleable__content\"><pre>MultinomialNB()</pre></div></div></div></div></div>"
      ],
      "text/plain": [
       "MultinomialNB()"
      ]
     },
     "execution_count": 121,
     "metadata": {},
     "output_type": "execute_result"
    }
   ],
   "source": [
    "from sklearn.naive_bayes import MultinomialNB\n",
    "\n",
    "model = MultinomialNB()\n",
    "model.fit(x_train, y_train)"
   ]
  },
  {
   "cell_type": "markdown",
   "id": "21d55f8e",
   "metadata": {
    "id": "21d55f8e"
   },
   "source": [
    "Evaluate model - Giving around 0.7 score"
   ]
  },
  {
   "cell_type": "code",
   "execution_count": 122,
   "id": "de4a735b",
   "metadata": {
    "colab": {
     "base_uri": "https://localhost:8080/"
    },
    "executionInfo": {
     "elapsed": 3,
     "status": "ok",
     "timestamp": 1681749358530,
     "user": {
      "displayName": "Pathum Mihiranga",
      "userId": "16999484675349585718"
     },
     "user_tz": -330
    },
    "id": "de4a735b",
    "outputId": "68159be5-e34b-4d1c-8d31-8f7c9a791f6b"
   },
   "outputs": [
    {
     "data": {
      "text/plain": [
       "0.8100208768267223"
      ]
     },
     "execution_count": 122,
     "metadata": {},
     "output_type": "execute_result"
    }
   ],
   "source": [
    "model.score(x_test, y_test)"
   ]
  },
  {
   "cell_type": "code",
   "execution_count": 123,
   "id": "7b284725",
   "metadata": {
    "executionInfo": {
     "elapsed": 392,
     "status": "ok",
     "timestamp": 1681749369246,
     "user": {
      "displayName": "Pathum Mihiranga",
      "userId": "16999484675349585718"
     },
     "user_tz": -330
    },
    "id": "7b284725"
   },
   "outputs": [],
   "source": [
    "pred = model.predict(x_test)"
   ]
  },
  {
   "cell_type": "code",
   "execution_count": 91,
   "id": "4716b592",
   "metadata": {
    "executionInfo": {
     "elapsed": 3,
     "status": "ok",
     "timestamp": 1681747797181,
     "user": {
      "displayName": "Pathum Mihiranga",
      "userId": "16999484675349585718"
     },
     "user_tz": -330
    },
    "id": "4716b592"
   },
   "outputs": [],
   "source": [
    "from sklearn.metrics import accuracy_score"
   ]
  },
  {
   "cell_type": "code",
   "execution_count": 124,
   "id": "000cc2d4",
   "metadata": {
    "colab": {
     "base_uri": "https://localhost:8080/"
    },
    "executionInfo": {
     "elapsed": 351,
     "status": "ok",
     "timestamp": 1681749371867,
     "user": {
      "displayName": "Pathum Mihiranga",
      "userId": "16999484675349585718"
     },
     "user_tz": -330
    },
    "id": "000cc2d4",
    "outputId": "640b7237-ef8a-483b-8446-a87e8ebc4054"
   },
   "outputs": [
    {
     "name": "stdout",
     "output_type": "stream",
     "text": [
      "0.8100208768267223\n"
     ]
    }
   ],
   "source": [
    "print(accuracy_score(y_test , pred))"
   ]
  },
  {
   "cell_type": "code",
   "execution_count": 125,
   "id": "Z00-GevB5Oyi",
   "metadata": {
    "colab": {
     "base_uri": "https://localhost:8080/"
    },
    "executionInfo": {
     "elapsed": 4,
     "status": "ok",
     "timestamp": 1681749373910,
     "user": {
      "displayName": "Pathum Mihiranga",
      "userId": "16999484675349585718"
     },
     "user_tz": -330
    },
    "id": "Z00-GevB5Oyi",
    "outputId": "6d059341-f7a2-4518-a80b-117a8277665f"
   },
   "outputs": [
    {
     "name": "stdout",
     "output_type": "stream",
     "text": [
      "archery\tbasketball\t\t\tc archery tourna lorem ips dol sit amet concectet septemb th pm lorem ips dol sit am consectet adipisc elit avenu street florid\n",
      "\n",
      "archery\tbasketball\t\t\torchet c archery champ nyc champ schedule pm millenn develop est saturday may fund provid nyc depart you commun develop address school hero street queen ny sonyc schools new york city visit requir show vaccin stat door\n",
      "\n",
      "archery\tbasketball\t\t\tpostermywal pres archery tourna start pm liv mus fre entry lorem ips dol sit amet mad postenwalcom th oct wwwwebpagecom postermywallcom csaprintstock getty im not watermark purchas\n",
      "\n",
      "archery\tbasketball\t\t\tpres archery tourna pm jun reg fee ver year old kenshaw archery club cent main street plac lorem ips dol sit amet consectetu adipisc elit sed diam nonummy nibh eu mod tincidunt ut wwwyour websitecom pres archery tourna pm jun reg fee year old kenshaw archery club cent main street plac lorem ips dol sit amet consectetu adipisc elit sed diam nonummy nibh eu mod tincidunt ut pres archery tourna pm jun reg fee year old kenshaw archery club cent main street plac lorem ips dol sit amet consectetu adipisc elit sed diam nonummy nibh eu mod tincidunt ut wwwyourwebsitecom\n",
      "\n",
      "archery\tgolf\t\t\thouston ncsy kickoff ev archery hit et postermywallcom ² info rabb soussansoussansncsyorg rabb ay coh aycohenncsyorg wwwsouthwestncsyorg op reg nsu friend fun din join teen board across reg teen grad septemb pm pm godwin park houston texa nosu fre inspir jew fut new attend per person\n",
      "\n",
      "archery\tgolf\t\t\tpleas join us archery fundra rais money support pinewood archery team saturday octob pm pm pinewood school gymnas archery driv denv co per person ticket pric includ eat pizz past din sod cupcak raffl priz draw thank support process go toward pinewood school basketbal team info volunt contact mary inst download edit edit templ ul edit и цоз templet templ print x\n",
      "\n",
      "baseball\tarchery\t\t\tcity detroit gen serv depart parksionon basebal skillsand dril wint sess jan march monday thursday pm pm crowel recr cent lahs rd detroit mi program fre cent memb basebal skil dril requir prereg inform cal\n",
      "\n",
      "baseball\tarchery\t\t\tsummervil high school basebal sign reg op august th pm pm summervil school field main street sumemrvil ny requir docu ✓birth cert form ai www at park vis reg\n",
      "\n",
      "baseball\tbasketball\t\t\tbasebal champ saturday jun th inform lorem um er am siarad basebal champ inform curabit imperdiet fragit qui conu saturday jun th nam stad logo company\n",
      "\n",
      "baseball\tbasketball\t\t\tbasebal season tourna group group b sastcom th septemb portb pmi fre drink inform contact facebookcomyo twittercomyoutubecomyou logo p shutterstockcom\n",
      "\n",
      "baseball\tbasketball\t\t\tbasebal tourna start may reg contact us may schedule ad team ad team ad team ad team ad tam ad team ad team ad team ad team ad team ad team adam ad team ad team ad team ad team ad team ad team ad team\n",
      "\n",
      "baseball\tbasketball\t\t\tmay th basebal tourna team vs team b door op pm ticket fre park match fixt tig aug new york pm eagl jun menyrk dood sportsclub streetname youremailadresspomailcom\n",
      "\n",
      "baseball\tbasketball\t\t\tnew york jun basebal leagu shutterstockcom\n",
      "\n",
      "baseball\tbasketball\t\t\tout pric cts reach off bas bal guid sal\n",
      "\n",
      "baseball\tbasketball\t\t\tpres basebal night blu vs friday ju red plac street nam country nam seek felak bit amet consetet ind elit sed diam nonummy th\n",
      "\n",
      "baseball\tbasketball\t\t\tteam background arc sport team design raseral\n",
      "\n",
      "baseball\tbasketball\t\t\twright ditson basf bal pric cent publ wright ditson washington street boston guid mass h murn edit basebal magazin outdoop jun pric sport forrington elwal pric cent reach off bas go balk ar de publ aj reach co philadelph pa\n",
      "\n",
      "baseball\tbilliard\t\t\tlov stat city stev acevedo max arcinieg eect tat hanyok pres max arcinieg tat hanyok lov basebal guerrin gardn hugo medin as al vaness flor katy mihailov andr solorzano joseph b hernandez stev acevedo lol noh max arcinieg jerry montoy tat hanyok stev acevedo ser stev acevedo joe booth tat hanyok jerry montoy amrox direct stev acevedo stev acevedo\n",
      "\n",
      "baseball\tgolf\t\t\tper person pleas join us xc pinewood ★★★ school tbal team basebal rais money support ready saturday nov pm pinewood school gymnas ticket pric includ eat pizz past din sod cupck raffl draw thank sup process pinewood school team info volunt contac per rson canv pleas join us pinewood ★★★ school tbal team basebal rais money support ready saturday nov pm pinewood school gymnas ticket pric includ eat pizz past din sod cupck raffl draw thank support process go pinewood school tbal team info volunt contact mary\n",
      "\n",
      "basketball\tchess\t\t\tock im ock images™ stock basketbal ✰✰✰ tourna april istock getty im lorem lorem ips dol sit amet consr vehicul ullamcorp rhonc eu vari null sed ut justo ex consectet adipisc elit donec enim libero stock getty images™ maecena justo magn porttit vel ven eu lobort eget quam null pharetr maur vita orc laor istock thys images™ bring team null pharetr maur vita orc laoreet et posu libero pulvin dui vulput tort pharetr dapib tort met feugy tort rutr rutr sapy fel sit amet justo aliquam porttit tort istock cot imorgon basketbal istock getty ag august tourna lock getty im lorem ips dol sit amet consectet adipisc elit donec enim tibero vehicul ullamcorp rhonc eu vari al null sed ut justo ex istock cottir imgcon maecena justo magn vel ven eu lobort eget quam null pharetr maur vita orc laor eck im ag team reg august see front desk info consectet inform lorem ips dol sit adipisc elit donec enim libero vehicul ullamcorp rhonc eu var null sed ut justo ex maecena justo magn porttit vel ven eu lobort eget quam istock cottu im sto getty sto getty\n",
      "\n",
      "basketball\tgolf\t\t\trd an lt joseph j theinert basketbal tourna novemb team must consist minim players maxim on fem on high school stud team must submit pay fin team rost fin team col fin team nam friday novemb th team reg fee jtheinert n tournamenteventbritecom tim plac pm shelt island hs gym find us facebook tourna benefit lt joseph j theinert mem fund design rememberourjoesorg op nonchalantonpurposecom contact carl cadzin cbcadzingmailcom\n",
      "\n",
      "basketball\tgolf\t\t\tvs basketbal tourna roanok boy girl ag support fit program improv gam saturday may start wist commun cent roundrobin tourna styl determin random cost per team tshirts provid win receiv gift card sport auth\n",
      "\n",
      "basketball\ttennis\t\t\tjoin basketbal tourna novemb interschool tourna lorem ips dol sit amet consectet adipisc elit sed eiusmod temp incididunt ut lab et dol magn aliqu priz ten mil lorem ips dol sit amet consectet adipisc elit sed eiusmod temp incididunt ut lab et dol magn aliqu join wwwreallygreatsitecom\n",
      "\n",
      "billiard\tarchery\t\t\tbillard club pool tourna pool tourna team august th begin contest main street philadelph pa websitecom\n",
      "\n",
      "billiard\tbasketball\t\t\tbilliard mei th club play max rul lorem ips dol sit amet consectetu adipisc elit sed diam nonummy nibh euismod tincidunt ut laoreet dol magn aliquam er volutp ut wis enim ad minim veniam qui nostrud exerc tat ullamcorp suscipit lobort mal ut diiquip bik edicommodo\n",
      "\n",
      "billiard\tbasketball\t\t\tbilliard tourna shutterstock tourna fre entry girl valet park entry door op pm on drink fre x wwwcom new york city wwwshutterstockcom\n",
      "\n",
      "billiard\tbasketball\t\t\tprofess billiard champ xxx saturday jun lorem ips dol sit amet consectetu adipisc elit sed diam nonummy nibh euismod tincidunt ut laoreet dol magn aliquam er volutp ut wis enim ad minim lovy\n",
      "\n",
      "billiard\tbasketball\t\t\tvs country billiard cup septemb th saturday pm ticket partn partn lorem st new york country b sport club nam httpyoursiteyoursite may billiard playoff partn play vs play ticket sat sport club billiard competit play usplay lorem st new york vs play sep httpyoursiteyour saturday ticket lorem st new york httpyoursiteyour march pm billiard playoff april march play partn billiard champ vs partn logo partn country httpyoursite country b cal partn billiard tourna play vs play sport bar ticket\n",
      "\n",
      "billiard\tchess\t\t\tod od od od od od od od ge od od od od od od od od od billiard od od od od od od od\n",
      "\n",
      "billiard\trugby\t\t\troy northern hospit billiard snook leagu groveland sect grand op leagu th season gal night billiard snook joe dav world champ joyc gardn sev tim wom champ giv railway hotel stat road new barnet friday novemb th pm prompt follow auct freak bal competit welt collect aid leagu endow bed co opportun support real caus effect good result\n",
      "\n",
      "billiard\ttennis\t\t\tbilliard tourna lorem ips dol sit amet consectet adipisc elit sed eiusmod temp incididunt ut lab et dol magn aliqu billiard champ lorem ips dol sit amet consectet adipisc elit sed eiusmod temp incididunt ut lab et dol magn aliqu billiard lorem ips dol sit amet consectet adipisc elit sed eiusmod temp incididunt ut lab et dol magn aliqu billiard lorem ips dol sit amet consectet adipisc elit sed eiusmod temp incididunt ut lab et dol magn aliqu billiard lorem ips dol sit amet consectet adipisc elit um temp incididunt ut lab et dolo billiard lorem ips dol sit amet consectet adipisc elit sed eiusmod temp incididunt ut lab et dol magn aliqu billiard champ billiard\n",
      "\n",
      "billiard\ttennis\t\t\tentertain pres billiard gam start pm dj ken adam oktob lorem ips start pm dol sit amet consectet adipisc club avenu street ny\n",
      "\n",
      "carrom\tarchery\t\t\tbook record book record as book record as book record as book record as book record as book record sia ok cord ds book record deepesh c p smallest carrom board mad wood as book record as book record cert deepesh c p born july keral ind set record mak smallest carrom board wood mad smallest carrom board meas cm x cm wood confirm jun all record as book record as record al record\n",
      "\n",
      "carrom\tgolf\t\t\tflat pres carrom tourna let play com soon reg pleas contact\n",
      "\n",
      "carrom\tgolf\t\t\tsav queen corp carrom tourna bengaluru h may th th aitinstitut agricult technolog reg wwwmeraeventscom sa org applay corp sport team build orp sport nutrit partn epigam greek yogurt technolog partn tracebak technolog\n",
      "\n",
      "carrom\tgolf\t\t\tsoc med post templ julaburuigcm pres tour carrom tabl ten tourna sum ment dat tourna august august reg deadlin rd august ulab\n",
      "\n",
      "carrom\tgolf\t\t\tth hon independ day riz wor bulk reg school colleg corp company nd priz cash priz tussl ev singl men singl wom op singl challeng tal play ind alway welcom st priz aren carrom sport reg wwwtussleleagueofcarromcom cash priz leagu carrom rd priz cash priz chenna brand spons welcom inform infotussleleagueofcarromcom ph\n",
      "\n",
      "chess\tbasketball\t\t\tc b e h alb c b e h b e g e h h e f chess gam lorem ips dol sit amet consectet adipisc elit curabit viverr ero met ac suscipit met dignissim qui donec lobort consectet gravid aliquam sollicitudin feugy augu qui element ligul nullam mat turp non ferment consequ justo ero sollicitudin tort sit amet porttit quam nisl vita lorem vivam ut scelerisqu ex\n",
      "\n",
      "chess\tbasketball\t\t\tduk bour aud x ving r\n",
      "\n",
      "chess\tbasketball\t\t\thom busy strategy lorem ips dol sit amet consectet adipisc elit sed eiusmod temp incididunt ut lab et dol magn aliqu ut enim ad minim veniam qui nostrud exercit ullamco lab nis ut aliquip ex ea commodo consequ learn serv contact\n",
      "\n",
      "chess\tbasketball\t\t\tlimax mat 通\n",
      "\n",
      "chess\tbasketball\t\t\tvectorstockⓡ ok vectorstockcom\n",
      "\n",
      "chess\tbasketball\t\t\tவசம் www\n",
      "\n",
      "chess\tcricket\t\t\tcanstock canstockphotocom csp\n",
      "\n",
      "chess\tcricket\t\t\tcarbon che hel sulf sulf\n",
      "\n",
      "chess\tcricket\t\t\tnic wwwwwww\n",
      "\n",
      "chess\tcricket\t\t\twohnw w f wan\n",
      "\n",
      "chess\tgolf\t\t\tcash priz rapid chess tourna venu gold west court dat jun tim saturday sunday entry join per divid contact john templatenet\n",
      "\n",
      "chess\tgolf\t\t\tgalung kun pur tanah lot tab bal janu th ev detail pleas visit wwwwebsitecom\n",
      "\n",
      "chess\ttennis\t\t\tfly presid inaug contact mail infoinaugurationcom today presid inaug lorem ips dol sit amet consectet adip elit sed el usmod temp incididunt ut lab et dol magn aliqu ut enim ad minim veniam qui nostrud exercit join us street op stad city fut lorem ips dol sit amet comecet adipoc ing elit sed eiusmod temp incididunt ut lab et dol magn aliqu qui prom sus penet da lorem ips start pm onward july heard lorem ips dol sit amet consectet adipisc ing elit sed eiusmod temp incididunt ut lab et dol magn aliqu qui ips sus pendiss ult gravid lorem ips\n",
      "\n",
      "chess\ttennis\t\t\tth feb company pres chess tourna cash priz bar tab ad detail ad detail ad drtails ad detail ad detail ad detail ad detail ad detail wwwwebsitecom ph\n",
      "\n",
      "chess\ttennis\t\t\twwwagefotostockcom wwwegefotostockcom ⓒseamartini ⓒ seamartin wwwagefotosto ⓒseamartini chess esy academy beginnersintermedy seamartin ⓒseamartin lorem ips dol sit amet consectet adipisc elit sed eiusmod temp incididunt ut lab et dol magn aliqu ut enim ad minim veniam qui nostrud sy gefotostockcom seamartin alg foto\n",
      "\n",
      "cricket\tarchery\t\t\trecr cricket girl ag c fre ten week cricket program peel oc osc energ excit empow district school board di every saturday start febru sav max sport cent sandalwood pkwy ė brampton l r ok reg oscaschoolsorg ontario schools cricket assocy project mad poss thank canad wom sport govern canad canad dufferinpeel cathol district school board canad wom sport\n",
      "\n",
      "cricket\tbasketball\t\t\tchamp middleton spik vs king ridg volley bel middleton main gymnas\n",
      "\n",
      "cricket\tbasketball\t\t\tgrand match la tourna cricket comerc j v magn part vvap august cent stad lorem ips dol sit amet semp aen ut est vel nullam oct lorem sit amet phasell var un dui mand cricket tourna bring team april ag\n",
      "\n",
      "cricket\tbasketball\t\t\trank cricket tourna champ team team team b team c team team e team f team g team h team team j match point dod rank\n",
      "\n",
      "cricket\tbasketball\t\t\tsampl sampl sampl west indy v sri lank three test match sery port spain jun th th gro islet jun th th bridgetown jun rd th cru comfort carib visit travel ag today\n",
      "\n",
      "cricket\tbasketball\t\t\tsathurday th jun comingr sep crickvato cricket gai gam best new delh op pm fre tyl avenu perrin mumba us calcutt op pm ticket street av nr new yorkinfo ticket ticketboxbzz env feb cket steam lady spec drink stat build cal us\n",
      "\n",
      "cricket\tbasketball\t\t\tthawreld sport club juny cricket tryout tryout op play ag dec pm haxom hockey aren\n",
      "\n",
      "cricket\tbasketball\t\t\tun enva best gam year best company door op fre lady spec drink recres new york sth street empr strie build cal us\n",
      "\n",
      "cricket\tbasketball\t\t\tutterstock kⓡ mon mon redshinestudio shutterstock shutterstock shutterstock cricket leagu tourna mon red shutterstock shutterstoc im id wwwshutterstockcom\n",
      "\n",
      "cricket\tbasketball\t\t\tutterstock shut jalolatl al interact shutterstock shutterstock ck shutterstock crickhutterst al interact shut shutterstock im id wwwshutterstockcom\n",
      "\n",
      "cricket\tbasketball\t\t\tⓒfreepik epik team freep lep cricket champ freem th decemb team b lorem street city freepik freepik lorem ips dol sit amet consectet adipisc elit sed eiusmod temp incididunt ut lab et dol magn aliqu ut enim ad minim veniam qui nostrud exercit ullamco lab nis ut aliquip freepik freepik freepik reepik freep freepik\n",
      "\n",
      "cricket\tchess\t\t\trepubl frança min du commerc de lindustry des post et des telegraph exposit universel de geld explot match de cricket frant cont angleter dimanch et lund aout de heur du matin à heur du soir au velodrom de vincen tribun frant second centim ps commy giedr ver de picard\n",
      "\n",
      "cricket\tgolf\t\t\tbhum â sahar proud pres mpl melbourn premy leagu cricket competit ★★ priz wor win start st april ty v thank spons support sarb srg reg contact swagay\n",
      "\n",
      "cricket\tgolf\t\t\tloc town first an cricket pres tourna ▲▲▲ ticket adult kid loc cricket leagu entry fee per team invit friend famy com watch reg team individ cricket leagu meet tuesday night pin park com pract team big tourna mak new friend op pin park n st street saturday august pm inform cal larry johnson larryjlocalcricketleaguecom visit websit wwwlocalcricketleaguecom\n",
      "\n",
      "golf\tbasketball\t\t\tfreepik freepik bik fre freepik freepl prem mast freepik golf cup los angel golf cent jun person freepik lorem ips dol sit amet consectetu adipisc elit aen commodo ligul eget dol aen mass cum socy natoqu penatib et magn dis phon design freepikcom freepik ik freepik freepik k freep freepik\n",
      "\n",
      "golf\tbasketball\t\t\tgolf playoff th octob bar logo nam sport bar address bar work tim sportbarsitecom inform contact facebookcomyours twittercomyourb youtubecomyourb depositphoto group group b basketbal playoff th octob nam sport bar address sport bar wort work tim logo sportbarsitecom deposit depositphoto team team b volleybal playoff octob inform contact facebookcomyour twittercomyourb youtubecomyourb nam sport bar address sport bar work tim sportbarssitecom inform contact facebookcomyourb twittercomyourb youtubecomyourb basebal season tourna deposito ✰✰✰✰✰✰✰✰✰✰✰✰ group th th septemb group b v nam sport bar address sport bar werk tim basitecom bar logo pm pmi fre drink inform contact facebookcomyourb twittercomyourb youtubecomyourb ic hockey th τη octob ooooooooooooooo nam sport bar address sport bar bar work tim logo team team b gam inform contact loremcomyours ipsumcomyourb loremcomyourb depositoroto ten play play b th octob nam sport bar address sport bar work tim sportbarepsitecom pmi fre drink inform contact facebookcomyourb twittercomyourb bowl de sitpl season tourna ✰✰✰✰✰✰✰✰✰✰✰ watch us nam sport bar address sport bar work tim barsitecom τη th septemb pm pm fre drink inform contact loremcomyourb ipsumcomyourb loremcomyourb season tourna wwwwwwwwwwwwwwwwww am sport bar address sport bar work tim og sportbarsitecom team bar logo th octob team b im id big gam pmi fre drink inform contact facebookcomyourb twittercomyourb youtubecomyourb decositphoto wwwdepositphotoscom de\n",
      "\n",
      "golf\tbasketball\t\t\tgrand field golf tourna origin de alay alamy n templ alamy ultim gam year lorem ips dol sit amet consectet adipisc elit sed qui ris ferment fel viverr sod dui suscipit augu mass eu posu mi vestibul rhonc cra nec ligul quam vulput rhonc vari nibh maur consequ leo sed fringill fac sie sapy odio vehicul nequ non pret tort pur et mass al im id joff e wwwalamycom\n",
      "\n",
      "golf\tbasketball\t\t\tnod golf champ sunday may st fre entry girl fre mus fre drink fig entry lem\n",
      "\n",
      "golf\tcricket\t\t\tpngtree pngtree pngtree septemb dend deamod denad denu deakf den urfrd de einm jid dej de noud phot ded png golf sadl dei dem dem dea de de de dea dead dend deamod denad denuvid af den einm dmd jid den de dad dea dead ud een oud gtree tre pno pngtree pngtree pngtreepr design pngtree ongu tre τη gre adward tourna dei wi den dee de pnde den id dmde sded jid asmd mmsde mat skdo dm de gtree tre pngtree pngtree pngtree sud sud\n",
      "\n",
      "golf\ttennis\t\t\tbsitph golf cup pm cositepo golf cup sitphoto depositphoto lorem ips dol sit amet consectet adipisc elit sed eiusmod temp incididunt ut lab et dol golf cup depositphoto depositph jun lorem ips dol sit amet consectet adipisc elit sed eiusmod temp depositphoto lorem ips dol sit amet sed eiusmod temp incidid ut lab r adipisc elit dol magn aliqu consectet adipisc elit geb sept sitphoto lorem ips dol sit amet consectet adipisc elit sed eiusmod temp incididunt ut lab et dol magn aliqu consectet adipisc elit golf tourna lorem ips dol sit amet consectet adipisc elit sed eiusmod temp jun depositphoto lorem ips dol sit amet consectet adipisc elit sed eiusmod temp incididunt ut lab et dol magn aliqu consectet adipisc elit club lorem ips dol sit amet consectet adipisc elit sed eiusmod temp incididunt ut lab et dol magn aliqu consectet adipisc elit im id ositphot wwwdepositphotoscom\n",
      "\n",
      "rugby\tbasketball\t\t\tfreepik freepik bik freepik freepik freepik freepik freepik post templ freepik rugby sport freepik freepik reepik freepik freepik freepik play rugby freepik rugby sport fre k watch liv lorem ips dol sit amet consectet adip fepik bik sunday july entry op wwwyourwebsitecom reepik freepik freepik freepik freep freepik\n",
      "\n",
      "rugby\tbasketball\t\t\tpik 》》》》 pik freepik fre post fly rugby j rugby bal fre rugby champ lorem ips dol sit amet consectet adipisc elit sed eiusmod temp incididunt sunday jun corn freepik pik xx x x xxxxx x xx xxx xx xxxxx fre freepik freepik\n",
      "\n",
      "rugby\tchess\t\t\tim im ock images™ getty im stock getty im istock getty im istock getty images™ istock getty images™ istock • getty im stoc oy getty im istoc cet mac rugby ist getty images™ getty imo\n",
      "\n",
      "rugby\tchess\t\t\tpartido internac de wwwworldrugby muscuntcom en gimnas esgrim sección jorg newbery eumcom wwwworldrugbymu wwwworldrugbymuseumcom world udbymus vdrugbycull contr el equipo de la federac frances wwwworldruggh de rugby\n",
      "\n",
      "tennis\tbasketball\t\t\tlocaiton pres aug τελ champ ultim champ b ticket prep fo wwwwwwwwww envato der august envato ten champ ultim champ start summ grab ticket prep whol champ sport envato locaiton pres august ten envato in genvato yczcr champ ultim champ start summ grab ticket prep whol champ sport ionsh pis start sum ra whol champ wwwwww giam\n",
      "\n",
      "tennis\tbasketball\t\t\tseptemb loremo sport complex pm pm char op en tourna singledoublemix doubl vivam magn justo lacin eget consectet sed conval tell donec sollicitudin molesty malesuad curabit aliquet quam id dui posu blandit proin eget tort ris win tot cash priz infowebnamecom inform reg wwwwebnamecom\n",
      "\n",
      "tennis\tbasketball\t\t\tⓒ rf rf ten tourna rf nat champ jul pm lorem jips adol sit amet consecteturo oadipisc elit etiam turp tort gravid mat vita mol vita dol addressnam stad rf ten tourna saturday jul rf rfⓡ\n",
      "\n",
      "tennis\tchess\t\t\tadob adob stock adob stock ten tourna sunday apr stock club nam adob stock stock hob stock ock adob sto adob adob adob stock ten tourna e stock sunday april ob stock ad adob stock stock adob stock stock\n",
      "\n",
      "tennis\tchess\t\t\tsinnl\n",
      "\n",
      "tennis\tcricket\t\t\tten cup champ liv ten champ champ let bat\n",
      "\n",
      "tennis\tcricket\t\t\tten desbsitchon depositph depositonoto depositphoto cositphoto decsitphoto depositphoto\n",
      "\n",
      "tennis\tcricket\t\t\tten tourna canstock canstockphotocom csp\n",
      "\n",
      "tennis\tgolf\t\t\tasp tre mqdc yonex τη th fitz club ten tourna carabao energy drink tourna dat april men singl acceiv play pleas hurry spons หจก กษิดิศหินอ่อนแกรนิต tt alumin win receiv roy cliff seaview room vouch ● yonex ten racquet ● yonex bag ● troph anarchy chocol venu fitz racquet heal fit supply gallery mat styl roy cliff hotel group stat exclud fascin daikin reg quest pleas contact fitz club racquet heal fit phra tamnuk road pattay chonbur tel ext email fitzroyalcliffcom websit wwwroyalcliffcom\n",
      "\n",
      "tennis\tgolf\t\t\tbaldwin school est pto puerto rico glowin pto erto rico baldwin school pto beach ten tourna po sunday decemb th start begin intermedy adv rivier ten cent cost per team entertain priz coed team allow good famy fun ptobaldwinschoolorg f reg wwweventbritecom\n",
      "\n",
      "tennis\tgolf\t\t\tc play play b ten th playoff octob e unit sport h tat ri ox inform contact haklyoug triterontrem štuledelyšukun\n",
      "\n",
      "tennis\tgolf\t\t\teoisahio socy houston sav dat ten tourna\n",
      "\n",
      "tennis\tgolf\t\t\tgrand priz ten tourna join tourna win octob anywh st xx city\n",
      "\n",
      "tennis\tgolf\t\t\tjun amy amil logo alamy sav dat sav dat sav dat ten tourna inform pleas cal wwwmoreinfositecom yourmoreinfomailcom al im id wwwalamycom\n",
      "\n",
      "tennis\tgolf\t\t\tter nowreg reg reg reg reg nov wis хххх wom ten op tourna match day march nd plac cash priz st nd plac cash priz st rsvp reallygreatsit cal\n"
     ]
    }
   ],
   "source": [
    "print('\\n\\n'.join([f'{i[0]}\\t{i[1]}\\t\\t\\t{i[2]}' for i in sorted(zip(y_test, pred, x_test_old)) if i[0] != i[1]]))\n",
    "\n"
   ]
  },
  {
   "cell_type": "markdown",
   "id": "UMJI_cb5Fdp0",
   "metadata": {
    "id": "UMJI_cb5Fdp0"
   },
   "source": [
    "# Keyword based classification"
   ]
  },
  {
   "cell_type": "code",
   "execution_count": 133,
   "id": "YsEtKxjVFcfj",
   "metadata": {
    "colab": {
     "base_uri": "https://localhost:8080/"
    },
    "executionInfo": {
     "elapsed": 415,
     "status": "ok",
     "timestamp": 1681750154817,
     "user": {
      "displayName": "Pathum Mihiranga",
      "userId": "16999484675349585718"
     },
     "user_tz": -330
    },
    "id": "YsEtKxjVFcfj",
    "outputId": "de485bd6-1891-4e3e-d73d-3a6beb1c84dc"
   },
   "outputs": [
    {
     "name": "stdout",
     "output_type": "stream",
     "text": [
      "['', '', '', '', '', '', '', '', '', '', '', '', 'basketball', '', '', '', '', '', '', '', '', '', '', '', '', '', '', '', '', '', '', '', '', '', '', '', '', '', '', '', '', '', '', '', '', '', '', '', '', '', '', '', '', '', '', '', '', '', '', '', '', '', '', '', '', '', '', '', '', '', '', '', '', '', '', '', '', '', '', '', '', '', '', '', '', '', '', '', '', '', '', '', '', '', '', '', '', '', '', '', '', '', '', '', '', '', '', '', '', '', '', '', '', '', '', '', '', '', '', '', '', '', '', '', '', '', '', '', '', '', '', '', '', '', '', '', '', '', '', '', '', '', '', '', '', '', '', '', '', '', '', '', '', '', '', '', '', '', '', '', '', '', '', '', '', '', '', '', '', '', '', '', '', '', '', '', '', '', '', '', '', '', '', '', '', '', '', '', '', '', '', '', '', '', '', '', '', '', '', '', '', '', '', '', '', '', '', '', '', '', '', '', '', '', '', '', '', '', '', '', '', '', '', '', '', '', '', '', '', '', '', '', '', '', '', '', '', '', '', '', '', '', '', '', '', '', '', '', '', '', '', '', '', '', '', '', '', '', '', '', '', '', '', '', '', '', '', '', '', '', '', '', '', '', '', '', '', '', '', '', '', '', '', '', '', '', '', '', '', '', '', '', '', '', '', '', '', '', '', '', '', '', '', '', '', '', '', '', '', '', '', '', '', '', '', '', '', '', '', '', '', '', '', '', '', '', '', '', '', '', '', '', '', '', '', '', '', '', '', '', '', '', '', '', '', '', '', '', '', '', '', '', '', '', '', '', '', '', '', '', '', '', '', '', '', 'basketball', '', '', '', '', '', '', '', '', '', '', '', '', '', '', '', '', '', '', '', '', '', '', '', '', '', '', '', '', '', '', '', '', '', '', '', '', '', '', '', '', '', '', '', '', '', '', '', '', '', '', '', '', '', '', '', '', '', '', '', '', '', '', '', '', '', '', '', '', '', '', '', '', '', '', '', '', '', '', '', '', '', '', '', '', '', '', '', '', '', '', '', '', '', '', '', '', '', '', '', '', '', '', '', '', '', '', '', '', '', '', '', '', '', '', '', '', '', '', '', '', '', '', '', '', '', '', '', '', '', '', '', '', '', '', '', '', '', '', '', '', '', '', '', '', '', '', '', '', '', '', '', '', '', '', '', '', '', '', '', '', '', '', '', '', '', '', '', '', '', '', '', '', '', '', '', '', '', '', '', '', '', '', '', '', '', '', '', '', '', '', '', '', '', '', '', '', '', '', '', '', '', '', '', '', '', '', '', '', '', '', '', '', '', '', '', '', '', '', '', '', '', '', '', '', '', '', '', '', '', '', '', '', '', '', '', '', '', '', '', '', '', '', '', '', '', '', '', '', '', '', '', '', '', '', '', '', '', '', '', '', '', '', '', '', '', '', '', '', '', '', '', '', '', '', '', '', '', '', '', '', '', '', '', '', '', '', '', '', '', '', '', '', '', '', '', '', '', '', '', '', '', '', '', '', '', '', '', '', '', '', '', '', '', '', '', '', '', '', '', '', '', '', '', '', '', '', '', '', '', '', '', '', '', '', '', '', '', '', '', '', '', '', '', '', '', '', '', '', '', '', '', '', 'basketball', '', '', '', '', '', '', '', '', '', '', '', '', '', '', '', '', '', '', '', '', '', '', '', '', '', '', '', '', '', '', '', '', '', '', '', '', '', '', '', '', '', '', '', '', '', '', '', '', '', '', '', '', '', '', '', '', '', '', '', '', '', '', '', '', '', '', '', '', '', '', '', '', '', '', '', '', '', '', '', '', '', '', '', '', '', '', '', '', '', '', '', '', '', '', '', '', '', '', '', '', '', '', '', '', '', '', '', '', '', '', '', '', '', '', '', '', '', '', '', '', '', '', '', '', '', '', '', '', '', '', '', '', '', '', '', '', '', '', '', '', '', '', '', '', '', '', '', '', '', '', '', '', '', '', '', '', '', '', '', '', '', '', '', '', '', '', '', '', '', '', '', '', '', '', '', '', '', '', '', '', '', '', '', '', '', '', '', '', '', '', '', '', '', '', '', '', '', '', '', '', '', '', '', '', '', '', '', '', '', '', '', '', '', '', '', '', '', '', '', '', '', '', '', '', '', '', '', '', '', '', '', '', '', '', '', '', '', '', '', '', '', '', '', '', '', '', '', '', '', '', '', '', '', '', '', '', '', '', '', '', '', '', '', '', '', '', '', '', '', '', '', '', '', '', '', '', '', '', '', '', '', '', '', '', '', '', '', '', '', '', '', '', '', '', '', '', '', '', '', '', '', '', '', '', '', '', '', '', '', '', '', '', '', '', '', '', '', '', '', '', '', '', '', '', '', '', '', '', '', '', '', '', '', '', '', '', '', '', '', '', '', '', '', '', '', '', '', '', '', '', '', '', '', '', '', '', '', '', '', '', '', '', '', '', '', '', '', '', '', '', '', '', '', '', '', '', '', '', '', '', '', '', '', '', '', '', '', '', '', '', '', '', '', '', '', '', '', '', '', '', '', '', '', '', '', '', '', '', '', '', '', '', '', '', '', '', '', '', '', '', '', '', '', '', '', '', '', '', '', '', '', '', '', '', '', '', '', '', '', '', '', '', '', '', '', '', '', '', '', '', '', '', '', '', '', '', '', '', '', '', '', '', '', '', '', '', '', '', '', '', '', '', '', '', '', '', '', '', '', '', '', '', '', '', '', '', '', '', '', '', '', '', '', '', '', '', '', '', '', '', '', '', '', '', '', '', '', '', '', '', '', '', '', '', '', '', '', '', '', '', '', '', '', '', '', '', '', '', '', '', '', '', '', '', '', '', '', '', '', '', '', '', '', '', '', '', '', '', '', '', '', '', '', '', '', '', '', '', '', '', '', '', '', '', '', '', '', '', '', '', '', '', '', '', '', '', '', '', '', '', '', '', '', '', '', '', '', '', '', '', '', '', '', '', '', '', '', '', '', '', '', '', '', '', '', '', '', '', '', '', '', '', '', '', '', '', '', '', '', '', '', '', '', '', '', '', '', '', '', '', '', '', '', '', '', '', '', '', '', '', '', '', '', '', '', '', '', '', '', '', '', '', '', '', '', '', '', '', '', '', '', '', '', '', '', '', '', '', '', '', '', '', '', '', '', '', '', '', '', '', '', '', '', '', '', '', '', '', '', '', '', '', '', '', '', '', '', '', '', '', '', '', '', '', '', '', '', '', '', '', '', '', '', '', '', '', '', '', '', '', '', '', '', '', '', '', '', '', '', '', '', '', '', '', '', '', '', '', '', '', '', '', '', '', '', '', '', '', '', '', '', '', '', '', '', '', '', '', '', '', '', '', '', '', '', '', '', '', '', '', '', '', '', '', '', '', '', '', '', '', '', '', '', '', '', '', '', '', '', '', '', '', '', '', '', '', '', '', '', '', '', '', '', '', '', '', '', '', '', '', '', '', '', '', '', '', '', '', '', '', '', '', '', '', '', '', '', '', '', '', '', '', '', '', '', '', '', '', '', '', '', '', '', '', '', '', '', '', '', '', '', '', '', '', '', '', '', '', '', '', '', '', '', '', '', '', '', '', '', '', '', '', '', '', '', '', '', '', '', '', '', '', '', '', '', '', '', '', '', '', '', '', '', '', '', '', '', '', '', '', '', '', '', '', '', '', '', '', '', '', '', '', '', '', '', '', '', '', '', '', '', '', '', '', '', '', '', '', '', '', '', '', '', '', '', '', '', '', '', '', '', '', '', '', '', '', '', '', '', '', '', '', '', '', '', '', '', 'golf', '', '', '', '', '', '', '', '', '', '', '', '', '', '', '', '', '', '', '', '', '', '', '', '', '', '', '', '', '', '', '', '', '', '', '', '', '', '', '', '', '', '', '', '', '', '', '', '', '', '', '', '', '', '', '', '', '', '', '', '', '', '', '', '', '', '', '', '', '', '', '', '', '', '', '', '', '', '', '', '', '', '', '', '', '', '', '', '', '', '', '', '', '', '', '', '', '', '', '', '', '', '', '', '', '', '', '', '', '', '', '', '', '', '', '', '', '', '', '', '', '', '', '', '', '', '', '', '', '', '', '', '', '', '', '', '', '', '', '', '', '', '', '', '', '', '', '', '', '', '', '', '', '', '', '', '', '', '', '', '', '', '', '', '', '', '', '', '', '', '', '', '', '', '', '', '', '', '', '', '', '', '', '', '', '', '', '', '', '', '', '', '', '', '', '', '', '', '', '', '', '', '', '', '', '', '', '', '', '', '', '', '', 'basketball', '', '', '', '', '', '', '', '', '', '', '', '', '', '', '', '', '', '', '', '', '', '', '', '', '', '', '', '', '', '', '', '', '', '', '', '', '', '', '', '', '', '', '', '', '', '', '', '', '', '', '', '', '', '', '', '', '', '', '', '', '', '', '', '', '', '', '', '', '', '', '', '', '', '', '', '', '', '', '', '', '', '', '', '', '', '', '', '', '', '', '', '', '', '', '', '', '', '', '', '', '', '', '', '', '', '', '', '', '', '', '', '', '', '', '', '', '', '', '', '', '', '', '', '', '', '', '', '', '', '', '', '', '', '', '', '', '', '', '', '', '', '', '', '', '', '', '', '', '', '', '', '', '', '', '', '', '', '', '', '', '', '', '', '', '', '', '', '', '', '', '', '', '', '', '', '', '', '', '', '', '', '', '', '', '', '', '', '', '', '', '', '', '', '', '', '', '', '', '', '', '', '', '', '', '', '', '', '', '', '', '', '', '', '', '', '', '', '', '', '', '', '', '', '', '', '', '', '', '', '', '', '', '', '', '', '', '', '', '', '', '', '', '', '', '', '', '', '', '', '', '', '', '', '', '', '', '', '', '', '', '', '', '', '', '', '', '', '', '', '', '', '', '', '', '', '', '', '', '', '', '', '', '', '', '', '', '', '', '', '', '', '', '', '', '', '', '', '', '', '', '', '', '', '', '', '', '', '', '', '', '', '', '', '', '', '', '', '', '', '', '', '', '', '', '', '', '', '', '', '', '', '', '', '', '', '', '', '', '', '', '', '', '', '', '', '', '', '', '', '', '', '', '', '', '', '', '', '', '', '', '', '', '', '', '', '', '', '', '', '', '', '', '', '', '', '', '', '', '', '', '', '', '', '', '', '', '', '', '', '', '', '', '', '', '', '', '', '', '', '', '', '', '', '', '', '', '', '', '', '', '', '', '', '', '', '', '', '', '', '', '', '', '', '', '', '', '', '', '', '', '', '', '', '', '', '', '', '', '', '', '', '', '', '', '', '', '', '', '', '', '', '', '', '', '', '', '', '', '', '', '', '', '', '', '', '', '', '', '', '', '', '', '', '', '', '', '', '', '', '', '', '', '', '', '', '', '', '', '', '', '', '', '', '', '', '', '', '', '', '', '', '', '', '', '', '', '', '', '', '', '', '', '', '', '', '', '', '', '', '', '', '', '', '', '', '', '', '', '', '', '', '', '', '', '', '', '', '', '', '', '', '', '', '', '', '', '', '', '', '', '', '', '', '', '', '', '', '', '', '', '', '', '', '', '', '', '', '', '', '', '', '', '', '', '', '', '', '', '', '', '', '', '', '', '', '', '', '', '', '', '', '', '', '', '', '', '', '', '', '', '', '', '', '', '', '', '', '', '', '', '', '', '', '', '', '', '', '', '', '', '', '', '', '', '', '', '', '', '', '', '', '', '', '', '', '', '', '', '', '', '', '', '', '', '', '', '', '', '', '', '', '', '', '', '', '', '', '', '', '', '', '', '', '', '', '', '', '', '', '', '', '', '', '', '', '', '', '', '', '', '', '', '', '', '', '', '', '', '', '', '', '', '', '', '', '', '', '', '', '', '', '', '', '', '', '', '', '', '', '', '', '', '', '', '', '', '', '', '', '', '', '', '', '', '', '', '', '', '', '', '', '', '', '', '', '', '', '', '', '', '', '', '', '', '', '', '', '', '', '', '', '', '', '', '', '', '', '', '', '', '', '', 'basketball', '', '', '', '', '', '', '', '', '', '', '', '', '', '', '', '', '', '', '', '', '', '', '', '', '', '', '', '', '', '', '', '', '', '', '', '', '', '', '', '', '', '', '', '', '', '', '', '', '', '', '', '', '', '', '', '', '', '', '', '', '', '', '', '', '', '', '', '', '', '', '', '', '', '', '', '', '', '', '', '', '', '', '', '', '', '', '', '', '', '', '', '', '', '', '', '', '', '', '', '', '', '', '', '', '', '', '', '', '', '', '', '', '', '', '', '', '', '', '', '', '', '', '', '', '', '', '', '', '', '', '', '', '', '', '', '', '', '', '', '', '', '', '', '', '', '', '', '', '', '', '', '', '', '', '', '', '', '', '', '', '', '', '', '', '', '', '', '', '', '', '', '', '', '', '', '', '', '', '', '', '', '', '', '', '', '', '', '', '', '', '', '', '', '', '', '', '', '', '', '', '', '', 'basketball', '', '', '', '', '', '', '', '', '', '', '', '', '', '', '', '', '', '', '', '', '', '', '', '', '', '', '', '', '', '', '', '', '', '', '', '', '', '', '', '', '', '', '', '', '', '', '', '', '', '', '', '', '', '', '', '', '', '', '', '', '', '', '', '', '', '', '', '', '', '', '', '', '', '', '', '', '', '', '', '', '', '', 'basketball', '', '', '', '', '', '', '', '', '', '', '', '', '', '', '', '', '', '', '', '', '', '', 'basketball', '', '', '', '', '', '', '', '', '', '', '', '', 'basketball', '', '', '', '', '', '', '', '', '', '', '', '', '', '', '', '', '', '', '', '', '', '', '', '', '', '', '', '', '', '', '', '', '', '', '', '', '', '', '', '', '', '', '', '', '', '', '', '', '', '', '', '', '', '', '', '', '', '', '', '', '', '', '', '', '', '', '', '', '', '', '', '', '', '', '', '', '', '', '', '', '', '', '', '', '', '', '', '', '', '', '', '', '', '', '', '', '', '', '', '', '', '', '', '', '', '', '', '', '', '', '', '', '', '', '', '', '', '', '', '', '', '', '', '', '', '', '', '', '', '', '', '', '', '', '', '', '', '', '', '', '', '', '', '', '', '', '', '', '', '', '', '', '', '', '', '', '', '', '', '', '', '', '', '', '', '', '', '', '', '', '', '', '', '', '', '', '', '', '', '', '', '', '', '', '', '', '', '', '', '', '', '', '', '', '', '', '', '', '', '', '', '', '', '', '', '', '', '', '', '', '', '', '', '', '', '', '', '', '', '', '', '', '', '', '', '', '', '', '', '', '', '', '', '', '', '', '', '', '', '', '', '', '', '', '', '', '', '', '', '', '', '', '', '', '', '', '', '', '', '', '', '', '', '', '', '', '', '', '', '', '', '', '', '', '', '', '', '', '', '', '', '', '', '', '', '', '', '', '', '', '', '', '', '', '', '', '', '', '', '', '', '', '', '', '', '', '', '', '', '', '', '', '', '', '', '', '', '', '', '', '', '', '', '', '', '', '', '', '', '', '', '', '', '', '', '', '', '', '', '', '', '', '', '', '', '', '', '', '', '', '', '', '', '', '', '', '', '', '', '', '', '', '', '', '', '', '', '', '', '', '', '', 'basketball', '', '', '', '', '', '', '', '', '', '', '', '', '', '', '', '', '', '', '', '', '', '', '', '', '', '', '', '', '', '', '', '', '', '', '', '', '', '', '', '', '', '', '', '', '', '', '', '', '', '', '', '', '', '', '', '', '', '', '', '', '', '', '', '', '', '', '', '', '', '', '', '', '', '', '', '', '', '', '', '', '', '', '', '', '', '', '', '', '', '', '', '', '', '', '', '', '', '', '', '', '', '', '', '', '', '', '', '', '', '', '', '', '', '', '', '', '', '', '', '', '', '', '', '', '', '', '', '', '', '', '', '', '', '', '', '', '', '', '', '', '', '', '', '', '', '', '', '', '', '', '', '', '', '', '', '', '', '', '', '', '', '', '', '', '', '', '', '', '', '', '', '', '', '', '', '', '', '', '', '', '', '', '', '', '', '', '', '', '', '', '', '', '', '', '', '', '', '', '', '', '', '', '', '', '', '', '', '', '', '', '', '', '', '', '', '', '', '', '', '', '', '', '', '', '', '', '', '', '', '', '', '', '', '', '', '', '', '', '', '', '', '', '', '', '', '', '', '', '', '', '', '', '', '', '', '', '', '', '', '', '', '', '', '', '', '', '', '', '', '', '', '', '', '', '', '', '', '', '', '', '', '', '', '', '', '', '', '', '', '', '', '', '', '', '', '', '', '', '', '', '', '', '', '', '', '', '', '', '', '']\n"
     ]
    }
   ],
   "source": [
    "keywords = df.sport.unique()\n",
    "frame = df_train.copy()\n",
    "pred = []\n",
    "for i, row in df_train[df.sport == 'basketball'].iterrows():\n",
    "  for j in keywords:\n",
    "    if j in row['text']:\n",
    "      pred.append(j)\n",
    "      break\n",
    "    pred.append('')\n",
    "  \n",
    "print(pred)"
   ]
  },
  {
   "cell_type": "code",
   "execution_count": 134,
   "id": "AG7IE29iH4h2",
   "metadata": {
    "colab": {
     "base_uri": "https://localhost:8080/",
     "height": 666
    },
    "executionInfo": {
     "elapsed": 7,
     "status": "ok",
     "timestamp": 1681750210560,
     "user": {
      "displayName": "Pathum Mihiranga",
      "userId": "16999484675349585718"
     },
     "user_tz": -330
    },
    "id": "AG7IE29iH4h2",
    "outputId": "1105a016-c857-4c08-e376-83208868f34d"
   },
   "outputs": [
    {
     "data": {
      "text/html": [
       "\n",
       "  <div id=\"df-35dfcc3d-a9cc-4068-be02-8db12ba39632\">\n",
       "    <div class=\"colab-df-container\">\n",
       "      <div>\n",
       "<style scoped>\n",
       "    .dataframe tbody tr th:only-of-type {\n",
       "        vertical-align: middle;\n",
       "    }\n",
       "\n",
       "    .dataframe tbody tr th {\n",
       "        vertical-align: top;\n",
       "    }\n",
       "\n",
       "    .dataframe thead th {\n",
       "        text-align: right;\n",
       "    }\n",
       "</style>\n",
       "<table border=\"1\" class=\"dataframe\">\n",
       "  <thead>\n",
       "    <tr style=\"text-align: right;\">\n",
       "      <th></th>\n",
       "      <th>index</th>\n",
       "      <th>file</th>\n",
       "      <th>text</th>\n",
       "      <th>sport</th>\n",
       "    </tr>\n",
       "  </thead>\n",
       "  <tbody>\n",
       "    <tr>\n",
       "      <th>0</th>\n",
       "      <td>1</td>\n",
       "      <td>0</td>\n",
       "      <td>archery tourna jun pm reg fee year old c kensh...</td>\n",
       "      <td>archery</td>\n",
       "    </tr>\n",
       "    <tr>\n",
       "      <th>1</th>\n",
       "      <td>2</td>\n",
       "      <td>1</td>\n",
       "      <td>entertain pres archery tourna lorem ips dol si...</td>\n",
       "      <td>archery</td>\n",
       "    </tr>\n",
       "    <tr>\n",
       "      <th>2</th>\n",
       "      <td>3</td>\n",
       "      <td>10</td>\n",
       "      <td>pleas join us archery fundra rais money suppor...</td>\n",
       "      <td>archery</td>\n",
       "    </tr>\n",
       "    <tr>\n",
       "      <th>3</th>\n",
       "      <td>4</td>\n",
       "      <td>101</td>\n",
       "      <td>tim gillingham shoot clin uwtec tenem hitⓡmiss...</td>\n",
       "      <td>archery</td>\n",
       "    </tr>\n",
       "    <tr>\n",
       "      <th>4</th>\n",
       "      <td>5</td>\n",
       "      <td>102</td>\n",
       "      <td>wint warmup nasp archery tourna ped ter flery ...</td>\n",
       "      <td>archery</td>\n",
       "    </tr>\n",
       "    <tr>\n",
       "      <th>...</th>\n",
       "      <td>...</td>\n",
       "      <td>...</td>\n",
       "      <td>...</td>\n",
       "      <td>...</td>\n",
       "    </tr>\n",
       "    <tr>\n",
       "      <th>2387</th>\n",
       "      <td>2388</td>\n",
       "      <td>95</td>\n",
       "      <td>ten champ</td>\n",
       "      <td>tennis</td>\n",
       "    </tr>\n",
       "    <tr>\n",
       "      <th>2388</th>\n",
       "      <td>2389</td>\n",
       "      <td>96</td>\n",
       "      <td>pres ten club sum ten tourna sunday april gree...</td>\n",
       "      <td>tennis</td>\n",
       "    </tr>\n",
       "    <tr>\n",
       "      <th>2389</th>\n",
       "      <td>2390</td>\n",
       "      <td>97</td>\n",
       "      <td>ind ten assocy ait ait ten tourna boy girl dec...</td>\n",
       "      <td>tennis</td>\n",
       "    </tr>\n",
       "    <tr>\n",
       "      <th>2390</th>\n",
       "      <td>2391</td>\n",
       "      <td>98</td>\n",
       "      <td>sunday juny best pikb pikbet ten op websitecom...</td>\n",
       "      <td>tennis</td>\n",
       "    </tr>\n",
       "    <tr>\n",
       "      <th>2391</th>\n",
       "      <td>2392</td>\n",
       "      <td>99</td>\n",
       "      <td>ready ten tourna xx pm anywh st city fre reg y...</td>\n",
       "      <td>tennis</td>\n",
       "    </tr>\n",
       "  </tbody>\n",
       "</table>\n",
       "<p>2392 rows × 4 columns</p>\n",
       "</div>\n",
       "      <button class=\"colab-df-convert\" onclick=\"convertToInteractive('df-35dfcc3d-a9cc-4068-be02-8db12ba39632')\"\n",
       "              title=\"Convert this dataframe to an interactive table.\"\n",
       "              style=\"display:none;\">\n",
       "        \n",
       "  <svg xmlns=\"http://www.w3.org/2000/svg\" height=\"24px\"viewBox=\"0 0 24 24\"\n",
       "       width=\"24px\">\n",
       "    <path d=\"M0 0h24v24H0V0z\" fill=\"none\"/>\n",
       "    <path d=\"M18.56 5.44l.94 2.06.94-2.06 2.06-.94-2.06-.94-.94-2.06-.94 2.06-2.06.94zm-11 1L8.5 8.5l.94-2.06 2.06-.94-2.06-.94L8.5 2.5l-.94 2.06-2.06.94zm10 10l.94 2.06.94-2.06 2.06-.94-2.06-.94-.94-2.06-.94 2.06-2.06.94z\"/><path d=\"M17.41 7.96l-1.37-1.37c-.4-.4-.92-.59-1.43-.59-.52 0-1.04.2-1.43.59L10.3 9.45l-7.72 7.72c-.78.78-.78 2.05 0 2.83L4 21.41c.39.39.9.59 1.41.59.51 0 1.02-.2 1.41-.59l7.78-7.78 2.81-2.81c.8-.78.8-2.07 0-2.86zM5.41 20L4 18.59l7.72-7.72 1.47 1.35L5.41 20z\"/>\n",
       "  </svg>\n",
       "      </button>\n",
       "      \n",
       "  <style>\n",
       "    .colab-df-container {\n",
       "      display:flex;\n",
       "      flex-wrap:wrap;\n",
       "      gap: 12px;\n",
       "    }\n",
       "\n",
       "    .colab-df-convert {\n",
       "      background-color: #E8F0FE;\n",
       "      border: none;\n",
       "      border-radius: 50%;\n",
       "      cursor: pointer;\n",
       "      display: none;\n",
       "      fill: #1967D2;\n",
       "      height: 32px;\n",
       "      padding: 0 0 0 0;\n",
       "      width: 32px;\n",
       "    }\n",
       "\n",
       "    .colab-df-convert:hover {\n",
       "      background-color: #E2EBFA;\n",
       "      box-shadow: 0px 1px 2px rgba(60, 64, 67, 0.3), 0px 1px 3px 1px rgba(60, 64, 67, 0.15);\n",
       "      fill: #174EA6;\n",
       "    }\n",
       "\n",
       "    [theme=dark] .colab-df-convert {\n",
       "      background-color: #3B4455;\n",
       "      fill: #D2E3FC;\n",
       "    }\n",
       "\n",
       "    [theme=dark] .colab-df-convert:hover {\n",
       "      background-color: #434B5C;\n",
       "      box-shadow: 0px 1px 3px 1px rgba(0, 0, 0, 0.15);\n",
       "      filter: drop-shadow(0px 1px 2px rgba(0, 0, 0, 0.3));\n",
       "      fill: #FFFFFF;\n",
       "    }\n",
       "  </style>\n",
       "\n",
       "      <script>\n",
       "        const buttonEl =\n",
       "          document.querySelector('#df-35dfcc3d-a9cc-4068-be02-8db12ba39632 button.colab-df-convert');\n",
       "        buttonEl.style.display =\n",
       "          google.colab.kernel.accessAllowed ? 'block' : 'none';\n",
       "\n",
       "        async function convertToInteractive(key) {\n",
       "          const element = document.querySelector('#df-35dfcc3d-a9cc-4068-be02-8db12ba39632');\n",
       "          const dataTable =\n",
       "            await google.colab.kernel.invokeFunction('convertToInteractive',\n",
       "                                                     [key], {});\n",
       "          if (!dataTable) return;\n",
       "\n",
       "          const docLinkHtml = 'Like what you see? Visit the ' +\n",
       "            '<a target=\"_blank\" href=https://colab.research.google.com/notebooks/data_table.ipynb>data table notebook</a>'\n",
       "            + ' to learn more about interactive tables.';\n",
       "          element.innerHTML = '';\n",
       "          dataTable['output_type'] = 'display_data';\n",
       "          await google.colab.output.renderOutput(dataTable, element);\n",
       "          const docLink = document.createElement('div');\n",
       "          docLink.innerHTML = docLinkHtml;\n",
       "          element.appendChild(docLink);\n",
       "        }\n",
       "      </script>\n",
       "    </div>\n",
       "  </div>\n",
       "  "
      ],
      "text/plain": [
       "      index  file                                               text    sport\n",
       "0         1     0  archery tourna jun pm reg fee year old c kensh...  archery\n",
       "1         2     1  entertain pres archery tourna lorem ips dol si...  archery\n",
       "2         3    10  pleas join us archery fundra rais money suppor...  archery\n",
       "3         4   101  tim gillingham shoot clin uwtec tenem hitⓡmiss...  archery\n",
       "4         5   102  wint warmup nasp archery tourna ped ter flery ...  archery\n",
       "...     ...   ...                                                ...      ...\n",
       "2387   2388    95                                          ten champ   tennis\n",
       "2388   2389    96  pres ten club sum ten tourna sunday april gree...   tennis\n",
       "2389   2390    97  ind ten assocy ait ait ten tourna boy girl dec...   tennis\n",
       "2390   2391    98  sunday juny best pikb pikbet ten op websitecom...   tennis\n",
       "2391   2392    99  ready ten tourna xx pm anywh st city fre reg y...   tennis\n",
       "\n",
       "[2392 rows x 4 columns]"
      ]
     },
     "execution_count": 134,
     "metadata": {},
     "output_type": "execute_result"
    }
   ],
   "source": [
    "df_train"
   ]
  },
  {
   "cell_type": "markdown",
   "id": "377101df",
   "metadata": {
    "id": "377101df"
   },
   "source": [
    "# Support Vector Machines (SVM)"
   ]
  },
  {
   "cell_type": "markdown",
   "id": "c0e05329",
   "metadata": {
    "id": "c0e05329"
   },
   "source": [
    "Support Vector Machines (SVM) are powerful supervised machine learning algorithms used for binary classification. However, they can be extended to handle multi-class classification using techniques like one-vs-one (OvO) or one-vs-rest (OvR). In this response, we'll go through the steps to train an SVM model for multi-class text classification using Python and the Scikit-learn library."
   ]
  },
  {
   "cell_type": "code",
   "execution_count": 126,
   "id": "0bca26f6",
   "metadata": {
    "executionInfo": {
     "elapsed": 528,
     "status": "ok",
     "timestamp": 1681749513261,
     "user": {
      "displayName": "Pathum Mihiranga",
      "userId": "16999484675349585718"
     },
     "user_tz": -330
    },
    "id": "0bca26f6"
   },
   "outputs": [],
   "source": [
    "import numpy as np\n",
    "import pandas as pd"
   ]
  },
  {
   "cell_type": "code",
   "execution_count": 127,
   "id": "bab67d97",
   "metadata": {
    "executionInfo": {
     "elapsed": 2,
     "status": "ok",
     "timestamp": 1681749517749,
     "user": {
      "displayName": "Pathum Mihiranga",
      "userId": "16999484675349585718"
     },
     "user_tz": -330
    },
    "id": "bab67d97"
   },
   "outputs": [],
   "source": [
    "from sklearn.model_selection import train_test_split\n",
    "from sklearn.feature_extraction.text import TfidfVectorizer\n",
    "from sklearn.svm import SVC\n",
    "from sklearn.pipeline import Pipeline\n",
    "from sklearn.multiclass import OneVsRestClassifier\n",
    "from sklearn.metrics import classification_report, accuracy_score"
   ]
  },
  {
   "cell_type": "code",
   "execution_count": 142,
   "id": "1b5eb5c2",
   "metadata": {
    "executionInfo": {
     "elapsed": 592,
     "status": "ok",
     "timestamp": 1681751391692,
     "user": {
      "displayName": "Pathum Mihiranga",
      "userId": "16999484675349585718"
     },
     "user_tz": -330
    },
    "id": "1b5eb5c2"
   },
   "outputs": [],
   "source": [
    "x_data = df_train['text']\n",
    "y_data = df_train['sport']"
   ]
  },
  {
   "cell_type": "code",
   "execution_count": 143,
   "id": "2319c54b",
   "metadata": {
    "executionInfo": {
     "elapsed": 381,
     "status": "ok",
     "timestamp": 1681751394423,
     "user": {
      "displayName": "Pathum Mihiranga",
      "userId": "16999484675349585718"
     },
     "user_tz": -330
    },
    "id": "2319c54b"
   },
   "outputs": [],
   "source": [
    "x_train , x_test , y_train , y_test = train_test_split(x_data , y_data , stratify=y_data, test_size=0.2, random_state=42 )"
   ]
  },
  {
   "cell_type": "code",
   "execution_count": 144,
   "id": "c4eb617e",
   "metadata": {
    "executionInfo": {
     "elapsed": 351,
     "status": "ok",
     "timestamp": 1681751399849,
     "user": {
      "displayName": "Pathum Mihiranga",
      "userId": "16999484675349585718"
     },
     "user_tz": -330
    },
    "id": "c4eb617e"
   },
   "outputs": [],
   "source": [
    "pipeline = Pipeline([\n",
    "    ('tfidf', TfidfVectorizer()),\n",
    "    ('clf', OneVsRestClassifier(SVC(kernel='linear', probability=True, class_weight='balanced')))\n",
    "])"
   ]
  },
  {
   "cell_type": "code",
   "execution_count": 145,
   "id": "345ca9e9",
   "metadata": {
    "colab": {
     "base_uri": "https://localhost:8080/",
     "height": 191
    },
    "executionInfo": {
     "elapsed": 14097,
     "status": "ok",
     "timestamp": 1681751418233,
     "user": {
      "displayName": "Pathum Mihiranga",
      "userId": "16999484675349585718"
     },
     "user_tz": -330
    },
    "id": "345ca9e9",
    "outputId": "2d76a5ce-5dc4-441d-fc4a-8311abeb657e"
   },
   "outputs": [
    {
     "data": {
      "text/html": [
       "<style>#sk-container-id-5 {color: black;background-color: white;}#sk-container-id-5 pre{padding: 0;}#sk-container-id-5 div.sk-toggleable {background-color: white;}#sk-container-id-5 label.sk-toggleable__label {cursor: pointer;display: block;width: 100%;margin-bottom: 0;padding: 0.3em;box-sizing: border-box;text-align: center;}#sk-container-id-5 label.sk-toggleable__label-arrow:before {content: \"▸\";float: left;margin-right: 0.25em;color: #696969;}#sk-container-id-5 label.sk-toggleable__label-arrow:hover:before {color: black;}#sk-container-id-5 div.sk-estimator:hover label.sk-toggleable__label-arrow:before {color: black;}#sk-container-id-5 div.sk-toggleable__content {max-height: 0;max-width: 0;overflow: hidden;text-align: left;background-color: #f0f8ff;}#sk-container-id-5 div.sk-toggleable__content pre {margin: 0.2em;color: black;border-radius: 0.25em;background-color: #f0f8ff;}#sk-container-id-5 input.sk-toggleable__control:checked~div.sk-toggleable__content {max-height: 200px;max-width: 100%;overflow: auto;}#sk-container-id-5 input.sk-toggleable__control:checked~label.sk-toggleable__label-arrow:before {content: \"▾\";}#sk-container-id-5 div.sk-estimator input.sk-toggleable__control:checked~label.sk-toggleable__label {background-color: #d4ebff;}#sk-container-id-5 div.sk-label input.sk-toggleable__control:checked~label.sk-toggleable__label {background-color: #d4ebff;}#sk-container-id-5 input.sk-hidden--visually {border: 0;clip: rect(1px 1px 1px 1px);clip: rect(1px, 1px, 1px, 1px);height: 1px;margin: -1px;overflow: hidden;padding: 0;position: absolute;width: 1px;}#sk-container-id-5 div.sk-estimator {font-family: monospace;background-color: #f0f8ff;border: 1px dotted black;border-radius: 0.25em;box-sizing: border-box;margin-bottom: 0.5em;}#sk-container-id-5 div.sk-estimator:hover {background-color: #d4ebff;}#sk-container-id-5 div.sk-parallel-item::after {content: \"\";width: 100%;border-bottom: 1px solid gray;flex-grow: 1;}#sk-container-id-5 div.sk-label:hover label.sk-toggleable__label {background-color: #d4ebff;}#sk-container-id-5 div.sk-serial::before {content: \"\";position: absolute;border-left: 1px solid gray;box-sizing: border-box;top: 0;bottom: 0;left: 50%;z-index: 0;}#sk-container-id-5 div.sk-serial {display: flex;flex-direction: column;align-items: center;background-color: white;padding-right: 0.2em;padding-left: 0.2em;position: relative;}#sk-container-id-5 div.sk-item {position: relative;z-index: 1;}#sk-container-id-5 div.sk-parallel {display: flex;align-items: stretch;justify-content: center;background-color: white;position: relative;}#sk-container-id-5 div.sk-item::before, #sk-container-id-5 div.sk-parallel-item::before {content: \"\";position: absolute;border-left: 1px solid gray;box-sizing: border-box;top: 0;bottom: 0;left: 50%;z-index: -1;}#sk-container-id-5 div.sk-parallel-item {display: flex;flex-direction: column;z-index: 1;position: relative;background-color: white;}#sk-container-id-5 div.sk-parallel-item:first-child::after {align-self: flex-end;width: 50%;}#sk-container-id-5 div.sk-parallel-item:last-child::after {align-self: flex-start;width: 50%;}#sk-container-id-5 div.sk-parallel-item:only-child::after {width: 0;}#sk-container-id-5 div.sk-dashed-wrapped {border: 1px dashed gray;margin: 0 0.4em 0.5em 0.4em;box-sizing: border-box;padding-bottom: 0.4em;background-color: white;}#sk-container-id-5 div.sk-label label {font-family: monospace;font-weight: bold;display: inline-block;line-height: 1.2em;}#sk-container-id-5 div.sk-label-container {text-align: center;}#sk-container-id-5 div.sk-container {/* jupyter's `normalize.less` sets `[hidden] { display: none; }` but bootstrap.min.css set `[hidden] { display: none !important; }` so we also need the `!important` here to be able to override the default hidden behavior on the sphinx rendered scikit-learn.org. See: https://github.com/scikit-learn/scikit-learn/issues/21755 */display: inline-block !important;position: relative;}#sk-container-id-5 div.sk-text-repr-fallback {display: none;}</style><div id=\"sk-container-id-5\" class=\"sk-top-container\"><div class=\"sk-text-repr-fallback\"><pre>Pipeline(steps=[(&#x27;tfidf&#x27;, TfidfVectorizer()),\n",
       "                (&#x27;clf&#x27;,\n",
       "                 OneVsRestClassifier(estimator=SVC(class_weight=&#x27;balanced&#x27;,\n",
       "                                                   kernel=&#x27;linear&#x27;,\n",
       "                                                   probability=True)))])</pre><b>In a Jupyter environment, please rerun this cell to show the HTML representation or trust the notebook. <br />On GitHub, the HTML representation is unable to render, please try loading this page with nbviewer.org.</b></div><div class=\"sk-container\" hidden><div class=\"sk-item sk-dashed-wrapped\"><div class=\"sk-label-container\"><div class=\"sk-label sk-toggleable\"><input class=\"sk-toggleable__control sk-hidden--visually\" id=\"sk-estimator-id-5\" type=\"checkbox\" ><label for=\"sk-estimator-id-5\" class=\"sk-toggleable__label sk-toggleable__label-arrow\">Pipeline</label><div class=\"sk-toggleable__content\"><pre>Pipeline(steps=[(&#x27;tfidf&#x27;, TfidfVectorizer()),\n",
       "                (&#x27;clf&#x27;,\n",
       "                 OneVsRestClassifier(estimator=SVC(class_weight=&#x27;balanced&#x27;,\n",
       "                                                   kernel=&#x27;linear&#x27;,\n",
       "                                                   probability=True)))])</pre></div></div></div><div class=\"sk-serial\"><div class=\"sk-item\"><div class=\"sk-estimator sk-toggleable\"><input class=\"sk-toggleable__control sk-hidden--visually\" id=\"sk-estimator-id-6\" type=\"checkbox\" ><label for=\"sk-estimator-id-6\" class=\"sk-toggleable__label sk-toggleable__label-arrow\">TfidfVectorizer</label><div class=\"sk-toggleable__content\"><pre>TfidfVectorizer()</pre></div></div></div><div class=\"sk-item sk-dashed-wrapped\"><div class=\"sk-label-container\"><div class=\"sk-label sk-toggleable\"><input class=\"sk-toggleable__control sk-hidden--visually\" id=\"sk-estimator-id-7\" type=\"checkbox\" ><label for=\"sk-estimator-id-7\" class=\"sk-toggleable__label sk-toggleable__label-arrow\">clf: OneVsRestClassifier</label><div class=\"sk-toggleable__content\"><pre>OneVsRestClassifier(estimator=SVC(class_weight=&#x27;balanced&#x27;, kernel=&#x27;linear&#x27;,\n",
       "                                  probability=True))</pre></div></div></div><div class=\"sk-parallel\"><div class=\"sk-parallel-item\"><div class=\"sk-item\"><div class=\"sk-label-container\"><div class=\"sk-label sk-toggleable\"><input class=\"sk-toggleable__control sk-hidden--visually\" id=\"sk-estimator-id-8\" type=\"checkbox\" ><label for=\"sk-estimator-id-8\" class=\"sk-toggleable__label sk-toggleable__label-arrow\">estimator: SVC</label><div class=\"sk-toggleable__content\"><pre>SVC(class_weight=&#x27;balanced&#x27;, kernel=&#x27;linear&#x27;, probability=True)</pre></div></div></div><div class=\"sk-serial\"><div class=\"sk-item\"><div class=\"sk-estimator sk-toggleable\"><input class=\"sk-toggleable__control sk-hidden--visually\" id=\"sk-estimator-id-9\" type=\"checkbox\" ><label for=\"sk-estimator-id-9\" class=\"sk-toggleable__label sk-toggleable__label-arrow\">SVC</label><div class=\"sk-toggleable__content\"><pre>SVC(class_weight=&#x27;balanced&#x27;, kernel=&#x27;linear&#x27;, probability=True)</pre></div></div></div></div></div></div></div></div></div></div></div></div>"
      ],
      "text/plain": [
       "Pipeline(steps=[('tfidf', TfidfVectorizer()),\n",
       "                ('clf',\n",
       "                 OneVsRestClassifier(estimator=SVC(class_weight='balanced',\n",
       "                                                   kernel='linear',\n",
       "                                                   probability=True)))])"
      ]
     },
     "execution_count": 145,
     "metadata": {},
     "output_type": "execute_result"
    }
   ],
   "source": [
    "pipeline.fit(x_train, y_train)"
   ]
  },
  {
   "cell_type": "code",
   "execution_count": 146,
   "id": "3c4178db",
   "metadata": {
    "colab": {
     "base_uri": "https://localhost:8080/"
    },
    "executionInfo": {
     "elapsed": 900,
     "status": "ok",
     "timestamp": 1681751424168,
     "user": {
      "displayName": "Pathum Mihiranga",
      "userId": "16999484675349585718"
     },
     "user_tz": -330
    },
    "id": "3c4178db",
    "outputId": "7138436d-1ee4-4f60-96af-609b56cca941"
   },
   "outputs": [
    {
     "name": "stdout",
     "output_type": "stream",
     "text": [
      "Accuracy:  0.9144050104384134\n",
      "              precision    recall  f1-score   support\n",
      "\n",
      "     archery       0.91      0.94      0.92        31\n",
      "    baseball       1.00      0.77      0.87        35\n",
      "  basketball       0.92      0.93      0.93        75\n",
      "    billiard       0.90      0.93      0.92        29\n",
      "      carrom       0.95      0.95      0.95        21\n",
      "       chess       0.83      0.91      0.87        90\n",
      "     cricket       0.93      0.95      0.94        55\n",
      "        golf       0.94      0.99      0.96        67\n",
      "       rugby       1.00      0.88      0.93        32\n",
      "      tennis       0.93      0.84      0.88        44\n",
      "\n",
      "    accuracy                           0.91       479\n",
      "   macro avg       0.93      0.91      0.92       479\n",
      "weighted avg       0.92      0.91      0.91       479\n",
      "\n"
     ]
    }
   ],
   "source": [
    "y_pred = pipeline.predict(x_test)\n",
    "print(\"Accuracy: \", accuracy_score(y_test, y_pred))\n",
    "print(classification_report(y_test, y_pred))"
   ]
  },
  {
   "cell_type": "code",
   "execution_count": 147,
   "id": "r5RTQ6BfM3h5",
   "metadata": {
    "colab": {
     "base_uri": "https://localhost:8080/"
    },
    "executionInfo": {
     "elapsed": 380,
     "status": "ok",
     "timestamp": 1681751543328,
     "user": {
      "displayName": "Pathum Mihiranga",
      "userId": "16999484675349585718"
     },
     "user_tz": -330
    },
    "id": "r5RTQ6BfM3h5",
    "outputId": "edfb0a5c-c7a7-4719-9181-17b0a2cd1708"
   },
   "outputs": [
    {
     "name": "stdout",
     "output_type": "stream",
     "text": [
      "archery\tcarrom\t\t\tphuhet as ar rchery tourna\n",
      "\n",
      "archery\ttennis\t\t\toct company pres archery tourna cash priz spons ad detail ad detail ad detail ad detail ad detail ad detail ad detail ad detail wwwwebsitecom ph\n",
      "\n",
      "baseball\tbasketball\t\t\tmay dol ips lorem baseral leagu champ fitam bir cog\n",
      "\n",
      "baseball\tchess\t\t\tb jacky robinson\n",
      "\n",
      "baseball\tchess\t\t\tc brav cer\n",
      "\n",
      "baseball\tchess\t\t\tonyx onyx vint\n",
      "\n",
      "baseball\tchess\t\t\tout pric cts reach off bas bal guid sal\n",
      "\n",
      "baseball\tchess\t\t\tதமககள் busch stad st lou\n",
      "\n",
      "baseball\tcricket\t\t\tbasebal tourna start may reg contact us may schedule ad team ad team ad team ad team ad tam ad team ad team ad team ad team ad team ad team adam ad team ad team ad team ad team ad team ad team ad team\n",
      "\n",
      "baseball\ttennis\t\t\tbasebal tourna th jun aren nam start fre ררררררה sampl text sep lay lorem ips dol sit amet consectet adip elit sed eiusmod temp incididunt ut lab et dol magn aliqu enim ad minim veniam qui nostrud exercit ullamco lab nis ut aliquip ☆ lorem ips dol sit ametconsectet adipisicingelit nostrud nis irurecommodovolupt lor ullamcoveniam enim info wwwtournamentadressxyz\n",
      "\n",
      "basketball\tbilliard\t\t\tdownload dreamstimecom watermark im preview purpos tourna dreamstim dreamstim vs fremstim dream tim dien tim id enterlinedesign dreamstimecom\n",
      "\n",
      "basketball\tchess\t\t\tbas ket bal tourna lorem ips dol sit amet consectet adipisc elit maur ult laoreet urn qui luct suspendiss ac met fel mol rutr mol nunt qui ips viverr et vulput lac accums janu los angel\n",
      "\n",
      "basketball\tchess\t\t\tebasketbal bro\n",
      "\n",
      "basketball\tchess\t\t\tres nat champ tuelt nat champ jr duk pre feuz c duk champ hamko duk auk tion ion du ie duk wilson ke grayson al quin cook sean ob jahlil okaf coach vs cant class champ nca sou reg champ nca champ nca fin four indianapol com duk amil jefferson mat jon tyu jon sean kel nick pagliuc marshal pluml just winslow hygivy fin record el lleu photo jon gardn dunlo\n",
      "\n",
      "basketball\tcricket\t\t\tfreepik freepik freepik freep freepik reg decemb freepik freepik basketbal champ fre it´s back freepik dfreepik freep freepik bik plac leagu begin freepik freep freepik\n",
      "\n",
      "billiard\tchess\t\t\tock images™ ock images™ ock im billiard getty im tourna aug th istock getty im istock getty im istock getty images™ getty im curabit imperdiet nisl augu dignissim qui condiment nequ temp istock getty im new york istock istoc getty im istock getty im entry stoc getty im istoc getty im lorem ips dol sit amet company logo\n",
      "\n",
      "billiard\tcricket\t\t\tfreepik epik freepik freepik oik freepik billiard ері freepik tourna entry friday march freepil freepik freepik freepik billiard club freepik pik freepik\n",
      "\n",
      "carrom\tarchery\t\t\tcardon camb carrrom canada invit op champ kampst champ includ doubl competit nd rd th jun venu ridgev driv markham onward champ singl compet award st plac c nd plac c rd plac c th placec th th plac c entry fee per person inform wwwcarromcanadacom frant dcost doubl competit award st placec nd plac c rd plac c entry fee per pair carromcanad gmailcom\n",
      "\n",
      "chess\tarchery\t\t\tpngtree info tion pngtree pngtree pngtre sud gtree pngtree pngtree pngtree tre pno pngtree pnot ongt th intern chess day gtree pngtree agt pret ongt tre pngtreepngtree gud tre pno sud pngtre pleas ad brand infom pleas ad brand infom herepleas ad infom logo pngtree pngtre pngtree oud gtreengtree pngtree sud on pngtree pn sud\n",
      "\n",
      "chess\tbasketball\t\t\thom busy strategy lorem ips dol sit amet consectet adipisc elit sed eiusmod temp incididunt ut lab et dol magn aliqu ut enim ad minim veniam qui nostrud exercit ullamco lab nis ut aliquip ex ea commodo consequ learn serv contact\n",
      "\n",
      "chess\tbasketball\t\t\ttock® vectorstock vec vectorstockⓡ vect stock vectorstock vectorstock veck lockⓡ vectorstock vect stock ock vect sto vect vectorstockcom\n",
      "\n",
      "chess\tbilliard\t\t\tdreamstim reamstim dreamstim dreamstim eamstim dreamstim dreamstim chess tourna dreamstin dreamstim dreamstim id casset bleu dreamstimecom\n",
      "\n",
      "chess\tgolf\t\t\tam rac background lorem ips dol sit amet consectetu adipisc elit sed diam nonummy nibh euismod tincidunt ut laoreet dol magn aliquam er volutp ut wis enim ad minim veniam qui nostrud exerc tat ullamcorp suscipit lob ort nis ut aliquip ex ea commodo consequ dui autem lorem ips dol sit amet consec tetu adipisc elit sed diam non\n",
      "\n",
      "chess\tgolf\t\t\tbusy strategy lorem ips sem pona con pal castro nent e laut pued reprehenderit info\n",
      "\n",
      "chess\tgolf\t\t\tsagam entertain pres chess tourna newyork nd street empir sat lorem ips lorem ips dol sit amet consectetu adipisc elit aen commodo ligul eget dol aen mass cum socy natoqu penatib et magn dis partury mont nascet ridicul w\n",
      "\n",
      "chess\ttennis\t\t\tfly presid inaug contact mail infoinaugurationcom today presid inaug lorem ips dol sit amet consectet adip elit sed el usmod temp incididunt ut lab et dol magn aliqu ut enim ad minim veniam qui nostrud exercit join us street op stad city fut lorem ips dol sit amet comecet adipoc ing elit sed eiusmod temp incididunt ut lab et dol magn aliqu qui prom sus penet da lorem ips start pm onward july heard lorem ips dol sit amet consectet adipisc ing elit sed eiusmod temp incididunt ut lab et dol magn aliqu qui ips sus pendiss ult gravid lorem ips\n",
      "\n",
      "cricket\tbasketball\t\t\tutterstock shut jalolatl al interact shutterstock shutterstock ck shutterstock crickhutterst al interact shut shutterstock im id wwwshutterstockcom\n",
      "\n",
      "cricket\tchess\t\t\tock im ock images™ istock getty im let che support team istock getty im istek getty im stock getty im getty im ta getty im liv stream istoc getty im istoc getty im ock address lin goe hereistoc wwwyourwebcom getty im images™\n",
      "\n",
      "cricket\tchess\t\t\tshey k pet es oppo ind dbyj mre العلم alway rememb gair vrat b\n",
      "\n",
      "golf\tbasketball\t\t\tgolf playoff th octob bar logo nam sport bar address bar work tim sportbarsitecom inform contact facebookcomyours twittercomyourb youtubecomyourb depositphoto group group b basketbal playoff th octob nam sport bar address sport bar wort work tim logo sportbarsitecom deposit depositphoto team team b volleybal playoff octob inform contact facebookcomyour twittercomyourb youtubecomyourb nam sport bar address sport bar work tim sportbarssitecom inform contact facebookcomyourb twittercomyourb youtubecomyourb basebal season tourna deposito ✰✰✰✰✰✰✰✰✰✰✰✰ group th th septemb group b v nam sport bar address sport bar werk tim basitecom bar logo pm pmi fre drink inform contact facebookcomyourb twittercomyourb youtubecomyourb ic hockey th τη octob ooooooooooooooo nam sport bar address sport bar bar work tim logo team team b gam inform contact loremcomyours ipsumcomyourb loremcomyourb depositoroto ten play play b th octob nam sport bar address sport bar work tim sportbarepsitecom pmi fre drink inform contact facebookcomyourb twittercomyourb bowl de sitpl season tourna ✰✰✰✰✰✰✰✰✰✰✰ watch us nam sport bar address sport bar work tim barsitecom τη th septemb pm pm fre drink inform contact loremcomyourb ipsumcomyourb loremcomyourb season tourna wwwwwwwwwwwwwwwwww am sport bar address sport bar work tim og sportbarsitecom team bar logo th octob team b im id big gam pmi fre drink inform contact facebookcomyourb twittercomyourb youtubecomyourb decositphoto wwwdepositphotoscom de\n",
      "\n",
      "rugby\tbasketball\t\t\tfebru rugby tourna match day buck knick warry piston madison squ gard new york ny march littl caes aren detroit mi net wizard match day capit on aren washington dc pac king gold cent sacramento ca sun lak stapl cent los angel ca pel hornet spectr cent charlot nc match day feb blaz spur at cent san antonio tx thund piston littl caes aren detroit mi warry hawk stat farm aren atlant ga feb mar match day rapt cava quick loan aren cleveland oh bul rocket toyot cent houston tx feb celt timberwolv target cent minneapol mn match day mar jazz heat am airlin aren miam fl grizz er wel fargo cent philadelph pa clip maverick am airlin cent dalla tx cent stad us reserv ticket sel ticketssportcom wwwsportcom\n",
      "\n",
      "rugby\tbilliard\t\t\tg rugo orega cimy g download dreamstimecom watermark comp im preview purpos dreamstim teamstim dreamstim id アウェ renk dreamstimecom\n",
      "\n",
      "rugby\tchess\t\t\taj gwirtsm corugby reg saturday pm washburn field facebookcomccrugby twittercomccrgby\n",
      "\n",
      "rugby\tchess\t\t\tim im ock images™ getty im stock getty im istock getty im istock getty images™ istock getty images™ istock • getty im stoc oy getty im istoc cet mac rugby ist getty images™ getty imo\n",
      "\n",
      "tennis\tarchery\t\t\tpurna pngtree pngtee pngtree sunday nd decemb pm eenoud fre ongt pngtree pnog phat pngtree ongt ongt pngtre pngtree pngtree lorem ipsumlorem ips dol gtree pngtree pret png agr pngtree pngt ngtree ngu hotlin pngtree eepho pngtree ongt pn wwwtenniss sud\n",
      "\n",
      "tennis\tchess\t\t\tck ten images™ getty im ock im ock images™ tourna them text go istock getty images™ istock getty images™ istock getty images™ istock getty im istock getty images™ istock getty images™ dat ist quam vol simol iberem qui tem vent lab in hit rat ditatúr sa vend doluptiatem et vel deb ut atin istock getty images™ istock getty images™ c\n",
      "\n",
      "tennis\tchess\t\t\tkomaterackorkturechorty грузинской сср techs coptschard hasepeg апрелямая tehhhc международнын турнир юниоров shactbot tehnchet болгарки венгрии великобритании гдр италии кубв швейцарин пно румынии чccp францик югославии ссср man copernobahn прел преди\n",
      "\n",
      "tennis\tchess\t\t\tlon τοur να μεντ\n",
      "\n",
      "tennis\tchess\t\t\tock im ock im fistock getty imac ock im ty im ten tourna istock getty im jun getty im istock getty im tourna start tim spot priz day istock address loc stoc getty im istoc getty im istoc getty im\n",
      "\n",
      "tennis\tcricket\t\t\tfreepik freepik bik freepik freepik freepik ten champ freepik oct st rd sport arnanew york lorem ips dol sit amet consectetu adipisc elit sed diam nonummy nibh euismod tincidunt ut laoreet dol magn aliquam er volutp ut wis enim ad minim veniam qui nostrud exerc tat ullamcorp suscipit lobort nisl ut aliquip ex ea commodo consequ wwwtennischampionshipcom freepik freepik freep freepik freepik freepik dont miss freepik bik freepik freepik freep freepik\n",
      "\n",
      "tennis\tgolf\t\t\tjun yourten club start reg invit th an tourna qui nostrud exercit ullamco dol aliqu yourten club street city stat info reg wwwlerxyz\n"
     ]
    }
   ],
   "source": [
    "print('\\n\\n'.join([f'{i[0]}\\t{i[1]}\\t\\t\\t{i[2]}' for i in sorted(zip(y_test, y_pred, x_test)) if i[0] != i[1]]))"
   ]
  },
  {
   "cell_type": "code",
   "execution_count": null,
   "id": "6c731e89",
   "metadata": {
    "id": "6c731e89"
   },
   "outputs": [],
   "source": [
    "test_text = [\"This is an example of archery test text\"]"
   ]
  },
  {
   "cell_type": "code",
   "execution_count": null,
   "id": "0895ee1d",
   "metadata": {
    "id": "0895ee1d"
   },
   "outputs": [],
   "source": [
    "predicted_label = pipeline.predict(test_text)"
   ]
  },
  {
   "cell_type": "code",
   "execution_count": null,
   "id": "6ef6e03a",
   "metadata": {
    "id": "6ef6e03a",
    "outputId": "9eb0efe8-f783-43c0-efd2-fd73dcd659c8"
   },
   "outputs": [
    {
     "name": "stdout",
     "output_type": "stream",
     "text": [
      "Predicted class label: ['archery']\n"
     ]
    }
   ],
   "source": [
    "print(\"Predicted class label:\", predicted_label)"
   ]
  },
  {
   "cell_type": "code",
   "execution_count": null,
   "id": "3665ab22",
   "metadata": {
    "id": "3665ab22",
    "outputId": "ab8d0bec-b150-4afd-97f4-e34228dab1c1"
   },
   "outputs": [
    {
     "name": "stdout",
     "output_type": "stream",
     "text": [
      "Predicted class probabilities: [[0.84744078 0.00097456 0.01682905 0.005413   0.00145588 0.02801421\n",
      "  0.00886825 0.00386125 0.00212671 0.08501629]]\n"
     ]
    }
   ],
   "source": [
    "predicted_probabilities = pipeline.predict_proba(test_text)\n",
    "print(\"Predicted class probabilities:\", predicted_probabilities)"
   ]
  },
  {
   "cell_type": "code",
   "execution_count": null,
   "id": "a9cd9e42",
   "metadata": {
    "id": "a9cd9e42"
   },
   "outputs": [],
   "source": []
  },
  {
   "cell_type": "code",
   "execution_count": 111,
   "id": "Fu6JJSrtBrPL",
   "metadata": {
    "colab": {
     "base_uri": "https://localhost:8080/"
    },
    "executionInfo": {
     "elapsed": 3,
     "status": "ok",
     "timestamp": 1681749020427,
     "user": {
      "displayName": "Pathum Mihiranga",
      "userId": "16999484675349585718"
     },
     "user_tz": -330
    },
    "id": "Fu6JJSrtBrPL",
    "outputId": "41e3baba-f8db-40d8-8775-c2cf969ad857"
   },
   "outputs": [
    {
     "name": "stdout",
     "output_type": "stream",
     "text": [
      "('hello caresses are you dies', 'hello caresses are you dies')\n",
      "('caresses', 'caress')\n",
      "('flies', 'fli')\n",
      "('dies', 'die')\n",
      "('mules', 'mul')\n",
      "('denied', 'deny')\n",
      "('died', 'died')\n",
      "('agreed', 'agree')\n",
      "('owned', 'own')\n",
      "('humbled', 'humbl')\n",
      "('sized', 'siz')\n",
      "('meeting', 'meet')\n",
      "('stating', 'stat')\n",
      "('siezing', 'siez')\n",
      "('itemization', 'item')\n",
      "('sensational', 'sens')\n",
      "('traditional', 'tradit')\n",
      "('reference', 'ref')\n",
      "('colonizer', 'colon')\n",
      "('plotted', 'plot')\n"
     ]
    }
   ],
   "source": [
    "from nltk.stem import LancasterStemmer\n",
    "\n",
    "lc = LancasterStemmer()\n",
    "tokens = ['hello caresses are you dies', 'caresses', 'flies', 'dies', 'mules', 'denied', 'died', 'agreed', 'owned', 'humbled', 'sized', 'meeting', 'stating', 'siezing', 'itemization', 'sensational', 'traditional', 'reference', 'colonizer', 'plotted']\n",
    "stemmed_tokens = [lc.stem(token) for token in tokens]\n",
    "\n",
    "print('\\n'.join([str(i) for i in zip(tokens, stemmed_tokens)]))"
   ]
  },
  {
   "cell_type": "code",
   "execution_count": 141,
   "id": "RlVRAKK6IP5o",
   "metadata": {
    "colab": {
     "base_uri": "https://localhost:8080/"
    },
    "executionInfo": {
     "elapsed": 389,
     "status": "ok",
     "timestamp": 1681751286809,
     "user": {
      "displayName": "Pathum Mihiranga",
      "userId": "16999484675349585718"
     },
     "user_tz": -330
    },
    "id": "RlVRAKK6IP5o",
    "outputId": "9b5576b6-2e61-442e-ac25-e1442f1f026b"
   },
   "outputs": [
    {
     "name": "stdout",
     "output_type": "stream",
     "text": [
      "{'archery': 'archery', 'baseball': 'baseball', 'basketbal': 'basketball', 'billiard': 'billiard', 'carrom': 'carrom', 'chess': 'chess', 'cricket': 'cricket', 'golf': 'golf', 'rugby': 'rugby', 'tennis': 'tennis'}\n",
      "basketball\n",
      "basketball\n",
      "basketball\n",
      "basketball\n",
      "basketball\n",
      "basketball\n",
      "basketball\n",
      "NO\n",
      "basketball\n",
      "basketball\n",
      "basketball\n",
      "basketball\n",
      "basketball\n",
      "basketball\n",
      "basketball\n",
      "basketball\n",
      "basketball\n",
      "basketball\n",
      "basketball\n",
      "basketball\n",
      "basketball\n",
      "basketball\n",
      "basketball\n",
      "basketball\n",
      "basketball\n",
      "basketball\n",
      "basketball\n",
      "basketball\n",
      "basketball\n",
      "basketball\n",
      "basketball\n",
      "NO\n",
      "basketball\n",
      "basketball\n",
      "basketball\n",
      "basketball\n",
      "NO\n",
      "basketball\n",
      "basketball\n",
      "basketball\n",
      "basketball\n",
      "basketball\n",
      "basketball\n",
      "basketball\n",
      "basketball\n",
      "basketball\n",
      "basketball\n",
      "basketball\n",
      "basketball\n",
      "basketball\n",
      "basketball\n",
      "basketball\n",
      "basketball\n",
      "basketball\n",
      "basketball\n",
      "basketball\n",
      "basketball\n",
      "basketball\n",
      "basketball\n",
      "NO\n",
      "basketball\n",
      "basketball\n",
      "basketball\n",
      "basketball\n",
      "basketball\n",
      "basketball\n",
      "basketball\n",
      "basketball\n",
      "basketball\n",
      "basketball\n",
      "basketball\n",
      "basketball\n",
      "basketball\n",
      "basketball\n",
      "basketball\n",
      "basketball\n",
      "basketball\n",
      "basketball\n",
      "NO\n",
      "basketball\n",
      "NO\n",
      "basketball\n",
      "basketball\n",
      "basketball\n",
      "basketball\n",
      "basketball\n",
      "basketball\n",
      "basketball\n",
      "basketball\n",
      "basketball\n",
      "basketball\n",
      "basketball\n",
      "basketball\n",
      "basketball\n",
      "NO\n",
      "basketball\n",
      "basketball\n",
      "basketball\n",
      "basketball\n",
      "basketball\n",
      "basketball\n",
      "basketball\n",
      "basketball\n",
      "basketball\n",
      "basketball\n",
      "basketball\n",
      "basketball\n",
      "basketball\n",
      "basketball\n",
      "basketball\n",
      "basketball\n",
      "basketball\n",
      "basketball\n",
      "basketball\n",
      "basketball\n",
      "basketball\n",
      "NO\n",
      "basketball\n",
      "basketball\n",
      "basketball\n",
      "basketball\n",
      "basketball\n",
      "basketball\n",
      "NO\n",
      "basketball\n",
      "basketball\n",
      "basketball\n",
      "basketball\n",
      "basketball\n",
      "basketball\n",
      "basketball\n",
      "basketball\n",
      "basketball\n",
      "basketball\n",
      "basketball\n",
      "NO\n",
      "basketball\n",
      "basketball\n",
      "basketball\n",
      "basketball\n",
      "basketball\n",
      "basketball\n",
      "NO\n",
      "basketball\n",
      "basketball\n",
      "basketball\n",
      "basketball\n",
      "basketball\n",
      "basketball\n",
      "basketball\n",
      "basketball\n",
      "basketball\n",
      "basketball\n",
      "NO\n",
      "basketball\n",
      "basketball\n",
      "basketball\n",
      "basketball\n",
      "basketball\n",
      "basketball\n",
      "basketball\n",
      "NO\n",
      "basketball\n",
      "basketball\n",
      "basketball\n",
      "NO\n",
      "basketball\n",
      "basketball\n",
      "basketball\n",
      "basketball\n",
      "basketball\n",
      "basketball\n",
      "basketball\n",
      "NO\n",
      "basketball\n",
      "basketball\n",
      "NO\n",
      "basketball\n",
      "basketball\n",
      "basketball\n",
      "basketball\n",
      "basketball\n",
      "basketball\n",
      "NO\n",
      "basketball\n",
      "basketball\n",
      "basketball\n",
      "basketball\n",
      "basketball\n",
      "NO\n",
      "basketball\n",
      "basketball\n",
      "basketball\n",
      "basketball\n",
      "basketball\n",
      "basketball\n",
      "basketball\n",
      "basketball\n",
      "basketball\n",
      "basketball\n",
      "basketball\n",
      "basketball\n",
      "basketball\n",
      "basketball\n",
      "basketball\n",
      "basketball\n",
      "basketball\n",
      "basketball\n",
      "NO\n",
      "basketball\n",
      "NO\n",
      "basketball\n",
      "basketball\n",
      "basketball\n",
      "basketball\n",
      "basketball\n",
      "basketball\n",
      "basketball\n",
      "basketball\n",
      "NO\n",
      "NO\n",
      "basketball\n",
      "basketball\n",
      "basketball\n",
      "basketball\n",
      "basketball\n",
      "basketball\n",
      "basketball\n",
      "basketball\n",
      "basketball\n",
      "basketball\n",
      "NO\n",
      "basketball\n",
      "basketball\n",
      "basketball\n",
      "basketball\n",
      "basketball\n",
      "basketball\n",
      "basketball\n",
      "basketball\n",
      "basketball\n",
      "basketball\n",
      "basketball\n",
      "NO\n",
      "NO\n",
      "basketball\n",
      "basketball\n",
      "basketball\n",
      "basketball\n",
      "basketball\n",
      "basketball\n",
      "basketball\n",
      "basketball\n",
      "basketball\n",
      "basketball\n",
      "basketball\n",
      "basketball\n",
      "basketball\n",
      "basketball\n",
      "basketball\n",
      "basketball\n",
      "basketball\n",
      "basketball\n",
      "basketball\n",
      "NO\n",
      "basketball\n",
      "basketball\n",
      "basketball\n",
      "basketball\n",
      "basketball\n",
      "basketball\n",
      "basketball\n",
      "basketball\n",
      "basketball\n",
      "basketball\n",
      "NO\n",
      "basketball\n",
      "basketball\n",
      "basketball\n",
      "NO\n",
      "NO\n",
      "basketball\n",
      "basketball\n",
      "basketball\n",
      "NO\n",
      "basketball\n",
      "basketball\n",
      "basketball\n",
      "basketball\n",
      "basketball\n",
      "basketball\n",
      "NO\n",
      "basketball\n",
      "NO\n",
      "basketball\n",
      "basketball\n",
      "NO\n",
      "basketball\n",
      "basketball\n",
      "basketball\n",
      "basketball\n",
      "basketball\n",
      "basketball\n",
      "basketball\n",
      "NO\n",
      "basketball\n",
      "basketball\n",
      "basketball\n",
      "basketball\n",
      "basketball\n",
      "NO\n",
      "basketball\n",
      "basketball\n",
      "basketball\n",
      "basketball\n",
      "basketball\n",
      "basketball\n",
      "basketball\n",
      "basketball\n",
      "basketball\n",
      "basketball\n",
      "basketball\n",
      "basketball\n",
      "basketball\n",
      "basketball\n",
      "basketball\n",
      "basketball\n",
      "NO\n",
      "NO\n",
      "basketball\n",
      "basketball\n",
      "basketball\n",
      "basketball\n",
      "basketball\n",
      "basketball\n",
      "basketball\n",
      "basketball\n",
      "basketball\n",
      "basketball\n",
      "basketball\n",
      "basketball\n",
      "basketball\n",
      "basketball\n",
      "basketball\n",
      "basketball\n",
      "basketball\n",
      "basketball\n",
      "basketball\n",
      "NO\n",
      "basketball\n",
      "basketball\n",
      "basketball\n",
      "basketball\n",
      "NO\n",
      "basketball\n",
      "NO\n",
      "basketball\n",
      "basketball\n",
      "basketball\n",
      "basketball\n",
      "NO\n",
      "basketball\n",
      "basketball\n",
      "basketball\n",
      "basketball\n",
      "basketball\n",
      "basketball\n",
      "basketball\n",
      "basketball\n",
      "basketball\n",
      "NO\n",
      "basketball\n",
      "basketball\n",
      "[]\n"
     ]
    }
   ],
   "source": [
    "keywords = {\n",
    "    'archery': ['archery'], \n",
    "    'baseball': ['baseball', 'basebal'], \n",
    "    'basketball': ['basketbal', 'basketbal'], \n",
    "    'billiard': ['billiard'], \n",
    "    'carrom': ['carrom'], \n",
    "    'chess': ['chess'], \n",
    "    'cricket': ['cricket'], \n",
    "    'golf': ['golf'], \n",
    "    'rugby': ['rugby'], \n",
    "    'tennis': ['tennis']\n",
    "}\n",
    "\n",
    "keyword_map = {value[0]: key for key, value in keywords.items()}\n",
    "print(keyword_map)\n",
    "\n",
    "frame = df_train.copy()\n",
    "pred = []\n",
    "for i, row in df_train[df.sport == 'basketball'].iterrows():\n",
    "  for j in keyword_map:\n",
    "    if j in row['text']:\n",
    "      print(keyword_map[j])\n",
    "      break\n",
    "  else:\n",
    "    print(\"NO\")\n",
    "  \n",
    "print(pred)"
   ]
  },
  {
   "cell_type": "code",
   "execution_count": 136,
   "id": "0U7UM7b6IQ59",
   "metadata": {
    "colab": {
     "base_uri": "https://localhost:8080/"
    },
    "executionInfo": {
     "elapsed": 3,
     "status": "ok",
     "timestamp": 1681750326326,
     "user": {
      "displayName": "Pathum Mihiranga",
      "userId": "16999484675349585718"
     },
     "user_tz": -330
    },
    "id": "0U7UM7b6IQ59",
    "outputId": "79851ba0-7a54-4b15-a1fc-c892bfdb5ae6"
   },
   "outputs": [
    {
     "name": "stdout",
     "output_type": "stream",
     "text": [
      "['archery' 'baseball' 'basketball' 'billiard' 'carrom' 'chess' 'cricket'\n",
      " 'golf' 'rugby' 'tennis']\n"
     ]
    }
   ],
   "source": [
    "print(df_train.sport.unique())"
   ]
  },
  {
   "cell_type": "code",
   "execution_count": 139,
   "id": "DNeOq4dOKINU",
   "metadata": {
    "executionInfo": {
     "elapsed": 446,
     "status": "ok",
     "timestamp": 1681750868960,
     "user": {
      "displayName": "Pathum Mihiranga",
      "userId": "16999484675349585718"
     },
     "user_tz": -330
    },
    "id": "DNeOq4dOKINU"
   },
   "outputs": [],
   "source": [
    "df_train.to_csv('labeled_cleaned.csv')"
   ]
  }
 ],
 "metadata": {
  "colab": {
   "provenance": []
  },
  "kernelspec": {
   "display_name": "Python 3 (ipykernel)",
   "language": "python",
   "name": "python3"
  },
  "language_info": {
   "codemirror_mode": {
    "name": "ipython",
    "version": 3
   },
   "file_extension": ".py",
   "mimetype": "text/x-python",
   "name": "python",
   "nbconvert_exporter": "python",
   "pygments_lexer": "ipython3",
   "version": "3.10.6"
  }
 },
 "nbformat": 4,
 "nbformat_minor": 5
}
