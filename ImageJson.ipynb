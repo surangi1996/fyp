{
 "cells": [
  {
   "cell_type": "code",
   "execution_count": 1,
   "id": "a5822d66",
   "metadata": {},
   "outputs": [],
   "source": [
    "import os\n",
    "import json"
   ]
  },
  {
   "cell_type": "code",
   "execution_count": 2,
   "id": "b595679d",
   "metadata": {},
   "outputs": [],
   "source": [
    "import base64"
   ]
  },
  {
   "cell_type": "code",
   "execution_count": 3,
   "id": "af43a19f",
   "metadata": {},
   "outputs": [],
   "source": [
    "image_folder = 'E:/projects/image_scrape/downloads/baseball posters'"
   ]
  },
  {
   "cell_type": "code",
   "execution_count": 4,
   "id": "ccba9986",
   "metadata": {},
   "outputs": [],
   "source": [
    "baseball = []"
   ]
  },
  {
   "cell_type": "code",
   "execution_count": 5,
   "id": "45d36dd3",
   "metadata": {},
   "outputs": [
    {
     "ename": "FileNotFoundError",
     "evalue": "[WinError 3] The system cannot find the path specified: 'E:/projects/image_scrape/downloads/baseball posters'",
     "output_type": "error",
     "traceback": [
      "\u001b[1;31m---------------------------------------------------------------------------\u001b[0m",
      "\u001b[1;31mFileNotFoundError\u001b[0m                         Traceback (most recent call last)",
      "\u001b[1;32mc:\\Users\\Acer\\Downloads\\fyp\\ImageJson.ipynb Cell 5\u001b[0m in \u001b[0;36m1\n\u001b[1;32m----> <a href='vscode-notebook-cell:/c%3A/Users/Acer/Downloads/fyp/ImageJson.ipynb#W4sZmlsZQ%3D%3D?line=0'>1</a>\u001b[0m \u001b[39mfor\u001b[39;00m filename \u001b[39min\u001b[39;00m os\u001b[39m.\u001b[39;49mlistdir(image_folder):\n\u001b[0;32m      <a href='vscode-notebook-cell:/c%3A/Users/Acer/Downloads/fyp/ImageJson.ipynb#W4sZmlsZQ%3D%3D?line=1'>2</a>\u001b[0m     \u001b[39mif\u001b[39;00m filename\u001b[39m.\u001b[39mendswith(\u001b[39m'\u001b[39m\u001b[39m.jpg\u001b[39m\u001b[39m'\u001b[39m):\n\u001b[0;32m      <a href='vscode-notebook-cell:/c%3A/Users/Acer/Downloads/fyp/ImageJson.ipynb#W4sZmlsZQ%3D%3D?line=2'>3</a>\u001b[0m         image_path \u001b[39m=\u001b[39m os\u001b[39m.\u001b[39mpath\u001b[39m.\u001b[39mjoin(image_folder, filename)\n",
      "\u001b[1;31mFileNotFoundError\u001b[0m: [WinError 3] The system cannot find the path specified: 'E:/projects/image_scrape/downloads/baseball posters'"
     ]
    }
   ],
   "source": [
    "for filename in os.listdir(image_folder):\n",
    "    if filename.endswith('.jpg'):\n",
    "        image_path = os.path.join(image_folder, filename)\n",
    "        with open(image_path, 'rb') as f:\n",
    "            image_content = f.read()\n",
    "            image_content_base64 = base64.b64encode(image_content).decode('utf-8')\n",
    "        baseball.append({\n",
    "            'image': {'content': image_content_base64},\n",
    "            'features': [{'type': 'TEXT_DETECTION'}]\n",
    "        })\n",
    "\n",
    "json_data = json.dumps({'baseball': baseball})\n",
    "\n",
    "with open('baseball.json', 'w') as f:\n",
    "    f.write(json_data)"
   ]
  },
  {
   "cell_type": "code",
   "execution_count": null,
   "id": "c00278e1",
   "metadata": {},
   "outputs": [],
   "source": [
    "os.environ[\"GOOGLE_APPLICATION_CREDENTIALS\"] =\"E:\\\\projects\\\\apt-mark-382708-22af1afdddb6.json\""
   ]
  },
  {
   "cell_type": "code",
   "execution_count": null,
   "id": "1246cb0d",
   "metadata": {},
   "outputs": [],
   "source": [
    "from google.cloud import vision_v1p3beta1 as vision"
   ]
  },
  {
   "cell_type": "code",
   "execution_count": null,
   "id": "d6934ef8",
   "metadata": {},
   "outputs": [],
   "source": [
    "client = vision.ImageAnnotatorClient()"
   ]
  },
  {
   "cell_type": "code",
   "execution_count": null,
   "id": "4bae70ea",
   "metadata": {},
   "outputs": [],
   "source": [
    "with open('baseball.json', 'rb') as f:\n",
    "    batch_request = f.read()"
   ]
  },
  {
   "cell_type": "code",
   "execution_count": null,
   "id": "391deef4",
   "metadata": {},
   "outputs": [
    {
     "ename": "TypeError",
     "evalue": "Invalid constructor input for AnnotateImageRequest: 123",
     "output_type": "error",
     "traceback": [
      "\u001b[1;31m---------------------------------------------------------------------------\u001b[0m",
      "\u001b[1;31mTypeError\u001b[0m                                 Traceback (most recent call last)",
      "Cell \u001b[1;32mIn [30], line 1\u001b[0m\n\u001b[1;32m----> 1\u001b[0m response \u001b[38;5;241m=\u001b[39m \u001b[43mclient\u001b[49m\u001b[38;5;241;43m.\u001b[39;49m\u001b[43mbatch_annotate_images\u001b[49m\u001b[43m(\u001b[49m\u001b[43mrequests\u001b[49m\u001b[38;5;241;43m=\u001b[39;49m\u001b[43mbatch_request\u001b[49m\u001b[43m)\u001b[49m\n",
      "File \u001b[1;32m~\\anaconda3\\envs\\nlp\\lib\\site-packages\\google\\cloud\\vision_v1p3beta1\\services\\image_annotator\\client.py:556\u001b[0m, in \u001b[0;36mImageAnnotatorClient.batch_annotate_images\u001b[1;34m(self, request, requests, retry, timeout, metadata)\u001b[0m\n\u001b[0;32m    554\u001b[0m \u001b[38;5;28;01mif\u001b[39;00m requests \u001b[38;5;129;01mis\u001b[39;00m \u001b[38;5;129;01mnot\u001b[39;00m \u001b[38;5;28;01mNone\u001b[39;00m:\n\u001b[0;32m    555\u001b[0m     \u001b[38;5;28;01mfor\u001b[39;00m i \u001b[38;5;129;01min\u001b[39;00m \u001b[38;5;28mrange\u001b[39m(\u001b[38;5;28mlen\u001b[39m(requests)):\n\u001b[1;32m--> 556\u001b[0m         requests[i] \u001b[38;5;241m=\u001b[39m \u001b[43mimage_annotator\u001b[49m\u001b[38;5;241;43m.\u001b[39;49m\u001b[43mAnnotateImageRequest\u001b[49m\u001b[43m(\u001b[49m\u001b[43mrequests\u001b[49m\u001b[43m[\u001b[49m\u001b[43mi\u001b[49m\u001b[43m]\u001b[49m\u001b[43m)\u001b[49m\n\u001b[0;32m    557\u001b[0m \u001b[38;5;66;03m# If we have keyword arguments corresponding to fields on the\u001b[39;00m\n\u001b[0;32m    558\u001b[0m \u001b[38;5;66;03m# request, apply these.\u001b[39;00m\n\u001b[0;32m    559\u001b[0m \u001b[38;5;28;01mif\u001b[39;00m requests \u001b[38;5;129;01mis\u001b[39;00m \u001b[38;5;129;01mnot\u001b[39;00m \u001b[38;5;28;01mNone\u001b[39;00m:\n",
      "File \u001b[1;32m~\\anaconda3\\envs\\nlp\\lib\\site-packages\\proto\\message.py:547\u001b[0m, in \u001b[0;36mMessage.__init__\u001b[1;34m(self, mapping, ignore_unknown_fields, **kwargs)\u001b[0m\n\u001b[0;32m    544\u001b[0m     mapping\u001b[38;5;241m.\u001b[39mupdate(kwargs)\n\u001b[0;32m    545\u001b[0m \u001b[38;5;28;01melse\u001b[39;00m:\n\u001b[0;32m    546\u001b[0m     \u001b[38;5;66;03m# Sanity check: Did we get something not a map? Error if so.\u001b[39;00m\n\u001b[1;32m--> 547\u001b[0m     \u001b[38;5;28;01mraise\u001b[39;00m \u001b[38;5;167;01mTypeError\u001b[39;00m(\n\u001b[0;32m    548\u001b[0m         \u001b[38;5;124m\"\u001b[39m\u001b[38;5;124mInvalid constructor input for \u001b[39m\u001b[38;5;132;01m%s\u001b[39;00m\u001b[38;5;124m: \u001b[39m\u001b[38;5;132;01m%r\u001b[39;00m\u001b[38;5;124m\"\u001b[39m\n\u001b[0;32m    549\u001b[0m         \u001b[38;5;241m%\u001b[39m (\n\u001b[0;32m    550\u001b[0m             \u001b[38;5;28mself\u001b[39m\u001b[38;5;241m.\u001b[39m\u001b[38;5;18m__class__\u001b[39m\u001b[38;5;241m.\u001b[39m\u001b[38;5;18m__name__\u001b[39m,\n\u001b[0;32m    551\u001b[0m             mapping,\n\u001b[0;32m    552\u001b[0m         )\n\u001b[0;32m    553\u001b[0m     )\n\u001b[0;32m    555\u001b[0m params \u001b[38;5;241m=\u001b[39m {}\n\u001b[0;32m    556\u001b[0m \u001b[38;5;66;03m# Update the mapping to address any values that need to be\u001b[39;00m\n\u001b[0;32m    557\u001b[0m \u001b[38;5;66;03m# coerced.\u001b[39;00m\n",
      "\u001b[1;31mTypeError\u001b[0m: Invalid constructor input for AnnotateImageRequest: 123"
     ]
    }
   ],
   "source": [
    "response = client.batch_annotate_images(requests=batch_request)"
   ]
  },
  {
   "cell_type": "code",
   "execution_count": 6,
   "id": "462aa18a",
   "metadata": {},
   "outputs": [
    {
     "ename": "FileNotFoundError",
     "evalue": "[WinError 3] The system cannot find the path specified: 'E:/projects/image_scrape/downloads/baseball posters'",
     "output_type": "error",
     "traceback": [
      "\u001b[1;31m---------------------------------------------------------------------------\u001b[0m",
      "\u001b[1;31mFileNotFoundError\u001b[0m                         Traceback (most recent call last)",
      "\u001b[1;32mc:\\Users\\Acer\\Downloads\\fyp\\ImageJson.ipynb Cell 11\u001b[0m in \u001b[0;36m1\n\u001b[0;32m     <a href='vscode-notebook-cell:/c%3A/Users/Acer/Downloads/fyp/ImageJson.ipynb#X13sZmlsZQ%3D%3D?line=12'>13</a>\u001b[0m \u001b[39m# Define the requests list\u001b[39;00m\n\u001b[0;32m     <a href='vscode-notebook-cell:/c%3A/Users/Acer/Downloads/fyp/ImageJson.ipynb#X13sZmlsZQ%3D%3D?line=13'>14</a>\u001b[0m requests \u001b[39m=\u001b[39m []\n\u001b[1;32m---> <a href='vscode-notebook-cell:/c%3A/Users/Acer/Downloads/fyp/ImageJson.ipynb#X13sZmlsZQ%3D%3D?line=15'>16</a>\u001b[0m \u001b[39mfor\u001b[39;00m filename \u001b[39min\u001b[39;00m os\u001b[39m.\u001b[39;49mlistdir(image_folder):\n\u001b[0;32m     <a href='vscode-notebook-cell:/c%3A/Users/Acer/Downloads/fyp/ImageJson.ipynb#X13sZmlsZQ%3D%3D?line=16'>17</a>\u001b[0m     \u001b[39mif\u001b[39;00m filename\u001b[39m.\u001b[39mendswith(\u001b[39m'\u001b[39m\u001b[39m.jpg\u001b[39m\u001b[39m'\u001b[39m):\n\u001b[0;32m     <a href='vscode-notebook-cell:/c%3A/Users/Acer/Downloads/fyp/ImageJson.ipynb#X13sZmlsZQ%3D%3D?line=17'>18</a>\u001b[0m         image_path \u001b[39m=\u001b[39m os\u001b[39m.\u001b[39mpath\u001b[39m.\u001b[39mjoin(image_folder, filename)\n",
      "\u001b[1;31mFileNotFoundError\u001b[0m: [WinError 3] The system cannot find the path specified: 'E:/projects/image_scrape/downloads/baseball posters'"
     ]
    }
   ],
   "source": [
    "import os\n",
    "import json\n",
    "import base64\n",
    "from google.cloud import vision_v1 as vision\n",
    "\n",
    "image_folder = 'E:/projects/image_scrape/downloads/baseball posters'\n",
    "output_csv = 'output.csv'\n",
    "key_file = 'E:\\\\projects\\\\apt-mark-382708-22af1afdddb6.json'\n",
    "\n",
    "# Authenticate the client with the key file\n",
    "client = vision.ImageAnnotatorClient.from_service_account_json(key_file)\n",
    "\n",
    "# Define the requests list\n",
    "requests = []\n",
    "\n",
    "for filename in os.listdir(image_folder):\n",
    "    if filename.endswith('.jpg'):\n",
    "        image_path = os.path.join(image_folder, filename)\n",
    "        with open(image_path, 'rb') as f:\n",
    "            image_content = f.read()\n",
    "            image_content_base64 = base64.b64encode(image_content).decode('utf-8')\n",
    "        request = {\n",
    "            'image': {'content': image_content_base64},\n",
    "            'features': [{'type': vision.Feature.Type.TEXT_DETECTION}]\n",
    "        }\n",
    "        requests.append(request)\n",
    "\n",
    "# Send the batch request to the Vision API\n",
    "batch_request = [vision.types.AnnotateImageRequest(**request) for request in requests]\n",
    "response = client.batch_annotate_images(requests=batch_request)\n",
    "\n",
    "# Write the results to a CSV file\n",
    "with open(output_csv, 'w', encoding='utf-8') as f:\n",
    "    f.write('Image,Text\\n')\n",
    "    for i, image_response in enumerate(response.responses):\n",
    "        text = image_response.full_text_annotation.text.replace('\\n', ' ')\n",
    "        f.write('{},{}\\n'.format(os.listdir(image_folder)[i], text))\n"
   ]
  },
  {
   "cell_type": "code",
   "execution_count": null,
   "id": "982eb2a4",
   "metadata": {},
   "outputs": [],
   "source": []
  }
 ],
 "metadata": {
  "kernelspec": {
   "display_name": "Python 3 (ipykernel)",
   "language": "python",
   "name": "python3"
  },
  "language_info": {
   "codemirror_mode": {
    "name": "ipython",
    "version": 3
   },
   "file_extension": ".py",
   "mimetype": "text/x-python",
   "name": "python",
   "nbconvert_exporter": "python",
   "pygments_lexer": "ipython3",
   "version": "3.10.6"
  }
 },
 "nbformat": 4,
 "nbformat_minor": 5
}
